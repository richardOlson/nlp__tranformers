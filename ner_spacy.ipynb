{
  "nbformat": 4,
  "nbformat_minor": 0,
  "metadata": {
    "colab": {
      "name": "pytorch_long.ipynb",
      "provenance": [],
      "authorship_tag": "ABX9TyPQ4nQRWPNFyV1KCcgv9yb8",
      "include_colab_link": true
    },
    "kernelspec": {
      "name": "python3",
      "display_name": "Python 3"
    },
    "language_info": {
      "name": "python"
    }
  },
  "cells": [
    {
      "cell_type": "markdown",
      "metadata": {
        "id": "view-in-github",
        "colab_type": "text"
      },
      "source": [
        "<a href=\"https://colab.research.google.com/github/richardOlson/nlp__tranformers/blob/main/pytorch_long.ipynb\" target=\"_parent\"><img src=\"https://colab.research.google.com/assets/colab-badge.svg\" alt=\"Open In Colab\"/></a>"
      ]
    },
    {
      "cell_type": "markdown",
      "metadata": {
        "id": "34zameyKQsSH"
      },
      "source": [
        "This notebook is similar to the long text classify notebook.\n",
        "Except that we are using more pytorch to do the window method instead\n",
        "of using regular Python."
      ]
    },
    {
      "cell_type": "code",
      "metadata": {
        "id": "mHsGJnc7Qi0X"
      },
      "source": [
        ""
      ],
      "execution_count": null,
      "outputs": []
    }
  ]
}
