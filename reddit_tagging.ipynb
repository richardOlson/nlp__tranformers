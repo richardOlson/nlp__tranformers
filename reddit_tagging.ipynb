{
  "nbformat": 4,
  "nbformat_minor": 0,
  "metadata": {
    "colab": {
      "name": "reddit_tagging",
      "provenance": [],
      "collapsed_sections": [],
      "authorship_tag": "ABX9TyNNrXZCo7rCipfqraIDd/W0",
      "include_colab_link": true
    },
    "kernelspec": {
      "name": "python3",
      "display_name": "Python 3"
    },
    "language_info": {
      "name": "python"
    },
    "widgets": {
      "application/vnd.jupyter.widget-state+json": {
        "0bd66e4a49ee469a9cf23fd27cf2d896": {
          "model_module": "@jupyter-widgets/controls",
          "model_name": "HBoxModel",
          "model_module_version": "1.5.0",
          "state": {
            "_view_name": "HBoxView",
            "_dom_classes": [],
            "_model_name": "HBoxModel",
            "_view_module": "@jupyter-widgets/controls",
            "_model_module_version": "1.5.0",
            "_view_count": null,
            "_view_module_version": "1.5.0",
            "box_style": "",
            "layout": "IPY_MODEL_425b3ad330a5454ab4613850fc34b8a8",
            "_model_module": "@jupyter-widgets/controls",
            "children": [
              "IPY_MODEL_01d0b03e58994b119ea135c98e225d1b",
              "IPY_MODEL_b7ae959161cd4cb7a8e7b6c2e5beba19"
            ]
          }
        },
        "425b3ad330a5454ab4613850fc34b8a8": {
          "model_module": "@jupyter-widgets/base",
          "model_name": "LayoutModel",
          "model_module_version": "1.2.0",
          "state": {
            "_view_name": "LayoutView",
            "grid_template_rows": null,
            "right": null,
            "justify_content": null,
            "_view_module": "@jupyter-widgets/base",
            "overflow": null,
            "_model_module_version": "1.2.0",
            "_view_count": null,
            "flex_flow": null,
            "width": null,
            "min_width": null,
            "border": null,
            "align_items": null,
            "bottom": null,
            "_model_module": "@jupyter-widgets/base",
            "top": null,
            "grid_column": null,
            "overflow_y": null,
            "overflow_x": null,
            "grid_auto_flow": null,
            "grid_area": null,
            "grid_template_columns": null,
            "flex": null,
            "_model_name": "LayoutModel",
            "justify_items": null,
            "grid_row": null,
            "max_height": null,
            "align_content": null,
            "visibility": null,
            "align_self": null,
            "height": null,
            "min_height": null,
            "padding": null,
            "grid_auto_rows": null,
            "grid_gap": null,
            "max_width": null,
            "order": null,
            "_view_module_version": "1.2.0",
            "grid_template_areas": null,
            "object_position": null,
            "object_fit": null,
            "grid_auto_columns": null,
            "margin": null,
            "display": null,
            "left": null
          }
        },
        "01d0b03e58994b119ea135c98e225d1b": {
          "model_module": "@jupyter-widgets/controls",
          "model_name": "FloatProgressModel",
          "model_module_version": "1.5.0",
          "state": {
            "_view_name": "ProgressView",
            "style": "IPY_MODEL_9641c910c090429da2e47621ae612341",
            "_dom_classes": [],
            "description": "Downloading: 100%",
            "_model_name": "FloatProgressModel",
            "bar_style": "success",
            "max": 28,
            "_view_module": "@jupyter-widgets/controls",
            "_model_module_version": "1.5.0",
            "value": 28,
            "_view_count": null,
            "_view_module_version": "1.5.0",
            "orientation": "horizontal",
            "min": 0,
            "description_tooltip": null,
            "_model_module": "@jupyter-widgets/controls",
            "layout": "IPY_MODEL_4baafc0ed6be4562866b7bb58e92cc5d"
          }
        },
        "b7ae959161cd4cb7a8e7b6c2e5beba19": {
          "model_module": "@jupyter-widgets/controls",
          "model_name": "HTMLModel",
          "model_module_version": "1.5.0",
          "state": {
            "_view_name": "HTMLView",
            "style": "IPY_MODEL_c76c5d94d74c481486985de93bba7e98",
            "_dom_classes": [],
            "description": "",
            "_model_name": "HTMLModel",
            "placeholder": "​",
            "_view_module": "@jupyter-widgets/controls",
            "_model_module_version": "1.5.0",
            "value": " 28.0/28.0 [00:02&lt;00:00, 9.99B/s]",
            "_view_count": null,
            "_view_module_version": "1.5.0",
            "description_tooltip": null,
            "_model_module": "@jupyter-widgets/controls",
            "layout": "IPY_MODEL_0a005ab4486a48f7a35576c64dc2edce"
          }
        },
        "9641c910c090429da2e47621ae612341": {
          "model_module": "@jupyter-widgets/controls",
          "model_name": "ProgressStyleModel",
          "model_module_version": "1.5.0",
          "state": {
            "_view_name": "StyleView",
            "_model_name": "ProgressStyleModel",
            "description_width": "initial",
            "_view_module": "@jupyter-widgets/base",
            "_model_module_version": "1.5.0",
            "_view_count": null,
            "_view_module_version": "1.2.0",
            "bar_color": null,
            "_model_module": "@jupyter-widgets/controls"
          }
        },
        "4baafc0ed6be4562866b7bb58e92cc5d": {
          "model_module": "@jupyter-widgets/base",
          "model_name": "LayoutModel",
          "model_module_version": "1.2.0",
          "state": {
            "_view_name": "LayoutView",
            "grid_template_rows": null,
            "right": null,
            "justify_content": null,
            "_view_module": "@jupyter-widgets/base",
            "overflow": null,
            "_model_module_version": "1.2.0",
            "_view_count": null,
            "flex_flow": null,
            "width": null,
            "min_width": null,
            "border": null,
            "align_items": null,
            "bottom": null,
            "_model_module": "@jupyter-widgets/base",
            "top": null,
            "grid_column": null,
            "overflow_y": null,
            "overflow_x": null,
            "grid_auto_flow": null,
            "grid_area": null,
            "grid_template_columns": null,
            "flex": null,
            "_model_name": "LayoutModel",
            "justify_items": null,
            "grid_row": null,
            "max_height": null,
            "align_content": null,
            "visibility": null,
            "align_self": null,
            "height": null,
            "min_height": null,
            "padding": null,
            "grid_auto_rows": null,
            "grid_gap": null,
            "max_width": null,
            "order": null,
            "_view_module_version": "1.2.0",
            "grid_template_areas": null,
            "object_position": null,
            "object_fit": null,
            "grid_auto_columns": null,
            "margin": null,
            "display": null,
            "left": null
          }
        },
        "c76c5d94d74c481486985de93bba7e98": {
          "model_module": "@jupyter-widgets/controls",
          "model_name": "DescriptionStyleModel",
          "model_module_version": "1.5.0",
          "state": {
            "_view_name": "StyleView",
            "_model_name": "DescriptionStyleModel",
            "description_width": "",
            "_view_module": "@jupyter-widgets/base",
            "_model_module_version": "1.5.0",
            "_view_count": null,
            "_view_module_version": "1.2.0",
            "_model_module": "@jupyter-widgets/controls"
          }
        },
        "0a005ab4486a48f7a35576c64dc2edce": {
          "model_module": "@jupyter-widgets/base",
          "model_name": "LayoutModel",
          "model_module_version": "1.2.0",
          "state": {
            "_view_name": "LayoutView",
            "grid_template_rows": null,
            "right": null,
            "justify_content": null,
            "_view_module": "@jupyter-widgets/base",
            "overflow": null,
            "_model_module_version": "1.2.0",
            "_view_count": null,
            "flex_flow": null,
            "width": null,
            "min_width": null,
            "border": null,
            "align_items": null,
            "bottom": null,
            "_model_module": "@jupyter-widgets/base",
            "top": null,
            "grid_column": null,
            "overflow_y": null,
            "overflow_x": null,
            "grid_auto_flow": null,
            "grid_area": null,
            "grid_template_columns": null,
            "flex": null,
            "_model_name": "LayoutModel",
            "justify_items": null,
            "grid_row": null,
            "max_height": null,
            "align_content": null,
            "visibility": null,
            "align_self": null,
            "height": null,
            "min_height": null,
            "padding": null,
            "grid_auto_rows": null,
            "grid_gap": null,
            "max_width": null,
            "order": null,
            "_view_module_version": "1.2.0",
            "grid_template_areas": null,
            "object_position": null,
            "object_fit": null,
            "grid_auto_columns": null,
            "margin": null,
            "display": null,
            "left": null
          }
        },
        "8cd1e97aac4740f9a0a12f45dc5645a3": {
          "model_module": "@jupyter-widgets/controls",
          "model_name": "HBoxModel",
          "model_module_version": "1.5.0",
          "state": {
            "_view_name": "HBoxView",
            "_dom_classes": [],
            "_model_name": "HBoxModel",
            "_view_module": "@jupyter-widgets/controls",
            "_model_module_version": "1.5.0",
            "_view_count": null,
            "_view_module_version": "1.5.0",
            "box_style": "",
            "layout": "IPY_MODEL_6b9aa46780594b809dc83e2827894a46",
            "_model_module": "@jupyter-widgets/controls",
            "children": [
              "IPY_MODEL_892a98ea65784dd1baa3e59c190f92b0",
              "IPY_MODEL_cf29084771b542ed8dd8c9f9fd0b8a17"
            ]
          }
        },
        "6b9aa46780594b809dc83e2827894a46": {
          "model_module": "@jupyter-widgets/base",
          "model_name": "LayoutModel",
          "model_module_version": "1.2.0",
          "state": {
            "_view_name": "LayoutView",
            "grid_template_rows": null,
            "right": null,
            "justify_content": null,
            "_view_module": "@jupyter-widgets/base",
            "overflow": null,
            "_model_module_version": "1.2.0",
            "_view_count": null,
            "flex_flow": null,
            "width": null,
            "min_width": null,
            "border": null,
            "align_items": null,
            "bottom": null,
            "_model_module": "@jupyter-widgets/base",
            "top": null,
            "grid_column": null,
            "overflow_y": null,
            "overflow_x": null,
            "grid_auto_flow": null,
            "grid_area": null,
            "grid_template_columns": null,
            "flex": null,
            "_model_name": "LayoutModel",
            "justify_items": null,
            "grid_row": null,
            "max_height": null,
            "align_content": null,
            "visibility": null,
            "align_self": null,
            "height": null,
            "min_height": null,
            "padding": null,
            "grid_auto_rows": null,
            "grid_gap": null,
            "max_width": null,
            "order": null,
            "_view_module_version": "1.2.0",
            "grid_template_areas": null,
            "object_position": null,
            "object_fit": null,
            "grid_auto_columns": null,
            "margin": null,
            "display": null,
            "left": null
          }
        },
        "892a98ea65784dd1baa3e59c190f92b0": {
          "model_module": "@jupyter-widgets/controls",
          "model_name": "FloatProgressModel",
          "model_module_version": "1.5.0",
          "state": {
            "_view_name": "ProgressView",
            "style": "IPY_MODEL_6a5870ae5b9f4a509ca7b54d9d3bbb33",
            "_dom_classes": [],
            "description": "Downloading: 100%",
            "_model_name": "FloatProgressModel",
            "bar_style": "success",
            "max": 231508,
            "_view_module": "@jupyter-widgets/controls",
            "_model_module_version": "1.5.0",
            "value": 231508,
            "_view_count": null,
            "_view_module_version": "1.5.0",
            "orientation": "horizontal",
            "min": 0,
            "description_tooltip": null,
            "_model_module": "@jupyter-widgets/controls",
            "layout": "IPY_MODEL_58acabce35ab48c1a4c5555900e6e36d"
          }
        },
        "cf29084771b542ed8dd8c9f9fd0b8a17": {
          "model_module": "@jupyter-widgets/controls",
          "model_name": "HTMLModel",
          "model_module_version": "1.5.0",
          "state": {
            "_view_name": "HTMLView",
            "style": "IPY_MODEL_720a951cefbb407a9daa2dc5000b9513",
            "_dom_classes": [],
            "description": "",
            "_model_name": "HTMLModel",
            "placeholder": "​",
            "_view_module": "@jupyter-widgets/controls",
            "_model_module_version": "1.5.0",
            "value": " 232k/232k [00:00&lt;00:00, 1.65MB/s]",
            "_view_count": null,
            "_view_module_version": "1.5.0",
            "description_tooltip": null,
            "_model_module": "@jupyter-widgets/controls",
            "layout": "IPY_MODEL_a4418288abd74d07bb5fb68d611991c9"
          }
        },
        "6a5870ae5b9f4a509ca7b54d9d3bbb33": {
          "model_module": "@jupyter-widgets/controls",
          "model_name": "ProgressStyleModel",
          "model_module_version": "1.5.0",
          "state": {
            "_view_name": "StyleView",
            "_model_name": "ProgressStyleModel",
            "description_width": "initial",
            "_view_module": "@jupyter-widgets/base",
            "_model_module_version": "1.5.0",
            "_view_count": null,
            "_view_module_version": "1.2.0",
            "bar_color": null,
            "_model_module": "@jupyter-widgets/controls"
          }
        },
        "58acabce35ab48c1a4c5555900e6e36d": {
          "model_module": "@jupyter-widgets/base",
          "model_name": "LayoutModel",
          "model_module_version": "1.2.0",
          "state": {
            "_view_name": "LayoutView",
            "grid_template_rows": null,
            "right": null,
            "justify_content": null,
            "_view_module": "@jupyter-widgets/base",
            "overflow": null,
            "_model_module_version": "1.2.0",
            "_view_count": null,
            "flex_flow": null,
            "width": null,
            "min_width": null,
            "border": null,
            "align_items": null,
            "bottom": null,
            "_model_module": "@jupyter-widgets/base",
            "top": null,
            "grid_column": null,
            "overflow_y": null,
            "overflow_x": null,
            "grid_auto_flow": null,
            "grid_area": null,
            "grid_template_columns": null,
            "flex": null,
            "_model_name": "LayoutModel",
            "justify_items": null,
            "grid_row": null,
            "max_height": null,
            "align_content": null,
            "visibility": null,
            "align_self": null,
            "height": null,
            "min_height": null,
            "padding": null,
            "grid_auto_rows": null,
            "grid_gap": null,
            "max_width": null,
            "order": null,
            "_view_module_version": "1.2.0",
            "grid_template_areas": null,
            "object_position": null,
            "object_fit": null,
            "grid_auto_columns": null,
            "margin": null,
            "display": null,
            "left": null
          }
        },
        "720a951cefbb407a9daa2dc5000b9513": {
          "model_module": "@jupyter-widgets/controls",
          "model_name": "DescriptionStyleModel",
          "model_module_version": "1.5.0",
          "state": {
            "_view_name": "StyleView",
            "_model_name": "DescriptionStyleModel",
            "description_width": "",
            "_view_module": "@jupyter-widgets/base",
            "_model_module_version": "1.5.0",
            "_view_count": null,
            "_view_module_version": "1.2.0",
            "_model_module": "@jupyter-widgets/controls"
          }
        },
        "a4418288abd74d07bb5fb68d611991c9": {
          "model_module": "@jupyter-widgets/base",
          "model_name": "LayoutModel",
          "model_module_version": "1.2.0",
          "state": {
            "_view_name": "LayoutView",
            "grid_template_rows": null,
            "right": null,
            "justify_content": null,
            "_view_module": "@jupyter-widgets/base",
            "overflow": null,
            "_model_module_version": "1.2.0",
            "_view_count": null,
            "flex_flow": null,
            "width": null,
            "min_width": null,
            "border": null,
            "align_items": null,
            "bottom": null,
            "_model_module": "@jupyter-widgets/base",
            "top": null,
            "grid_column": null,
            "overflow_y": null,
            "overflow_x": null,
            "grid_auto_flow": null,
            "grid_area": null,
            "grid_template_columns": null,
            "flex": null,
            "_model_name": "LayoutModel",
            "justify_items": null,
            "grid_row": null,
            "max_height": null,
            "align_content": null,
            "visibility": null,
            "align_self": null,
            "height": null,
            "min_height": null,
            "padding": null,
            "grid_auto_rows": null,
            "grid_gap": null,
            "max_width": null,
            "order": null,
            "_view_module_version": "1.2.0",
            "grid_template_areas": null,
            "object_position": null,
            "object_fit": null,
            "grid_auto_columns": null,
            "margin": null,
            "display": null,
            "left": null
          }
        },
        "61eb6db1b3a4405ea9a28c8dc112e93d": {
          "model_module": "@jupyter-widgets/controls",
          "model_name": "HBoxModel",
          "model_module_version": "1.5.0",
          "state": {
            "_view_name": "HBoxView",
            "_dom_classes": [],
            "_model_name": "HBoxModel",
            "_view_module": "@jupyter-widgets/controls",
            "_model_module_version": "1.5.0",
            "_view_count": null,
            "_view_module_version": "1.5.0",
            "box_style": "",
            "layout": "IPY_MODEL_124eadf0100441ecb04e1da78b024352",
            "_model_module": "@jupyter-widgets/controls",
            "children": [
              "IPY_MODEL_10832afec00744c68626532652c0fed4",
              "IPY_MODEL_3f0f87dfd3344ad4a858cab78e296fdf"
            ]
          }
        },
        "124eadf0100441ecb04e1da78b024352": {
          "model_module": "@jupyter-widgets/base",
          "model_name": "LayoutModel",
          "model_module_version": "1.2.0",
          "state": {
            "_view_name": "LayoutView",
            "grid_template_rows": null,
            "right": null,
            "justify_content": null,
            "_view_module": "@jupyter-widgets/base",
            "overflow": null,
            "_model_module_version": "1.2.0",
            "_view_count": null,
            "flex_flow": null,
            "width": null,
            "min_width": null,
            "border": null,
            "align_items": null,
            "bottom": null,
            "_model_module": "@jupyter-widgets/base",
            "top": null,
            "grid_column": null,
            "overflow_y": null,
            "overflow_x": null,
            "grid_auto_flow": null,
            "grid_area": null,
            "grid_template_columns": null,
            "flex": null,
            "_model_name": "LayoutModel",
            "justify_items": null,
            "grid_row": null,
            "max_height": null,
            "align_content": null,
            "visibility": null,
            "align_self": null,
            "height": null,
            "min_height": null,
            "padding": null,
            "grid_auto_rows": null,
            "grid_gap": null,
            "max_width": null,
            "order": null,
            "_view_module_version": "1.2.0",
            "grid_template_areas": null,
            "object_position": null,
            "object_fit": null,
            "grid_auto_columns": null,
            "margin": null,
            "display": null,
            "left": null
          }
        },
        "10832afec00744c68626532652c0fed4": {
          "model_module": "@jupyter-widgets/controls",
          "model_name": "FloatProgressModel",
          "model_module_version": "1.5.0",
          "state": {
            "_view_name": "ProgressView",
            "style": "IPY_MODEL_d8340755177943eea94bd3b198c2bc54",
            "_dom_classes": [],
            "description": "Downloading: 100%",
            "_model_name": "FloatProgressModel",
            "bar_style": "success",
            "max": 466062,
            "_view_module": "@jupyter-widgets/controls",
            "_model_module_version": "1.5.0",
            "value": 466062,
            "_view_count": null,
            "_view_module_version": "1.5.0",
            "orientation": "horizontal",
            "min": 0,
            "description_tooltip": null,
            "_model_module": "@jupyter-widgets/controls",
            "layout": "IPY_MODEL_e4dfd0e587fb44b7b1bbaa19dfe3aad2"
          }
        },
        "3f0f87dfd3344ad4a858cab78e296fdf": {
          "model_module": "@jupyter-widgets/controls",
          "model_name": "HTMLModel",
          "model_module_version": "1.5.0",
          "state": {
            "_view_name": "HTMLView",
            "style": "IPY_MODEL_6b396524eee94ade84b3ad618b3ab35d",
            "_dom_classes": [],
            "description": "",
            "_model_name": "HTMLModel",
            "placeholder": "​",
            "_view_module": "@jupyter-widgets/controls",
            "_model_module_version": "1.5.0",
            "value": " 466k/466k [00:02&lt;00:00, 185kB/s]",
            "_view_count": null,
            "_view_module_version": "1.5.0",
            "description_tooltip": null,
            "_model_module": "@jupyter-widgets/controls",
            "layout": "IPY_MODEL_0373d128ee2d477294efe2f58d70cbfc"
          }
        },
        "d8340755177943eea94bd3b198c2bc54": {
          "model_module": "@jupyter-widgets/controls",
          "model_name": "ProgressStyleModel",
          "model_module_version": "1.5.0",
          "state": {
            "_view_name": "StyleView",
            "_model_name": "ProgressStyleModel",
            "description_width": "initial",
            "_view_module": "@jupyter-widgets/base",
            "_model_module_version": "1.5.0",
            "_view_count": null,
            "_view_module_version": "1.2.0",
            "bar_color": null,
            "_model_module": "@jupyter-widgets/controls"
          }
        },
        "e4dfd0e587fb44b7b1bbaa19dfe3aad2": {
          "model_module": "@jupyter-widgets/base",
          "model_name": "LayoutModel",
          "model_module_version": "1.2.0",
          "state": {
            "_view_name": "LayoutView",
            "grid_template_rows": null,
            "right": null,
            "justify_content": null,
            "_view_module": "@jupyter-widgets/base",
            "overflow": null,
            "_model_module_version": "1.2.0",
            "_view_count": null,
            "flex_flow": null,
            "width": null,
            "min_width": null,
            "border": null,
            "align_items": null,
            "bottom": null,
            "_model_module": "@jupyter-widgets/base",
            "top": null,
            "grid_column": null,
            "overflow_y": null,
            "overflow_x": null,
            "grid_auto_flow": null,
            "grid_area": null,
            "grid_template_columns": null,
            "flex": null,
            "_model_name": "LayoutModel",
            "justify_items": null,
            "grid_row": null,
            "max_height": null,
            "align_content": null,
            "visibility": null,
            "align_self": null,
            "height": null,
            "min_height": null,
            "padding": null,
            "grid_auto_rows": null,
            "grid_gap": null,
            "max_width": null,
            "order": null,
            "_view_module_version": "1.2.0",
            "grid_template_areas": null,
            "object_position": null,
            "object_fit": null,
            "grid_auto_columns": null,
            "margin": null,
            "display": null,
            "left": null
          }
        },
        "6b396524eee94ade84b3ad618b3ab35d": {
          "model_module": "@jupyter-widgets/controls",
          "model_name": "DescriptionStyleModel",
          "model_module_version": "1.5.0",
          "state": {
            "_view_name": "StyleView",
            "_model_name": "DescriptionStyleModel",
            "description_width": "",
            "_view_module": "@jupyter-widgets/base",
            "_model_module_version": "1.5.0",
            "_view_count": null,
            "_view_module_version": "1.2.0",
            "_model_module": "@jupyter-widgets/controls"
          }
        },
        "0373d128ee2d477294efe2f58d70cbfc": {
          "model_module": "@jupyter-widgets/base",
          "model_name": "LayoutModel",
          "model_module_version": "1.2.0",
          "state": {
            "_view_name": "LayoutView",
            "grid_template_rows": null,
            "right": null,
            "justify_content": null,
            "_view_module": "@jupyter-widgets/base",
            "overflow": null,
            "_model_module_version": "1.2.0",
            "_view_count": null,
            "flex_flow": null,
            "width": null,
            "min_width": null,
            "border": null,
            "align_items": null,
            "bottom": null,
            "_model_module": "@jupyter-widgets/base",
            "top": null,
            "grid_column": null,
            "overflow_y": null,
            "overflow_x": null,
            "grid_auto_flow": null,
            "grid_area": null,
            "grid_template_columns": null,
            "flex": null,
            "_model_name": "LayoutModel",
            "justify_items": null,
            "grid_row": null,
            "max_height": null,
            "align_content": null,
            "visibility": null,
            "align_self": null,
            "height": null,
            "min_height": null,
            "padding": null,
            "grid_auto_rows": null,
            "grid_gap": null,
            "max_width": null,
            "order": null,
            "_view_module_version": "1.2.0",
            "grid_template_areas": null,
            "object_position": null,
            "object_fit": null,
            "grid_auto_columns": null,
            "margin": null,
            "display": null,
            "left": null
          }
        },
        "831a53c37b2c4711882524d00a78abd3": {
          "model_module": "@jupyter-widgets/controls",
          "model_name": "HBoxModel",
          "model_module_version": "1.5.0",
          "state": {
            "_view_name": "HBoxView",
            "_dom_classes": [],
            "_model_name": "HBoxModel",
            "_view_module": "@jupyter-widgets/controls",
            "_model_module_version": "1.5.0",
            "_view_count": null,
            "_view_module_version": "1.5.0",
            "box_style": "",
            "layout": "IPY_MODEL_a1a5679c07004e169551461639a58642",
            "_model_module": "@jupyter-widgets/controls",
            "children": [
              "IPY_MODEL_ed24226d26f1495ab232b82c197bbb72",
              "IPY_MODEL_3558ddaabe064b458faa785a2e1d8e62"
            ]
          }
        },
        "a1a5679c07004e169551461639a58642": {
          "model_module": "@jupyter-widgets/base",
          "model_name": "LayoutModel",
          "model_module_version": "1.2.0",
          "state": {
            "_view_name": "LayoutView",
            "grid_template_rows": null,
            "right": null,
            "justify_content": null,
            "_view_module": "@jupyter-widgets/base",
            "overflow": null,
            "_model_module_version": "1.2.0",
            "_view_count": null,
            "flex_flow": null,
            "width": null,
            "min_width": null,
            "border": null,
            "align_items": null,
            "bottom": null,
            "_model_module": "@jupyter-widgets/base",
            "top": null,
            "grid_column": null,
            "overflow_y": null,
            "overflow_x": null,
            "grid_auto_flow": null,
            "grid_area": null,
            "grid_template_columns": null,
            "flex": null,
            "_model_name": "LayoutModel",
            "justify_items": null,
            "grid_row": null,
            "max_height": null,
            "align_content": null,
            "visibility": null,
            "align_self": null,
            "height": null,
            "min_height": null,
            "padding": null,
            "grid_auto_rows": null,
            "grid_gap": null,
            "max_width": null,
            "order": null,
            "_view_module_version": "1.2.0",
            "grid_template_areas": null,
            "object_position": null,
            "object_fit": null,
            "grid_auto_columns": null,
            "margin": null,
            "display": null,
            "left": null
          }
        },
        "ed24226d26f1495ab232b82c197bbb72": {
          "model_module": "@jupyter-widgets/controls",
          "model_name": "FloatProgressModel",
          "model_module_version": "1.5.0",
          "state": {
            "_view_name": "ProgressView",
            "style": "IPY_MODEL_f3b64af6e10c4d7ca59aeffea4d31130",
            "_dom_classes": [],
            "description": "Downloading: 100%",
            "_model_name": "FloatProgressModel",
            "bar_style": "success",
            "max": 442,
            "_view_module": "@jupyter-widgets/controls",
            "_model_module_version": "1.5.0",
            "value": 442,
            "_view_count": null,
            "_view_module_version": "1.5.0",
            "orientation": "horizontal",
            "min": 0,
            "description_tooltip": null,
            "_model_module": "@jupyter-widgets/controls",
            "layout": "IPY_MODEL_d998fe5a1aaf4526afc43b0b75a0d609"
          }
        },
        "3558ddaabe064b458faa785a2e1d8e62": {
          "model_module": "@jupyter-widgets/controls",
          "model_name": "HTMLModel",
          "model_module_version": "1.5.0",
          "state": {
            "_view_name": "HTMLView",
            "style": "IPY_MODEL_08cc206c36e74aea830396fc6b86a99c",
            "_dom_classes": [],
            "description": "",
            "_model_name": "HTMLModel",
            "placeholder": "​",
            "_view_module": "@jupyter-widgets/controls",
            "_model_module_version": "1.5.0",
            "value": " 442/442 [00:00&lt;00:00, 568B/s]",
            "_view_count": null,
            "_view_module_version": "1.5.0",
            "description_tooltip": null,
            "_model_module": "@jupyter-widgets/controls",
            "layout": "IPY_MODEL_7bbb4fb60943443f9b5b930271652faa"
          }
        },
        "f3b64af6e10c4d7ca59aeffea4d31130": {
          "model_module": "@jupyter-widgets/controls",
          "model_name": "ProgressStyleModel",
          "model_module_version": "1.5.0",
          "state": {
            "_view_name": "StyleView",
            "_model_name": "ProgressStyleModel",
            "description_width": "initial",
            "_view_module": "@jupyter-widgets/base",
            "_model_module_version": "1.5.0",
            "_view_count": null,
            "_view_module_version": "1.2.0",
            "bar_color": null,
            "_model_module": "@jupyter-widgets/controls"
          }
        },
        "d998fe5a1aaf4526afc43b0b75a0d609": {
          "model_module": "@jupyter-widgets/base",
          "model_name": "LayoutModel",
          "model_module_version": "1.2.0",
          "state": {
            "_view_name": "LayoutView",
            "grid_template_rows": null,
            "right": null,
            "justify_content": null,
            "_view_module": "@jupyter-widgets/base",
            "overflow": null,
            "_model_module_version": "1.2.0",
            "_view_count": null,
            "flex_flow": null,
            "width": null,
            "min_width": null,
            "border": null,
            "align_items": null,
            "bottom": null,
            "_model_module": "@jupyter-widgets/base",
            "top": null,
            "grid_column": null,
            "overflow_y": null,
            "overflow_x": null,
            "grid_auto_flow": null,
            "grid_area": null,
            "grid_template_columns": null,
            "flex": null,
            "_model_name": "LayoutModel",
            "justify_items": null,
            "grid_row": null,
            "max_height": null,
            "align_content": null,
            "visibility": null,
            "align_self": null,
            "height": null,
            "min_height": null,
            "padding": null,
            "grid_auto_rows": null,
            "grid_gap": null,
            "max_width": null,
            "order": null,
            "_view_module_version": "1.2.0",
            "grid_template_areas": null,
            "object_position": null,
            "object_fit": null,
            "grid_auto_columns": null,
            "margin": null,
            "display": null,
            "left": null
          }
        },
        "08cc206c36e74aea830396fc6b86a99c": {
          "model_module": "@jupyter-widgets/controls",
          "model_name": "DescriptionStyleModel",
          "model_module_version": "1.5.0",
          "state": {
            "_view_name": "StyleView",
            "_model_name": "DescriptionStyleModel",
            "description_width": "",
            "_view_module": "@jupyter-widgets/base",
            "_model_module_version": "1.5.0",
            "_view_count": null,
            "_view_module_version": "1.2.0",
            "_model_module": "@jupyter-widgets/controls"
          }
        },
        "7bbb4fb60943443f9b5b930271652faa": {
          "model_module": "@jupyter-widgets/base",
          "model_name": "LayoutModel",
          "model_module_version": "1.2.0",
          "state": {
            "_view_name": "LayoutView",
            "grid_template_rows": null,
            "right": null,
            "justify_content": null,
            "_view_module": "@jupyter-widgets/base",
            "overflow": null,
            "_model_module_version": "1.2.0",
            "_view_count": null,
            "flex_flow": null,
            "width": null,
            "min_width": null,
            "border": null,
            "align_items": null,
            "bottom": null,
            "_model_module": "@jupyter-widgets/base",
            "top": null,
            "grid_column": null,
            "overflow_y": null,
            "overflow_x": null,
            "grid_auto_flow": null,
            "grid_area": null,
            "grid_template_columns": null,
            "flex": null,
            "_model_name": "LayoutModel",
            "justify_items": null,
            "grid_row": null,
            "max_height": null,
            "align_content": null,
            "visibility": null,
            "align_self": null,
            "height": null,
            "min_height": null,
            "padding": null,
            "grid_auto_rows": null,
            "grid_gap": null,
            "max_width": null,
            "order": null,
            "_view_module_version": "1.2.0",
            "grid_template_areas": null,
            "object_position": null,
            "object_fit": null,
            "grid_auto_columns": null,
            "margin": null,
            "display": null,
            "left": null
          }
        }
      }
    }
  },
  "cells": [
    {
      "cell_type": "markdown",
      "metadata": {
        "id": "view-in-github",
        "colab_type": "text"
      },
      "source": [
        "<a href=\"https://colab.research.google.com/github/richardOlson/nlp__tranformers/blob/main/reddit_tagging.ipynb\" target=\"_parent\"><img src=\"https://colab.research.google.com/assets/colab-badge.svg\" alt=\"Open In Colab\"/></a>"
      ]
    },
    {
      "cell_type": "markdown",
      "metadata": {
        "id": "2dv1kj3RyL2w"
      },
      "source": [
        "This is the Notebook that is used to do the tagging of Reddit data"
      ]
    },
    {
      "cell_type": "code",
      "metadata": {
        "id": "FadkEPW9yK57"
      },
      "source": [
        "from google.colab import files\n",
        "import pandas as pd\n",
        "import numpy as np\n",
        "import spacy"
      ],
      "execution_count": 1,
      "outputs": []
    },
    {
      "cell_type": "code",
      "metadata": {
        "id": "T6fewbB3yW6I"
      },
      "source": [
        "files.upload()"
      ],
      "execution_count": null,
      "outputs": []
    },
    {
      "cell_type": "code",
      "metadata": {
        "colab": {
          "base_uri": "https://localhost:8080/"
        },
        "id": "yxMOhFCjybjN",
        "outputId": "d94c9dda-76fd-4c66-866a-ccd65fb035d4"
      },
      "source": [
        "# getting the small english model from spacy\n",
        "! python -m spacy download en_core_web_sm -q"
      ],
      "execution_count": 3,
      "outputs": [
        {
          "output_type": "stream",
          "text": [
            "\u001b[K     |████████████████████████████████| 12.0 MB 21.8 MB/s \n",
            "\u001b[?25h\u001b[38;5;2m✔ Download and installation successful\u001b[0m\n",
            "You can now load the model via spacy.load('en_core_web_sm')\n"
          ],
          "name": "stdout"
        }
      ]
    },
    {
      "cell_type": "code",
      "metadata": {
        "id": "3d-Stl8r3Nli"
      },
      "source": [
        "# now getting setup to find the entities that are in the dataframe\n",
        "nlp = spacy.load(\"en_core_web_sm\")"
      ],
      "execution_count": 4,
      "outputs": []
    },
    {
      "cell_type": "code",
      "metadata": {
        "colab": {
          "base_uri": "https://localhost:8080/",
          "height": 221
        },
        "id": "939c4efr3fRx",
        "outputId": "2cb9ae82-d2e5-4b77-c22a-c24f31c504a1"
      },
      "source": [
        "# reading in the dataframe\n",
        "df = pd.read_csv(\"/content/reddit .csv\", sep=\"|\", )\n",
        "print(f\"The shape is {df.shape}\")\n",
        "df.head()"
      ],
      "execution_count": 5,
      "outputs": [
        {
          "output_type": "stream",
          "text": [
            "The shape is (4001, 9)\n"
          ],
          "name": "stdout"
        },
        {
          "output_type": "execute_result",
          "data": {
            "text/html": [
              "<div>\n",
              "<style scoped>\n",
              "    .dataframe tbody tr th:only-of-type {\n",
              "        vertical-align: middle;\n",
              "    }\n",
              "\n",
              "    .dataframe tbody tr th {\n",
              "        vertical-align: top;\n",
              "    }\n",
              "\n",
              "    .dataframe thead th {\n",
              "        text-align: right;\n",
              "    }\n",
              "</style>\n",
              "<table border=\"1\" class=\"dataframe\">\n",
              "  <thead>\n",
              "    <tr style=\"text-align: right;\">\n",
              "      <th></th>\n",
              "      <th>name</th>\n",
              "      <th>created_utc</th>\n",
              "      <th>subreddit</th>\n",
              "      <th>title</th>\n",
              "      <th>selftext</th>\n",
              "      <th>upvote_ratio</th>\n",
              "      <th>ups</th>\n",
              "      <th>downs</th>\n",
              "      <th>score</th>\n",
              "    </tr>\n",
              "  </thead>\n",
              "  <tbody>\n",
              "    <tr>\n",
              "      <th>0</th>\n",
              "      <td>t3_p220ix</td>\n",
              "      <td>1.628642e+09</td>\n",
              "      <td>investing</td>\n",
              "      <td>Is it a pragmatic decision to allocate a certa...</td>\n",
              "      <td>My total net worth across all of my accounts i...</td>\n",
              "      <td>0.91</td>\n",
              "      <td>9</td>\n",
              "      <td>0</td>\n",
              "      <td>9</td>\n",
              "    </tr>\n",
              "    <tr>\n",
              "      <th>1</th>\n",
              "      <td>t3_p2131v</td>\n",
              "      <td>1.628638e+09</td>\n",
              "      <td>investing</td>\n",
              "      <td>FGI, Steady Downtrend Since December (Peak 92 ...</td>\n",
              "      <td>Not making any statements, assumptions or pred...</td>\n",
              "      <td>0.50</td>\n",
              "      <td>0</td>\n",
              "      <td>0</td>\n",
              "      <td>0</td>\n",
              "    </tr>\n",
              "    <tr>\n",
              "      <th>2</th>\n",
              "      <td>t3_p2080p</td>\n",
              "      <td>1.628636e+09</td>\n",
              "      <td>investing</td>\n",
              "      <td>Nintendo - hold or sell currently at a loss?</td>\n",
              "      <td>I am currently heavily invested in NTDOY and d...</td>\n",
              "      <td>0.82</td>\n",
              "      <td>11</td>\n",
              "      <td>0</td>\n",
              "      <td>11</td>\n",
              "    </tr>\n",
              "    <tr>\n",
              "      <th>3</th>\n",
              "      <td>t3_p1z7c2</td>\n",
              "      <td>1.628632e+09</td>\n",
              "      <td>investing</td>\n",
              "      <td>Intellectual Property and Valuation: Some Thou...</td>\n",
              "      <td>**PREFACE:  This is information not advice.  I...</td>\n",
              "      <td>0.78</td>\n",
              "      <td>7</td>\n",
              "      <td>0</td>\n",
              "      <td>7</td>\n",
              "    </tr>\n",
              "    <tr>\n",
              "      <th>4</th>\n",
              "      <td>t3_p1x594</td>\n",
              "      <td>1.628626e+09</td>\n",
              "      <td>investing</td>\n",
              "      <td>Coinbase beats earnings estimates for Q2</td>\n",
              "      <td>&amp;amp;#x200B;\\n\\n* Eps $6.42 v $2.26 Est\\n* Rev...</td>\n",
              "      <td>0.91</td>\n",
              "      <td>278</td>\n",
              "      <td>0</td>\n",
              "      <td>278</td>\n",
              "    </tr>\n",
              "  </tbody>\n",
              "</table>\n",
              "</div>"
            ],
            "text/plain": [
              "        name   created_utc  subreddit  ...  ups downs  score\n",
              "0  t3_p220ix  1.628642e+09  investing  ...    9     0      9\n",
              "1  t3_p2131v  1.628638e+09  investing  ...    0     0      0\n",
              "2  t3_p2080p  1.628636e+09  investing  ...   11     0     11\n",
              "3  t3_p1z7c2  1.628632e+09  investing  ...    7     0      7\n",
              "4  t3_p1x594  1.628626e+09  investing  ...  278     0    278\n",
              "\n",
              "[5 rows x 9 columns]"
            ]
          },
          "metadata": {
            "tags": []
          },
          "execution_count": 5
        }
      ]
    },
    {
      "cell_type": "code",
      "metadata": {
        "id": "J1FkC-jm4oBl"
      },
      "source": [
        ""
      ],
      "execution_count": null,
      "outputs": []
    },
    {
      "cell_type": "code",
      "metadata": {
        "id": "ADTZk83x4LqB"
      },
      "source": [
        "# want to find the organization for each of the rows in the column selftext and \n",
        "# we will return the \"ent\"--organization for each of the columns\n",
        "def get_entities(text:str):\n",
        "  doc = nlp(text=text)\n",
        "  # making the list for the entities\n",
        "  org_list = []\n",
        "  for entity in list(doc.ents):\n",
        "    if entity.label_ == \"ORG\":\n",
        "      org_list.append(entity.text)\n",
        "    # removing the duplicates with making a set \n",
        "    # then converting back to a list\n",
        "  org_list = list(set(org_list))\n",
        "  return org_list\n",
        "\n"
      ],
      "execution_count": null,
      "outputs": []
    },
    {
      "cell_type": "code",
      "metadata": {
        "id": "uN5Sq1bQ7UrV"
      },
      "source": [
        "# we are now going to apply this to each of the rows\n",
        "df[\"orgs\"] = df[\"selftext\"].apply(get_entities)"
      ],
      "execution_count": null,
      "outputs": []
    },
    {
      "cell_type": "code",
      "metadata": {
        "id": "O6gvMrq_7zF5"
      },
      "source": [
        "df.head()"
      ],
      "execution_count": null,
      "outputs": []
    },
    {
      "cell_type": "code",
      "metadata": {
        "id": "K_NpmebB-q_c"
      },
      "source": [
        "# saving the dataframe \n",
        "df.to_csv(\"reddit_tagging.csv\", sep=\"|\")"
      ],
      "execution_count": null,
      "outputs": []
    },
    {
      "cell_type": "code",
      "metadata": {
        "id": "Jr3awabV-4cB",
        "colab": {
          "base_uri": "https://localhost:8080/",
          "height": 17
        },
        "outputId": "2210a890-eb61-4cc2-85da-87f7878d5d21"
      },
      "source": [
        "files.download(\"reddit_tagging.csv\")"
      ],
      "execution_count": null,
      "outputs": [
        {
          "output_type": "display_data",
          "data": {
            "application/javascript": [
              "\n",
              "    async function download(id, filename, size) {\n",
              "      if (!google.colab.kernel.accessAllowed) {\n",
              "        return;\n",
              "      }\n",
              "      const div = document.createElement('div');\n",
              "      const label = document.createElement('label');\n",
              "      label.textContent = `Downloading \"${filename}\": `;\n",
              "      div.appendChild(label);\n",
              "      const progress = document.createElement('progress');\n",
              "      progress.max = size;\n",
              "      div.appendChild(progress);\n",
              "      document.body.appendChild(div);\n",
              "\n",
              "      const buffers = [];\n",
              "      let downloaded = 0;\n",
              "\n",
              "      const channel = await google.colab.kernel.comms.open(id);\n",
              "      // Send a message to notify the kernel that we're ready.\n",
              "      channel.send({})\n",
              "\n",
              "      for await (const message of channel.messages) {\n",
              "        // Send a message to notify the kernel that we're ready.\n",
              "        channel.send({})\n",
              "        if (message.buffers) {\n",
              "          for (const buffer of message.buffers) {\n",
              "            buffers.push(buffer);\n",
              "            downloaded += buffer.byteLength;\n",
              "            progress.value = downloaded;\n",
              "          }\n",
              "        }\n",
              "      }\n",
              "      const blob = new Blob(buffers, {type: 'application/binary'});\n",
              "      const a = document.createElement('a');\n",
              "      a.href = window.URL.createObjectURL(blob);\n",
              "      a.download = filename;\n",
              "      div.appendChild(a);\n",
              "      a.click();\n",
              "      div.remove();\n",
              "    }\n",
              "  "
            ],
            "text/plain": [
              "<IPython.core.display.Javascript object>"
            ]
          },
          "metadata": {
            "tags": []
          }
        },
        {
          "output_type": "display_data",
          "data": {
            "application/javascript": [
              "download(\"download_ce80493a-91fc-44d3-adb3-7b7d6c356d1b\", \"reddit_tagging.csv\", 78754095)"
            ],
            "text/plain": [
              "<IPython.core.display.Javascript object>"
            ]
          },
          "metadata": {
            "tags": []
          }
        }
      ]
    },
    {
      "cell_type": "code",
      "metadata": {
        "id": "s8IN6kzrvPrh"
      },
      "source": [
        "# doing the count of what is the most common orgs\n",
        "from collections import  Counter"
      ],
      "execution_count": 6,
      "outputs": []
    },
    {
      "cell_type": "code",
      "metadata": {
        "id": "hlsMAHvjwM9A"
      },
      "source": [
        "def count_function(df, column):\n",
        "  \"\"\"\n",
        "  This is the function that will count what the orgs are\n",
        "  in the dataframe.\n",
        "  \"\"\"\n",
        "  c = Counter()\n",
        "  # using a generator\n",
        "  r = (row for row in df[column])\n",
        "  # getting the list out of the generator\n",
        "  for theList in r:\n",
        "    if not isinstance(theList, list):\n",
        "      theList = list(theList)\n",
        "    c.update(theList)\n",
        "  return c\n"
      ],
      "execution_count": 11,
      "outputs": []
    },
    {
      "cell_type": "code",
      "metadata": {
        "id": "6ZVO4ZcS1DCQ"
      },
      "source": [
        "# using the method above to get the count\n",
        "c = count_function(df,column=\"org\")"
      ],
      "execution_count": 50,
      "outputs": []
    },
    {
      "cell_type": "code",
      "metadata": {
        "id": "I0qRxQ9e1Rom",
        "colab": {
          "base_uri": "https://localhost:8080/"
        },
        "outputId": "c8cc5cad-f664-4206-b075-cf31b02ffc88"
      },
      "source": [
        "c.most_common(50)"
      ],
      "execution_count": null,
      "outputs": [
        {
          "output_type": "execute_result",
          "data": {
            "text/plain": [
              "[('FAQ', 3017),\n",
              " ('ETF', 2304),\n",
              " ('Fed', 1206),\n",
              " ('Amazon', 878),\n",
              " ('SEC', 878),\n",
              " ('Apple', 877),\n",
              " ('EV', 764),\n",
              " ('Microsoft', 715),\n",
              " ('Intel', 714),\n",
              " ('VOO', 713),\n",
              " ('Fidelity', 713),\n",
              " ('COVID', 660),\n",
              " ('TSLA', 658),\n",
              " ('QQQ', 658),\n",
              " ('MSFT', 605),\n",
              " ('DCF', 605),\n",
              " ('AMD', 604),\n",
              " ('Google', 603),\n",
              " ('fed', 603),\n",
              " ('Vanguard', 602),\n",
              " ('JPM', 495),\n",
              " ('EPS', 494),\n",
              " ('NASDAQ', 491),\n",
              " ('NYSE', 440),\n",
              " ('Alibaba', 440),\n",
              " ('etf', 440),\n",
              " ('CNBC', 439),\n",
              " ('treasury', 384),\n",
              " ('Treasury', 384),\n",
              " ('ROI', 384),\n",
              " ('ITM', 382),\n",
              " ('AAPL', 330),\n",
              " ('Robinhood', 329),\n",
              " ('INTC', 329),\n",
              " ('IBM', 329),\n",
              " ('FDA', 329),\n",
              " ('TD Ameritrade', 329),\n",
              " ('ARKK', 329),\n",
              " ('Yahoo', 329),\n",
              " ('FCF', 329),\n",
              " ('Nasdaq', 328),\n",
              " ('OTM', 327),\n",
              " ('SPY', 327),\n",
              " ('Reuters', 275),\n",
              " ('WSJ', 275),\n",
              " ('EU', 275),\n",
              " ('CFO', 275),\n",
              " ('USD', 275),\n",
              " ('GM', 274),\n",
              " ('EBITDA', 274)]"
            ]
          },
          "metadata": {
            "tags": []
          },
          "execution_count": 36
        }
      ]
    },
    {
      "cell_type": "code",
      "metadata": {
        "id": "CcKMkF-gTIvk"
      },
      "source": [
        "# we are going to create a blackList to remove some of the entities that \n",
        "# we don't want to have to help clean this up\n",
        "blackList = [\"ev\", \"sec\", \"faq\", \"nasdaq\", \"treasury\",  \"nyse\", \"fda\", \n",
        "             \"etf\", \"vanguard\", \"fidelity\", \"roi\", \"fed\", \"td ameritrade\", \"robinhood\", \"cnbc\", \"eu\", \"reuters\", ]"
      ],
      "execution_count": 7,
      "outputs": []
    },
    {
      "cell_type": "code",
      "metadata": {
        "id": "526cWPNeXCel"
      },
      "source": [
        "# adding the blackList to the function that gets the entities from the text\n",
        "# want to find the organization for each of the rows in the column selftext and \n",
        "# we will return the \"ent\"--organization for each of the columns\n",
        "def get_entities(text:str):\n",
        "  doc = nlp(text=text)\n",
        "  # making the list for the entities\n",
        "  org_list = []\n",
        "  for entity in list(doc.ents):\n",
        "    if entity.label_ == \"ORG\" and entity.text.lower() not in blackList:\n",
        "      org_list.append(entity.text)\n",
        "    # removing the duplicates with making a set \n",
        "    # then converting back to a list\n",
        "  org_list = list(set(org_list))\n",
        "  return org_list\n"
      ],
      "execution_count": 8,
      "outputs": []
    },
    {
      "cell_type": "code",
      "metadata": {
        "id": "A_Ccos7UYRZE"
      },
      "source": [
        "df[\"org\"] = df['selftext'].apply(get_entities)"
      ],
      "execution_count": 9,
      "outputs": []
    },
    {
      "cell_type": "code",
      "metadata": {
        "id": "tdwmOJ0cYepp"
      },
      "source": [
        "# running through the counter again\n",
        "c = count_function(df, column=\"org\")"
      ],
      "execution_count": 12,
      "outputs": []
    },
    {
      "cell_type": "code",
      "metadata": {
        "id": "3lzDo-mVS0Nl",
        "colab": {
          "base_uri": "https://localhost:8080/"
        },
        "outputId": "8b3c728c-e3b6-403f-a128-8e0a3941d002"
      },
      "source": [
        "c.most_common(50)"
      ],
      "execution_count": 13,
      "outputs": [
        {
          "output_type": "execute_result",
          "data": {
            "text/plain": [
              "[('Apple', 81),\n",
              " ('Amazon', 72),\n",
              " ('Microsoft', 63),\n",
              " ('MSFT', 62),\n",
              " ('Google', 61),\n",
              " ('DCF', 57),\n",
              " ('Intel', 57),\n",
              " ('COVID', 57),\n",
              " ('VOO', 54),\n",
              " ('AMD', 50),\n",
              " ('TSLA', 50),\n",
              " ('QQQ', 47),\n",
              " ('JPM', 40),\n",
              " ('AAPL', 39),\n",
              " ('EPS', 39),\n",
              " ('Alibaba', 39),\n",
              " ('Tesla', 29),\n",
              " ('EBITDA', 28),\n",
              " ('SCHD', 25),\n",
              " ('CFO', 25),\n",
              " ('ARKK', 25),\n",
              " ('AMC', 24),\n",
              " ('ADR', 24),\n",
              " ('Samsung', 24),\n",
              " ('YOY', 24),\n",
              " ('WSJ', 24),\n",
              " ('Yahoo', 24),\n",
              " ('ITM', 24),\n",
              " ('NVDA', 23),\n",
              " ('GM', 23),\n",
              " ('IBM', 23),\n",
              " ('USD', 23),\n",
              " ('FCF', 23),\n",
              " ('INTC', 22),\n",
              " ('Bank of America', 22),\n",
              " ('Facebook', 20),\n",
              " ('Congress', 20),\n",
              " ('ATH', 20),\n",
              " ('VXUS', 20),\n",
              " ('the New York Stock Exchange', 20),\n",
              " ('PEG', 20),\n",
              " ('Chase', 20),\n",
              " ('Summary', 20),\n",
              " ('DIDI', 20),\n",
              " ('Didi', 20),\n",
              " ('TSMC', 20),\n",
              " ('VYM', 20),\n",
              " ('the Federal Reserve', 20),\n",
              " ('IP', 19),\n",
              " ('GAAP', 19)]"
            ]
          },
          "metadata": {
            "tags": []
          },
          "execution_count": 13
        }
      ]
    },
    {
      "cell_type": "code",
      "metadata": {
        "id": "YvBzNjTPTbHV",
        "colab": {
          "base_uri": "https://localhost:8080/"
        },
        "outputId": "c6bbba92-020f-48f5-de07-c7831dc48c3b"
      },
      "source": [
        "# using the flair library to find the flair\n",
        "import pandas as pd\n",
        "! pip install flair -q"
      ],
      "execution_count": 14,
      "outputs": [
        {
          "output_type": "stream",
          "text": [
            "\u001b[K     |████████████████████████████████| 284 kB 27.1 MB/s \n",
            "\u001b[K     |████████████████████████████████| 981 kB 49.3 MB/s \n",
            "\u001b[K     |████████████████████████████████| 776.8 MB 15 kB/s \n",
            "\u001b[K     |████████████████████████████████| 19.7 MB 39 kB/s \n",
            "\u001b[K     |████████████████████████████████| 1.2 MB 53.0 MB/s \n",
            "\u001b[K     |████████████████████████████████| 64 kB 2.7 MB/s \n",
            "\u001b[?25h  Installing build dependencies ... \u001b[?25l\u001b[?25hdone\n",
            "  Getting requirements to build wheel ... \u001b[?25l\u001b[?25hdone\n",
            "    Preparing wheel metadata ... \u001b[?25l\u001b[?25hdone\n",
            "\u001b[K     |████████████████████████████████| 788 kB 66.4 MB/s \n",
            "\u001b[K     |████████████████████████████████| 43 kB 2.1 MB/s \n",
            "\u001b[K     |████████████████████████████████| 2.6 MB 44.8 MB/s \n",
            "\u001b[K     |████████████████████████████████| 62 kB 830 kB/s \n",
            "\u001b[K     |████████████████████████████████| 895 kB 53.9 MB/s \n",
            "\u001b[K     |████████████████████████████████| 636 kB 70.8 MB/s \n",
            "\u001b[K     |████████████████████████████████| 3.3 MB 43.7 MB/s \n",
            "\u001b[?25h  Building wheel for gdown (PEP 517) ... \u001b[?25l\u001b[?25hdone\n",
            "  Building wheel for mpld3 (setup.py) ... \u001b[?25l\u001b[?25hdone\n",
            "  Building wheel for overrides (setup.py) ... \u001b[?25l\u001b[?25hdone\n",
            "  Building wheel for segtok (setup.py) ... \u001b[?25l\u001b[?25hdone\n",
            "  Building wheel for sqlitedict (setup.py) ... \u001b[?25l\u001b[?25hdone\n",
            "  Building wheel for ftfy (setup.py) ... \u001b[?25l\u001b[?25hdone\n",
            "  Building wheel for langdetect (setup.py) ... \u001b[?25l\u001b[?25hdone\n",
            "\u001b[31mERROR: pip's dependency resolver does not currently take into account all the packages that are installed. This behaviour is the source of the following dependency conflicts.\n",
            "torchvision 0.10.0+cu102 requires torch==1.9.0, but you have torch 1.7.1 which is incompatible.\n",
            "torchtext 0.10.0 requires torch==1.9.0, but you have torch 1.7.1 which is incompatible.\n",
            "google-colab 1.0.0 requires requests~=2.23.0, but you have requests 2.26.0 which is incompatible.\n",
            "datascience 0.10.6 requires folium==0.2.1, but you have folium 0.8.3 which is incompatible.\u001b[0m\n"
          ],
          "name": "stdout"
        }
      ]
    },
    {
      "cell_type": "code",
      "metadata": {
        "id": "vTxAYxBJV7d0"
      },
      "source": [
        "import flair"
      ],
      "execution_count": 15,
      "outputs": []
    },
    {
      "cell_type": "code",
      "metadata": {
        "id": "rQOaZ07YXFE9",
        "colab": {
          "base_uri": "https://localhost:8080/",
          "height": 298,
          "referenced_widgets": [
            "0bd66e4a49ee469a9cf23fd27cf2d896",
            "425b3ad330a5454ab4613850fc34b8a8",
            "01d0b03e58994b119ea135c98e225d1b",
            "b7ae959161cd4cb7a8e7b6c2e5beba19",
            "9641c910c090429da2e47621ae612341",
            "4baafc0ed6be4562866b7bb58e92cc5d",
            "c76c5d94d74c481486985de93bba7e98",
            "0a005ab4486a48f7a35576c64dc2edce",
            "8cd1e97aac4740f9a0a12f45dc5645a3",
            "6b9aa46780594b809dc83e2827894a46",
            "892a98ea65784dd1baa3e59c190f92b0",
            "cf29084771b542ed8dd8c9f9fd0b8a17",
            "6a5870ae5b9f4a509ca7b54d9d3bbb33",
            "58acabce35ab48c1a4c5555900e6e36d",
            "720a951cefbb407a9daa2dc5000b9513",
            "a4418288abd74d07bb5fb68d611991c9",
            "61eb6db1b3a4405ea9a28c8dc112e93d",
            "124eadf0100441ecb04e1da78b024352",
            "10832afec00744c68626532652c0fed4",
            "3f0f87dfd3344ad4a858cab78e296fdf",
            "d8340755177943eea94bd3b198c2bc54",
            "e4dfd0e587fb44b7b1bbaa19dfe3aad2",
            "6b396524eee94ade84b3ad618b3ab35d",
            "0373d128ee2d477294efe2f58d70cbfc",
            "831a53c37b2c4711882524d00a78abd3",
            "a1a5679c07004e169551461639a58642",
            "ed24226d26f1495ab232b82c197bbb72",
            "3558ddaabe064b458faa785a2e1d8e62",
            "f3b64af6e10c4d7ca59aeffea4d31130",
            "d998fe5a1aaf4526afc43b0b75a0d609",
            "08cc206c36e74aea830396fc6b86a99c",
            "7bbb4fb60943443f9b5b930271652faa"
          ]
        },
        "outputId": "4eb95868-cdac-42c0-b82a-5e0d0b57dd83"
      },
      "source": [
        "model = flair.models.TextClassifier.load(\"en-sentiment\")"
      ],
      "execution_count": 16,
      "outputs": [
        {
          "output_type": "stream",
          "text": [
            "2021-08-12 02:07:33,541 https://nlp.informatik.hu-berlin.de/resources/models/sentiment-curated-distilbert/sentiment-en-mix-distillbert_4.pt not found in cache, downloading to /tmp/tmpu5j9cnsd\n"
          ],
          "name": "stdout"
        },
        {
          "output_type": "stream",
          "text": [
            "100%|██████████| 265512723/265512723 [00:09<00:00, 27742935.51B/s]"
          ],
          "name": "stderr"
        },
        {
          "output_type": "stream",
          "text": [
            "2021-08-12 02:07:43,590 copying /tmp/tmpu5j9cnsd to cache at /root/.flair/models/sentiment-en-mix-distillbert_4.pt\n"
          ],
          "name": "stdout"
        },
        {
          "output_type": "stream",
          "text": [
            "\n"
          ],
          "name": "stderr"
        },
        {
          "output_type": "stream",
          "text": [
            "2021-08-12 02:07:44,078 removing temp file /tmp/tmpu5j9cnsd\n",
            "2021-08-12 02:07:44,118 loading file /root/.flair/models/sentiment-en-mix-distillbert_4.pt\n"
          ],
          "name": "stdout"
        },
        {
          "output_type": "display_data",
          "data": {
            "application/vnd.jupyter.widget-view+json": {
              "model_id": "0bd66e4a49ee469a9cf23fd27cf2d896",
              "version_minor": 0,
              "version_major": 2
            },
            "text/plain": [
              "HBox(children=(FloatProgress(value=0.0, description='Downloading', max=28.0, style=ProgressStyle(description_w…"
            ]
          },
          "metadata": {
            "tags": []
          }
        },
        {
          "output_type": "stream",
          "text": [
            "\n"
          ],
          "name": "stdout"
        },
        {
          "output_type": "display_data",
          "data": {
            "application/vnd.jupyter.widget-view+json": {
              "model_id": "8cd1e97aac4740f9a0a12f45dc5645a3",
              "version_minor": 0,
              "version_major": 2
            },
            "text/plain": [
              "HBox(children=(FloatProgress(value=0.0, description='Downloading', max=231508.0, style=ProgressStyle(descripti…"
            ]
          },
          "metadata": {
            "tags": []
          }
        },
        {
          "output_type": "stream",
          "text": [
            "\n"
          ],
          "name": "stdout"
        },
        {
          "output_type": "display_data",
          "data": {
            "application/vnd.jupyter.widget-view+json": {
              "model_id": "61eb6db1b3a4405ea9a28c8dc112e93d",
              "version_minor": 0,
              "version_major": 2
            },
            "text/plain": [
              "HBox(children=(FloatProgress(value=0.0, description='Downloading', max=466062.0, style=ProgressStyle(descripti…"
            ]
          },
          "metadata": {
            "tags": []
          }
        },
        {
          "output_type": "stream",
          "text": [
            "\n"
          ],
          "name": "stdout"
        },
        {
          "output_type": "display_data",
          "data": {
            "application/vnd.jupyter.widget-view+json": {
              "model_id": "831a53c37b2c4711882524d00a78abd3",
              "version_minor": 0,
              "version_major": 2
            },
            "text/plain": [
              "HBox(children=(FloatProgress(value=0.0, description='Downloading', max=442.0, style=ProgressStyle(description_…"
            ]
          },
          "metadata": {
            "tags": []
          }
        },
        {
          "output_type": "stream",
          "text": [
            "\n"
          ],
          "name": "stdout"
        }
      ]
    },
    {
      "cell_type": "code",
      "metadata": {
        "id": "7Mw9v1RaXa1v"
      },
      "source": [
        "def get_sentiment(text):\n",
        "  sentence = flair.data.Sentence(text)\n",
        "  model.predict(sentence)\n",
        "  sentiment = sentence.labels[0]\n",
        "  return sentiment"
      ],
      "execution_count": 17,
      "outputs": []
    },
    {
      "cell_type": "code",
      "metadata": {
        "id": "JM8THQFfYWVm"
      },
      "source": [
        "# creating the senitment column\n",
        "df[\"sentiment\"] = df[\"selftext\"].apply(get_sentiment)"
      ],
      "execution_count": 18,
      "outputs": []
    },
    {
      "cell_type": "code",
      "metadata": {
        "colab": {
          "base_uri": "https://localhost:8080/",
          "height": 289
        },
        "id": "I2_dfvHqN8ey",
        "outputId": "561e0bee-68e4-4afd-8a61-7aff8e62e59d"
      },
      "source": [
        "df.head()"
      ],
      "execution_count": 19,
      "outputs": [
        {
          "output_type": "execute_result",
          "data": {
            "text/html": [
              "<div>\n",
              "<style scoped>\n",
              "    .dataframe tbody tr th:only-of-type {\n",
              "        vertical-align: middle;\n",
              "    }\n",
              "\n",
              "    .dataframe tbody tr th {\n",
              "        vertical-align: top;\n",
              "    }\n",
              "\n",
              "    .dataframe thead th {\n",
              "        text-align: right;\n",
              "    }\n",
              "</style>\n",
              "<table border=\"1\" class=\"dataframe\">\n",
              "  <thead>\n",
              "    <tr style=\"text-align: right;\">\n",
              "      <th></th>\n",
              "      <th>name</th>\n",
              "      <th>created_utc</th>\n",
              "      <th>subreddit</th>\n",
              "      <th>title</th>\n",
              "      <th>selftext</th>\n",
              "      <th>upvote_ratio</th>\n",
              "      <th>ups</th>\n",
              "      <th>downs</th>\n",
              "      <th>score</th>\n",
              "      <th>org</th>\n",
              "      <th>sentiment</th>\n",
              "    </tr>\n",
              "  </thead>\n",
              "  <tbody>\n",
              "    <tr>\n",
              "      <th>0</th>\n",
              "      <td>t3_p220ix</td>\n",
              "      <td>1.628642e+09</td>\n",
              "      <td>investing</td>\n",
              "      <td>Is it a pragmatic decision to allocate a certa...</td>\n",
              "      <td>My total net worth across all of my accounts i...</td>\n",
              "      <td>0.91</td>\n",
              "      <td>9</td>\n",
              "      <td>0</td>\n",
              "      <td>9</td>\n",
              "      <td>[ETH, Target, BTC]</td>\n",
              "      <td>NEGATIVE (0.9982)</td>\n",
              "    </tr>\n",
              "    <tr>\n",
              "      <th>1</th>\n",
              "      <td>t3_p2131v</td>\n",
              "      <td>1.628638e+09</td>\n",
              "      <td>investing</td>\n",
              "      <td>FGI, Steady Downtrend Since December (Peak 92 ...</td>\n",
              "      <td>Not making any statements, assumptions or pred...</td>\n",
              "      <td>0.50</td>\n",
              "      <td>0</td>\n",
              "      <td>0</td>\n",
              "      <td>0</td>\n",
              "      <td>[FGI, CNN Money]</td>\n",
              "      <td>NEGATIVE (0.9937)</td>\n",
              "    </tr>\n",
              "    <tr>\n",
              "      <th>2</th>\n",
              "      <td>t3_p2080p</td>\n",
              "      <td>1.628636e+09</td>\n",
              "      <td>investing</td>\n",
              "      <td>Nintendo - hold or sell currently at a loss?</td>\n",
              "      <td>I am currently heavily invested in NTDOY and d...</td>\n",
              "      <td>0.82</td>\n",
              "      <td>11</td>\n",
              "      <td>0</td>\n",
              "      <td>11</td>\n",
              "      <td>[Nintendo World]</td>\n",
              "      <td>NEGATIVE (1.0)</td>\n",
              "    </tr>\n",
              "    <tr>\n",
              "      <th>3</th>\n",
              "      <td>t3_p1z7c2</td>\n",
              "      <td>1.628632e+09</td>\n",
              "      <td>investing</td>\n",
              "      <td>Intellectual Property and Valuation: Some Thou...</td>\n",
              "      <td>**PREFACE:  This is information not advice.  I...</td>\n",
              "      <td>0.78</td>\n",
              "      <td>7</td>\n",
              "      <td>0</td>\n",
              "      <td>7</td>\n",
              "      <td>[AAPL, Facebook, the IP &amp;amp, FAANG, Operation...</td>\n",
              "      <td>NEGATIVE (0.9998)</td>\n",
              "    </tr>\n",
              "    <tr>\n",
              "      <th>4</th>\n",
              "      <td>t3_p1x594</td>\n",
              "      <td>1.628626e+09</td>\n",
              "      <td>investing</td>\n",
              "      <td>Coinbase beats earnings estimates for Q2</td>\n",
              "      <td>&amp;amp;#x200B;\\n\\n* Eps $6.42 v $2.26 Est\\n* Rev...</td>\n",
              "      <td>0.91</td>\n",
              "      <td>278</td>\n",
              "      <td>0</td>\n",
              "      <td>278</td>\n",
              "      <td>[Verified Users, Transacting Users, Eps, &amp;amp;...</td>\n",
              "      <td>NEGATIVE (0.9799)</td>\n",
              "    </tr>\n",
              "  </tbody>\n",
              "</table>\n",
              "</div>"
            ],
            "text/plain": [
              "        name  ...          sentiment\n",
              "0  t3_p220ix  ...  NEGATIVE (0.9982)\n",
              "1  t3_p2131v  ...  NEGATIVE (0.9937)\n",
              "2  t3_p2080p  ...     NEGATIVE (1.0)\n",
              "3  t3_p1z7c2  ...  NEGATIVE (0.9998)\n",
              "4  t3_p1x594  ...  NEGATIVE (0.9799)\n",
              "\n",
              "[5 rows x 11 columns]"
            ]
          },
          "metadata": {
            "tags": []
          },
          "execution_count": 19
        }
      ]
    },
    {
      "cell_type": "code",
      "metadata": {
        "colab": {
          "base_uri": "https://localhost:8080/"
        },
        "id": "PmayrLOjN_ph",
        "outputId": "1a4553ce-44b7-415f-e817-a68393f7d097"
      },
      "source": [
        "print(type(df['org'].iloc[0]))\n",
        "type(df['sentiment'].iloc[0])"
      ],
      "execution_count": 25,
      "outputs": [
        {
          "output_type": "stream",
          "text": [
            "<class 'list'>\n"
          ],
          "name": "stdout"
        },
        {
          "output_type": "execute_result",
          "data": {
            "text/plain": [
              "flair.data.Label"
            ]
          },
          "metadata": {
            "tags": []
          },
          "execution_count": 25
        }
      ]
    },
    {
      "cell_type": "code",
      "metadata": {
        "id": "S1ql0dBcoy2m"
      },
      "source": [
        "# saving to a file and then doing the download\n",
        "df.to_csv(\"reddit.csv\", sep=\"|\", index=False)"
      ],
      "execution_count": 23,
      "outputs": []
    },
    {
      "cell_type": "code",
      "metadata": {
        "id": "1yh00KWQps-x",
        "colab": {
          "base_uri": "https://localhost:8080/",
          "height": 17
        },
        "outputId": "f6f45fb1-6951-4bb1-c4a2-b123f30a3430"
      },
      "source": [
        "files.download(\"reddit.csv\")"
      ],
      "execution_count": 24,
      "outputs": [
        {
          "output_type": "display_data",
          "data": {
            "application/javascript": [
              "\n",
              "    async function download(id, filename, size) {\n",
              "      if (!google.colab.kernel.accessAllowed) {\n",
              "        return;\n",
              "      }\n",
              "      const div = document.createElement('div');\n",
              "      const label = document.createElement('label');\n",
              "      label.textContent = `Downloading \"${filename}\": `;\n",
              "      div.appendChild(label);\n",
              "      const progress = document.createElement('progress');\n",
              "      progress.max = size;\n",
              "      div.appendChild(progress);\n",
              "      document.body.appendChild(div);\n",
              "\n",
              "      const buffers = [];\n",
              "      let downloaded = 0;\n",
              "\n",
              "      const channel = await google.colab.kernel.comms.open(id);\n",
              "      // Send a message to notify the kernel that we're ready.\n",
              "      channel.send({})\n",
              "\n",
              "      for await (const message of channel.messages) {\n",
              "        // Send a message to notify the kernel that we're ready.\n",
              "        channel.send({})\n",
              "        if (message.buffers) {\n",
              "          for (const buffer of message.buffers) {\n",
              "            buffers.push(buffer);\n",
              "            downloaded += buffer.byteLength;\n",
              "            progress.value = downloaded;\n",
              "          }\n",
              "        }\n",
              "      }\n",
              "      const blob = new Blob(buffers, {type: 'application/binary'});\n",
              "      const a = document.createElement('a');\n",
              "      a.href = window.URL.createObjectURL(blob);\n",
              "      a.download = filename;\n",
              "      div.appendChild(a);\n",
              "      a.click();\n",
              "      div.remove();\n",
              "    }\n",
              "  "
            ],
            "text/plain": [
              "<IPython.core.display.Javascript object>"
            ]
          },
          "metadata": {
            "tags": []
          }
        },
        {
          "output_type": "display_data",
          "data": {
            "application/javascript": [
              "download(\"download_38f1f98b-04a6-482d-8577-242afd6c50e8\", \"reddit.csv\", 6761551)"
            ],
            "text/plain": [
              "<IPython.core.display.Javascript object>"
            ]
          },
          "metadata": {
            "tags": []
          }
        }
      ]
    },
    {
      "cell_type": "code",
      "metadata": {
        "colab": {
          "base_uri": "https://localhost:8080/",
          "height": 35
        },
        "id": "0aJmctBkYbkO",
        "outputId": "2a6e6ddf-cfe1-43b6-f10e-efaa180e08cc"
      },
      "source": [
        "df[\"sentiment\"].iloc[0].value"
      ],
      "execution_count": 32,
      "outputs": [
        {
          "output_type": "execute_result",
          "data": {
            "application/vnd.google.colaboratory.intrinsic+json": {
              "type": "string"
            },
            "text/plain": [
              "'NEGATIVE'"
            ]
          },
          "metadata": {
            "tags": []
          },
          "execution_count": 32
        }
      ]
    },
    {
      "cell_type": "code",
      "metadata": {
        "id": "QUuNdPdfQy_1"
      },
      "source": [
        "# we now want to try to find the what the setiment is for each of the labels\n",
        "\n",
        "sentiment = {}\n",
        "# making a couner to\n",
        "# see how many a few of the \n",
        "# rows\n",
        "myCounter = 0\n",
        "# doing the looping of the dataframe\n",
        "for row in df.itertuples():\n",
        "  \n",
        "  org_list = row[10] # this is the org column -- a list\n",
        "  sent = row[11]  # this is the sentiment column -- this is a flair.Sentence label\n",
        "  pos_neg = sent.value\n",
        "  score = sent.score\n",
        "  \n",
        "  # doing the looping of the orgs in the list\n",
        "  for org in org_list:\n",
        "    if org not in sentiment:\n",
        "      sentiment[org] = {\"POSITIVE\": [], \"NEGATIVE\": []}\n",
        "    # doing the adding of the values\n",
        "    sentiment[org][pos_neg].append(score)\n",
        "   \n",
        "  "
      ],
      "execution_count": 33,
      "outputs": []
    },
    {
      "cell_type": "code",
      "metadata": {
        "colab": {
          "base_uri": "https://localhost:8080/"
        },
        "id": "BgUgyIcNVaiY",
        "outputId": "20de9695-2004-47e9-c641-e3766fe4147e"
      },
      "source": [
        "sentiment[\"ARK\"]"
      ],
      "execution_count": 35,
      "outputs": [
        {
          "output_type": "execute_result",
          "data": {
            "text/plain": [
              "{'NEGATIVE': [],\n",
              " 'POSITIVE': [0.89322829246521,\n",
              "  0.9906964302062988,\n",
              "  0.9274241328239441,\n",
              "  0.89322829246521,\n",
              "  0.9906964302062988,\n",
              "  0.9274241328239441,\n",
              "  0.89322829246521,\n",
              "  0.9906964302062988,\n",
              "  0.9274241328239441,\n",
              "  0.89322829246521,\n",
              "  0.9906964302062988,\n",
              "  0.9274241328239441,\n",
              "  0.89322829246521]}"
            ]
          },
          "metadata": {
            "tags": []
          },
          "execution_count": 35
        }
      ]
    },
    {
      "cell_type": "code",
      "metadata": {
        "colab": {
          "base_uri": "https://localhost:8080/"
        },
        "id": "PoRnRM9AiK0q",
        "outputId": "386a858a-f026-4413-ad1f-eee89d460dae"
      },
      "source": [
        "theList = []\n",
        "sum(theList)"
      ],
      "execution_count": 37,
      "outputs": [
        {
          "output_type": "execute_result",
          "data": {
            "text/plain": [
              "0"
            ]
          },
          "metadata": {
            "tags": []
          },
          "execution_count": 37
        }
      ]
    },
    {
      "cell_type": "code",
      "metadata": {
        "id": "d085GYOZcLIx"
      },
      "source": [
        "# going to make a dictionary that will contain each of the entities and \n",
        "# the total average score \n",
        "# the average of positive for each of the entities\n",
        "# the average of the negative score for each of the entities\n",
        "# the total number of positive and negative scores that are present for an entity\n",
        "\n",
        "# making a list of the dictionaries\n",
        "avg_ent = []\n",
        "for org in sentiment.keys():\n",
        "  \n",
        "  # GETTING THE POSITIVE AND THE NEGATIVE FEQUENCIES\n",
        "  pos_freq = len(sentiment[org][\"POSITIVE\"])\n",
        "  neg_freq = len(sentiment[org][\"NEGATIVE\"])\n",
        "  total_freq = pos_freq + neg_freq\n",
        "  \n",
        "  # finding the score for each of the positive and the negative\n",
        "  score_pos = sum(sentiment[org][\"POSITIVE\"])\n",
        "  score_neg = sum(sentiment[org][\"NEGATIVE\"])\n",
        "\n",
        "  # getting the total score\n",
        "  total =  score_pos - score_neg\n",
        "  # checking for zero frequencies\n",
        "  if pos_freq == 0:\n",
        "    pos_avg = None\n",
        "  else:\n",
        "    pos_avg = score_pos/pos_freq\n",
        "  if neg_freq == 0:\n",
        "    neg_avg = None\n",
        "  else:\n",
        "    neg_avg = score_neg/neg_freq\n",
        "  if total_freq == 0:\n",
        "    avg = None\n",
        "  else:\n",
        "    avg = total/total_freq\n",
        "  # adding all to the dictionary\n",
        "  avg_ent.append(\n",
        "\n",
        "          {\n",
        "              \"org\": org,\n",
        "              \"frequency\": total_freq,\n",
        "              \"avg\": avg,\n",
        "              \"negative\": neg_avg,\n",
        "              \"positive\": pos_avg,\n",
        "\n",
        "\n",
        "          }\n",
        "\n",
        "  )\n"
      ],
      "execution_count": 39,
      "outputs": []
    },
    {
      "cell_type": "code",
      "metadata": {
        "colab": {
          "base_uri": "https://localhost:8080/"
        },
        "id": "b0sW_56Ohefi",
        "outputId": "ee23c31e-9e89-4249-dca8-747bddcc4ad2"
      },
      "source": [
        "len(avg_ent)"
      ],
      "execution_count": 40,
      "outputs": [
        {
          "output_type": "execute_result",
          "data": {
            "text/plain": [
              "1758"
            ]
          },
          "metadata": {
            "tags": []
          },
          "execution_count": 40
        }
      ]
    },
    {
      "cell_type": "code",
      "metadata": {
        "id": "11JwVMaTmSdk"
      },
      "source": [
        "# making a dataframe \n",
        "sentiment_df = pd.DataFrame(avg_ent)"
      ],
      "execution_count": 41,
      "outputs": []
    },
    {
      "cell_type": "code",
      "metadata": {
        "colab": {
          "base_uri": "https://localhost:8080/",
          "height": 204
        },
        "id": "KEH4Xrr3m0SU",
        "outputId": "6b1358c3-9f13-42d2-d7b1-7b8f8571e184"
      },
      "source": [
        "sentiment_df.head()"
      ],
      "execution_count": 42,
      "outputs": [
        {
          "output_type": "execute_result",
          "data": {
            "text/html": [
              "<div>\n",
              "<style scoped>\n",
              "    .dataframe tbody tr th:only-of-type {\n",
              "        vertical-align: middle;\n",
              "    }\n",
              "\n",
              "    .dataframe tbody tr th {\n",
              "        vertical-align: top;\n",
              "    }\n",
              "\n",
              "    .dataframe thead th {\n",
              "        text-align: right;\n",
              "    }\n",
              "</style>\n",
              "<table border=\"1\" class=\"dataframe\">\n",
              "  <thead>\n",
              "    <tr style=\"text-align: right;\">\n",
              "      <th></th>\n",
              "      <th>org</th>\n",
              "      <th>frequency</th>\n",
              "      <th>avg</th>\n",
              "      <th>negative</th>\n",
              "      <th>positive</th>\n",
              "    </tr>\n",
              "  </thead>\n",
              "  <tbody>\n",
              "    <tr>\n",
              "      <th>0</th>\n",
              "      <td>ETH</td>\n",
              "      <td>5</td>\n",
              "      <td>-0.998164</td>\n",
              "      <td>0.998164</td>\n",
              "      <td>NaN</td>\n",
              "    </tr>\n",
              "    <tr>\n",
              "      <th>1</th>\n",
              "      <td>Target</td>\n",
              "      <td>5</td>\n",
              "      <td>-0.998164</td>\n",
              "      <td>0.998164</td>\n",
              "      <td>NaN</td>\n",
              "    </tr>\n",
              "    <tr>\n",
              "      <th>2</th>\n",
              "      <td>BTC</td>\n",
              "      <td>14</td>\n",
              "      <td>-0.427893</td>\n",
              "      <td>0.995329</td>\n",
              "      <td>0.990696</td>\n",
              "    </tr>\n",
              "    <tr>\n",
              "      <th>3</th>\n",
              "      <td>FGI</td>\n",
              "      <td>5</td>\n",
              "      <td>-0.993744</td>\n",
              "      <td>0.993744</td>\n",
              "      <td>NaN</td>\n",
              "    </tr>\n",
              "    <tr>\n",
              "      <th>4</th>\n",
              "      <td>CNN Money</td>\n",
              "      <td>5</td>\n",
              "      <td>-0.993744</td>\n",
              "      <td>0.993744</td>\n",
              "      <td>NaN</td>\n",
              "    </tr>\n",
              "  </tbody>\n",
              "</table>\n",
              "</div>"
            ],
            "text/plain": [
              "         org  frequency       avg  negative  positive\n",
              "0        ETH          5 -0.998164  0.998164       NaN\n",
              "1     Target          5 -0.998164  0.998164       NaN\n",
              "2        BTC         14 -0.427893  0.995329  0.990696\n",
              "3        FGI          5 -0.993744  0.993744       NaN\n",
              "4  CNN Money          5 -0.993744  0.993744       NaN"
            ]
          },
          "metadata": {
            "tags": []
          },
          "execution_count": 42
        }
      ]
    },
    {
      "cell_type": "code",
      "metadata": {
        "id": "rVZPdhEDm2uk"
      },
      "source": [
        "# saving the dataframe\n",
        "sentiment_df.to_csv(\"sentiment_full.csv\", sep=\"|\", index=False)"
      ],
      "execution_count": 43,
      "outputs": []
    },
    {
      "cell_type": "code",
      "metadata": {
        "id": "8wiBZqnGoDdT"
      },
      "source": [
        "# removing the rows where the frequency is less than 3\n",
        "sentiment_df = sentiment_df[sentiment_df['frequency'] > 3]"
      ],
      "execution_count": 44,
      "outputs": []
    },
    {
      "cell_type": "code",
      "metadata": {
        "colab": {
          "base_uri": "https://localhost:8080/",
          "height": 204
        },
        "id": "YYqfKwuXoiML",
        "outputId": "28a0f406-7f62-48f7-9d99-4ab1129c106e"
      },
      "source": [
        "sentiment_df.head()"
      ],
      "execution_count": 45,
      "outputs": [
        {
          "output_type": "execute_result",
          "data": {
            "text/html": [
              "<div>\n",
              "<style scoped>\n",
              "    .dataframe tbody tr th:only-of-type {\n",
              "        vertical-align: middle;\n",
              "    }\n",
              "\n",
              "    .dataframe tbody tr th {\n",
              "        vertical-align: top;\n",
              "    }\n",
              "\n",
              "    .dataframe thead th {\n",
              "        text-align: right;\n",
              "    }\n",
              "</style>\n",
              "<table border=\"1\" class=\"dataframe\">\n",
              "  <thead>\n",
              "    <tr style=\"text-align: right;\">\n",
              "      <th></th>\n",
              "      <th>org</th>\n",
              "      <th>frequency</th>\n",
              "      <th>avg</th>\n",
              "      <th>negative</th>\n",
              "      <th>positive</th>\n",
              "    </tr>\n",
              "  </thead>\n",
              "  <tbody>\n",
              "    <tr>\n",
              "      <th>0</th>\n",
              "      <td>ETH</td>\n",
              "      <td>5</td>\n",
              "      <td>-0.998164</td>\n",
              "      <td>0.998164</td>\n",
              "      <td>NaN</td>\n",
              "    </tr>\n",
              "    <tr>\n",
              "      <th>1</th>\n",
              "      <td>Target</td>\n",
              "      <td>5</td>\n",
              "      <td>-0.998164</td>\n",
              "      <td>0.998164</td>\n",
              "      <td>NaN</td>\n",
              "    </tr>\n",
              "    <tr>\n",
              "      <th>2</th>\n",
              "      <td>BTC</td>\n",
              "      <td>14</td>\n",
              "      <td>-0.427893</td>\n",
              "      <td>0.995329</td>\n",
              "      <td>0.990696</td>\n",
              "    </tr>\n",
              "    <tr>\n",
              "      <th>3</th>\n",
              "      <td>FGI</td>\n",
              "      <td>5</td>\n",
              "      <td>-0.993744</td>\n",
              "      <td>0.993744</td>\n",
              "      <td>NaN</td>\n",
              "    </tr>\n",
              "    <tr>\n",
              "      <th>4</th>\n",
              "      <td>CNN Money</td>\n",
              "      <td>5</td>\n",
              "      <td>-0.993744</td>\n",
              "      <td>0.993744</td>\n",
              "      <td>NaN</td>\n",
              "    </tr>\n",
              "  </tbody>\n",
              "</table>\n",
              "</div>"
            ],
            "text/plain": [
              "         org  frequency       avg  negative  positive\n",
              "0        ETH          5 -0.998164  0.998164       NaN\n",
              "1     Target          5 -0.998164  0.998164       NaN\n",
              "2        BTC         14 -0.427893  0.995329  0.990696\n",
              "3        FGI          5 -0.993744  0.993744       NaN\n",
              "4  CNN Money          5 -0.993744  0.993744       NaN"
            ]
          },
          "metadata": {
            "tags": []
          },
          "execution_count": 45
        }
      ]
    },
    {
      "cell_type": "code",
      "metadata": {
        "colab": {
          "base_uri": "https://localhost:8080/",
          "height": 204
        },
        "id": "SEI0iIaVokUa",
        "outputId": "bed87ac8-562e-4b08-b147-fa6dba1014b6"
      },
      "source": [
        "sentiment_df.sort_values(\"avg\", ascending=False).head()"
      ],
      "execution_count": 46,
      "outputs": [
        {
          "output_type": "execute_result",
          "data": {
            "text/html": [
              "<div>\n",
              "<style scoped>\n",
              "    .dataframe tbody tr th:only-of-type {\n",
              "        vertical-align: middle;\n",
              "    }\n",
              "\n",
              "    .dataframe tbody tr th {\n",
              "        vertical-align: top;\n",
              "    }\n",
              "\n",
              "    .dataframe thead th {\n",
              "        text-align: right;\n",
              "    }\n",
              "</style>\n",
              "<table border=\"1\" class=\"dataframe\">\n",
              "  <thead>\n",
              "    <tr style=\"text-align: right;\">\n",
              "      <th></th>\n",
              "      <th>org</th>\n",
              "      <th>frequency</th>\n",
              "      <th>avg</th>\n",
              "      <th>negative</th>\n",
              "      <th>positive</th>\n",
              "    </tr>\n",
              "  </thead>\n",
              "  <tbody>\n",
              "    <tr>\n",
              "      <th>129</th>\n",
              "      <td>Roku,</td>\n",
              "      <td>5</td>\n",
              "      <td>0.999457</td>\n",
              "      <td>NaN</td>\n",
              "      <td>0.999457</td>\n",
              "    </tr>\n",
              "    <tr>\n",
              "      <th>128</th>\n",
              "      <td>delivered](https://image.roku.com/c3VwcG9ydC1B...</td>\n",
              "      <td>5</td>\n",
              "      <td>0.999457</td>\n",
              "      <td>NaN</td>\n",
              "      <td>0.999457</td>\n",
              "    </tr>\n",
              "    <tr>\n",
              "      <th>1094</th>\n",
              "      <td>Collective Mining</td>\n",
              "      <td>5</td>\n",
              "      <td>0.999451</td>\n",
              "      <td>NaN</td>\n",
              "      <td>0.999451</td>\n",
              "    </tr>\n",
              "    <tr>\n",
              "      <th>1727</th>\n",
              "      <td>DIVO</td>\n",
              "      <td>4</td>\n",
              "      <td>0.999420</td>\n",
              "      <td>NaN</td>\n",
              "      <td>0.999420</td>\n",
              "    </tr>\n",
              "    <tr>\n",
              "      <th>1726</th>\n",
              "      <td>RYLD</td>\n",
              "      <td>4</td>\n",
              "      <td>0.999420</td>\n",
              "      <td>NaN</td>\n",
              "      <td>0.999420</td>\n",
              "    </tr>\n",
              "  </tbody>\n",
              "</table>\n",
              "</div>"
            ],
            "text/plain": [
              "                                                    org  ...  positive\n",
              "129                                               Roku,  ...  0.999457\n",
              "128   delivered](https://image.roku.com/c3VwcG9ydC1B...  ...  0.999457\n",
              "1094                                  Collective Mining  ...  0.999451\n",
              "1727                                               DIVO  ...  0.999420\n",
              "1726                                               RYLD  ...  0.999420\n",
              "\n",
              "[5 rows x 5 columns]"
            ]
          },
          "metadata": {
            "tags": []
          },
          "execution_count": 46
        }
      ]
    },
    {
      "cell_type": "code",
      "metadata": {
        "colab": {
          "base_uri": "https://localhost:8080/",
          "height": 204
        },
        "id": "cwON4dk5o4-6",
        "outputId": "27166433-0279-4fb8-9ecb-8afec202bdc5"
      },
      "source": [
        "sentiment_df.sort_values(\"avg\", ascending=True).head()"
      ],
      "execution_count": 47,
      "outputs": [
        {
          "output_type": "execute_result",
          "data": {
            "text/html": [
              "<div>\n",
              "<style scoped>\n",
              "    .dataframe tbody tr th:only-of-type {\n",
              "        vertical-align: middle;\n",
              "    }\n",
              "\n",
              "    .dataframe tbody tr th {\n",
              "        vertical-align: top;\n",
              "    }\n",
              "\n",
              "    .dataframe thead th {\n",
              "        text-align: right;\n",
              "    }\n",
              "</style>\n",
              "<table border=\"1\" class=\"dataframe\">\n",
              "  <thead>\n",
              "    <tr style=\"text-align: right;\">\n",
              "      <th></th>\n",
              "      <th>org</th>\n",
              "      <th>frequency</th>\n",
              "      <th>avg</th>\n",
              "      <th>negative</th>\n",
              "      <th>positive</th>\n",
              "    </tr>\n",
              "  </thead>\n",
              "  <tbody>\n",
              "    <tr>\n",
              "      <th>183</th>\n",
              "      <td>ABBV</td>\n",
              "      <td>5</td>\n",
              "      <td>-0.999998</td>\n",
              "      <td>0.999998</td>\n",
              "      <td>NaN</td>\n",
              "    </tr>\n",
              "    <tr>\n",
              "      <th>280</th>\n",
              "      <td>EMB</td>\n",
              "      <td>5</td>\n",
              "      <td>-0.999996</td>\n",
              "      <td>0.999996</td>\n",
              "      <td>NaN</td>\n",
              "    </tr>\n",
              "    <tr>\n",
              "      <th>130</th>\n",
              "      <td>Vanguard LifeStrategy Growth Fund Investor</td>\n",
              "      <td>5</td>\n",
              "      <td>-0.999995</td>\n",
              "      <td>0.999995</td>\n",
              "      <td>NaN</td>\n",
              "    </tr>\n",
              "    <tr>\n",
              "      <th>81</th>\n",
              "      <td>MRNA</td>\n",
              "      <td>5</td>\n",
              "      <td>-0.999995</td>\n",
              "      <td>0.999995</td>\n",
              "      <td>NaN</td>\n",
              "    </tr>\n",
              "    <tr>\n",
              "      <th>82</th>\n",
              "      <td>Pfizer</td>\n",
              "      <td>5</td>\n",
              "      <td>-0.999995</td>\n",
              "      <td>0.999995</td>\n",
              "      <td>NaN</td>\n",
              "    </tr>\n",
              "  </tbody>\n",
              "</table>\n",
              "</div>"
            ],
            "text/plain": [
              "                                            org  frequency  ...  negative  positive\n",
              "183                                        ABBV          5  ...  0.999998       NaN\n",
              "280                                         EMB          5  ...  0.999996       NaN\n",
              "130  Vanguard LifeStrategy Growth Fund Investor          5  ...  0.999995       NaN\n",
              "81                                         MRNA          5  ...  0.999995       NaN\n",
              "82                                       Pfizer          5  ...  0.999995       NaN\n",
              "\n",
              "[5 rows x 5 columns]"
            ]
          },
          "metadata": {
            "tags": []
          },
          "execution_count": 47
        }
      ]
    },
    {
      "cell_type": "code",
      "metadata": {
        "id": "x51yN4kEpJJq"
      },
      "source": [
        "# saving the sentiment dataframe\n",
        "sentiment_df.to_csv(\"sentiment.csv\", sep=\"|\", index=False)"
      ],
      "execution_count": 48,
      "outputs": []
    },
    {
      "cell_type": "code",
      "metadata": {
        "id": "kyqI6AaUpk6R"
      },
      "source": [
        ""
      ],
      "execution_count": null,
      "outputs": []
    }
  ]
}