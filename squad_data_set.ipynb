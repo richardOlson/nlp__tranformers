{
  "nbformat": 4,
  "nbformat_minor": 0,
  "metadata": {
    "colab": {
      "name": "squad_data_set.ipynb",
      "provenance": [],
      "authorship_tag": "ABX9TyPaITjx97uaG05xwiiu5VwD",
      "include_colab_link": true
    },
    "kernelspec": {
      "name": "python3",
      "display_name": "Python 3"
    },
    "language_info": {
      "name": "python"
    },
    "widgets": {
      "application/vnd.jupyter.widget-state+json": {
        "c4e5640c517c443da3ceb76eb49de7c8": {
          "model_module": "@jupyter-widgets/controls",
          "model_name": "HBoxModel",
          "model_module_version": "1.5.0",
          "state": {
            "_view_name": "HBoxView",
            "_dom_classes": [],
            "_model_name": "HBoxModel",
            "_view_module": "@jupyter-widgets/controls",
            "_model_module_version": "1.5.0",
            "_view_count": null,
            "_view_module_version": "1.5.0",
            "box_style": "",
            "layout": "IPY_MODEL_98b574a1ded440978c717cc7c35dc78d",
            "_model_module": "@jupyter-widgets/controls",
            "children": [
              "IPY_MODEL_76e976efc9ae4d678d13918d651cd89d",
              "IPY_MODEL_5fc759e5c73143ae94f80649e28968f4",
              "IPY_MODEL_80484f82f7ef4162b4522aa746950f92"
            ]
          }
        },
        "98b574a1ded440978c717cc7c35dc78d": {
          "model_module": "@jupyter-widgets/base",
          "model_name": "LayoutModel",
          "model_module_version": "1.2.0",
          "state": {
            "_view_name": "LayoutView",
            "grid_template_rows": null,
            "right": null,
            "justify_content": null,
            "_view_module": "@jupyter-widgets/base",
            "overflow": null,
            "_model_module_version": "1.2.0",
            "_view_count": null,
            "flex_flow": null,
            "width": null,
            "min_width": null,
            "border": null,
            "align_items": null,
            "bottom": null,
            "_model_module": "@jupyter-widgets/base",
            "top": null,
            "grid_column": null,
            "overflow_y": null,
            "overflow_x": null,
            "grid_auto_flow": null,
            "grid_area": null,
            "grid_template_columns": null,
            "flex": null,
            "_model_name": "LayoutModel",
            "justify_items": null,
            "grid_row": null,
            "max_height": null,
            "align_content": null,
            "visibility": null,
            "align_self": null,
            "height": null,
            "min_height": null,
            "padding": null,
            "grid_auto_rows": null,
            "grid_gap": null,
            "max_width": null,
            "order": null,
            "_view_module_version": "1.2.0",
            "grid_template_areas": null,
            "object_position": null,
            "object_fit": null,
            "grid_auto_columns": null,
            "margin": null,
            "display": null,
            "left": null
          }
        },
        "76e976efc9ae4d678d13918d651cd89d": {
          "model_module": "@jupyter-widgets/controls",
          "model_name": "HTMLModel",
          "model_module_version": "1.5.0",
          "state": {
            "_view_name": "HTMLView",
            "style": "IPY_MODEL_586e381cea5e4f329c48679933357fa9",
            "_dom_classes": [],
            "description": "",
            "_model_name": "HTMLModel",
            "placeholder": "​",
            "_view_module": "@jupyter-widgets/controls",
            "_model_module_version": "1.5.0",
            "value": "Downloading: 100%",
            "_view_count": null,
            "_view_module_version": "1.5.0",
            "description_tooltip": null,
            "_model_module": "@jupyter-widgets/controls",
            "layout": "IPY_MODEL_0ffdc07a8d1840c6a357b0ba6f65ffca"
          }
        },
        "5fc759e5c73143ae94f80649e28968f4": {
          "model_module": "@jupyter-widgets/controls",
          "model_name": "FloatProgressModel",
          "model_module_version": "1.5.0",
          "state": {
            "_view_name": "ProgressView",
            "style": "IPY_MODEL_317fe5086b5c44b894e7c99401410423",
            "_dom_classes": [],
            "description": "",
            "_model_name": "FloatProgressModel",
            "bar_style": "success",
            "max": 508,
            "_view_module": "@jupyter-widgets/controls",
            "_model_module_version": "1.5.0",
            "value": 508,
            "_view_count": null,
            "_view_module_version": "1.5.0",
            "orientation": "horizontal",
            "min": 0,
            "description_tooltip": null,
            "_model_module": "@jupyter-widgets/controls",
            "layout": "IPY_MODEL_f91c483c23dd40909e39cc5bbfe241c7"
          }
        },
        "80484f82f7ef4162b4522aa746950f92": {
          "model_module": "@jupyter-widgets/controls",
          "model_name": "HTMLModel",
          "model_module_version": "1.5.0",
          "state": {
            "_view_name": "HTMLView",
            "style": "IPY_MODEL_5c453fd0e4ef4a29b9a58626a0b86e2d",
            "_dom_classes": [],
            "description": "",
            "_model_name": "HTMLModel",
            "placeholder": "​",
            "_view_module": "@jupyter-widgets/controls",
            "_model_module_version": "1.5.0",
            "value": " 508/508 [00:00&lt;00:00, 6.50kB/s]",
            "_view_count": null,
            "_view_module_version": "1.5.0",
            "description_tooltip": null,
            "_model_module": "@jupyter-widgets/controls",
            "layout": "IPY_MODEL_4179fefe340146ddb1ce8e11f2d43a61"
          }
        },
        "586e381cea5e4f329c48679933357fa9": {
          "model_module": "@jupyter-widgets/controls",
          "model_name": "DescriptionStyleModel",
          "model_module_version": "1.5.0",
          "state": {
            "_view_name": "StyleView",
            "_model_name": "DescriptionStyleModel",
            "description_width": "",
            "_view_module": "@jupyter-widgets/base",
            "_model_module_version": "1.5.0",
            "_view_count": null,
            "_view_module_version": "1.2.0",
            "_model_module": "@jupyter-widgets/controls"
          }
        },
        "0ffdc07a8d1840c6a357b0ba6f65ffca": {
          "model_module": "@jupyter-widgets/base",
          "model_name": "LayoutModel",
          "model_module_version": "1.2.0",
          "state": {
            "_view_name": "LayoutView",
            "grid_template_rows": null,
            "right": null,
            "justify_content": null,
            "_view_module": "@jupyter-widgets/base",
            "overflow": null,
            "_model_module_version": "1.2.0",
            "_view_count": null,
            "flex_flow": null,
            "width": null,
            "min_width": null,
            "border": null,
            "align_items": null,
            "bottom": null,
            "_model_module": "@jupyter-widgets/base",
            "top": null,
            "grid_column": null,
            "overflow_y": null,
            "overflow_x": null,
            "grid_auto_flow": null,
            "grid_area": null,
            "grid_template_columns": null,
            "flex": null,
            "_model_name": "LayoutModel",
            "justify_items": null,
            "grid_row": null,
            "max_height": null,
            "align_content": null,
            "visibility": null,
            "align_self": null,
            "height": null,
            "min_height": null,
            "padding": null,
            "grid_auto_rows": null,
            "grid_gap": null,
            "max_width": null,
            "order": null,
            "_view_module_version": "1.2.0",
            "grid_template_areas": null,
            "object_position": null,
            "object_fit": null,
            "grid_auto_columns": null,
            "margin": null,
            "display": null,
            "left": null
          }
        },
        "317fe5086b5c44b894e7c99401410423": {
          "model_module": "@jupyter-widgets/controls",
          "model_name": "ProgressStyleModel",
          "model_module_version": "1.5.0",
          "state": {
            "_view_name": "StyleView",
            "_model_name": "ProgressStyleModel",
            "description_width": "",
            "_view_module": "@jupyter-widgets/base",
            "_model_module_version": "1.5.0",
            "_view_count": null,
            "_view_module_version": "1.2.0",
            "bar_color": null,
            "_model_module": "@jupyter-widgets/controls"
          }
        },
        "f91c483c23dd40909e39cc5bbfe241c7": {
          "model_module": "@jupyter-widgets/base",
          "model_name": "LayoutModel",
          "model_module_version": "1.2.0",
          "state": {
            "_view_name": "LayoutView",
            "grid_template_rows": null,
            "right": null,
            "justify_content": null,
            "_view_module": "@jupyter-widgets/base",
            "overflow": null,
            "_model_module_version": "1.2.0",
            "_view_count": null,
            "flex_flow": null,
            "width": null,
            "min_width": null,
            "border": null,
            "align_items": null,
            "bottom": null,
            "_model_module": "@jupyter-widgets/base",
            "top": null,
            "grid_column": null,
            "overflow_y": null,
            "overflow_x": null,
            "grid_auto_flow": null,
            "grid_area": null,
            "grid_template_columns": null,
            "flex": null,
            "_model_name": "LayoutModel",
            "justify_items": null,
            "grid_row": null,
            "max_height": null,
            "align_content": null,
            "visibility": null,
            "align_self": null,
            "height": null,
            "min_height": null,
            "padding": null,
            "grid_auto_rows": null,
            "grid_gap": null,
            "max_width": null,
            "order": null,
            "_view_module_version": "1.2.0",
            "grid_template_areas": null,
            "object_position": null,
            "object_fit": null,
            "grid_auto_columns": null,
            "margin": null,
            "display": null,
            "left": null
          }
        },
        "5c453fd0e4ef4a29b9a58626a0b86e2d": {
          "model_module": "@jupyter-widgets/controls",
          "model_name": "DescriptionStyleModel",
          "model_module_version": "1.5.0",
          "state": {
            "_view_name": "StyleView",
            "_model_name": "DescriptionStyleModel",
            "description_width": "",
            "_view_module": "@jupyter-widgets/base",
            "_model_module_version": "1.5.0",
            "_view_count": null,
            "_view_module_version": "1.2.0",
            "_model_module": "@jupyter-widgets/controls"
          }
        },
        "4179fefe340146ddb1ce8e11f2d43a61": {
          "model_module": "@jupyter-widgets/base",
          "model_name": "LayoutModel",
          "model_module_version": "1.2.0",
          "state": {
            "_view_name": "LayoutView",
            "grid_template_rows": null,
            "right": null,
            "justify_content": null,
            "_view_module": "@jupyter-widgets/base",
            "overflow": null,
            "_model_module_version": "1.2.0",
            "_view_count": null,
            "flex_flow": null,
            "width": null,
            "min_width": null,
            "border": null,
            "align_items": null,
            "bottom": null,
            "_model_module": "@jupyter-widgets/base",
            "top": null,
            "grid_column": null,
            "overflow_y": null,
            "overflow_x": null,
            "grid_auto_flow": null,
            "grid_area": null,
            "grid_template_columns": null,
            "flex": null,
            "_model_name": "LayoutModel",
            "justify_items": null,
            "grid_row": null,
            "max_height": null,
            "align_content": null,
            "visibility": null,
            "align_self": null,
            "height": null,
            "min_height": null,
            "padding": null,
            "grid_auto_rows": null,
            "grid_gap": null,
            "max_width": null,
            "order": null,
            "_view_module_version": "1.2.0",
            "grid_template_areas": null,
            "object_position": null,
            "object_fit": null,
            "grid_auto_columns": null,
            "margin": null,
            "display": null,
            "left": null
          }
        },
        "8fa970e6430d4f5c9c7b5e9314b3e25c": {
          "model_module": "@jupyter-widgets/controls",
          "model_name": "HBoxModel",
          "model_module_version": "1.5.0",
          "state": {
            "_view_name": "HBoxView",
            "_dom_classes": [],
            "_model_name": "HBoxModel",
            "_view_module": "@jupyter-widgets/controls",
            "_model_module_version": "1.5.0",
            "_view_count": null,
            "_view_module_version": "1.5.0",
            "box_style": "",
            "layout": "IPY_MODEL_c2831eefd11e4e52a1d7aedc48afa392",
            "_model_module": "@jupyter-widgets/controls",
            "children": [
              "IPY_MODEL_d72b8cc6cbd64918ae86552c8a943ddb",
              "IPY_MODEL_89aefa75d3f14f4c828918f83432be64",
              "IPY_MODEL_c59632967b724a47bb8e667edeb9437c"
            ]
          }
        },
        "c2831eefd11e4e52a1d7aedc48afa392": {
          "model_module": "@jupyter-widgets/base",
          "model_name": "LayoutModel",
          "model_module_version": "1.2.0",
          "state": {
            "_view_name": "LayoutView",
            "grid_template_rows": null,
            "right": null,
            "justify_content": null,
            "_view_module": "@jupyter-widgets/base",
            "overflow": null,
            "_model_module_version": "1.2.0",
            "_view_count": null,
            "flex_flow": null,
            "width": null,
            "min_width": null,
            "border": null,
            "align_items": null,
            "bottom": null,
            "_model_module": "@jupyter-widgets/base",
            "top": null,
            "grid_column": null,
            "overflow_y": null,
            "overflow_x": null,
            "grid_auto_flow": null,
            "grid_area": null,
            "grid_template_columns": null,
            "flex": null,
            "_model_name": "LayoutModel",
            "justify_items": null,
            "grid_row": null,
            "max_height": null,
            "align_content": null,
            "visibility": null,
            "align_self": null,
            "height": null,
            "min_height": null,
            "padding": null,
            "grid_auto_rows": null,
            "grid_gap": null,
            "max_width": null,
            "order": null,
            "_view_module_version": "1.2.0",
            "grid_template_areas": null,
            "object_position": null,
            "object_fit": null,
            "grid_auto_columns": null,
            "margin": null,
            "display": null,
            "left": null
          }
        },
        "d72b8cc6cbd64918ae86552c8a943ddb": {
          "model_module": "@jupyter-widgets/controls",
          "model_name": "HTMLModel",
          "model_module_version": "1.5.0",
          "state": {
            "_view_name": "HTMLView",
            "style": "IPY_MODEL_1dc9f2a63dd34362ad3044a1c1fd8749",
            "_dom_classes": [],
            "description": "",
            "_model_name": "HTMLModel",
            "placeholder": "​",
            "_view_module": "@jupyter-widgets/controls",
            "_model_module_version": "1.5.0",
            "value": "Downloading: 100%",
            "_view_count": null,
            "_view_module_version": "1.5.0",
            "description_tooltip": null,
            "_model_module": "@jupyter-widgets/controls",
            "layout": "IPY_MODEL_9c30bf8560bf4a5dbf49c30ffc1b4373"
          }
        },
        "89aefa75d3f14f4c828918f83432be64": {
          "model_module": "@jupyter-widgets/controls",
          "model_name": "FloatProgressModel",
          "model_module_version": "1.5.0",
          "state": {
            "_view_name": "ProgressView",
            "style": "IPY_MODEL_2ac553618f0540529c333c2e906ad3db",
            "_dom_classes": [],
            "description": "",
            "_model_name": "FloatProgressModel",
            "bar_style": "success",
            "max": 433294681,
            "_view_module": "@jupyter-widgets/controls",
            "_model_module_version": "1.5.0",
            "value": 433294681,
            "_view_count": null,
            "_view_module_version": "1.5.0",
            "orientation": "horizontal",
            "min": 0,
            "description_tooltip": null,
            "_model_module": "@jupyter-widgets/controls",
            "layout": "IPY_MODEL_ccbacb9bef704c058372b609785c386f"
          }
        },
        "c59632967b724a47bb8e667edeb9437c": {
          "model_module": "@jupyter-widgets/controls",
          "model_name": "HTMLModel",
          "model_module_version": "1.5.0",
          "state": {
            "_view_name": "HTMLView",
            "style": "IPY_MODEL_8d9b05a039f546a1970c4b298b86d559",
            "_dom_classes": [],
            "description": "",
            "_model_name": "HTMLModel",
            "placeholder": "​",
            "_view_module": "@jupyter-widgets/controls",
            "_model_module_version": "1.5.0",
            "value": " 433M/433M [00:11&lt;00:00, 40.4MB/s]",
            "_view_count": null,
            "_view_module_version": "1.5.0",
            "description_tooltip": null,
            "_model_module": "@jupyter-widgets/controls",
            "layout": "IPY_MODEL_1248ae20b7284c9596a342cec0f63743"
          }
        },
        "1dc9f2a63dd34362ad3044a1c1fd8749": {
          "model_module": "@jupyter-widgets/controls",
          "model_name": "DescriptionStyleModel",
          "model_module_version": "1.5.0",
          "state": {
            "_view_name": "StyleView",
            "_model_name": "DescriptionStyleModel",
            "description_width": "",
            "_view_module": "@jupyter-widgets/base",
            "_model_module_version": "1.5.0",
            "_view_count": null,
            "_view_module_version": "1.2.0",
            "_model_module": "@jupyter-widgets/controls"
          }
        },
        "9c30bf8560bf4a5dbf49c30ffc1b4373": {
          "model_module": "@jupyter-widgets/base",
          "model_name": "LayoutModel",
          "model_module_version": "1.2.0",
          "state": {
            "_view_name": "LayoutView",
            "grid_template_rows": null,
            "right": null,
            "justify_content": null,
            "_view_module": "@jupyter-widgets/base",
            "overflow": null,
            "_model_module_version": "1.2.0",
            "_view_count": null,
            "flex_flow": null,
            "width": null,
            "min_width": null,
            "border": null,
            "align_items": null,
            "bottom": null,
            "_model_module": "@jupyter-widgets/base",
            "top": null,
            "grid_column": null,
            "overflow_y": null,
            "overflow_x": null,
            "grid_auto_flow": null,
            "grid_area": null,
            "grid_template_columns": null,
            "flex": null,
            "_model_name": "LayoutModel",
            "justify_items": null,
            "grid_row": null,
            "max_height": null,
            "align_content": null,
            "visibility": null,
            "align_self": null,
            "height": null,
            "min_height": null,
            "padding": null,
            "grid_auto_rows": null,
            "grid_gap": null,
            "max_width": null,
            "order": null,
            "_view_module_version": "1.2.0",
            "grid_template_areas": null,
            "object_position": null,
            "object_fit": null,
            "grid_auto_columns": null,
            "margin": null,
            "display": null,
            "left": null
          }
        },
        "2ac553618f0540529c333c2e906ad3db": {
          "model_module": "@jupyter-widgets/controls",
          "model_name": "ProgressStyleModel",
          "model_module_version": "1.5.0",
          "state": {
            "_view_name": "StyleView",
            "_model_name": "ProgressStyleModel",
            "description_width": "",
            "_view_module": "@jupyter-widgets/base",
            "_model_module_version": "1.5.0",
            "_view_count": null,
            "_view_module_version": "1.2.0",
            "bar_color": null,
            "_model_module": "@jupyter-widgets/controls"
          }
        },
        "ccbacb9bef704c058372b609785c386f": {
          "model_module": "@jupyter-widgets/base",
          "model_name": "LayoutModel",
          "model_module_version": "1.2.0",
          "state": {
            "_view_name": "LayoutView",
            "grid_template_rows": null,
            "right": null,
            "justify_content": null,
            "_view_module": "@jupyter-widgets/base",
            "overflow": null,
            "_model_module_version": "1.2.0",
            "_view_count": null,
            "flex_flow": null,
            "width": null,
            "min_width": null,
            "border": null,
            "align_items": null,
            "bottom": null,
            "_model_module": "@jupyter-widgets/base",
            "top": null,
            "grid_column": null,
            "overflow_y": null,
            "overflow_x": null,
            "grid_auto_flow": null,
            "grid_area": null,
            "grid_template_columns": null,
            "flex": null,
            "_model_name": "LayoutModel",
            "justify_items": null,
            "grid_row": null,
            "max_height": null,
            "align_content": null,
            "visibility": null,
            "align_self": null,
            "height": null,
            "min_height": null,
            "padding": null,
            "grid_auto_rows": null,
            "grid_gap": null,
            "max_width": null,
            "order": null,
            "_view_module_version": "1.2.0",
            "grid_template_areas": null,
            "object_position": null,
            "object_fit": null,
            "grid_auto_columns": null,
            "margin": null,
            "display": null,
            "left": null
          }
        },
        "8d9b05a039f546a1970c4b298b86d559": {
          "model_module": "@jupyter-widgets/controls",
          "model_name": "DescriptionStyleModel",
          "model_module_version": "1.5.0",
          "state": {
            "_view_name": "StyleView",
            "_model_name": "DescriptionStyleModel",
            "description_width": "",
            "_view_module": "@jupyter-widgets/base",
            "_model_module_version": "1.5.0",
            "_view_count": null,
            "_view_module_version": "1.2.0",
            "_model_module": "@jupyter-widgets/controls"
          }
        },
        "1248ae20b7284c9596a342cec0f63743": {
          "model_module": "@jupyter-widgets/base",
          "model_name": "LayoutModel",
          "model_module_version": "1.2.0",
          "state": {
            "_view_name": "LayoutView",
            "grid_template_rows": null,
            "right": null,
            "justify_content": null,
            "_view_module": "@jupyter-widgets/base",
            "overflow": null,
            "_model_module_version": "1.2.0",
            "_view_count": null,
            "flex_flow": null,
            "width": null,
            "min_width": null,
            "border": null,
            "align_items": null,
            "bottom": null,
            "_model_module": "@jupyter-widgets/base",
            "top": null,
            "grid_column": null,
            "overflow_y": null,
            "overflow_x": null,
            "grid_auto_flow": null,
            "grid_area": null,
            "grid_template_columns": null,
            "flex": null,
            "_model_name": "LayoutModel",
            "justify_items": null,
            "grid_row": null,
            "max_height": null,
            "align_content": null,
            "visibility": null,
            "align_self": null,
            "height": null,
            "min_height": null,
            "padding": null,
            "grid_auto_rows": null,
            "grid_gap": null,
            "max_width": null,
            "order": null,
            "_view_module_version": "1.2.0",
            "grid_template_areas": null,
            "object_position": null,
            "object_fit": null,
            "grid_auto_columns": null,
            "margin": null,
            "display": null,
            "left": null
          }
        },
        "43d2a1b5d295449bacab5ccdd5560b85": {
          "model_module": "@jupyter-widgets/controls",
          "model_name": "HBoxModel",
          "model_module_version": "1.5.0",
          "state": {
            "_view_name": "HBoxView",
            "_dom_classes": [],
            "_model_name": "HBoxModel",
            "_view_module": "@jupyter-widgets/controls",
            "_model_module_version": "1.5.0",
            "_view_count": null,
            "_view_module_version": "1.5.0",
            "box_style": "",
            "layout": "IPY_MODEL_d9c84a3f53214b17b452df146f4ee2f1",
            "_model_module": "@jupyter-widgets/controls",
            "children": [
              "IPY_MODEL_f9620e1e82f140e494f39ab096242722",
              "IPY_MODEL_dbcf61a779cc42bbad1be38fa7ec1dbd",
              "IPY_MODEL_39ded2b5f8f0430a90706d700779801e"
            ]
          }
        },
        "d9c84a3f53214b17b452df146f4ee2f1": {
          "model_module": "@jupyter-widgets/base",
          "model_name": "LayoutModel",
          "model_module_version": "1.2.0",
          "state": {
            "_view_name": "LayoutView",
            "grid_template_rows": null,
            "right": null,
            "justify_content": null,
            "_view_module": "@jupyter-widgets/base",
            "overflow": null,
            "_model_module_version": "1.2.0",
            "_view_count": null,
            "flex_flow": null,
            "width": null,
            "min_width": null,
            "border": null,
            "align_items": null,
            "bottom": null,
            "_model_module": "@jupyter-widgets/base",
            "top": null,
            "grid_column": null,
            "overflow_y": null,
            "overflow_x": null,
            "grid_auto_flow": null,
            "grid_area": null,
            "grid_template_columns": null,
            "flex": null,
            "_model_name": "LayoutModel",
            "justify_items": null,
            "grid_row": null,
            "max_height": null,
            "align_content": null,
            "visibility": null,
            "align_self": null,
            "height": null,
            "min_height": null,
            "padding": null,
            "grid_auto_rows": null,
            "grid_gap": null,
            "max_width": null,
            "order": null,
            "_view_module_version": "1.2.0",
            "grid_template_areas": null,
            "object_position": null,
            "object_fit": null,
            "grid_auto_columns": null,
            "margin": null,
            "display": null,
            "left": null
          }
        },
        "f9620e1e82f140e494f39ab096242722": {
          "model_module": "@jupyter-widgets/controls",
          "model_name": "HTMLModel",
          "model_module_version": "1.5.0",
          "state": {
            "_view_name": "HTMLView",
            "style": "IPY_MODEL_2deeb39af8cb43adadcad272d66b8f7b",
            "_dom_classes": [],
            "description": "",
            "_model_name": "HTMLModel",
            "placeholder": "​",
            "_view_module": "@jupyter-widgets/controls",
            "_model_module_version": "1.5.0",
            "value": "Downloading: 100%",
            "_view_count": null,
            "_view_module_version": "1.5.0",
            "description_tooltip": null,
            "_model_module": "@jupyter-widgets/controls",
            "layout": "IPY_MODEL_8504289d47004db8974a9c2d0097f971"
          }
        },
        "dbcf61a779cc42bbad1be38fa7ec1dbd": {
          "model_module": "@jupyter-widgets/controls",
          "model_name": "FloatProgressModel",
          "model_module_version": "1.5.0",
          "state": {
            "_view_name": "ProgressView",
            "style": "IPY_MODEL_b36c4ee0e38a4ced8dfdffb0f79c44af",
            "_dom_classes": [],
            "description": "",
            "_model_name": "FloatProgressModel",
            "bar_style": "success",
            "max": 213450,
            "_view_module": "@jupyter-widgets/controls",
            "_model_module_version": "1.5.0",
            "value": 213450,
            "_view_count": null,
            "_view_module_version": "1.5.0",
            "orientation": "horizontal",
            "min": 0,
            "description_tooltip": null,
            "_model_module": "@jupyter-widgets/controls",
            "layout": "IPY_MODEL_81a2a5bf720f42058f6f1a61dde7405f"
          }
        },
        "39ded2b5f8f0430a90706d700779801e": {
          "model_module": "@jupyter-widgets/controls",
          "model_name": "HTMLModel",
          "model_module_version": "1.5.0",
          "state": {
            "_view_name": "HTMLView",
            "style": "IPY_MODEL_1651b40eda79450ea1334c6bda451b06",
            "_dom_classes": [],
            "description": "",
            "_model_name": "HTMLModel",
            "placeholder": "​",
            "_view_module": "@jupyter-widgets/controls",
            "_model_module_version": "1.5.0",
            "value": " 213k/213k [00:00&lt;00:00, 644kB/s]",
            "_view_count": null,
            "_view_module_version": "1.5.0",
            "description_tooltip": null,
            "_model_module": "@jupyter-widgets/controls",
            "layout": "IPY_MODEL_5242e80d04fe4622be7afb86fa06fda2"
          }
        },
        "2deeb39af8cb43adadcad272d66b8f7b": {
          "model_module": "@jupyter-widgets/controls",
          "model_name": "DescriptionStyleModel",
          "model_module_version": "1.5.0",
          "state": {
            "_view_name": "StyleView",
            "_model_name": "DescriptionStyleModel",
            "description_width": "",
            "_view_module": "@jupyter-widgets/base",
            "_model_module_version": "1.5.0",
            "_view_count": null,
            "_view_module_version": "1.2.0",
            "_model_module": "@jupyter-widgets/controls"
          }
        },
        "8504289d47004db8974a9c2d0097f971": {
          "model_module": "@jupyter-widgets/base",
          "model_name": "LayoutModel",
          "model_module_version": "1.2.0",
          "state": {
            "_view_name": "LayoutView",
            "grid_template_rows": null,
            "right": null,
            "justify_content": null,
            "_view_module": "@jupyter-widgets/base",
            "overflow": null,
            "_model_module_version": "1.2.0",
            "_view_count": null,
            "flex_flow": null,
            "width": null,
            "min_width": null,
            "border": null,
            "align_items": null,
            "bottom": null,
            "_model_module": "@jupyter-widgets/base",
            "top": null,
            "grid_column": null,
            "overflow_y": null,
            "overflow_x": null,
            "grid_auto_flow": null,
            "grid_area": null,
            "grid_template_columns": null,
            "flex": null,
            "_model_name": "LayoutModel",
            "justify_items": null,
            "grid_row": null,
            "max_height": null,
            "align_content": null,
            "visibility": null,
            "align_self": null,
            "height": null,
            "min_height": null,
            "padding": null,
            "grid_auto_rows": null,
            "grid_gap": null,
            "max_width": null,
            "order": null,
            "_view_module_version": "1.2.0",
            "grid_template_areas": null,
            "object_position": null,
            "object_fit": null,
            "grid_auto_columns": null,
            "margin": null,
            "display": null,
            "left": null
          }
        },
        "b36c4ee0e38a4ced8dfdffb0f79c44af": {
          "model_module": "@jupyter-widgets/controls",
          "model_name": "ProgressStyleModel",
          "model_module_version": "1.5.0",
          "state": {
            "_view_name": "StyleView",
            "_model_name": "ProgressStyleModel",
            "description_width": "",
            "_view_module": "@jupyter-widgets/base",
            "_model_module_version": "1.5.0",
            "_view_count": null,
            "_view_module_version": "1.2.0",
            "bar_color": null,
            "_model_module": "@jupyter-widgets/controls"
          }
        },
        "81a2a5bf720f42058f6f1a61dde7405f": {
          "model_module": "@jupyter-widgets/base",
          "model_name": "LayoutModel",
          "model_module_version": "1.2.0",
          "state": {
            "_view_name": "LayoutView",
            "grid_template_rows": null,
            "right": null,
            "justify_content": null,
            "_view_module": "@jupyter-widgets/base",
            "overflow": null,
            "_model_module_version": "1.2.0",
            "_view_count": null,
            "flex_flow": null,
            "width": null,
            "min_width": null,
            "border": null,
            "align_items": null,
            "bottom": null,
            "_model_module": "@jupyter-widgets/base",
            "top": null,
            "grid_column": null,
            "overflow_y": null,
            "overflow_x": null,
            "grid_auto_flow": null,
            "grid_area": null,
            "grid_template_columns": null,
            "flex": null,
            "_model_name": "LayoutModel",
            "justify_items": null,
            "grid_row": null,
            "max_height": null,
            "align_content": null,
            "visibility": null,
            "align_self": null,
            "height": null,
            "min_height": null,
            "padding": null,
            "grid_auto_rows": null,
            "grid_gap": null,
            "max_width": null,
            "order": null,
            "_view_module_version": "1.2.0",
            "grid_template_areas": null,
            "object_position": null,
            "object_fit": null,
            "grid_auto_columns": null,
            "margin": null,
            "display": null,
            "left": null
          }
        },
        "1651b40eda79450ea1334c6bda451b06": {
          "model_module": "@jupyter-widgets/controls",
          "model_name": "DescriptionStyleModel",
          "model_module_version": "1.5.0",
          "state": {
            "_view_name": "StyleView",
            "_model_name": "DescriptionStyleModel",
            "description_width": "",
            "_view_module": "@jupyter-widgets/base",
            "_model_module_version": "1.5.0",
            "_view_count": null,
            "_view_module_version": "1.2.0",
            "_model_module": "@jupyter-widgets/controls"
          }
        },
        "5242e80d04fe4622be7afb86fa06fda2": {
          "model_module": "@jupyter-widgets/base",
          "model_name": "LayoutModel",
          "model_module_version": "1.2.0",
          "state": {
            "_view_name": "LayoutView",
            "grid_template_rows": null,
            "right": null,
            "justify_content": null,
            "_view_module": "@jupyter-widgets/base",
            "overflow": null,
            "_model_module_version": "1.2.0",
            "_view_count": null,
            "flex_flow": null,
            "width": null,
            "min_width": null,
            "border": null,
            "align_items": null,
            "bottom": null,
            "_model_module": "@jupyter-widgets/base",
            "top": null,
            "grid_column": null,
            "overflow_y": null,
            "overflow_x": null,
            "grid_auto_flow": null,
            "grid_area": null,
            "grid_template_columns": null,
            "flex": null,
            "_model_name": "LayoutModel",
            "justify_items": null,
            "grid_row": null,
            "max_height": null,
            "align_content": null,
            "visibility": null,
            "align_self": null,
            "height": null,
            "min_height": null,
            "padding": null,
            "grid_auto_rows": null,
            "grid_gap": null,
            "max_width": null,
            "order": null,
            "_view_module_version": "1.2.0",
            "grid_template_areas": null,
            "object_position": null,
            "object_fit": null,
            "grid_auto_columns": null,
            "margin": null,
            "display": null,
            "left": null
          }
        },
        "787dce59256342ffa2673ed897c553eb": {
          "model_module": "@jupyter-widgets/controls",
          "model_name": "HBoxModel",
          "model_module_version": "1.5.0",
          "state": {
            "_view_name": "HBoxView",
            "_dom_classes": [],
            "_model_name": "HBoxModel",
            "_view_module": "@jupyter-widgets/controls",
            "_model_module_version": "1.5.0",
            "_view_count": null,
            "_view_module_version": "1.5.0",
            "box_style": "",
            "layout": "IPY_MODEL_6011c86b87af44159892c2c4f0705d5b",
            "_model_module": "@jupyter-widgets/controls",
            "children": [
              "IPY_MODEL_59d0aa0b430b4fa8a18c0420e35fb6ce",
              "IPY_MODEL_b8b878c693fa42d393551c7f17058e47",
              "IPY_MODEL_0957f12ab3834aef8da1776cc2a6c665"
            ]
          }
        },
        "6011c86b87af44159892c2c4f0705d5b": {
          "model_module": "@jupyter-widgets/base",
          "model_name": "LayoutModel",
          "model_module_version": "1.2.0",
          "state": {
            "_view_name": "LayoutView",
            "grid_template_rows": null,
            "right": null,
            "justify_content": null,
            "_view_module": "@jupyter-widgets/base",
            "overflow": null,
            "_model_module_version": "1.2.0",
            "_view_count": null,
            "flex_flow": null,
            "width": null,
            "min_width": null,
            "border": null,
            "align_items": null,
            "bottom": null,
            "_model_module": "@jupyter-widgets/base",
            "top": null,
            "grid_column": null,
            "overflow_y": null,
            "overflow_x": null,
            "grid_auto_flow": null,
            "grid_area": null,
            "grid_template_columns": null,
            "flex": null,
            "_model_name": "LayoutModel",
            "justify_items": null,
            "grid_row": null,
            "max_height": null,
            "align_content": null,
            "visibility": null,
            "align_self": null,
            "height": null,
            "min_height": null,
            "padding": null,
            "grid_auto_rows": null,
            "grid_gap": null,
            "max_width": null,
            "order": null,
            "_view_module_version": "1.2.0",
            "grid_template_areas": null,
            "object_position": null,
            "object_fit": null,
            "grid_auto_columns": null,
            "margin": null,
            "display": null,
            "left": null
          }
        },
        "59d0aa0b430b4fa8a18c0420e35fb6ce": {
          "model_module": "@jupyter-widgets/controls",
          "model_name": "HTMLModel",
          "model_module_version": "1.5.0",
          "state": {
            "_view_name": "HTMLView",
            "style": "IPY_MODEL_4e3f7efc0dc442bf8f439b5f15b6ca58",
            "_dom_classes": [],
            "description": "",
            "_model_name": "HTMLModel",
            "placeholder": "​",
            "_view_module": "@jupyter-widgets/controls",
            "_model_module_version": "1.5.0",
            "value": "Downloading: 100%",
            "_view_count": null,
            "_view_module_version": "1.5.0",
            "description_tooltip": null,
            "_model_module": "@jupyter-widgets/controls",
            "layout": "IPY_MODEL_8f34b48e83a944a48ea7f32d16318694"
          }
        },
        "b8b878c693fa42d393551c7f17058e47": {
          "model_module": "@jupyter-widgets/controls",
          "model_name": "FloatProgressModel",
          "model_module_version": "1.5.0",
          "state": {
            "_view_name": "ProgressView",
            "style": "IPY_MODEL_0f1216dbe2844b32a4e5f9dc86f3303b",
            "_dom_classes": [],
            "description": "",
            "_model_name": "FloatProgressModel",
            "bar_style": "success",
            "max": 112,
            "_view_module": "@jupyter-widgets/controls",
            "_model_module_version": "1.5.0",
            "value": 112,
            "_view_count": null,
            "_view_module_version": "1.5.0",
            "orientation": "horizontal",
            "min": 0,
            "description_tooltip": null,
            "_model_module": "@jupyter-widgets/controls",
            "layout": "IPY_MODEL_4151da2322d34f11baa27f2c46433abd"
          }
        },
        "0957f12ab3834aef8da1776cc2a6c665": {
          "model_module": "@jupyter-widgets/controls",
          "model_name": "HTMLModel",
          "model_module_version": "1.5.0",
          "state": {
            "_view_name": "HTMLView",
            "style": "IPY_MODEL_8206ff5d1b224a489973604665cc9128",
            "_dom_classes": [],
            "description": "",
            "_model_name": "HTMLModel",
            "placeholder": "​",
            "_view_module": "@jupyter-widgets/controls",
            "_model_module_version": "1.5.0",
            "value": " 112/112 [00:00&lt;00:00, 3.18kB/s]",
            "_view_count": null,
            "_view_module_version": "1.5.0",
            "description_tooltip": null,
            "_model_module": "@jupyter-widgets/controls",
            "layout": "IPY_MODEL_860ffba8d99e4d49bf8424f70425af2c"
          }
        },
        "4e3f7efc0dc442bf8f439b5f15b6ca58": {
          "model_module": "@jupyter-widgets/controls",
          "model_name": "DescriptionStyleModel",
          "model_module_version": "1.5.0",
          "state": {
            "_view_name": "StyleView",
            "_model_name": "DescriptionStyleModel",
            "description_width": "",
            "_view_module": "@jupyter-widgets/base",
            "_model_module_version": "1.5.0",
            "_view_count": null,
            "_view_module_version": "1.2.0",
            "_model_module": "@jupyter-widgets/controls"
          }
        },
        "8f34b48e83a944a48ea7f32d16318694": {
          "model_module": "@jupyter-widgets/base",
          "model_name": "LayoutModel",
          "model_module_version": "1.2.0",
          "state": {
            "_view_name": "LayoutView",
            "grid_template_rows": null,
            "right": null,
            "justify_content": null,
            "_view_module": "@jupyter-widgets/base",
            "overflow": null,
            "_model_module_version": "1.2.0",
            "_view_count": null,
            "flex_flow": null,
            "width": null,
            "min_width": null,
            "border": null,
            "align_items": null,
            "bottom": null,
            "_model_module": "@jupyter-widgets/base",
            "top": null,
            "grid_column": null,
            "overflow_y": null,
            "overflow_x": null,
            "grid_auto_flow": null,
            "grid_area": null,
            "grid_template_columns": null,
            "flex": null,
            "_model_name": "LayoutModel",
            "justify_items": null,
            "grid_row": null,
            "max_height": null,
            "align_content": null,
            "visibility": null,
            "align_self": null,
            "height": null,
            "min_height": null,
            "padding": null,
            "grid_auto_rows": null,
            "grid_gap": null,
            "max_width": null,
            "order": null,
            "_view_module_version": "1.2.0",
            "grid_template_areas": null,
            "object_position": null,
            "object_fit": null,
            "grid_auto_columns": null,
            "margin": null,
            "display": null,
            "left": null
          }
        },
        "0f1216dbe2844b32a4e5f9dc86f3303b": {
          "model_module": "@jupyter-widgets/controls",
          "model_name": "ProgressStyleModel",
          "model_module_version": "1.5.0",
          "state": {
            "_view_name": "StyleView",
            "_model_name": "ProgressStyleModel",
            "description_width": "",
            "_view_module": "@jupyter-widgets/base",
            "_model_module_version": "1.5.0",
            "_view_count": null,
            "_view_module_version": "1.2.0",
            "bar_color": null,
            "_model_module": "@jupyter-widgets/controls"
          }
        },
        "4151da2322d34f11baa27f2c46433abd": {
          "model_module": "@jupyter-widgets/base",
          "model_name": "LayoutModel",
          "model_module_version": "1.2.0",
          "state": {
            "_view_name": "LayoutView",
            "grid_template_rows": null,
            "right": null,
            "justify_content": null,
            "_view_module": "@jupyter-widgets/base",
            "overflow": null,
            "_model_module_version": "1.2.0",
            "_view_count": null,
            "flex_flow": null,
            "width": null,
            "min_width": null,
            "border": null,
            "align_items": null,
            "bottom": null,
            "_model_module": "@jupyter-widgets/base",
            "top": null,
            "grid_column": null,
            "overflow_y": null,
            "overflow_x": null,
            "grid_auto_flow": null,
            "grid_area": null,
            "grid_template_columns": null,
            "flex": null,
            "_model_name": "LayoutModel",
            "justify_items": null,
            "grid_row": null,
            "max_height": null,
            "align_content": null,
            "visibility": null,
            "align_self": null,
            "height": null,
            "min_height": null,
            "padding": null,
            "grid_auto_rows": null,
            "grid_gap": null,
            "max_width": null,
            "order": null,
            "_view_module_version": "1.2.0",
            "grid_template_areas": null,
            "object_position": null,
            "object_fit": null,
            "grid_auto_columns": null,
            "margin": null,
            "display": null,
            "left": null
          }
        },
        "8206ff5d1b224a489973604665cc9128": {
          "model_module": "@jupyter-widgets/controls",
          "model_name": "DescriptionStyleModel",
          "model_module_version": "1.5.0",
          "state": {
            "_view_name": "StyleView",
            "_model_name": "DescriptionStyleModel",
            "description_width": "",
            "_view_module": "@jupyter-widgets/base",
            "_model_module_version": "1.5.0",
            "_view_count": null,
            "_view_module_version": "1.2.0",
            "_model_module": "@jupyter-widgets/controls"
          }
        },
        "860ffba8d99e4d49bf8424f70425af2c": {
          "model_module": "@jupyter-widgets/base",
          "model_name": "LayoutModel",
          "model_module_version": "1.2.0",
          "state": {
            "_view_name": "LayoutView",
            "grid_template_rows": null,
            "right": null,
            "justify_content": null,
            "_view_module": "@jupyter-widgets/base",
            "overflow": null,
            "_model_module_version": "1.2.0",
            "_view_count": null,
            "flex_flow": null,
            "width": null,
            "min_width": null,
            "border": null,
            "align_items": null,
            "bottom": null,
            "_model_module": "@jupyter-widgets/base",
            "top": null,
            "grid_column": null,
            "overflow_y": null,
            "overflow_x": null,
            "grid_auto_flow": null,
            "grid_area": null,
            "grid_template_columns": null,
            "flex": null,
            "_model_name": "LayoutModel",
            "justify_items": null,
            "grid_row": null,
            "max_height": null,
            "align_content": null,
            "visibility": null,
            "align_self": null,
            "height": null,
            "min_height": null,
            "padding": null,
            "grid_auto_rows": null,
            "grid_gap": null,
            "max_width": null,
            "order": null,
            "_view_module_version": "1.2.0",
            "grid_template_areas": null,
            "object_position": null,
            "object_fit": null,
            "grid_auto_columns": null,
            "margin": null,
            "display": null,
            "left": null
          }
        },
        "de35601de65d405d978855c50f19469f": {
          "model_module": "@jupyter-widgets/controls",
          "model_name": "HBoxModel",
          "model_module_version": "1.5.0",
          "state": {
            "_view_name": "HBoxView",
            "_dom_classes": [],
            "_model_name": "HBoxModel",
            "_view_module": "@jupyter-widgets/controls",
            "_model_module_version": "1.5.0",
            "_view_count": null,
            "_view_module_version": "1.5.0",
            "box_style": "",
            "layout": "IPY_MODEL_5a514685ca264957ae003bb850d7157b",
            "_model_module": "@jupyter-widgets/controls",
            "children": [
              "IPY_MODEL_4a279d6e7d574fbbb079265d73ed37d6",
              "IPY_MODEL_0efb589101df43ba92392c2a8b6150b3",
              "IPY_MODEL_859258ad54a741a3a385f45645c5ade6"
            ]
          }
        },
        "5a514685ca264957ae003bb850d7157b": {
          "model_module": "@jupyter-widgets/base",
          "model_name": "LayoutModel",
          "model_module_version": "1.2.0",
          "state": {
            "_view_name": "LayoutView",
            "grid_template_rows": null,
            "right": null,
            "justify_content": null,
            "_view_module": "@jupyter-widgets/base",
            "overflow": null,
            "_model_module_version": "1.2.0",
            "_view_count": null,
            "flex_flow": null,
            "width": null,
            "min_width": null,
            "border": null,
            "align_items": null,
            "bottom": null,
            "_model_module": "@jupyter-widgets/base",
            "top": null,
            "grid_column": null,
            "overflow_y": null,
            "overflow_x": null,
            "grid_auto_flow": null,
            "grid_area": null,
            "grid_template_columns": null,
            "flex": null,
            "_model_name": "LayoutModel",
            "justify_items": null,
            "grid_row": null,
            "max_height": null,
            "align_content": null,
            "visibility": null,
            "align_self": null,
            "height": null,
            "min_height": null,
            "padding": null,
            "grid_auto_rows": null,
            "grid_gap": null,
            "max_width": null,
            "order": null,
            "_view_module_version": "1.2.0",
            "grid_template_areas": null,
            "object_position": null,
            "object_fit": null,
            "grid_auto_columns": null,
            "margin": null,
            "display": null,
            "left": null
          }
        },
        "4a279d6e7d574fbbb079265d73ed37d6": {
          "model_module": "@jupyter-widgets/controls",
          "model_name": "HTMLModel",
          "model_module_version": "1.5.0",
          "state": {
            "_view_name": "HTMLView",
            "style": "IPY_MODEL_acda8259b0474149960b92e8a6df2e50",
            "_dom_classes": [],
            "description": "",
            "_model_name": "HTMLModel",
            "placeholder": "​",
            "_view_module": "@jupyter-widgets/controls",
            "_model_module_version": "1.5.0",
            "value": "Downloading: 100%",
            "_view_count": null,
            "_view_module_version": "1.5.0",
            "description_tooltip": null,
            "_model_module": "@jupyter-widgets/controls",
            "layout": "IPY_MODEL_84673f846dd2435d8fc1c0a5e5b4a09a"
          }
        },
        "0efb589101df43ba92392c2a8b6150b3": {
          "model_module": "@jupyter-widgets/controls",
          "model_name": "FloatProgressModel",
          "model_module_version": "1.5.0",
          "state": {
            "_view_name": "ProgressView",
            "style": "IPY_MODEL_e92070d9d3e748e5bac6181221c58fb4",
            "_dom_classes": [],
            "description": "",
            "_model_name": "FloatProgressModel",
            "bar_style": "success",
            "max": 152,
            "_view_module": "@jupyter-widgets/controls",
            "_model_module_version": "1.5.0",
            "value": 152,
            "_view_count": null,
            "_view_module_version": "1.5.0",
            "orientation": "horizontal",
            "min": 0,
            "description_tooltip": null,
            "_model_module": "@jupyter-widgets/controls",
            "layout": "IPY_MODEL_83d3142b27c54408ae8f14cbecf93274"
          }
        },
        "859258ad54a741a3a385f45645c5ade6": {
          "model_module": "@jupyter-widgets/controls",
          "model_name": "HTMLModel",
          "model_module_version": "1.5.0",
          "state": {
            "_view_name": "HTMLView",
            "style": "IPY_MODEL_78d9bbe010a54463a05e9f90332d71e9",
            "_dom_classes": [],
            "description": "",
            "_model_name": "HTMLModel",
            "placeholder": "​",
            "_view_module": "@jupyter-widgets/controls",
            "_model_module_version": "1.5.0",
            "value": " 152/152 [00:00&lt;00:00, 3.54kB/s]",
            "_view_count": null,
            "_view_module_version": "1.5.0",
            "description_tooltip": null,
            "_model_module": "@jupyter-widgets/controls",
            "layout": "IPY_MODEL_9cc148f5bcc94e1b9bd3d1f1bbf01784"
          }
        },
        "acda8259b0474149960b92e8a6df2e50": {
          "model_module": "@jupyter-widgets/controls",
          "model_name": "DescriptionStyleModel",
          "model_module_version": "1.5.0",
          "state": {
            "_view_name": "StyleView",
            "_model_name": "DescriptionStyleModel",
            "description_width": "",
            "_view_module": "@jupyter-widgets/base",
            "_model_module_version": "1.5.0",
            "_view_count": null,
            "_view_module_version": "1.2.0",
            "_model_module": "@jupyter-widgets/controls"
          }
        },
        "84673f846dd2435d8fc1c0a5e5b4a09a": {
          "model_module": "@jupyter-widgets/base",
          "model_name": "LayoutModel",
          "model_module_version": "1.2.0",
          "state": {
            "_view_name": "LayoutView",
            "grid_template_rows": null,
            "right": null,
            "justify_content": null,
            "_view_module": "@jupyter-widgets/base",
            "overflow": null,
            "_model_module_version": "1.2.0",
            "_view_count": null,
            "flex_flow": null,
            "width": null,
            "min_width": null,
            "border": null,
            "align_items": null,
            "bottom": null,
            "_model_module": "@jupyter-widgets/base",
            "top": null,
            "grid_column": null,
            "overflow_y": null,
            "overflow_x": null,
            "grid_auto_flow": null,
            "grid_area": null,
            "grid_template_columns": null,
            "flex": null,
            "_model_name": "LayoutModel",
            "justify_items": null,
            "grid_row": null,
            "max_height": null,
            "align_content": null,
            "visibility": null,
            "align_self": null,
            "height": null,
            "min_height": null,
            "padding": null,
            "grid_auto_rows": null,
            "grid_gap": null,
            "max_width": null,
            "order": null,
            "_view_module_version": "1.2.0",
            "grid_template_areas": null,
            "object_position": null,
            "object_fit": null,
            "grid_auto_columns": null,
            "margin": null,
            "display": null,
            "left": null
          }
        },
        "e92070d9d3e748e5bac6181221c58fb4": {
          "model_module": "@jupyter-widgets/controls",
          "model_name": "ProgressStyleModel",
          "model_module_version": "1.5.0",
          "state": {
            "_view_name": "StyleView",
            "_model_name": "ProgressStyleModel",
            "description_width": "",
            "_view_module": "@jupyter-widgets/base",
            "_model_module_version": "1.5.0",
            "_view_count": null,
            "_view_module_version": "1.2.0",
            "bar_color": null,
            "_model_module": "@jupyter-widgets/controls"
          }
        },
        "83d3142b27c54408ae8f14cbecf93274": {
          "model_module": "@jupyter-widgets/base",
          "model_name": "LayoutModel",
          "model_module_version": "1.2.0",
          "state": {
            "_view_name": "LayoutView",
            "grid_template_rows": null,
            "right": null,
            "justify_content": null,
            "_view_module": "@jupyter-widgets/base",
            "overflow": null,
            "_model_module_version": "1.2.0",
            "_view_count": null,
            "flex_flow": null,
            "width": null,
            "min_width": null,
            "border": null,
            "align_items": null,
            "bottom": null,
            "_model_module": "@jupyter-widgets/base",
            "top": null,
            "grid_column": null,
            "overflow_y": null,
            "overflow_x": null,
            "grid_auto_flow": null,
            "grid_area": null,
            "grid_template_columns": null,
            "flex": null,
            "_model_name": "LayoutModel",
            "justify_items": null,
            "grid_row": null,
            "max_height": null,
            "align_content": null,
            "visibility": null,
            "align_self": null,
            "height": null,
            "min_height": null,
            "padding": null,
            "grid_auto_rows": null,
            "grid_gap": null,
            "max_width": null,
            "order": null,
            "_view_module_version": "1.2.0",
            "grid_template_areas": null,
            "object_position": null,
            "object_fit": null,
            "grid_auto_columns": null,
            "margin": null,
            "display": null,
            "left": null
          }
        },
        "78d9bbe010a54463a05e9f90332d71e9": {
          "model_module": "@jupyter-widgets/controls",
          "model_name": "DescriptionStyleModel",
          "model_module_version": "1.5.0",
          "state": {
            "_view_name": "StyleView",
            "_model_name": "DescriptionStyleModel",
            "description_width": "",
            "_view_module": "@jupyter-widgets/base",
            "_model_module_version": "1.5.0",
            "_view_count": null,
            "_view_module_version": "1.2.0",
            "_model_module": "@jupyter-widgets/controls"
          }
        },
        "9cc148f5bcc94e1b9bd3d1f1bbf01784": {
          "model_module": "@jupyter-widgets/base",
          "model_name": "LayoutModel",
          "model_module_version": "1.2.0",
          "state": {
            "_view_name": "LayoutView",
            "grid_template_rows": null,
            "right": null,
            "justify_content": null,
            "_view_module": "@jupyter-widgets/base",
            "overflow": null,
            "_model_module_version": "1.2.0",
            "_view_count": null,
            "flex_flow": null,
            "width": null,
            "min_width": null,
            "border": null,
            "align_items": null,
            "bottom": null,
            "_model_module": "@jupyter-widgets/base",
            "top": null,
            "grid_column": null,
            "overflow_y": null,
            "overflow_x": null,
            "grid_auto_flow": null,
            "grid_area": null,
            "grid_template_columns": null,
            "flex": null,
            "_model_name": "LayoutModel",
            "justify_items": null,
            "grid_row": null,
            "max_height": null,
            "align_content": null,
            "visibility": null,
            "align_self": null,
            "height": null,
            "min_height": null,
            "padding": null,
            "grid_auto_rows": null,
            "grid_gap": null,
            "max_width": null,
            "order": null,
            "_view_module_version": "1.2.0",
            "grid_template_areas": null,
            "object_position": null,
            "object_fit": null,
            "grid_auto_columns": null,
            "margin": null,
            "display": null,
            "left": null
          }
        }
      }
    }
  },
  "cells": [
    {
      "cell_type": "markdown",
      "metadata": {
        "id": "view-in-github",
        "colab_type": "text"
      },
      "source": [
        "<a href=\"https://colab.research.google.com/github/richardOlson/nlp__tranformers/blob/main/squad_data_set.ipynb\" target=\"_parent\"><img src=\"https://colab.research.google.com/assets/colab-badge.svg\" alt=\"Open In Colab\"/></a>"
      ]
    },
    {
      "cell_type": "code",
      "metadata": {
        "id": "eFYqY43OMTit"
      },
      "source": [
        "# looking at the squad dataset\n",
        "# getting some of the imports\n",
        "import requests\n",
        "import json\n",
        "import pandas as pd\n",
        "\n",
        "import torch\n",
        "from typing import Optional, Union\n",
        "\n"
      ],
      "execution_count": 1,
      "outputs": []
    },
    {
      "cell_type": "code",
      "metadata": {
        "id": "ZGbi8iFwQHuK"
      },
      "source": [
        "files = ['train-v2.0.json', 'dev-v2.0.json']"
      ],
      "execution_count": 2,
      "outputs": []
    },
    {
      "cell_type": "code",
      "metadata": {
        "id": "vVCliLaBQqSR"
      },
      "source": [
        "url = \"https://rajpurkar.github.io/SQuAD-explorer/dataset/\""
      ],
      "execution_count": 3,
      "outputs": []
    },
    {
      "cell_type": "code",
      "metadata": {
        "id": "3Be62UIdQdm5"
      },
      "source": [
        "# now getting the files \n",
        "for file in files:\n",
        "  res = requests.get(url + file)\n",
        "  if res.status_code == 200:\n",
        "    \n",
        "    with open(file, mode=\"wb\") as f:\n",
        "     # writing as a chunks \n",
        "     for chunk in res.iter_content(chunk_size=50):\n",
        "       f.write(chunk)\n",
        "\n"
      ],
      "execution_count": 4,
      "outputs": []
    },
    {
      "cell_type": "code",
      "metadata": {
        "id": "z5xKYj0qSMYH"
      },
      "source": [
        "# reading in one of the files to be used with json\n",
        "with open(\"dev-v2.0.json\", mode=\"rb\")as f:\n",
        "  dev = json.load(f)\n",
        "\n",
        "with open(\"train-v2.0.json\", mode=\"rb\")as f:\n",
        "  train = json.load(f)"
      ],
      "execution_count": 5,
      "outputs": []
    },
    {
      "cell_type": "code",
      "metadata": {
        "colab": {
          "base_uri": "https://localhost:8080/"
        },
        "id": "iOPtatbgXTJ3",
        "outputId": "db7eeedb-22b4-4819-f4d1-2fc2027bc1c1"
      },
      "source": [
        "train.keys()"
      ],
      "execution_count": null,
      "outputs": [
        {
          "output_type": "execute_result",
          "data": {
            "text/plain": [
              "dict_keys(['version', 'data'])"
            ]
          },
          "metadata": {},
          "execution_count": 6
        }
      ]
    },
    {
      "cell_type": "code",
      "metadata": {
        "id": "BDmSqZH3MtBv",
        "colab": {
          "base_uri": "https://localhost:8080/",
          "height": 35
        },
        "outputId": "eddf5ede-fe69-40df-ed34-8ff745891b95"
      },
      "source": [
        "train[\"data\"][0][\"title\"]"
      ],
      "execution_count": null,
      "outputs": [
        {
          "output_type": "execute_result",
          "data": {
            "application/vnd.google.colaboratory.intrinsic+json": {
              "type": "string"
            },
            "text/plain": [
              "'Beyoncé'"
            ]
          },
          "metadata": {},
          "execution_count": 7
        }
      ]
    },
    {
      "cell_type": "code",
      "metadata": {
        "id": "5H7p6fy8LFf5"
      },
      "source": [
        "squad_list = []"
      ],
      "execution_count": 6,
      "outputs": []
    },
    {
      "cell_type": "markdown",
      "metadata": {
        "id": "LFjeF0JHXW9r"
      },
      "source": [
        "Getting the data into a format that can be used"
      ]
    },
    {
      "cell_type": "code",
      "metadata": {
        "id": "SeVijWIuLI_I"
      },
      "source": [
        "# now getting the info out of the train\n",
        "for paragraph_dict in train[\"data\"]:\n",
        "  for context_with_qa_dict in paragraph_dict[\"paragraphs\"]:\n",
        "    context = context_with_qa_dict[\"context\"]\n",
        "    # doing the looping through the question and the answers dictionaries\n",
        "    for qa_pair_dict in context_with_qa_dict[\"qas\"]:\n",
        "      if \"answers\" in qa_pair_dict and len(qa_pair_dict[\"answers\"]) > 0:\n",
        "          answer = qa_pair_dict['answers'][0]['text']\n",
        "      elif \"plausible_answers\" in qa_pair_dict and len(qa_pair_dict[\"plausible_answers\"]) > 0:\n",
        "        answer = qa_pair_dict[\"plausible_answers\"][0][\"text\"]\n",
        "      else:\n",
        "        answer = None\n",
        "      # now making the dictionary that will be added to the list \n",
        "      squad_list.append({\"context\": context, \"question\": qa_pair_dict[\"question\"], \"answer\": answer})\n",
        "        \n",
        "      \n"
      ],
      "execution_count": 7,
      "outputs": []
    },
    {
      "cell_type": "code",
      "metadata": {
        "id": "1YmwlI5LR4Fk",
        "colab": {
          "base_uri": "https://localhost:8080/"
        },
        "outputId": "bf6be946-6874-4236-e612-8f60ef49ece9"
      },
      "source": [
        "len(squad_list)"
      ],
      "execution_count": null,
      "outputs": [
        {
          "output_type": "execute_result",
          "data": {
            "text/plain": [
              "130319"
            ]
          },
          "metadata": {},
          "execution_count": 8
        }
      ]
    },
    {
      "cell_type": "code",
      "metadata": {
        "id": "XssGvLoESMoK"
      },
      "source": [
        "# creating the dataframe\n",
        "df = pd.DataFrame(squad_list)"
      ],
      "execution_count": null,
      "outputs": []
    },
    {
      "cell_type": "code",
      "metadata": {
        "id": "h9PTnD8PSbHr",
        "colab": {
          "base_uri": "https://localhost:8080/",
          "height": 220
        },
        "outputId": "7e2b135d-cf66-4af5-887a-70d86bd4a1c4"
      },
      "source": [
        "print(df.shape)\n",
        "df.head()"
      ],
      "execution_count": null,
      "outputs": [
        {
          "output_type": "stream",
          "text": [
            "(130319, 3)\n"
          ],
          "name": "stdout"
        },
        {
          "output_type": "execute_result",
          "data": {
            "text/html": [
              "<div>\n",
              "<style scoped>\n",
              "    .dataframe tbody tr th:only-of-type {\n",
              "        vertical-align: middle;\n",
              "    }\n",
              "\n",
              "    .dataframe tbody tr th {\n",
              "        vertical-align: top;\n",
              "    }\n",
              "\n",
              "    .dataframe thead th {\n",
              "        text-align: right;\n",
              "    }\n",
              "</style>\n",
              "<table border=\"1\" class=\"dataframe\">\n",
              "  <thead>\n",
              "    <tr style=\"text-align: right;\">\n",
              "      <th></th>\n",
              "      <th>context</th>\n",
              "      <th>question</th>\n",
              "      <th>answer</th>\n",
              "    </tr>\n",
              "  </thead>\n",
              "  <tbody>\n",
              "    <tr>\n",
              "      <th>0</th>\n",
              "      <td>Beyoncé Giselle Knowles-Carter (/biːˈjɒnseɪ/ b...</td>\n",
              "      <td>When did Beyonce start becoming popular?</td>\n",
              "      <td>in the late 1990s</td>\n",
              "    </tr>\n",
              "    <tr>\n",
              "      <th>1</th>\n",
              "      <td>Beyoncé Giselle Knowles-Carter (/biːˈjɒnseɪ/ b...</td>\n",
              "      <td>What areas did Beyonce compete in when she was...</td>\n",
              "      <td>singing and dancing</td>\n",
              "    </tr>\n",
              "    <tr>\n",
              "      <th>2</th>\n",
              "      <td>Beyoncé Giselle Knowles-Carter (/biːˈjɒnseɪ/ b...</td>\n",
              "      <td>When did Beyonce leave Destiny's Child and bec...</td>\n",
              "      <td>2003</td>\n",
              "    </tr>\n",
              "    <tr>\n",
              "      <th>3</th>\n",
              "      <td>Beyoncé Giselle Knowles-Carter (/biːˈjɒnseɪ/ b...</td>\n",
              "      <td>In what city and state did Beyonce  grow up?</td>\n",
              "      <td>Houston, Texas</td>\n",
              "    </tr>\n",
              "    <tr>\n",
              "      <th>4</th>\n",
              "      <td>Beyoncé Giselle Knowles-Carter (/biːˈjɒnseɪ/ b...</td>\n",
              "      <td>In which decade did Beyonce become famous?</td>\n",
              "      <td>late 1990s</td>\n",
              "    </tr>\n",
              "  </tbody>\n",
              "</table>\n",
              "</div>"
            ],
            "text/plain": [
              "                                             context  ...               answer\n",
              "0  Beyoncé Giselle Knowles-Carter (/biːˈjɒnseɪ/ b...  ...    in the late 1990s\n",
              "1  Beyoncé Giselle Knowles-Carter (/biːˈjɒnseɪ/ b...  ...  singing and dancing\n",
              "2  Beyoncé Giselle Knowles-Carter (/biːˈjɒnseɪ/ b...  ...                 2003\n",
              "3  Beyoncé Giselle Knowles-Carter (/biːˈjɒnseɪ/ b...  ...       Houston, Texas\n",
              "4  Beyoncé Giselle Knowles-Carter (/biːˈjɒnseɪ/ b...  ...           late 1990s\n",
              "\n",
              "[5 rows x 3 columns]"
            ]
          },
          "metadata": {},
          "execution_count": 12
        }
      ]
    },
    {
      "cell_type": "code",
      "metadata": {
        "id": "4IefmuuRTaqJ",
        "colab": {
          "base_uri": "https://localhost:8080/",
          "height": 102
        },
        "outputId": "e77b74f3-e2b2-473f-9411-1beb0001be8d"
      },
      "source": [
        "df.loc[0, \"context\"]"
      ],
      "execution_count": null,
      "outputs": [
        {
          "output_type": "execute_result",
          "data": {
            "application/vnd.google.colaboratory.intrinsic+json": {
              "type": "string"
            },
            "text/plain": [
              "'Beyoncé Giselle Knowles-Carter (/biːˈjɒnseɪ/ bee-YON-say) (born September 4, 1981) is an American singer, songwriter, record producer and actress. Born and raised in Houston, Texas, she performed in various singing and dancing competitions as a child, and rose to fame in the late 1990s as lead singer of R&B girl-group Destiny\\'s Child. Managed by her father, Mathew Knowles, the group became one of the world\\'s best-selling girl groups of all time. Their hiatus saw the release of Beyoncé\\'s debut album, Dangerously in Love (2003), which established her as a solo artist worldwide, earned five Grammy Awards and featured the Billboard Hot 100 number-one singles \"Crazy in Love\" and \"Baby Boy\".'"
            ]
          },
          "metadata": {},
          "execution_count": 12
        }
      ]
    },
    {
      "cell_type": "code",
      "metadata": {
        "id": "P9yW6VwLYHe_"
      },
      "source": [
        "# now will save the data into a json type object\n",
        "with open(\"train.json\", mode=\"w\", )as f:\n",
        "  json.dump(squad_list, f)"
      ],
      "execution_count": 8,
      "outputs": []
    },
    {
      "cell_type": "code",
      "metadata": {
        "id": "OqfWRqhLZGYx"
      },
      "source": [
        "dev_list = []"
      ],
      "execution_count": 9,
      "outputs": []
    },
    {
      "cell_type": "markdown",
      "metadata": {
        "id": "Q6jyI6hPkPmX"
      },
      "source": [
        "Making the data that for the dev into the format same as the \n",
        "train data."
      ]
    },
    {
      "cell_type": "code",
      "metadata": {
        "id": "stJzT0ImYD8i"
      },
      "source": [
        "# doing the dev to make it so that it is in the same format as the \n",
        "# train.\n",
        "for paragraph_dict in dev[\"data\"]:\n",
        "  for each_context_dict in paragraph_dict[\"paragraphs\"]:\n",
        "    context = each_context_dict[\"context\"]\n",
        "    for qa_pair_dict in each_context_dict[\"qas\"]:\n",
        "      if \"answers\" in qa_pair_dict and len(qa_pair_dict[\"answers\"]) > 0:\n",
        "        # doing the looping through the answers\n",
        "        answer_list = qa_pair_dict[\"answers\"]\n",
        "      elif \"plausible_answers\" in qa_pair_dict and len(qa_pair_dict[\"plausible_answers\"]) > 0:\n",
        "        answer_list = qa_pair_dict[\"plausible_answers\"]\n",
        "      else:\n",
        "        answer_list = []\n",
        "      # now doing the making of the list  \n",
        "      answer = [item[\"text\"] for item in answer_list]\n",
        "      # removing any duplicates\n",
        "      answer = list(set(answer))\n",
        "      \n",
        "      # adding to the dev list\n",
        "      dev_list.append({\"context\": context, \"question\": qa_pair_dict[\"question\"], \"answer\": answer})\n"
      ],
      "execution_count": 10,
      "outputs": []
    },
    {
      "cell_type": "code",
      "metadata": {
        "id": "j7pjITdack2l",
        "colab": {
          "base_uri": "https://localhost:8080/"
        },
        "outputId": "dd2b921d-5a82-4cf3-f20c-2eac0759cf03"
      },
      "source": [
        "len(dev_list)"
      ],
      "execution_count": 11,
      "outputs": [
        {
          "output_type": "execute_result",
          "data": {
            "text/plain": [
              "11873"
            ]
          },
          "metadata": {},
          "execution_count": 11
        }
      ]
    },
    {
      "cell_type": "code",
      "metadata": {
        "id": "b0E1pXQAhPlf",
        "colab": {
          "base_uri": "https://localhost:8080/",
          "height": 293
        },
        "outputId": "0b00a2e6-5bb6-4a4d-e57b-1ccbe330f939"
      },
      "source": [
        "# building a dataframe of the dev_list\n",
        "dev_dataframe = pd.DataFrame(dev_list)\n",
        "dev_dataframe.head()"
      ],
      "execution_count": null,
      "outputs": [
        {
          "output_type": "execute_result",
          "data": {
            "text/html": [
              "<div>\n",
              "<style scoped>\n",
              "    .dataframe tbody tr th:only-of-type {\n",
              "        vertical-align: middle;\n",
              "    }\n",
              "\n",
              "    .dataframe tbody tr th {\n",
              "        vertical-align: top;\n",
              "    }\n",
              "\n",
              "    .dataframe thead th {\n",
              "        text-align: right;\n",
              "    }\n",
              "</style>\n",
              "<table border=\"1\" class=\"dataframe\">\n",
              "  <thead>\n",
              "    <tr style=\"text-align: right;\">\n",
              "      <th></th>\n",
              "      <th>context</th>\n",
              "      <th>question</th>\n",
              "      <th>answer</th>\n",
              "    </tr>\n",
              "  </thead>\n",
              "  <tbody>\n",
              "    <tr>\n",
              "      <th>0</th>\n",
              "      <td>The Normans (Norman: Nourmands; French: Norman...</td>\n",
              "      <td>In what country is Normandy located?</td>\n",
              "      <td>[France]</td>\n",
              "    </tr>\n",
              "    <tr>\n",
              "      <th>1</th>\n",
              "      <td>The Normans (Norman: Nourmands; French: Norman...</td>\n",
              "      <td>When were the Normans in Normandy?</td>\n",
              "      <td>[in the 10th and 11th centuries, 10th and 11th...</td>\n",
              "    </tr>\n",
              "    <tr>\n",
              "      <th>2</th>\n",
              "      <td>The Normans (Norman: Nourmands; French: Norman...</td>\n",
              "      <td>From which countries did the Norse originate?</td>\n",
              "      <td>[Denmark, Iceland and Norway]</td>\n",
              "    </tr>\n",
              "    <tr>\n",
              "      <th>3</th>\n",
              "      <td>The Normans (Norman: Nourmands; French: Norman...</td>\n",
              "      <td>Who was the Norse leader?</td>\n",
              "      <td>[Rollo]</td>\n",
              "    </tr>\n",
              "    <tr>\n",
              "      <th>4</th>\n",
              "      <td>The Normans (Norman: Nourmands; French: Norman...</td>\n",
              "      <td>What century did the Normans first gain their ...</td>\n",
              "      <td>[10th century, 10th, the first half of the 10t...</td>\n",
              "    </tr>\n",
              "  </tbody>\n",
              "</table>\n",
              "</div>"
            ],
            "text/plain": [
              "                                             context  ...                                             answer\n",
              "0  The Normans (Norman: Nourmands; French: Norman...  ...                                           [France]\n",
              "1  The Normans (Norman: Nourmands; French: Norman...  ...  [in the 10th and 11th centuries, 10th and 11th...\n",
              "2  The Normans (Norman: Nourmands; French: Norman...  ...                      [Denmark, Iceland and Norway]\n",
              "3  The Normans (Norman: Nourmands; French: Norman...  ...                                            [Rollo]\n",
              "4  The Normans (Norman: Nourmands; French: Norman...  ...  [10th century, 10th, the first half of the 10t...\n",
              "\n",
              "[5 rows x 3 columns]"
            ]
          },
          "metadata": {},
          "execution_count": 15
        }
      ]
    },
    {
      "cell_type": "code",
      "metadata": {
        "id": "vihn4P5TdDnz"
      },
      "source": [
        "# making a json file of the new formatted dev\n",
        "with open(\"dev.json\", mode=\"w\")as f:\n",
        "  json.dump(dev_list, f)"
      ],
      "execution_count": 12,
      "outputs": []
    },
    {
      "cell_type": "code",
      "metadata": {
        "id": "m-Y0pRdnad3v",
        "colab": {
          "base_uri": "https://localhost:8080/"
        },
        "outputId": "f4c72f9c-6bec-4cfc-a659-857c8f89a65b"
      },
      "source": [
        "# now making the first model \n",
        "! pip install transformers -q\n",
        "import transformers\n",
        "from transformers import BertForQuestionAnswering, BertTokenizer\n",
        "from transformers import pipeline"
      ],
      "execution_count": 13,
      "outputs": [
        {
          "output_type": "stream",
          "name": "stdout",
          "text": [
            "\u001b[K     |████████████████████████████████| 2.8 MB 6.6 MB/s \n",
            "\u001b[K     |████████████████████████████████| 50 kB 5.2 MB/s \n",
            "\u001b[K     |████████████████████████████████| 3.3 MB 47.0 MB/s \n",
            "\u001b[K     |████████████████████████████████| 895 kB 67.6 MB/s \n",
            "\u001b[K     |████████████████████████████████| 636 kB 67.0 MB/s \n",
            "\u001b[?25h"
          ]
        }
      ]
    },
    {
      "cell_type": "code",
      "metadata": {
        "id": "c5A37iDxa2NH",
        "colab": {
          "base_uri": "https://localhost:8080/",
          "height": 177,
          "referenced_widgets": [
            "c4e5640c517c443da3ceb76eb49de7c8",
            "98b574a1ded440978c717cc7c35dc78d",
            "76e976efc9ae4d678d13918d651cd89d",
            "5fc759e5c73143ae94f80649e28968f4",
            "80484f82f7ef4162b4522aa746950f92",
            "586e381cea5e4f329c48679933357fa9",
            "0ffdc07a8d1840c6a357b0ba6f65ffca",
            "317fe5086b5c44b894e7c99401410423",
            "f91c483c23dd40909e39cc5bbfe241c7",
            "5c453fd0e4ef4a29b9a58626a0b86e2d",
            "4179fefe340146ddb1ce8e11f2d43a61",
            "8fa970e6430d4f5c9c7b5e9314b3e25c",
            "c2831eefd11e4e52a1d7aedc48afa392",
            "d72b8cc6cbd64918ae86552c8a943ddb",
            "89aefa75d3f14f4c828918f83432be64",
            "c59632967b724a47bb8e667edeb9437c",
            "1dc9f2a63dd34362ad3044a1c1fd8749",
            "9c30bf8560bf4a5dbf49c30ffc1b4373",
            "2ac553618f0540529c333c2e906ad3db",
            "ccbacb9bef704c058372b609785c386f",
            "8d9b05a039f546a1970c4b298b86d559",
            "1248ae20b7284c9596a342cec0f63743",
            "43d2a1b5d295449bacab5ccdd5560b85",
            "d9c84a3f53214b17b452df146f4ee2f1",
            "f9620e1e82f140e494f39ab096242722",
            "dbcf61a779cc42bbad1be38fa7ec1dbd",
            "39ded2b5f8f0430a90706d700779801e",
            "2deeb39af8cb43adadcad272d66b8f7b",
            "8504289d47004db8974a9c2d0097f971",
            "b36c4ee0e38a4ced8dfdffb0f79c44af",
            "81a2a5bf720f42058f6f1a61dde7405f",
            "1651b40eda79450ea1334c6bda451b06",
            "5242e80d04fe4622be7afb86fa06fda2",
            "787dce59256342ffa2673ed897c553eb",
            "6011c86b87af44159892c2c4f0705d5b",
            "59d0aa0b430b4fa8a18c0420e35fb6ce",
            "b8b878c693fa42d393551c7f17058e47",
            "0957f12ab3834aef8da1776cc2a6c665",
            "4e3f7efc0dc442bf8f439b5f15b6ca58",
            "8f34b48e83a944a48ea7f32d16318694",
            "0f1216dbe2844b32a4e5f9dc86f3303b",
            "4151da2322d34f11baa27f2c46433abd",
            "8206ff5d1b224a489973604665cc9128",
            "860ffba8d99e4d49bf8424f70425af2c",
            "de35601de65d405d978855c50f19469f",
            "5a514685ca264957ae003bb850d7157b",
            "4a279d6e7d574fbbb079265d73ed37d6",
            "0efb589101df43ba92392c2a8b6150b3",
            "859258ad54a741a3a385f45645c5ade6",
            "acda8259b0474149960b92e8a6df2e50",
            "84673f846dd2435d8fc1c0a5e5b4a09a",
            "e92070d9d3e748e5bac6181221c58fb4",
            "83d3142b27c54408ae8f14cbecf93274",
            "78d9bbe010a54463a05e9f90332d71e9",
            "9cc148f5bcc94e1b9bd3d1f1bbf01784"
          ]
        },
        "outputId": "85bab63e-14bb-4279-d98e-89c64e817834"
      },
      "source": [
        "# making the model\n",
        "model = BertForQuestionAnswering.from_pretrained(\"deepset/bert-base-cased-squad2\")\n",
        "tokenizer = BertTokenizer.from_pretrained(\"deepset/bert-base-cased-squad2\")"
      ],
      "execution_count": 14,
      "outputs": [
        {
          "output_type": "display_data",
          "data": {
            "application/vnd.jupyter.widget-view+json": {
              "model_id": "c4e5640c517c443da3ceb76eb49de7c8",
              "version_minor": 0,
              "version_major": 2
            },
            "text/plain": [
              "Downloading:   0%|          | 0.00/508 [00:00<?, ?B/s]"
            ]
          },
          "metadata": {}
        },
        {
          "output_type": "display_data",
          "data": {
            "application/vnd.jupyter.widget-view+json": {
              "model_id": "8fa970e6430d4f5c9c7b5e9314b3e25c",
              "version_minor": 0,
              "version_major": 2
            },
            "text/plain": [
              "Downloading:   0%|          | 0.00/433M [00:00<?, ?B/s]"
            ]
          },
          "metadata": {}
        },
        {
          "output_type": "display_data",
          "data": {
            "application/vnd.jupyter.widget-view+json": {
              "model_id": "43d2a1b5d295449bacab5ccdd5560b85",
              "version_minor": 0,
              "version_major": 2
            },
            "text/plain": [
              "Downloading:   0%|          | 0.00/213k [00:00<?, ?B/s]"
            ]
          },
          "metadata": {}
        },
        {
          "output_type": "display_data",
          "data": {
            "application/vnd.jupyter.widget-view+json": {
              "model_id": "787dce59256342ffa2673ed897c553eb",
              "version_minor": 0,
              "version_major": 2
            },
            "text/plain": [
              "Downloading:   0%|          | 0.00/112 [00:00<?, ?B/s]"
            ]
          },
          "metadata": {}
        },
        {
          "output_type": "display_data",
          "data": {
            "application/vnd.jupyter.widget-view+json": {
              "model_id": "de35601de65d405d978855c50f19469f",
              "version_minor": 0,
              "version_major": 2
            },
            "text/plain": [
              "Downloading:   0%|          | 0.00/152 [00:00<?, ?B/s]"
            ]
          },
          "metadata": {}
        }
      ]
    },
    {
      "cell_type": "code",
      "metadata": {
        "id": "xawD2Cv2-R7l",
        "colab": {
          "base_uri": "https://localhost:8080/"
        },
        "outputId": "49456900-2861-4cae-bc25-57252e4757a1"
      },
      "source": [
        "# the span of the questions that we will send into the tokenizer\n",
        "my_span = squad_list[:5]\n",
        "my_span"
      ],
      "execution_count": 15,
      "outputs": [
        {
          "output_type": "execute_result",
          "data": {
            "text/plain": [
              "[{'answer': 'in the late 1990s',\n",
              "  'context': 'Beyoncé Giselle Knowles-Carter (/biːˈjɒnseɪ/ bee-YON-say) (born September 4, 1981) is an American singer, songwriter, record producer and actress. Born and raised in Houston, Texas, she performed in various singing and dancing competitions as a child, and rose to fame in the late 1990s as lead singer of R&B girl-group Destiny\\'s Child. Managed by her father, Mathew Knowles, the group became one of the world\\'s best-selling girl groups of all time. Their hiatus saw the release of Beyoncé\\'s debut album, Dangerously in Love (2003), which established her as a solo artist worldwide, earned five Grammy Awards and featured the Billboard Hot 100 number-one singles \"Crazy in Love\" and \"Baby Boy\".',\n",
              "  'question': 'When did Beyonce start becoming popular?'},\n",
              " {'answer': 'singing and dancing',\n",
              "  'context': 'Beyoncé Giselle Knowles-Carter (/biːˈjɒnseɪ/ bee-YON-say) (born September 4, 1981) is an American singer, songwriter, record producer and actress. Born and raised in Houston, Texas, she performed in various singing and dancing competitions as a child, and rose to fame in the late 1990s as lead singer of R&B girl-group Destiny\\'s Child. Managed by her father, Mathew Knowles, the group became one of the world\\'s best-selling girl groups of all time. Their hiatus saw the release of Beyoncé\\'s debut album, Dangerously in Love (2003), which established her as a solo artist worldwide, earned five Grammy Awards and featured the Billboard Hot 100 number-one singles \"Crazy in Love\" and \"Baby Boy\".',\n",
              "  'question': 'What areas did Beyonce compete in when she was growing up?'},\n",
              " {'answer': '2003',\n",
              "  'context': 'Beyoncé Giselle Knowles-Carter (/biːˈjɒnseɪ/ bee-YON-say) (born September 4, 1981) is an American singer, songwriter, record producer and actress. Born and raised in Houston, Texas, she performed in various singing and dancing competitions as a child, and rose to fame in the late 1990s as lead singer of R&B girl-group Destiny\\'s Child. Managed by her father, Mathew Knowles, the group became one of the world\\'s best-selling girl groups of all time. Their hiatus saw the release of Beyoncé\\'s debut album, Dangerously in Love (2003), which established her as a solo artist worldwide, earned five Grammy Awards and featured the Billboard Hot 100 number-one singles \"Crazy in Love\" and \"Baby Boy\".',\n",
              "  'question': \"When did Beyonce leave Destiny's Child and become a solo singer?\"},\n",
              " {'answer': 'Houston, Texas',\n",
              "  'context': 'Beyoncé Giselle Knowles-Carter (/biːˈjɒnseɪ/ bee-YON-say) (born September 4, 1981) is an American singer, songwriter, record producer and actress. Born and raised in Houston, Texas, she performed in various singing and dancing competitions as a child, and rose to fame in the late 1990s as lead singer of R&B girl-group Destiny\\'s Child. Managed by her father, Mathew Knowles, the group became one of the world\\'s best-selling girl groups of all time. Their hiatus saw the release of Beyoncé\\'s debut album, Dangerously in Love (2003), which established her as a solo artist worldwide, earned five Grammy Awards and featured the Billboard Hot 100 number-one singles \"Crazy in Love\" and \"Baby Boy\".',\n",
              "  'question': 'In what city and state did Beyonce  grow up? '},\n",
              " {'answer': 'late 1990s',\n",
              "  'context': 'Beyoncé Giselle Knowles-Carter (/biːˈjɒnseɪ/ bee-YON-say) (born September 4, 1981) is an American singer, songwriter, record producer and actress. Born and raised in Houston, Texas, she performed in various singing and dancing competitions as a child, and rose to fame in the late 1990s as lead singer of R&B girl-group Destiny\\'s Child. Managed by her father, Mathew Knowles, the group became one of the world\\'s best-selling girl groups of all time. Their hiatus saw the release of Beyoncé\\'s debut album, Dangerously in Love (2003), which established her as a solo artist worldwide, earned five Grammy Awards and featured the Billboard Hot 100 number-one singles \"Crazy in Love\" and \"Baby Boy\".',\n",
              "  'question': 'In which decade did Beyonce become famous?'}]"
            ]
          },
          "metadata": {},
          "execution_count": 15
        }
      ]
    },
    {
      "cell_type": "code",
      "metadata": {
        "id": "v4sivJnl_Asz"
      },
      "source": [
        "# putting the \n",
        "questions = [item[\"question\"] for item in my_span]\n",
        "contexts = [item[\"context\"] for item in my_span]\n",
        "answers = [item[\"answer\"] for item in my_span]"
      ],
      "execution_count": 16,
      "outputs": []
    },
    {
      "cell_type": "code",
      "metadata": {
        "id": "-h-HIrvG_8Cv"
      },
      "source": [
        "# making the function that will make the \"token_type_ids\"\n",
        "def get_token_type_ids(input_id:list):\n",
        "  t_index = input_id.index(tokenizer.sep_token_id)\n",
        "  # everything from 0 upto and including the sep token are in the first segment\n",
        "  front = [0] * t_index\n",
        "  back = [1] * (len(input_id) - len(front))\n",
        "  c = front + back\n",
        "  return c"
      ],
      "execution_count": 17,
      "outputs": []
    },
    {
      "cell_type": "code",
      "metadata": {
        "id": "GW5TO6urAG6h",
        "colab": {
          "base_uri": "https://localhost:8080/"
        },
        "outputId": "41bb205f-01d6-4e7b-c2a1-cd011d5de769"
      },
      "source": [
        "questions"
      ],
      "execution_count": null,
      "outputs": [
        {
          "output_type": "execute_result",
          "data": {
            "text/plain": [
              "['When did Beyonce start becoming popular?',\n",
              " 'What areas did Beyonce compete in when she was growing up?',\n",
              " \"When did Beyonce leave Destiny's Child and become a solo singer?\",\n",
              " 'In what city and state did Beyonce  grow up? ',\n",
              " 'In which decade did Beyonce become famous?']"
            ]
          },
          "metadata": {},
          "execution_count": 22
        }
      ]
    },
    {
      "cell_type": "code",
      "metadata": {
        "id": "p0_L1vGh9hIf",
        "colab": {
          "base_uri": "https://localhost:8080/"
        },
        "outputId": "beb92d8e-05a7-4eda-a7b6-313c7151c20a"
      },
      "source": [
        "# doing some encoding of the text\n",
        "input_ids = tokenizer.encode(questions[0], contexts[0])\n",
        "t = len(input_ids)\n",
        "print(f\"The type of the input_ids is {type(input_ids)}\")\n",
        "print(f\"The length of the input_ids is: {t}\")\n"
      ],
      "execution_count": null,
      "outputs": [
        {
          "output_type": "stream",
          "name": "stdout",
          "text": [
            "The type of the input_ids is <class 'list'>\n",
            "The length of the input_ids is: 173\n"
          ]
        }
      ]
    },
    {
      "cell_type": "code",
      "metadata": {
        "id": "9Qnkm8qXAA1R",
        "colab": {
          "base_uri": "https://localhost:8080/"
        },
        "outputId": "eb8fe5dd-27dd-4927-9939-81beea9eacbe"
      },
      "source": [
        "tokenizer.cls_token_id"
      ],
      "execution_count": null,
      "outputs": [
        {
          "output_type": "execute_result",
          "data": {
            "text/plain": [
              "101"
            ]
          },
          "metadata": {},
          "execution_count": 50
        }
      ]
    },
    {
      "cell_type": "code",
      "metadata": {
        "colab": {
          "base_uri": "https://localhost:8080/",
          "height": 86
        },
        "id": "9KVItzTflesz",
        "outputId": "34b99bf3-d94c-4669-a084-c0614a9d0ca1"
      },
      "source": [
        "contexts[0]"
      ],
      "execution_count": null,
      "outputs": [
        {
          "output_type": "execute_result",
          "data": {
            "application/vnd.google.colaboratory.intrinsic+json": {
              "type": "string"
            },
            "text/plain": [
              "'Beyoncé Giselle Knowles-Carter (/biːˈjɒnseɪ/ bee-YON-say) (born September 4, 1981) is an American singer, songwriter, record producer and actress. Born and raised in Houston, Texas, she performed in various singing and dancing competitions as a child, and rose to fame in the late 1990s as lead singer of R&B girl-group Destiny\\'s Child. Managed by her father, Mathew Knowles, the group became one of the world\\'s best-selling girl groups of all time. Their hiatus saw the release of Beyoncé\\'s debut album, Dangerously in Love (2003), which established her as a solo artist worldwide, earned five Grammy Awards and featured the Billboard Hot 100 number-one singles \"Crazy in Love\" and \"Baby Boy\".'"
            ]
          },
          "metadata": {},
          "execution_count": 68
        }
      ]
    },
    {
      "cell_type": "code",
      "metadata": {
        "id": "O0hxd1CCC2FC"
      },
      "source": [
        "# making a function that will be doing the encoding and print out the \n",
        "# question and the answers\n",
        "\n",
        "\n",
        "def answer_question(question:[list, str], context:[list, str], \n",
        "                    show_real_answer: Optional[Union[list, str]]=None, printing=True):\n",
        "  # single context is a flag to wheather their is just on context for all \n",
        "  # the questions\n",
        "  \"\"\"\n",
        "  question:  These are the questions passed in can be a string or a list of strings.\n",
        "\n",
        "  context:  The context:  can be a list of strings or just one string to be used repeatedly\n",
        "  for each of the questions.\n",
        "\n",
        "  show_real_answer:  if not None then will be a list of the real answers or just a single answer\n",
        "  that will be printed out with the predicted answer.\n",
        "\n",
        "  print:   if set to False then the answer and the question and the real_answer are \n",
        "  returned in a dictionary if return_as_dict is set to true or else they are \n",
        "  returned as part of a generator.\n",
        "\n",
        " \n",
        "\n",
        "  \"\"\"\n",
        "  \n",
        "  single_context = True\n",
        "  imput_ids = None\n",
        "  qa = None \n",
        "\n",
        "  if printing == False:\n",
        "    qa = {\"pred_ans\":[],\n",
        "                   \"questions\":[]}\n",
        "    if show_real_answer != None:\n",
        "      qa[\"true_ans\"] = []\n",
        "\n",
        "  if isinstance(context, list):\n",
        "    single_context = False\n",
        "\n",
        "  if not isinstance(question, list):\n",
        "    question = [question]\n",
        "\n",
        "  if isinstance(show_real_answer, str):\n",
        "    show_real_answer = [show_real_answer]\n",
        "  \n",
        "  \n",
        "  # running the for loop\n",
        "  for i, q in enumerate(question):\n",
        "    if single_context:\n",
        "      input_ids = tokenizer.encode(q,context, # padding=\"max_length\", \n",
        "                                   truncation=True,)\n",
        "    else:\n",
        "      input_ids = tokenizer.encode(q, context[i], # padding=\"max_length\", \n",
        "                                   truncation=True,\n",
        "                                   )\n",
        "    \n",
        "    # now getting the list of \"token_type_ids\"\n",
        "    token_type_ids = get_token_type_ids(input_ids)\n",
        "\n",
        "    if len(input_ids) != len(token_type_ids):\n",
        "      continue \n",
        "    # running them in the model\n",
        "    output = model(torch.tensor([input_ids]), \n",
        "                   token_type_ids=torch.tensor([token_type_ids]), return_dict=True)\n",
        "    # getting the span\n",
        "    start = output.start_logits\n",
        "    end = output.end_logits\n",
        "    # creating the span\n",
        "    answer_start = torch.argmax(start)\n",
        "    answer_end = torch.argmax(end) + 1 # the + 1 is added to make when doing a \n",
        "                                      # a span getting the right length\n",
        "\n",
        "    # getting the answer for the question\n",
        "    ans = tokenizer.decode(input_ids[answer_start: answer_end])\n",
        "    \n",
        "    if printing:\n",
        "      \n",
        "      # printing out the question and the answer\n",
        "      print(f\"question:  {q}\")\n",
        "      print(f\"answer:  {ans}\")\n",
        "      if show_real_answer:\n",
        "        print(f\"The real answer is:  {show_real_answer[i]}\")\n",
        "      print()\n",
        "    elif not printing:\n",
        "      # adding to the dictionary\n",
        "      qa[\"pred_ans\"].append(ans)\n",
        "      qa[\"questions\"].append(q)\n",
        "      if show_real_answer != None:\n",
        "        qa[\"true_ans\"].append(show_real_answer[i])\n",
        "\n",
        "  if not printing:\n",
        "    return qa\n",
        "    \n",
        "  "
      ],
      "execution_count": 18,
      "outputs": []
    },
    {
      "cell_type": "code",
      "metadata": {
        "colab": {
          "base_uri": "https://localhost:8080/"
        },
        "id": "zS9PY4LVeNuU",
        "outputId": "99453675-b760-4bed-9ff9-b53f30b18bbb"
      },
      "source": [
        "# using the function above\n",
        "answer_question(question= questions[0], context=contexts[0])\n"
      ],
      "execution_count": 19,
      "outputs": [
        {
          "output_type": "stream",
          "name": "stdout",
          "text": [
            "question:  When did Beyonce start becoming popular?\n",
            "answer:  late 1990s\n",
            "\n"
          ]
        }
      ]
    },
    {
      "cell_type": "code",
      "metadata": {
        "id": "DEPRJe8Tirzp",
        "colab": {
          "base_uri": "https://localhost:8080/"
        },
        "outputId": "cbfadd0b-4689-4c2e-c055-8dccae0fb0a1"
      },
      "source": [
        "# running through the first five in the squad\n",
        "answer_question(question=questions, context=contexts, show_real_answer=answers)"
      ],
      "execution_count": 20,
      "outputs": [
        {
          "output_type": "stream",
          "name": "stdout",
          "text": [
            "question:  When did Beyonce start becoming popular?\n",
            "answer:  late 1990s\n",
            "The real answer is:  in the late 1990s\n",
            "\n",
            "question:  What areas did Beyonce compete in when she was growing up?\n",
            "answer:  singing and dancing\n",
            "The real answer is:  singing and dancing\n",
            "\n",
            "question:  When did Beyonce leave Destiny's Child and become a solo singer?\n",
            "answer:  2003\n",
            "The real answer is:  2003\n",
            "\n",
            "question:  In what city and state did Beyonce  grow up? \n",
            "answer:  Houston, Texas\n",
            "The real answer is:  Houston, Texas\n",
            "\n",
            "question:  In which decade did Beyonce become famous?\n",
            "answer:  1990s\n",
            "The real answer is:  late 1990s\n",
            "\n"
          ]
        }
      ]
    },
    {
      "cell_type": "code",
      "metadata": {
        "id": "e_yNuzRkfA6g"
      },
      "source": [
        "# now using the pipeline to do the same thing\n",
        "myPipe = pipeline(task=\"question-answering\", model=model, tokenizer=tokenizer)\n"
      ],
      "execution_count": 21,
      "outputs": []
    },
    {
      "cell_type": "code",
      "metadata": {
        "id": "hwMFLlwmfX_G",
        "colab": {
          "base_uri": "https://localhost:8080/"
        },
        "outputId": "51830efe-75b0-4a0a-8b56-1e77a8fe9bb7"
      },
      "source": [
        "# finding out the answer with the pipeline\n",
        "myPipe(context=contexts[0], question=questions[0])"
      ],
      "execution_count": null,
      "outputs": [
        {
          "output_type": "execute_result",
          "data": {
            "text/plain": [
              "{'answer': 'late 1990s', 'end': 286, 'score': 0.562135636806488, 'start': 276}"
            ]
          },
          "metadata": {},
          "execution_count": 22
        }
      ]
    },
    {
      "cell_type": "code",
      "metadata": {
        "id": "Jra5ujV3g7Ez",
        "colab": {
          "base_uri": "https://localhost:8080/"
        },
        "outputId": "f2b30d45-9df3-4bab-ff72-c23cf7e2f5fb"
      },
      "source": [
        "# using the pipe for the first five of the squad\n",
        "# dataset\n",
        "for i in range(5):\n",
        "  print(questions[i])\n",
        "  print(myPipe({\"question\":questions[i], \"context\":contexts[i]}))\n",
        "  print(f\"The real answer is:  {answers[i]}\")\n",
        "  print()"
      ],
      "execution_count": null,
      "outputs": [
        {
          "output_type": "stream",
          "name": "stdout",
          "text": [
            "When did Beyonce start becoming popular?\n",
            "{'score': 0.562135636806488, 'start': 276, 'end': 286, 'answer': 'late 1990s'}\n",
            "The real answer is:  in the late 1990s\n",
            "\n",
            "What areas did Beyonce compete in when she was growing up?\n",
            "{'score': 0.9938411116600037, 'start': 207, 'end': 226, 'answer': 'singing and dancing'}\n",
            "The real answer is:  singing and dancing\n",
            "\n",
            "When did Beyonce leave Destiny's Child and become a solo singer?\n",
            "{'score': 0.996565580368042, 'start': 525, 'end': 532, 'answer': '(2003),'}\n",
            "The real answer is:  2003\n",
            "\n",
            "In what city and state did Beyonce  grow up? \n",
            "{'score': 0.8477826118469238, 'start': 166, 'end': 181, 'answer': 'Houston, Texas,'}\n",
            "The real answer is:  Houston, Texas\n",
            "\n",
            "In which decade did Beyonce become famous?\n",
            "{'score': 0.677906334400177, 'start': 281, 'end': 286, 'answer': '1990s'}\n",
            "The real answer is:  late 1990s\n",
            "\n"
          ]
        }
      ]
    },
    {
      "cell_type": "code",
      "metadata": {
        "id": "nWTiHJp0jn1G",
        "colab": {
          "base_uri": "https://localhost:8080/"
        },
        "outputId": "b028d69c-faa7-4f3c-c079-cc58af3b55d5"
      },
      "source": [
        "# will make another set of the questions and answers and context for about 100\n",
        "# in the squad list and then will run them through the answer function and will\n",
        "# total up the amount of exact matches\n",
        "qa = {\n",
        "    \"questions\":[],\n",
        "    \"answers\": [], \n",
        "    \"contexts\": []\n",
        "}\n",
        "for item in squad_list[:100]:\n",
        "  qa[\"questions\"].append(item[\"question\"])\n",
        "  qa[\"answers\"].append(item[\"answer\"])\n",
        "  qa[\"contexts\"].append(item[\"context\"])\n",
        "\n",
        "print(len(qa[\"contexts\"]))"
      ],
      "execution_count": null,
      "outputs": [
        {
          "output_type": "stream",
          "name": "stdout",
          "text": [
            "100\n"
          ]
        }
      ]
    },
    {
      "cell_type": "code",
      "metadata": {
        "id": "o3Fc3YnCuqzw"
      },
      "source": [
        "# running through the questions and the answers and add up the number\n",
        "# of exact matches.\n",
        "ans_dict = answer_question(question=qa[\"questions\"], show_real_answer=qa[\"answers\"], context=qa[\"contexts\"], printing=False)"
      ],
      "execution_count": null,
      "outputs": []
    },
    {
      "cell_type": "code",
      "metadata": {
        "id": "sy5_xCP1pK3S"
      },
      "source": [
        "exact_match = [] # this list will contain weather there is an exact match\n",
        "                # 1 will be appended if is an exact match and 0 if not.\n",
        "for i in range(len(ans_dict[\"questions\"])):\n",
        "  if ans_dict[\"pred_ans\"][i] == ans_dict[\"true_ans\"][i]:\n",
        "    exact_match.append(1)\n",
        "  else:\n",
        "    exact_match.append(0)"
      ],
      "execution_count": null,
      "outputs": []
    },
    {
      "cell_type": "code",
      "metadata": {
        "colab": {
          "base_uri": "https://localhost:8080/"
        },
        "id": "1K07XL8ipNwu",
        "outputId": "ddc454af-2183-49de-bb8f-5b0de8bd00fc"
      },
      "source": [
        "for i in range(len(ans_dict[\"questions\"])):\n",
        "  pred = ans_dict[\"pred_ans\"][i]\n",
        "  ans = ans_dict[\"true_ans\"][i]\n",
        "  print(f\"{exact_match[i]}  pred = {pred}   true = {ans}\")"
      ],
      "execution_count": null,
      "outputs": [
        {
          "output_type": "stream",
          "name": "stdout",
          "text": [
            "0  pred = late 1990s   true = in the late 1990s\n",
            "1  pred = singing and dancing   true = singing and dancing\n",
            "1  pred = 2003   true = 2003\n",
            "1  pred = Houston, Texas   true = Houston, Texas\n",
            "0  pred = 1990s   true = late 1990s\n",
            "1  pred = Destiny's Child   true = Destiny's Child\n",
            "1  pred = Dangerously in Love   true = Dangerously in Love\n",
            "1  pred = Mathew Knowles   true = Mathew Knowles\n",
            "1  pred = late 1990s   true = late 1990s\n",
            "1  pred = lead singer   true = lead singer\n",
            "1  pred = Dangerously in Love   true = Dangerously in Love\n",
            "1  pred = 2003   true = 2003\n",
            "1  pred = five   true = five\n",
            "1  pred = lead singer   true = lead singer\n",
            "1  pred = Dangerously in Love   true = Dangerously in Love\n",
            "1  pred = acting   true = acting\n",
            "1  pred = Jay Z   true = Jay Z\n",
            "1  pred = six   true = six\n",
            "1  pred = Dreamgirls   true = Dreamgirls\n",
            "1  pred = 2010   true = 2010\n",
            "1  pred = Beyoncé   true = Beyoncé\n",
            "1  pred = Cadillac Records   true = Cadillac Records\n",
            "1  pred = June 2005   true = June 2005\n",
            "1  pred = B'Day   true = B'Day\n",
            "1  pred = Dreamgirls   true = Dreamgirls\n",
            "1  pred = Jay Z   true = Jay Z\n",
            "1  pred = Sasha Fierce   true = Sasha Fierce\n",
            "1  pred = love, relationships, and monogamy   true = love, relationships, and monogamy\n",
            "1  pred = influential   true = influential\n",
            "1  pred = Forbes   true = Forbes\n",
            "1  pred = 2000s   true = 2000s\n",
            "1  pred = Forbes   true = Forbes\n",
            "0  pred = modern - day feminist   true = modern-day feminist\n",
            "1  pred = 2013 and 2014   true = 2013 and 2014\n",
            "1  pred = 118 million   true = 118 million\n",
            "1  pred = 60 million   true = 60 million\n",
            "1  pred = 118 million   true = 118 million\n",
            "1  pred = 20   true = 20\n",
            "1  pred = Forbes   true = Forbes\n",
            "1  pred = Destiny's Child   true = Destiny's Child\n",
            "1  pred = her mother's maiden name   true = her mother's maiden name\n",
            "0  pred = African - American   true = African-American\n",
            "1  pred = Methodist   true = Methodist\n",
            "1  pred = Xerox   true = Xerox\n",
            "1  pred = hairdresser and salon owner   true = hairdresser and salon owner\n",
            "1  pred = Solange   true = Solange\n",
            "1  pred = Joseph Broussard   true = Joseph Broussard\n",
            "1  pred = Xerox   true = Xerox\n",
            "1  pred = salon   true = salon\n",
            "1  pred = Solange   true = Solange\n",
            "0  pred = Joseph Broussard   true = Joseph Broussard.\n",
            "1  pred = Methodist   true = Methodist\n",
            "1  pred = Fredericksburg   true = Fredericksburg\n",
            "1  pred = Darlette Johnson   true = Darlette Johnson\n",
            "1  pred = Houston   true = Houston\n",
            "1  pred = dance instructor Darlette Johnson   true = dance instructor Darlette Johnson\n",
            "1  pred = St. John's United Methodist Church   true = St. John's United Methodist Church\n",
            "1  pred = music magnet school   true = music magnet school\n",
            "1  pred = Imagine   true = Imagine\n",
            "1  pred = Fredericksburg   true = Fredericksburg\n",
            "1  pred = Darlette Johnson   true = Darlette Johnson\n",
            "1  pred = seven   true = seven\n",
            "1  pred = St. John's United Methodist Church   true = St. John's United Methodist Church\n",
            "1  pred = Arne Frager   true = Arne Frager\n",
            "1  pred = Beyoncé's father   true = Beyoncé's father\n",
            "1  pred = Elektra Records   true = Elektra Records\n",
            "1  pred = Arne Frager   true = Arne Frager\n",
            "1  pred = 1995   true = 1995\n",
            "1  pred = Sony Music   true = Sony Music\n",
            "1  pred = Elektra Records   true = Elektra Records\n",
            "0  pred = eight   true = age eight\n",
            "1  pred = eight   true = eight\n",
            "1  pred = Girl's Tyme   true = Girl's Tyme\n",
            "1  pred = Arne Frager   true = Arne Frager\n",
            "1  pred = 1995   true = 1995\n",
            "1  pred = Dwayne Wiggins's Grass Roots Entertainment   true = Dwayne Wiggins's Grass Roots Entertainment\n",
            "1  pred = Men in Black   true = Men in Black\n",
            "0  pred = Say My Name \"   true = \"Say My Name\"\n",
            "1  pred = Marc Nelson   true = Marc Nelson\n",
            "1  pred = 1996   true = 1996\n",
            "1  pred = Book of Isaiah   true = Book of Isaiah\n",
            "1  pred = Men in Black   true = Men in Black\n",
            "1  pred = Say My Name   true = Say My Name\n",
            "1  pred = Marc Nelson   true = Marc Nelson\n",
            "0  pred = Book of Isaiah   true = Book of Isaiah.\n",
            "1  pred = Men in Black.   true = Men in Black.\n",
            "1  pred = No, No, No   true = No, No, No\n",
            "1  pred = 1999   true = 1999\n",
            "1  pred = Marc Nelson   true = Marc Nelson\n",
            "1  pred = depression   true = depression\n",
            "0  pred = Her long - standing boyfriend left her   true = boyfriend left her\n",
            "1  pred = her mother   true = her mother\n",
            "0  pred = split with Luckett and Roberson   true = split with Luckett and Rober\n",
            "1  pred = a couple of years   true = a couple of years\n",
            "1  pred = her mother   true = her mother\n",
            "1  pred = Farrah Franklin and Michelle Williams.   true = Farrah Franklin and Michelle Williams.\n",
            "1  pred = Beyoncé   true = Beyoncé\n",
            "1  pred = her mother   true = her mother\n",
            "1  pred = Farrah Franklin   true = Farrah Franklin\n",
            "1  pred = Independent Women Part I   true = Independent Women Part I\n"
          ]
        }
      ]
    },
    {
      "cell_type": "code",
      "metadata": {
        "colab": {
          "base_uri": "https://localhost:8080/"
        },
        "id": "7QnVfhCpr2Bz",
        "outputId": "5458102e-c1ac-4e1b-aed2-267a5be4679a"
      },
      "source": [
        "# summing up the exact_match\n",
        "the_sum = sum(exact_match)\n",
        "the_sum\n",
        "\n",
        "theLen = len(exact_match)\n",
        "# the percentage of exact match\n",
        "print(f\"Out of {theLen}, {the_sum} are an exact match making the percentage as {(the_sum/theLen) * 100}%\")"
      ],
      "execution_count": null,
      "outputs": [
        {
          "output_type": "stream",
          "name": "stdout",
          "text": [
            "Out of 100, 90 are an exact match making the percentage as 90.0%\n"
          ]
        }
      ]
    },
    {
      "cell_type": "code",
      "metadata": {
        "id": "AdoVEuNqvSq_"
      },
      "source": [
        "# we are going to regex to filter out those matches of punctuations and such\n",
        "import re"
      ],
      "execution_count": 28,
      "outputs": []
    },
    {
      "cell_type": "code",
      "metadata": {
        "id": "5cx5dA9KiYu_"
      },
      "source": [
        "exact_match = []\n",
        "# looping from the predicted and true answers found in the dictionary\n",
        "for i in range(len(ans_dict[\"pred_ans\"])):\n",
        "  pred = re.sub(\"[^0-9a-z ]\", \"\", ans_dict[\"pred_ans\"][i].lower())\n",
        "  true = re.sub(\"[^0-9a-z ]\", \"\", ans_dict[\"true_ans\"][i].lower())\n",
        "\n",
        "  if pred == true:\n",
        "    exact_match.append(1)\n",
        "  else:\n",
        "    exact_match.append(0)\n"
      ],
      "execution_count": null,
      "outputs": []
    },
    {
      "cell_type": "code",
      "metadata": {
        "colab": {
          "base_uri": "https://localhost:8080/"
        },
        "id": "_PC0Q8jElDpD",
        "outputId": "d408668c-9fcc-4c28-a47d-1262f3a38146"
      },
      "source": [
        "# checking to see if this will change the number of correct matches\n",
        "the_sum = sum(exact_match)\n",
        "print(f\"The number of exact matches is {the_sum}\")"
      ],
      "execution_count": null,
      "outputs": [
        {
          "output_type": "stream",
          "name": "stdout",
          "text": [
            "The number of exact matches is 92\n"
          ]
        }
      ]
    },
    {
      "cell_type": "markdown",
      "metadata": {
        "id": "h5XPOJobmb9J"
      },
      "source": [
        "Going to use the ROUGE to check the exact match."
      ]
    },
    {
      "cell_type": "code",
      "metadata": {
        "id": "7WF0ltFVmbpp"
      },
      "source": [
        "! pip install rouge -q"
      ],
      "execution_count": 22,
      "outputs": []
    },
    {
      "cell_type": "code",
      "metadata": {
        "id": "mhiJ73pTm0YZ"
      },
      "source": [
        "from rouge import  Rouge"
      ],
      "execution_count": 23,
      "outputs": []
    },
    {
      "cell_type": "code",
      "metadata": {
        "colab": {
          "base_uri": "https://localhost:8080/"
        },
        "id": "h1ZaeeTSm5cg",
        "outputId": "bfc947e2-bd0f-4aa5-ec09-fe4712dc25e9"
      },
      "source": [
        "# checking of the difference between two different outputs\n",
        "model_output = \"hello how are you doing?\"\n",
        "real = \"hello how are you?\"\n",
        "\n",
        "rouge = Rouge()\n",
        "\n",
        "rouge.get_scores(model_output, real)"
      ],
      "execution_count": 30,
      "outputs": [
        {
          "output_type": "execute_result",
          "data": {
            "text/plain": [
              "[{'rouge-1': {'f': 0.6666666617283951, 'p': 0.6, 'r': 0.75},\n",
              "  'rouge-2': {'f': 0.5714285665306124, 'p': 0.5, 'r': 0.6666666666666666},\n",
              "  'rouge-l': {'f': 0.6666666617283951, 'p': 0.6, 'r': 0.75}}]"
            ]
          },
          "metadata": {},
          "execution_count": 30
        }
      ]
    },
    {
      "cell_type": "markdown",
      "metadata": {
        "id": "AvMYO9sNpLKW"
      },
      "source": [
        "Now Using the ROUGE to get scores from the model used above"
      ]
    },
    {
      "cell_type": "code",
      "metadata": {
        "colab": {
          "base_uri": "https://localhost:8080/"
        },
        "id": "FOpgy-0hn3Vf",
        "outputId": "ff795a3f-2be3-4841-ac47-a9f11e23b8b0"
      },
      "source": [
        "rouge.get_scores(hyps=pred,  refs=true, avg=True)\n"
      ],
      "execution_count": null,
      "outputs": [
        {
          "output_type": "execute_result",
          "data": {
            "text/plain": [
              "{'rouge-1': {'f': 0.999999995, 'p': 1.0, 'r': 1.0},\n",
              " 'rouge-2': {'f': 0.999999995, 'p': 1.0, 'r': 1.0},\n",
              " 'rouge-l': {'f': 0.999999995, 'p': 1.0, 'r': 1.0}}"
            ]
          },
          "metadata": {},
          "execution_count": 117
        }
      ]
    },
    {
      "cell_type": "code",
      "metadata": {
        "id": "y4qrsqMoqcJT"
      },
      "source": [
        "from tqdm import  tqdm"
      ],
      "execution_count": null,
      "outputs": []
    },
    {
      "cell_type": "code",
      "metadata": {
        "id": "XzgPn-8IvIcX"
      },
      "source": [
        "# making a list of the context and the questions and the true_ans\n",
        "answers = [item[\"answer\"] for item in squad_list]\n",
        "questions = [item[\"question\"] for item in squad_list]\n",
        "contexts = [item[\"context\"] for item in squad_list]"
      ],
      "execution_count": 24,
      "outputs": []
    },
    {
      "cell_type": "code",
      "metadata": {
        "id": "XvfH58n0vmBF"
      },
      "source": [
        "# {\"context\": context, \"question\": qa_pair_dict[\"question\"], \"answer\": answer}"
      ],
      "execution_count": null,
      "outputs": []
    },
    {
      "cell_type": "code",
      "metadata": {
        "id": "5JNScHJutX1A"
      },
      "source": [
        "# using the answer_question to now do it for 10,000\n",
        "the_dict = {\"true\":[],\n",
        "            \"pred\":[]\n",
        "            }\n",
        "ans = answer_question(question=questions[:10000], context=contexts[:10000], printing=False, show_real_answer=answers[:10000])\n",
        "\n",
        "\n",
        "  \n",
        "  \n",
        "\n"
      ],
      "execution_count": 26,
      "outputs": []
    },
    {
      "cell_type": "code",
      "metadata": {
        "id": "BABoJFtHkfvI"
      },
      "source": [
        "# compiling a regex that will be used to clean the\n",
        "clean_compile = re.compile(\"(?i)[^0-9a-z]\")\n",
        "\n",
        "pred_ans = [clean_compile.sub(\"\", text) for text in ans[\"pred_ans\"]]\n",
        "true_ans = [clean_compile.sub(\"\", text) for text in ans[\"true_ans\"]]"
      ],
      "execution_count": 29,
      "outputs": []
    },
    {
      "cell_type": "code",
      "metadata": {
        "id": "0tjLzwIeAWXQ"
      },
      "source": [
        "# doing another compiled regex\n",
        "re_compiled = re.compile(\"(?i)[0-9a-z]\")"
      ],
      "execution_count": 32,
      "outputs": []
    },
    {
      "cell_type": "code",
      "metadata": {
        "id": "YAwckGKz_L1h"
      },
      "source": [
        "# looking for those that have empty string as the answer in the pred and replace with \"None\"\n",
        "for i in range(len(pred_ans)):\n",
        "  val = re_compiled.search(pred_ans[i])\n",
        "  if val == None:\n",
        "    pred_ans[i] = \"None\""
      ],
      "execution_count": 33,
      "outputs": []
    },
    {
      "cell_type": "code",
      "metadata": {
        "id": "eQLuEziawyVi",
        "outputId": "b5491933-46b3-48c6-e821-71e4e0f104b6",
        "colab": {
          "base_uri": "https://localhost:8080/"
        }
      },
      "source": [
        "# now using rogue to see what the scores are for 10,000 question answer pairs\n",
        "rouge.get_scores(pred_ans, true_ans, avg=True)"
      ],
      "execution_count": 34,
      "outputs": [
        {
          "output_type": "execute_result",
          "data": {
            "text/plain": [
              "{'rouge-1': {'f': 0.7308999963453896, 'p': 0.7309, 'r': 0.7309},\n",
              " 'rouge-2': {'f': 0.0, 'p': 0.0, 'r': 0.0},\n",
              " 'rouge-l': {'f': 0.7308999963453896, 'p': 0.7309, 'r': 0.7309}}"
            ]
          },
          "metadata": {},
          "execution_count": 34
        }
      ]
    },
    {
      "cell_type": "code",
      "metadata": {
        "id": "NJftxH-C_GuP"
      },
      "source": [
        ""
      ],
      "execution_count": null,
      "outputs": []
    }
  ]
}