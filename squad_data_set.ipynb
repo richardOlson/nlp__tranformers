{
  "nbformat": 4,
  "nbformat_minor": 0,
  "metadata": {
    "colab": {
      "name": "squad_data_set.ipynb",
      "provenance": [],
      "authorship_tag": "ABX9TyM4faBQGDYo7OUnRS6PnDA6",
      "include_colab_link": true
    },
    "kernelspec": {
      "name": "python3",
      "display_name": "Python 3"
    },
    "language_info": {
      "name": "python"
    }
  },
  "cells": [
    {
      "cell_type": "markdown",
      "metadata": {
        "id": "view-in-github",
        "colab_type": "text"
      },
      "source": [
        "<a href=\"https://colab.research.google.com/github/richardOlson/nlp__tranformers/blob/main/squad_data_set.ipynb\" target=\"_parent\"><img src=\"https://colab.research.google.com/assets/colab-badge.svg\" alt=\"Open In Colab\"/></a>"
      ]
    },
    {
      "cell_type": "code",
      "metadata": {
        "id": "eFYqY43OMTit"
      },
      "source": [
        "# looking at the squad dataset\n",
        "# getting some of the imports\n",
        "import requests\n",
        "import json"
      ],
      "execution_count": 12,
      "outputs": []
    },
    {
      "cell_type": "code",
      "metadata": {
        "id": "ZGbi8iFwQHuK"
      },
      "source": [
        "files = ['train-v2.0.json', 'dev-v2.0.json']"
      ],
      "execution_count": 3,
      "outputs": []
    },
    {
      "cell_type": "code",
      "metadata": {
        "id": "vVCliLaBQqSR"
      },
      "source": [
        "url = \"https://rajpurkar.github.io/SQuAD-explorer/dataset/\""
      ],
      "execution_count": 8,
      "outputs": []
    },
    {
      "cell_type": "code",
      "metadata": {
        "colab": {
          "base_uri": "https://localhost:8080/"
        },
        "id": "3Be62UIdQdm5",
        "outputId": "43140f61-7a85-430d-903b-3759ebb681a5"
      },
      "source": [
        "# now getting the files \n",
        "for file in files:\n",
        "  res = requests.get(url + file)\n",
        "  if res.status_code == 200:\n",
        "    \n",
        "    with open(file, mode=\"wb\") as f:\n",
        "     # writing as a chunks \n",
        "     for chunk in res.iter_content(chunk_size=50):\n",
        "       f.write(chunk)\n",
        "\n"
      ],
      "execution_count": 17,
      "outputs": [
        {
          "output_type": "stream",
          "text": [
            "Building one of the files\n",
            "Building one of the files\n"
          ],
          "name": "stdout"
        }
      ]
    },
    {
      "cell_type": "code",
      "metadata": {
        "id": "z5xKYj0qSMYH"
      },
      "source": [
        ""
      ],
      "execution_count": null,
      "outputs": []
    }
  ]
}