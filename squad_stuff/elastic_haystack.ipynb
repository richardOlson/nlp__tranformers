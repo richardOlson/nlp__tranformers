{
 "cells": [
  {
   "cell_type": "code",
   "execution_count": 1,
   "source": [
    "# doing some imports\r\n",
    "import json\r\n",
    "import pickle"
   ],
   "outputs": [],
   "metadata": {}
  },
  {
   "cell_type": "code",
   "execution_count": 2,
   "source": [
    "# bringing in the list of the answers and the \r\n",
    "# the questions from the squad list\r\n",
    "with open(\"pred_ans_list\", mode=\"rb\") as f:\r\n",
    "    pred_ans_list = pickle.load(f,)"
   ],
   "outputs": [],
   "metadata": {}
  },
  {
   "cell_type": "code",
   "execution_count": 3,
   "source": [
    "print(len(pred_ans_list))\r\n",
    "pred_ans_list[:3]"
   ],
   "outputs": [
    {
     "output_type": "stream",
     "name": "stdout",
     "text": [
      "10000\n"
     ]
    },
    {
     "output_type": "execute_result",
     "data": {
      "text/plain": [
       "['late1990s', 'singinganddancing', '2003']"
      ]
     },
     "metadata": {},
     "execution_count": 3
    }
   ],
   "metadata": {}
  },
  {
   "cell_type": "code",
   "execution_count": null,
   "source": [],
   "outputs": [],
   "metadata": {}
  }
 ],
 "metadata": {
  "orig_nbformat": 4,
  "language_info": {
   "name": "python",
   "version": "3.8.10",
   "mimetype": "text/x-python",
   "codemirror_mode": {
    "name": "ipython",
    "version": 3
   },
   "pygments_lexer": "ipython3",
   "nbconvert_exporter": "python",
   "file_extension": ".py"
  },
  "kernelspec": {
   "name": "python3",
   "display_name": "Python 3.8.10 64-bit ('ml': conda)"
  },
  "interpreter": {
   "hash": "a7f43c9ee7ff54575bf87f2ddc982999376572feb314ab81f480ada32819c774"
  }
 },
 "nbformat": 4,
 "nbformat_minor": 2
}