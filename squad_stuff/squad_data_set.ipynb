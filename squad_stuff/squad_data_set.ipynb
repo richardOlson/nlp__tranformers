{
  "cells": [
    {
      "cell_type": "code",
      "execution_count": 1,
      "metadata": {
        "id": "eFYqY43OMTit"
      },
      "outputs": [],
      "source": [
        "# looking at the squad dataset\n",
        "# getting some of the imports\n",
        "import requests\n",
        "import json\n",
        "import pandas as pd\n",
        "\n",
        "import torch\n",
        "from typing import Optional, Union\n",
        "import pickle\n",
        "\n"
      ]
    },
    {
      "cell_type": "code",
      "execution_count": 2,
      "metadata": {
        "id": "ZGbi8iFwQHuK"
      },
      "outputs": [],
      "source": [
        "files = ['train-v2.0.json', 'dev-v2.0.json']"
      ]
    },
    {
      "cell_type": "code",
      "execution_count": 3,
      "metadata": {
        "id": "vVCliLaBQqSR"
      },
      "outputs": [],
      "source": [
        "url = \"https://rajpurkar.github.io/SQuAD-explorer/dataset/\""
      ]
    },
    {
      "cell_type": "code",
      "execution_count": 4,
      "metadata": {
        "id": "3Be62UIdQdm5"
      },
      "outputs": [],
      "source": [
        "# now getting the files \n",
        "for file in files:\n",
        "  res = requests.get(url + file)\n",
        "  if res.status_code == 200:\n",
        "    \n",
        "    with open(file, mode=\"wb\") as f:\n",
        "     # writing as a chunks \n",
        "     for chunk in res.iter_content(chunk_size=50):\n",
        "       f.write(chunk)\n",
        "\n"
      ]
    },
    {
      "cell_type": "code",
      "execution_count": 7,
      "metadata": {
        "id": "z5xKYj0qSMYH"
      },
      "outputs": [],
      "source": [
        "# reading in one of the files to be used with json\n",
        "with open(\"dev-v2.0.json\", mode=\"rb\")as f:\n",
        "  dev = json.load(f)\n",
        "\n",
        "with open(\"train-v2.0.json\", mode=\"rb\")as f:\n",
        "  train = json.load(f)"
      ]
    },
    {
      "cell_type": "code",
      "execution_count": null,
      "metadata": {
        "colab": {
          "base_uri": "https://localhost:8080/"
        },
        "id": "iOPtatbgXTJ3",
        "outputId": "db7eeedb-22b4-4819-f4d1-2fc2027bc1c1"
      },
      "outputs": [
        {
          "data": {
            "text/plain": [
              "dict_keys(['version', 'data'])"
            ]
          },
          "execution_count": 6,
          "metadata": {},
          "output_type": "execute_result"
        }
      ],
      "source": [
        "train.keys()"
      ]
    },
    {
      "cell_type": "code",
      "execution_count": null,
      "metadata": {
        "colab": {
          "base_uri": "https://localhost:8080/",
          "height": 35
        },
        "id": "BDmSqZH3MtBv",
        "outputId": "eddf5ede-fe69-40df-ed34-8ff745891b95"
      },
      "outputs": [
        {
          "data": {
            "application/vnd.google.colaboratory.intrinsic+json": {
              "type": "string"
            },
            "text/plain": [
              "'Beyoncé'"
            ]
          },
          "execution_count": 7,
          "metadata": {},
          "output_type": "execute_result"
        }
      ],
      "source": [
        "train[\"data\"][0][\"title\"]"
      ]
    },
    {
      "cell_type": "code",
      "execution_count": 8,
      "metadata": {
        "id": "5H7p6fy8LFf5"
      },
      "outputs": [],
      "source": [
        "squad_list = []\n",
        "context_list = []"
      ]
    },
    {
      "cell_type": "markdown",
      "metadata": {
        "id": "LFjeF0JHXW9r"
      },
      "source": [
        "Getting the data into a format that can be used"
      ]
    },
    {
      "cell_type": "code",
      "execution_count": 11,
      "metadata": {
        "id": "SeVijWIuLI_I"
      },
      "outputs": [],
      "source": [
        "# now getting the info out of the train\n",
        "for paragraph_dict in train[\"data\"]:\n",
        "  for context_with_qa_dict in paragraph_dict[\"paragraphs\"]:\n",
        "    context = context_with_qa_dict[\"context\"]\n",
        "    # doing the looping through the question and the answers dictionaries\n",
        "    for qa_pair_dict in context_with_qa_dict[\"qas\"]:\n",
        "      if \"answers\" in qa_pair_dict and len(qa_pair_dict[\"answers\"]) > 0:\n",
        "          answer = qa_pair_dict['answers'][0]['text']\n",
        "      elif \"plausible_answers\" in qa_pair_dict and len(qa_pair_dict[\"plausible_answers\"]) > 0:\n",
        "        answer = qa_pair_dict[\"plausible_answers\"][0][\"text\"]\n",
        "      else:\n",
        "        answer = None\n",
        "      # now making the dictionary that will be added to the list \n",
        "      squad_list.append({\"context\": context, \"question\": qa_pair_dict[\"question\"], \"answer\": answer})\n",
        "      # making a list that just contains the context in a list\n",
        "      context_list.append(context)\n",
        "      \n"
      ]
    },
    {
      "cell_type": "code",
      "execution_count": 8,
      "metadata": {
        "colab": {
          "base_uri": "https://localhost:8080/"
        },
        "id": "1YmwlI5LR4Fk",
        "outputId": "bf6be946-6874-4236-e612-8f60ef49ece9"
      },
      "outputs": [
        {
          "data": {
            "text/plain": [
              "130319"
            ]
          },
          "execution_count": 8,
          "metadata": {},
          "output_type": "execute_result"
        }
      ],
      "source": [
        "len(squad_list)"
      ]
    },
    {
      "cell_type": "code",
      "execution_count": 15,
      "metadata": {},
      "outputs": [],
      "source": [
        "# saving 10000 of the contexts from the squad list\n",
        "with open(\"contexts\", mode=\"wb\") as f:\n",
        "    pickle.dump(context_list, f)"
      ]
    },
    {
      "cell_type": "code",
      "execution_count": null,
      "metadata": {
        "id": "XssGvLoESMoK"
      },
      "outputs": [],
      "source": [
        "# creating the dataframe\n",
        "df = pd.DataFrame(squad_list)"
      ]
    },
    {
      "cell_type": "code",
      "execution_count": null,
      "metadata": {
        "colab": {
          "base_uri": "https://localhost:8080/",
          "height": 220
        },
        "id": "h9PTnD8PSbHr",
        "outputId": "7e2b135d-cf66-4af5-887a-70d86bd4a1c4"
      },
      "outputs": [
        {
          "name": "stdout",
          "output_type": "stream",
          "text": [
            "(130319, 3)\n"
          ]
        },
        {
          "data": {
            "text/html": [
              "<div>\n",
              "<style scoped>\n",
              "    .dataframe tbody tr th:only-of-type {\n",
              "        vertical-align: middle;\n",
              "    }\n",
              "\n",
              "    .dataframe tbody tr th {\n",
              "        vertical-align: top;\n",
              "    }\n",
              "\n",
              "    .dataframe thead th {\n",
              "        text-align: right;\n",
              "    }\n",
              "</style>\n",
              "<table border=\"1\" class=\"dataframe\">\n",
              "  <thead>\n",
              "    <tr style=\"text-align: right;\">\n",
              "      <th></th>\n",
              "      <th>context</th>\n",
              "      <th>question</th>\n",
              "      <th>answer</th>\n",
              "    </tr>\n",
              "  </thead>\n",
              "  <tbody>\n",
              "    <tr>\n",
              "      <th>0</th>\n",
              "      <td>Beyoncé Giselle Knowles-Carter (/biːˈjɒnseɪ/ b...</td>\n",
              "      <td>When did Beyonce start becoming popular?</td>\n",
              "      <td>in the late 1990s</td>\n",
              "    </tr>\n",
              "    <tr>\n",
              "      <th>1</th>\n",
              "      <td>Beyoncé Giselle Knowles-Carter (/biːˈjɒnseɪ/ b...</td>\n",
              "      <td>What areas did Beyonce compete in when she was...</td>\n",
              "      <td>singing and dancing</td>\n",
              "    </tr>\n",
              "    <tr>\n",
              "      <th>2</th>\n",
              "      <td>Beyoncé Giselle Knowles-Carter (/biːˈjɒnseɪ/ b...</td>\n",
              "      <td>When did Beyonce leave Destiny's Child and bec...</td>\n",
              "      <td>2003</td>\n",
              "    </tr>\n",
              "    <tr>\n",
              "      <th>3</th>\n",
              "      <td>Beyoncé Giselle Knowles-Carter (/biːˈjɒnseɪ/ b...</td>\n",
              "      <td>In what city and state did Beyonce  grow up?</td>\n",
              "      <td>Houston, Texas</td>\n",
              "    </tr>\n",
              "    <tr>\n",
              "      <th>4</th>\n",
              "      <td>Beyoncé Giselle Knowles-Carter (/biːˈjɒnseɪ/ b...</td>\n",
              "      <td>In which decade did Beyonce become famous?</td>\n",
              "      <td>late 1990s</td>\n",
              "    </tr>\n",
              "  </tbody>\n",
              "</table>\n",
              "</div>"
            ],
            "text/plain": [
              "                                             context  ...               answer\n",
              "0  Beyoncé Giselle Knowles-Carter (/biːˈjɒnseɪ/ b...  ...    in the late 1990s\n",
              "1  Beyoncé Giselle Knowles-Carter (/biːˈjɒnseɪ/ b...  ...  singing and dancing\n",
              "2  Beyoncé Giselle Knowles-Carter (/biːˈjɒnseɪ/ b...  ...                 2003\n",
              "3  Beyoncé Giselle Knowles-Carter (/biːˈjɒnseɪ/ b...  ...       Houston, Texas\n",
              "4  Beyoncé Giselle Knowles-Carter (/biːˈjɒnseɪ/ b...  ...           late 1990s\n",
              "\n",
              "[5 rows x 3 columns]"
            ]
          },
          "execution_count": 12,
          "metadata": {},
          "output_type": "execute_result"
        }
      ],
      "source": [
        "print(df.shape)\n",
        "df.head()"
      ]
    },
    {
      "cell_type": "code",
      "execution_count": null,
      "metadata": {
        "colab": {
          "base_uri": "https://localhost:8080/",
          "height": 102
        },
        "id": "4IefmuuRTaqJ",
        "outputId": "e77b74f3-e2b2-473f-9411-1beb0001be8d"
      },
      "outputs": [
        {
          "data": {
            "application/vnd.google.colaboratory.intrinsic+json": {
              "type": "string"
            },
            "text/plain": [
              "'Beyoncé Giselle Knowles-Carter (/biːˈjɒnseɪ/ bee-YON-say) (born September 4, 1981) is an American singer, songwriter, record producer and actress. Born and raised in Houston, Texas, she performed in various singing and dancing competitions as a child, and rose to fame in the late 1990s as lead singer of R&B girl-group Destiny\\'s Child. Managed by her father, Mathew Knowles, the group became one of the world\\'s best-selling girl groups of all time. Their hiatus saw the release of Beyoncé\\'s debut album, Dangerously in Love (2003), which established her as a solo artist worldwide, earned five Grammy Awards and featured the Billboard Hot 100 number-one singles \"Crazy in Love\" and \"Baby Boy\".'"
            ]
          },
          "execution_count": 12,
          "metadata": {},
          "output_type": "execute_result"
        }
      ],
      "source": [
        "df.loc[0, \"context\"]"
      ]
    },
    {
      "cell_type": "code",
      "execution_count": 8,
      "metadata": {
        "id": "P9yW6VwLYHe_"
      },
      "outputs": [],
      "source": [
        "# now will save the data into a json type object\n",
        "with open(\"train_squad.json\", mode=\"w\", )as f:\n",
        "  json.dump(squad_list, f)"
      ]
    },
    {
      "cell_type": "code",
      "execution_count": 5,
      "metadata": {
        "id": "OqfWRqhLZGYx"
      },
      "outputs": [],
      "source": [
        "dev_list = []"
      ]
    },
    {
      "cell_type": "markdown",
      "metadata": {
        "id": "Q6jyI6hPkPmX"
      },
      "source": [
        "Making the data that for the dev into the format same as the \n",
        "train data."
      ]
    },
    {
      "cell_type": "code",
      "execution_count": 9,
      "metadata": {
        "id": "stJzT0ImYD8i"
      },
      "outputs": [],
      "source": [
        "# doing the dev to make it so that it is in the same format as the \n",
        "# train.\n",
        "for paragraph_dict in dev[\"data\"]:\n",
        "  for each_context_dict in paragraph_dict[\"paragraphs\"]:\n",
        "    context = each_context_dict[\"context\"]\n",
        "    for qa_pair_dict in each_context_dict[\"qas\"]:\n",
        "      if \"answers\" in qa_pair_dict and len(qa_pair_dict[\"answers\"]) > 0:\n",
        "        # doing the looping through the answers\n",
        "        answer_list = qa_pair_dict[\"answers\"]\n",
        "      elif \"plausible_answers\" in qa_pair_dict and len(qa_pair_dict[\"plausible_answers\"]) > 0:\n",
        "        answer_list = qa_pair_dict[\"plausible_answers\"]\n",
        "      else:\n",
        "        answer_list = []\n",
        "      # now doing the making of the list  \n",
        "      answer = [item[\"text\"] for item in answer_list]\n",
        "      # removing any duplicates\n",
        "      answer = list(set(answer))\n",
        "      \n",
        "      # adding to the dev list\n",
        "      dev_list.append({\"context\": context, \"question\": qa_pair_dict[\"question\"], \"answer\": answer})\n"
      ]
    },
    {
      "cell_type": "code",
      "execution_count": 11,
      "metadata": {
        "colab": {
          "base_uri": "https://localhost:8080/"
        },
        "id": "j7pjITdack2l",
        "outputId": "dd2b921d-5a82-4cf3-f20c-2eac0759cf03"
      },
      "outputs": [
        {
          "data": {
            "text/plain": [
              "11873"
            ]
          },
          "execution_count": 11,
          "metadata": {},
          "output_type": "execute_result"
        }
      ],
      "source": [
        "len(dev_list)"
      ]
    },
    {
      "cell_type": "code",
      "execution_count": null,
      "metadata": {
        "colab": {
          "base_uri": "https://localhost:8080/",
          "height": 293
        },
        "id": "b0E1pXQAhPlf",
        "outputId": "0b00a2e6-5bb6-4a4d-e57b-1ccbe330f939"
      },
      "outputs": [
        {
          "data": {
            "text/html": [
              "<div>\n",
              "<style scoped>\n",
              "    .dataframe tbody tr th:only-of-type {\n",
              "        vertical-align: middle;\n",
              "    }\n",
              "\n",
              "    .dataframe tbody tr th {\n",
              "        vertical-align: top;\n",
              "    }\n",
              "\n",
              "    .dataframe thead th {\n",
              "        text-align: right;\n",
              "    }\n",
              "</style>\n",
              "<table border=\"1\" class=\"dataframe\">\n",
              "  <thead>\n",
              "    <tr style=\"text-align: right;\">\n",
              "      <th></th>\n",
              "      <th>context</th>\n",
              "      <th>question</th>\n",
              "      <th>answer</th>\n",
              "    </tr>\n",
              "  </thead>\n",
              "  <tbody>\n",
              "    <tr>\n",
              "      <th>0</th>\n",
              "      <td>The Normans (Norman: Nourmands; French: Norman...</td>\n",
              "      <td>In what country is Normandy located?</td>\n",
              "      <td>[France]</td>\n",
              "    </tr>\n",
              "    <tr>\n",
              "      <th>1</th>\n",
              "      <td>The Normans (Norman: Nourmands; French: Norman...</td>\n",
              "      <td>When were the Normans in Normandy?</td>\n",
              "      <td>[in the 10th and 11th centuries, 10th and 11th...</td>\n",
              "    </tr>\n",
              "    <tr>\n",
              "      <th>2</th>\n",
              "      <td>The Normans (Norman: Nourmands; French: Norman...</td>\n",
              "      <td>From which countries did the Norse originate?</td>\n",
              "      <td>[Denmark, Iceland and Norway]</td>\n",
              "    </tr>\n",
              "    <tr>\n",
              "      <th>3</th>\n",
              "      <td>The Normans (Norman: Nourmands; French: Norman...</td>\n",
              "      <td>Who was the Norse leader?</td>\n",
              "      <td>[Rollo]</td>\n",
              "    </tr>\n",
              "    <tr>\n",
              "      <th>4</th>\n",
              "      <td>The Normans (Norman: Nourmands; French: Norman...</td>\n",
              "      <td>What century did the Normans first gain their ...</td>\n",
              "      <td>[10th century, 10th, the first half of the 10t...</td>\n",
              "    </tr>\n",
              "  </tbody>\n",
              "</table>\n",
              "</div>"
            ],
            "text/plain": [
              "                                             context  ...                                             answer\n",
              "0  The Normans (Norman: Nourmands; French: Norman...  ...                                           [France]\n",
              "1  The Normans (Norman: Nourmands; French: Norman...  ...  [in the 10th and 11th centuries, 10th and 11th...\n",
              "2  The Normans (Norman: Nourmands; French: Norman...  ...                      [Denmark, Iceland and Norway]\n",
              "3  The Normans (Norman: Nourmands; French: Norman...  ...                                            [Rollo]\n",
              "4  The Normans (Norman: Nourmands; French: Norman...  ...  [10th century, 10th, the first half of the 10t...\n",
              "\n",
              "[5 rows x 3 columns]"
            ]
          },
          "execution_count": 15,
          "metadata": {},
          "output_type": "execute_result"
        }
      ],
      "source": [
        "# building a dataframe of the dev_list\n",
        "dev_dataframe = pd.DataFrame(dev_list)\n",
        "dev_dataframe.head()"
      ]
    },
    {
      "cell_type": "code",
      "execution_count": 12,
      "metadata": {
        "id": "vihn4P5TdDnz"
      },
      "outputs": [],
      "source": [
        "# making a json file of the new formatted dev\n",
        "with open(\"dev_squad.json\", mode=\"w\")as f:\n",
        "  json.dump(dev_list, f)"
      ]
    },
    {
      "cell_type": "code",
      "execution_count": 13,
      "metadata": {
        "colab": {
          "base_uri": "https://localhost:8080/"
        },
        "id": "m-Y0pRdnad3v",
        "outputId": "f4c72f9c-6bec-4cfc-a659-857c8f89a65b"
      },
      "outputs": [],
      "source": [
        "# now making the first model \n",
        "#pip install transformers -q\n",
        "import transformers\n",
        "from transformers import BertForQuestionAnswering, BertTokenizer\n",
        "from transformers import pipeline"
      ]
    },
    {
      "cell_type": "code",
      "execution_count": 14,
      "metadata": {
        "colab": {
          "base_uri": "https://localhost:8080/",
          "height": 177,
          "referenced_widgets": [
            "c4e5640c517c443da3ceb76eb49de7c8",
            "98b574a1ded440978c717cc7c35dc78d",
            "76e976efc9ae4d678d13918d651cd89d",
            "5fc759e5c73143ae94f80649e28968f4",
            "80484f82f7ef4162b4522aa746950f92",
            "586e381cea5e4f329c48679933357fa9",
            "0ffdc07a8d1840c6a357b0ba6f65ffca",
            "317fe5086b5c44b894e7c99401410423",
            "f91c483c23dd40909e39cc5bbfe241c7",
            "5c453fd0e4ef4a29b9a58626a0b86e2d",
            "4179fefe340146ddb1ce8e11f2d43a61",
            "8fa970e6430d4f5c9c7b5e9314b3e25c",
            "c2831eefd11e4e52a1d7aedc48afa392",
            "d72b8cc6cbd64918ae86552c8a943ddb",
            "89aefa75d3f14f4c828918f83432be64",
            "c59632967b724a47bb8e667edeb9437c",
            "1dc9f2a63dd34362ad3044a1c1fd8749",
            "9c30bf8560bf4a5dbf49c30ffc1b4373",
            "2ac553618f0540529c333c2e906ad3db",
            "ccbacb9bef704c058372b609785c386f",
            "8d9b05a039f546a1970c4b298b86d559",
            "1248ae20b7284c9596a342cec0f63743",
            "43d2a1b5d295449bacab5ccdd5560b85",
            "d9c84a3f53214b17b452df146f4ee2f1",
            "f9620e1e82f140e494f39ab096242722",
            "dbcf61a779cc42bbad1be38fa7ec1dbd",
            "39ded2b5f8f0430a90706d700779801e",
            "2deeb39af8cb43adadcad272d66b8f7b",
            "8504289d47004db8974a9c2d0097f971",
            "b36c4ee0e38a4ced8dfdffb0f79c44af",
            "81a2a5bf720f42058f6f1a61dde7405f",
            "1651b40eda79450ea1334c6bda451b06",
            "5242e80d04fe4622be7afb86fa06fda2",
            "787dce59256342ffa2673ed897c553eb",
            "6011c86b87af44159892c2c4f0705d5b",
            "59d0aa0b430b4fa8a18c0420e35fb6ce",
            "b8b878c693fa42d393551c7f17058e47",
            "0957f12ab3834aef8da1776cc2a6c665",
            "4e3f7efc0dc442bf8f439b5f15b6ca58",
            "8f34b48e83a944a48ea7f32d16318694",
            "0f1216dbe2844b32a4e5f9dc86f3303b",
            "4151da2322d34f11baa27f2c46433abd",
            "8206ff5d1b224a489973604665cc9128",
            "860ffba8d99e4d49bf8424f70425af2c",
            "de35601de65d405d978855c50f19469f",
            "5a514685ca264957ae003bb850d7157b",
            "4a279d6e7d574fbbb079265d73ed37d6",
            "0efb589101df43ba92392c2a8b6150b3",
            "859258ad54a741a3a385f45645c5ade6",
            "acda8259b0474149960b92e8a6df2e50",
            "84673f846dd2435d8fc1c0a5e5b4a09a",
            "e92070d9d3e748e5bac6181221c58fb4",
            "83d3142b27c54408ae8f14cbecf93274",
            "78d9bbe010a54463a05e9f90332d71e9",
            "9cc148f5bcc94e1b9bd3d1f1bbf01784"
          ]
        },
        "id": "c5A37iDxa2NH",
        "outputId": "85bab63e-14bb-4279-d98e-89c64e817834"
      },
      "outputs": [],
      "source": [
        "# making the model\n",
        "model = BertForQuestionAnswering.from_pretrained(\"deepset/bert-base-cased-squad2\")\n",
        "tokenizer = BertTokenizer.from_pretrained(\"deepset/bert-base-cased-squad2\")"
      ]
    },
    {
      "cell_type": "code",
      "execution_count": 18,
      "metadata": {
        "colab": {
          "base_uri": "https://localhost:8080/"
        },
        "id": "xawD2Cv2-R7l",
        "outputId": "49456900-2861-4cae-bc25-57252e4757a1"
      },
      "outputs": [
        {
          "data": {
            "text/plain": [
              "[{'context': 'Beyoncé Giselle Knowles-Carter (/biːˈjɒnseɪ/ bee-YON-say) (born September 4, 1981) is an American singer, songwriter, record producer and actress. Born and raised in Houston, Texas, she performed in various singing and dancing competitions as a child, and rose to fame in the late 1990s as lead singer of R&B girl-group Destiny\\'s Child. Managed by her father, Mathew Knowles, the group became one of the world\\'s best-selling girl groups of all time. Their hiatus saw the release of Beyoncé\\'s debut album, Dangerously in Love (2003), which established her as a solo artist worldwide, earned five Grammy Awards and featured the Billboard Hot 100 number-one singles \"Crazy in Love\" and \"Baby Boy\".',\n",
              "  'question': 'When did Beyonce start becoming popular?',\n",
              "  'answer': 'in the late 1990s'},\n",
              " {'context': 'Beyoncé Giselle Knowles-Carter (/biːˈjɒnseɪ/ bee-YON-say) (born September 4, 1981) is an American singer, songwriter, record producer and actress. Born and raised in Houston, Texas, she performed in various singing and dancing competitions as a child, and rose to fame in the late 1990s as lead singer of R&B girl-group Destiny\\'s Child. Managed by her father, Mathew Knowles, the group became one of the world\\'s best-selling girl groups of all time. Their hiatus saw the release of Beyoncé\\'s debut album, Dangerously in Love (2003), which established her as a solo artist worldwide, earned five Grammy Awards and featured the Billboard Hot 100 number-one singles \"Crazy in Love\" and \"Baby Boy\".',\n",
              "  'question': 'What areas did Beyonce compete in when she was growing up?',\n",
              "  'answer': 'singing and dancing'},\n",
              " {'context': 'Beyoncé Giselle Knowles-Carter (/biːˈjɒnseɪ/ bee-YON-say) (born September 4, 1981) is an American singer, songwriter, record producer and actress. Born and raised in Houston, Texas, she performed in various singing and dancing competitions as a child, and rose to fame in the late 1990s as lead singer of R&B girl-group Destiny\\'s Child. Managed by her father, Mathew Knowles, the group became one of the world\\'s best-selling girl groups of all time. Their hiatus saw the release of Beyoncé\\'s debut album, Dangerously in Love (2003), which established her as a solo artist worldwide, earned five Grammy Awards and featured the Billboard Hot 100 number-one singles \"Crazy in Love\" and \"Baby Boy\".',\n",
              "  'question': \"When did Beyonce leave Destiny's Child and become a solo singer?\",\n",
              "  'answer': '2003'},\n",
              " {'context': 'Beyoncé Giselle Knowles-Carter (/biːˈjɒnseɪ/ bee-YON-say) (born September 4, 1981) is an American singer, songwriter, record producer and actress. Born and raised in Houston, Texas, she performed in various singing and dancing competitions as a child, and rose to fame in the late 1990s as lead singer of R&B girl-group Destiny\\'s Child. Managed by her father, Mathew Knowles, the group became one of the world\\'s best-selling girl groups of all time. Their hiatus saw the release of Beyoncé\\'s debut album, Dangerously in Love (2003), which established her as a solo artist worldwide, earned five Grammy Awards and featured the Billboard Hot 100 number-one singles \"Crazy in Love\" and \"Baby Boy\".',\n",
              "  'question': 'In what city and state did Beyonce  grow up? ',\n",
              "  'answer': 'Houston, Texas'},\n",
              " {'context': 'Beyoncé Giselle Knowles-Carter (/biːˈjɒnseɪ/ bee-YON-say) (born September 4, 1981) is an American singer, songwriter, record producer and actress. Born and raised in Houston, Texas, she performed in various singing and dancing competitions as a child, and rose to fame in the late 1990s as lead singer of R&B girl-group Destiny\\'s Child. Managed by her father, Mathew Knowles, the group became one of the world\\'s best-selling girl groups of all time. Their hiatus saw the release of Beyoncé\\'s debut album, Dangerously in Love (2003), which established her as a solo artist worldwide, earned five Grammy Awards and featured the Billboard Hot 100 number-one singles \"Crazy in Love\" and \"Baby Boy\".',\n",
              "  'question': 'In which decade did Beyonce become famous?',\n",
              "  'answer': 'late 1990s'}]"
            ]
          },
          "execution_count": 18,
          "metadata": {},
          "output_type": "execute_result"
        }
      ],
      "source": [
        "# the span of the questions that we will send into the tokenizer\n",
        "my_span = squad_list[:5]\n",
        "my_span"
      ]
    },
    {
      "cell_type": "code",
      "execution_count": 19,
      "metadata": {
        "id": "v4sivJnl_Asz"
      },
      "outputs": [],
      "source": [
        "# putting the \n",
        "questions = [item[\"question\"] for item in my_span]\n",
        "contexts = [item[\"context\"] for item in my_span]\n",
        "answers = [item[\"answer\"] for item in my_span]"
      ]
    },
    {
      "cell_type": "code",
      "execution_count": 16,
      "metadata": {
        "id": "-h-HIrvG_8Cv"
      },
      "outputs": [],
      "source": [
        "# making the function that will make the \"token_type_ids\"\n",
        "# The token type ids are used by hugging face to use the bert model\n",
        "# to answer the question.\n",
        "def get_token_type_ids(input_id:list):\n",
        "  t_index = input_id.index(tokenizer.sep_token_id)\n",
        "  # everything from 0 upto and including the sep token are in the first segment\n",
        "  front = [0] * t_index\n",
        "  back = [1] * (len(input_id) - len(front))\n",
        "  c = front + back\n",
        "  return c"
      ]
    },
    {
      "cell_type": "code",
      "execution_count": null,
      "metadata": {
        "colab": {
          "base_uri": "https://localhost:8080/"
        },
        "id": "GW5TO6urAG6h",
        "outputId": "41bb205f-01d6-4e7b-c2a1-cd011d5de769"
      },
      "outputs": [
        {
          "data": {
            "text/plain": [
              "['When did Beyonce start becoming popular?',\n",
              " 'What areas did Beyonce compete in when she was growing up?',\n",
              " \"When did Beyonce leave Destiny's Child and become a solo singer?\",\n",
              " 'In what city and state did Beyonce  grow up? ',\n",
              " 'In which decade did Beyonce become famous?']"
            ]
          },
          "execution_count": 22,
          "metadata": {},
          "output_type": "execute_result"
        }
      ],
      "source": [
        "questions"
      ]
    },
    {
      "cell_type": "code",
      "execution_count": null,
      "metadata": {
        "colab": {
          "base_uri": "https://localhost:8080/"
        },
        "id": "p0_L1vGh9hIf",
        "outputId": "beb92d8e-05a7-4eda-a7b6-313c7151c20a"
      },
      "outputs": [
        {
          "name": "stdout",
          "output_type": "stream",
          "text": [
            "The type of the input_ids is <class 'list'>\n",
            "The length of the input_ids is: 173\n"
          ]
        }
      ],
      "source": [
        "# doing some encoding of the text\n",
        "input_ids = tokenizer.encode(questions[0], contexts[0])\n",
        "t = len(input_ids)\n",
        "print(f\"The type of the input_ids is {type(input_ids)}\")\n",
        "print(f\"The length of the input_ids is: {t}\")\n"
      ]
    },
    {
      "cell_type": "code",
      "execution_count": null,
      "metadata": {
        "colab": {
          "base_uri": "https://localhost:8080/"
        },
        "id": "9Qnkm8qXAA1R",
        "outputId": "eb8fe5dd-27dd-4927-9939-81beea9eacbe"
      },
      "outputs": [
        {
          "data": {
            "text/plain": [
              "101"
            ]
          },
          "execution_count": 50,
          "metadata": {},
          "output_type": "execute_result"
        }
      ],
      "source": [
        "tokenizer.cls_token_id"
      ]
    },
    {
      "cell_type": "code",
      "execution_count": null,
      "metadata": {
        "colab": {
          "base_uri": "https://localhost:8080/",
          "height": 86
        },
        "id": "9KVItzTflesz",
        "outputId": "34b99bf3-d94c-4669-a084-c0614a9d0ca1"
      },
      "outputs": [
        {
          "data": {
            "application/vnd.google.colaboratory.intrinsic+json": {
              "type": "string"
            },
            "text/plain": [
              "'Beyoncé Giselle Knowles-Carter (/biːˈjɒnseɪ/ bee-YON-say) (born September 4, 1981) is an American singer, songwriter, record producer and actress. Born and raised in Houston, Texas, she performed in various singing and dancing competitions as a child, and rose to fame in the late 1990s as lead singer of R&B girl-group Destiny\\'s Child. Managed by her father, Mathew Knowles, the group became one of the world\\'s best-selling girl groups of all time. Their hiatus saw the release of Beyoncé\\'s debut album, Dangerously in Love (2003), which established her as a solo artist worldwide, earned five Grammy Awards and featured the Billboard Hot 100 number-one singles \"Crazy in Love\" and \"Baby Boy\".'"
            ]
          },
          "execution_count": 68,
          "metadata": {},
          "output_type": "execute_result"
        }
      ],
      "source": [
        "contexts[0]"
      ]
    },
    {
      "cell_type": "code",
      "execution_count": 17,
      "metadata": {
        "id": "O0hxd1CCC2FC"
      },
      "outputs": [],
      "source": [
        "# making a function that will be doing the encoding and print out the \n",
        "# question and the answers\n",
        "\n",
        "\n",
        "def answer_question(question:[list, str], context:[list, str], \n",
        "                    show_real_answer: Optional[Union[list, str]]=None, printing=True):\n",
        "  # single context is a flag to wheather their is just on context for all \n",
        "  # the questions\n",
        "  \"\"\"\n",
        "  question:  These are the questions passed in can be a string or a list of strings.\n",
        "\n",
        "  context:  The context:  can be a list of strings or just one string to be used repeatedly\n",
        "  for each of the questions.\n",
        "\n",
        "  show_real_answer:  if not None then will be a list of the real answers or just a single answer\n",
        "  that will be printed out with the predicted answer.\n",
        "\n",
        "  print:   if set to False then the answer and the question and the real_answer are \n",
        "  returned in a dictionary if return_as_dict is set to true or else they are \n",
        "  returned as part of a generator.\n",
        "\n",
        " \n",
        "\n",
        "  \"\"\"\n",
        "  \n",
        "  single_context = True\n",
        "  imput_ids = None\n",
        "  qa = None \n",
        "\n",
        "  if printing == False:\n",
        "    qa = {\"pred_ans\":[],\n",
        "                   \"questions\":[]}\n",
        "    if show_real_answer != None:\n",
        "      qa[\"true_ans\"] = []\n",
        "\n",
        "  if isinstance(context, list):\n",
        "    single_context = False\n",
        "\n",
        "  if not isinstance(question, list):\n",
        "    question = [question]\n",
        "\n",
        "  if isinstance(show_real_answer, str):\n",
        "    show_real_answer = [show_real_answer]\n",
        "  \n",
        "  \n",
        "  # running the for loop\n",
        "  for i, q in enumerate(question):\n",
        "    if single_context:\n",
        "      input_ids = tokenizer.encode(q,context, # padding=\"max_length\", \n",
        "                                   truncation=True,)\n",
        "    else:\n",
        "      input_ids = tokenizer.encode(q, context[i], # padding=\"max_length\", \n",
        "                                   truncation=True,\n",
        "                                   )\n",
        "    \n",
        "    # now getting the list of \"token_type_ids\"\n",
        "    token_type_ids = get_token_type_ids(input_ids)\n",
        "\n",
        "    if len(input_ids) != len(token_type_ids):\n",
        "      continue \n",
        "    # running them in the model\n",
        "    output = model(torch.tensor([input_ids]), \n",
        "                   token_type_ids=torch.tensor([token_type_ids]), return_dict=True)\n",
        "    # getting the span\n",
        "    start = output.start_logits\n",
        "    end = output.end_logits\n",
        "    # creating the span\n",
        "    answer_start = torch.argmax(start)\n",
        "    answer_end = torch.argmax(end) + 1 # the + 1 is added to make when doing a \n",
        "                                      # a span getting the right length\n",
        "\n",
        "    # getting the answer for the question\n",
        "    ans = tokenizer.decode(input_ids[answer_start: answer_end])\n",
        "    \n",
        "    if printing:\n",
        "      \n",
        "      # printing out the question and the answer\n",
        "      print(f\"question:  {q}\")\n",
        "      print(f\"answer:  {ans}\")\n",
        "      if show_real_answer:\n",
        "        print(f\"The real answer is:  {show_real_answer[i]}\")\n",
        "      print()\n",
        "    elif not printing:\n",
        "      # adding to the dictionary\n",
        "      qa[\"pred_ans\"].append(ans)\n",
        "      qa[\"questions\"].append(q)\n",
        "      if show_real_answer != None:\n",
        "        qa[\"true_ans\"].append(show_real_answer[i])\n",
        "\n",
        "  if not printing:\n",
        "    return qa\n",
        "    \n",
        "  "
      ]
    },
    {
      "cell_type": "code",
      "execution_count": 19,
      "metadata": {
        "colab": {
          "base_uri": "https://localhost:8080/"
        },
        "id": "zS9PY4LVeNuU",
        "outputId": "99453675-b760-4bed-9ff9-b53f30b18bbb"
      },
      "outputs": [
        {
          "name": "stdout",
          "output_type": "stream",
          "text": [
            "question:  When did Beyonce start becoming popular?\n",
            "answer:  late 1990s\n",
            "\n"
          ]
        }
      ],
      "source": [
        "# using the function above\n",
        "answer_question(question= questions[0], context=contexts[0])\n"
      ]
    },
    {
      "cell_type": "code",
      "execution_count": 20,
      "metadata": {
        "colab": {
          "base_uri": "https://localhost:8080/"
        },
        "id": "DEPRJe8Tirzp",
        "outputId": "cbfadd0b-4689-4c2e-c055-8dccae0fb0a1"
      },
      "outputs": [
        {
          "name": "stdout",
          "output_type": "stream",
          "text": [
            "question:  When did Beyonce start becoming popular?\n",
            "answer:  late 1990s\n",
            "The real answer is:  in the late 1990s\n",
            "\n",
            "question:  What areas did Beyonce compete in when she was growing up?\n",
            "answer:  singing and dancing\n",
            "The real answer is:  singing and dancing\n",
            "\n",
            "question:  When did Beyonce leave Destiny's Child and become a solo singer?\n",
            "answer:  2003\n",
            "The real answer is:  2003\n",
            "\n",
            "question:  In what city and state did Beyonce  grow up? \n",
            "answer:  Houston, Texas\n",
            "The real answer is:  Houston, Texas\n",
            "\n",
            "question:  In which decade did Beyonce become famous?\n",
            "answer:  1990s\n",
            "The real answer is:  late 1990s\n",
            "\n"
          ]
        }
      ],
      "source": [
        "# running through the first five in the squad\n",
        "answer_question(question=questions, context=contexts, show_real_answer=answers)"
      ]
    },
    {
      "cell_type": "code",
      "execution_count": 21,
      "metadata": {
        "id": "e_yNuzRkfA6g"
      },
      "outputs": [],
      "source": [
        "# now using the pipeline to do the same thing\n",
        "myPipe = pipeline(task=\"question-answering\", model=model, tokenizer=tokenizer)\n"
      ]
    },
    {
      "cell_type": "code",
      "execution_count": null,
      "metadata": {
        "colab": {
          "base_uri": "https://localhost:8080/"
        },
        "id": "hwMFLlwmfX_G",
        "outputId": "51830efe-75b0-4a0a-8b56-1e77a8fe9bb7"
      },
      "outputs": [
        {
          "data": {
            "text/plain": [
              "{'answer': 'late 1990s', 'end': 286, 'score': 0.562135636806488, 'start': 276}"
            ]
          },
          "execution_count": 22,
          "metadata": {},
          "output_type": "execute_result"
        }
      ],
      "source": [
        "# finding out the answer with the pipeline\n",
        "myPipe(context=contexts[0], question=questions[0])"
      ]
    },
    {
      "cell_type": "code",
      "execution_count": null,
      "metadata": {
        "colab": {
          "base_uri": "https://localhost:8080/"
        },
        "id": "Jra5ujV3g7Ez",
        "outputId": "f2b30d45-9df3-4bab-ff72-c23cf7e2f5fb"
      },
      "outputs": [
        {
          "name": "stdout",
          "output_type": "stream",
          "text": [
            "When did Beyonce start becoming popular?\n",
            "{'score': 0.562135636806488, 'start': 276, 'end': 286, 'answer': 'late 1990s'}\n",
            "The real answer is:  in the late 1990s\n",
            "\n",
            "What areas did Beyonce compete in when she was growing up?\n",
            "{'score': 0.9938411116600037, 'start': 207, 'end': 226, 'answer': 'singing and dancing'}\n",
            "The real answer is:  singing and dancing\n",
            "\n",
            "When did Beyonce leave Destiny's Child and become a solo singer?\n",
            "{'score': 0.996565580368042, 'start': 525, 'end': 532, 'answer': '(2003),'}\n",
            "The real answer is:  2003\n",
            "\n",
            "In what city and state did Beyonce  grow up? \n",
            "{'score': 0.8477826118469238, 'start': 166, 'end': 181, 'answer': 'Houston, Texas,'}\n",
            "The real answer is:  Houston, Texas\n",
            "\n",
            "In which decade did Beyonce become famous?\n",
            "{'score': 0.677906334400177, 'start': 281, 'end': 286, 'answer': '1990s'}\n",
            "The real answer is:  late 1990s\n",
            "\n"
          ]
        }
      ],
      "source": [
        "# using the pipe for the first five of the squad\n",
        "# dataset\n",
        "for i in range(5):\n",
        "  print(questions[i])\n",
        "  print(myPipe({\"question\":questions[i], \"context\":contexts[i]}))\n",
        "  print(f\"The real answer is:  {answers[i]}\")\n",
        "  print()"
      ]
    },
    {
      "cell_type": "code",
      "execution_count": 22,
      "metadata": {
        "colab": {
          "base_uri": "https://localhost:8080/"
        },
        "id": "nWTiHJp0jn1G",
        "outputId": "b028d69c-faa7-4f3c-c079-cc58af3b55d5"
      },
      "outputs": [
        {
          "name": "stdout",
          "output_type": "stream",
          "text": [
            "100\n"
          ]
        }
      ],
      "source": [
        "# will make another set of the questions and answers and context for about 100\n",
        "# in the squad list and then will run them through the answer function and will\n",
        "# total up the amount of exact matches\n",
        "qa = {\n",
        "    \"questions\":[],\n",
        "    \"answers\": [], \n",
        "    \"contexts\": []\n",
        "}\n",
        "for item in squad_list[:100]:\n",
        "  qa[\"questions\"].append(item[\"question\"])\n",
        "  qa[\"answers\"].append(item[\"answer\"])\n",
        "  qa[\"contexts\"].append(item[\"context\"])\n",
        "\n",
        "print(len(qa[\"contexts\"]))"
      ]
    },
    {
      "cell_type": "code",
      "execution_count": 22,
      "metadata": {
        "id": "o3Fc3YnCuqzw"
      },
      "outputs": [],
      "source": [
        "# running through the questions and the answers and add up the number\n",
        "# of exact matches.\n",
        "ans_dict = answer_question(question=qa[\"questions\"], show_real_answer=qa[\"answers\"], context=qa[\"contexts\"], printing=False)"
      ]
    },
    {
      "cell_type": "code",
      "execution_count": null,
      "metadata": {
        "id": "sy5_xCP1pK3S"
      },
      "outputs": [],
      "source": [
        "exact_match = [] # this list will contain weather there is an exact match\n",
        "                # 1 will be appended if is an exact match and 0 if not.\n",
        "for i in range(len(ans_dict[\"questions\"])):\n",
        "  if ans_dict[\"pred_ans\"][i] == ans_dict[\"true_ans\"][i]:\n",
        "    exact_match.append(1)\n",
        "  else:\n",
        "    exact_match.append(0)"
      ]
    },
    {
      "cell_type": "code",
      "execution_count": null,
      "metadata": {
        "colab": {
          "base_uri": "https://localhost:8080/"
        },
        "id": "1K07XL8ipNwu",
        "outputId": "ddc454af-2183-49de-bb8f-5b0de8bd00fc"
      },
      "outputs": [
        {
          "name": "stdout",
          "output_type": "stream",
          "text": [
            "0  pred = late 1990s   true = in the late 1990s\n",
            "1  pred = singing and dancing   true = singing and dancing\n",
            "1  pred = 2003   true = 2003\n",
            "1  pred = Houston, Texas   true = Houston, Texas\n",
            "0  pred = 1990s   true = late 1990s\n",
            "1  pred = Destiny's Child   true = Destiny's Child\n",
            "1  pred = Dangerously in Love   true = Dangerously in Love\n",
            "1  pred = Mathew Knowles   true = Mathew Knowles\n",
            "1  pred = late 1990s   true = late 1990s\n",
            "1  pred = lead singer   true = lead singer\n",
            "1  pred = Dangerously in Love   true = Dangerously in Love\n",
            "1  pred = 2003   true = 2003\n",
            "1  pred = five   true = five\n",
            "1  pred = lead singer   true = lead singer\n",
            "1  pred = Dangerously in Love   true = Dangerously in Love\n",
            "1  pred = acting   true = acting\n",
            "1  pred = Jay Z   true = Jay Z\n",
            "1  pred = six   true = six\n",
            "1  pred = Dreamgirls   true = Dreamgirls\n",
            "1  pred = 2010   true = 2010\n",
            "1  pred = Beyoncé   true = Beyoncé\n",
            "1  pred = Cadillac Records   true = Cadillac Records\n",
            "1  pred = June 2005   true = June 2005\n",
            "1  pred = B'Day   true = B'Day\n",
            "1  pred = Dreamgirls   true = Dreamgirls\n",
            "1  pred = Jay Z   true = Jay Z\n",
            "1  pred = Sasha Fierce   true = Sasha Fierce\n",
            "1  pred = love, relationships, and monogamy   true = love, relationships, and monogamy\n",
            "1  pred = influential   true = influential\n",
            "1  pred = Forbes   true = Forbes\n",
            "1  pred = 2000s   true = 2000s\n",
            "1  pred = Forbes   true = Forbes\n",
            "0  pred = modern - day feminist   true = modern-day feminist\n",
            "1  pred = 2013 and 2014   true = 2013 and 2014\n",
            "1  pred = 118 million   true = 118 million\n",
            "1  pred = 60 million   true = 60 million\n",
            "1  pred = 118 million   true = 118 million\n",
            "1  pred = 20   true = 20\n",
            "1  pred = Forbes   true = Forbes\n",
            "1  pred = Destiny's Child   true = Destiny's Child\n",
            "1  pred = her mother's maiden name   true = her mother's maiden name\n",
            "0  pred = African - American   true = African-American\n",
            "1  pred = Methodist   true = Methodist\n",
            "1  pred = Xerox   true = Xerox\n",
            "1  pred = hairdresser and salon owner   true = hairdresser and salon owner\n",
            "1  pred = Solange   true = Solange\n",
            "1  pred = Joseph Broussard   true = Joseph Broussard\n",
            "1  pred = Xerox   true = Xerox\n",
            "1  pred = salon   true = salon\n",
            "1  pred = Solange   true = Solange\n",
            "0  pred = Joseph Broussard   true = Joseph Broussard.\n",
            "1  pred = Methodist   true = Methodist\n",
            "1  pred = Fredericksburg   true = Fredericksburg\n",
            "1  pred = Darlette Johnson   true = Darlette Johnson\n",
            "1  pred = Houston   true = Houston\n",
            "1  pred = dance instructor Darlette Johnson   true = dance instructor Darlette Johnson\n",
            "1  pred = St. John's United Methodist Church   true = St. John's United Methodist Church\n",
            "1  pred = music magnet school   true = music magnet school\n",
            "1  pred = Imagine   true = Imagine\n",
            "1  pred = Fredericksburg   true = Fredericksburg\n",
            "1  pred = Darlette Johnson   true = Darlette Johnson\n",
            "1  pred = seven   true = seven\n",
            "1  pred = St. John's United Methodist Church   true = St. John's United Methodist Church\n",
            "1  pred = Arne Frager   true = Arne Frager\n",
            "1  pred = Beyoncé's father   true = Beyoncé's father\n",
            "1  pred = Elektra Records   true = Elektra Records\n",
            "1  pred = Arne Frager   true = Arne Frager\n",
            "1  pred = 1995   true = 1995\n",
            "1  pred = Sony Music   true = Sony Music\n",
            "1  pred = Elektra Records   true = Elektra Records\n",
            "0  pred = eight   true = age eight\n",
            "1  pred = eight   true = eight\n",
            "1  pred = Girl's Tyme   true = Girl's Tyme\n",
            "1  pred = Arne Frager   true = Arne Frager\n",
            "1  pred = 1995   true = 1995\n",
            "1  pred = Dwayne Wiggins's Grass Roots Entertainment   true = Dwayne Wiggins's Grass Roots Entertainment\n",
            "1  pred = Men in Black   true = Men in Black\n",
            "0  pred = Say My Name \"   true = \"Say My Name\"\n",
            "1  pred = Marc Nelson   true = Marc Nelson\n",
            "1  pred = 1996   true = 1996\n",
            "1  pred = Book of Isaiah   true = Book of Isaiah\n",
            "1  pred = Men in Black   true = Men in Black\n",
            "1  pred = Say My Name   true = Say My Name\n",
            "1  pred = Marc Nelson   true = Marc Nelson\n",
            "0  pred = Book of Isaiah   true = Book of Isaiah.\n",
            "1  pred = Men in Black.   true = Men in Black.\n",
            "1  pred = No, No, No   true = No, No, No\n",
            "1  pred = 1999   true = 1999\n",
            "1  pred = Marc Nelson   true = Marc Nelson\n",
            "1  pred = depression   true = depression\n",
            "0  pred = Her long - standing boyfriend left her   true = boyfriend left her\n",
            "1  pred = her mother   true = her mother\n",
            "0  pred = split with Luckett and Roberson   true = split with Luckett and Rober\n",
            "1  pred = a couple of years   true = a couple of years\n",
            "1  pred = her mother   true = her mother\n",
            "1  pred = Farrah Franklin and Michelle Williams.   true = Farrah Franklin and Michelle Williams.\n",
            "1  pred = Beyoncé   true = Beyoncé\n",
            "1  pred = her mother   true = her mother\n",
            "1  pred = Farrah Franklin   true = Farrah Franklin\n",
            "1  pred = Independent Women Part I   true = Independent Women Part I\n"
          ]
        }
      ],
      "source": [
        "for i in range(len(ans_dict[\"questions\"])):\n",
        "  pred = ans_dict[\"pred_ans\"][i]\n",
        "  ans = ans_dict[\"true_ans\"][i]\n",
        "  print(f\"{exact_match[i]}  pred = {pred}   true = {ans}\")"
      ]
    },
    {
      "cell_type": "code",
      "execution_count": null,
      "metadata": {
        "colab": {
          "base_uri": "https://localhost:8080/"
        },
        "id": "7QnVfhCpr2Bz",
        "outputId": "5458102e-c1ac-4e1b-aed2-267a5be4679a"
      },
      "outputs": [
        {
          "name": "stdout",
          "output_type": "stream",
          "text": [
            "Out of 100, 90 are an exact match making the percentage as 90.0%\n"
          ]
        }
      ],
      "source": [
        "# summing up the exact_match\n",
        "the_sum = sum(exact_match)\n",
        "the_sum\n",
        "\n",
        "theLen = len(exact_match)\n",
        "# the percentage of exact match\n",
        "print(f\"Out of {theLen}, {the_sum} are an exact match making the percentage as {(the_sum/theLen) * 100}%\")"
      ]
    },
    {
      "cell_type": "code",
      "execution_count": 2,
      "metadata": {
        "id": "AdoVEuNqvSq_"
      },
      "outputs": [],
      "source": [
        "# we are going to regex to filter out those matches of punctuations and such\n",
        "import re"
      ]
    },
    {
      "cell_type": "code",
      "execution_count": 23,
      "metadata": {
        "id": "5cx5dA9KiYu_"
      },
      "outputs": [],
      "source": [
        "exact_match = []\n",
        "# looping from the predicted and true answers found in the dictionary\n",
        "for i in range(len(ans_dict[\"pred_ans\"])):\n",
        "  pred = re.sub(\"[^0-9a-z ]\", \"\", ans_dict[\"pred_ans\"][i].lower())\n",
        "  true = re.sub(\"[^0-9a-z ]\", \"\", ans_dict[\"true_ans\"][i].lower())\n",
        "\n",
        "  if pred == true:\n",
        "    exact_match.append(1)\n",
        "  else:\n",
        "    exact_match.append(0)\n"
      ]
    },
    {
      "cell_type": "code",
      "execution_count": 24,
      "metadata": {
        "colab": {
          "base_uri": "https://localhost:8080/"
        },
        "id": "_PC0Q8jElDpD",
        "outputId": "d408668c-9fcc-4c28-a47d-1262f3a38146"
      },
      "outputs": [
        {
          "name": "stdout",
          "output_type": "stream",
          "text": [
            "The number of exact matches is 92\n"
          ]
        }
      ],
      "source": [
        "# checking to see if this will change the number of correct matches\n",
        "the_sum = sum(exact_match)\n",
        "print(f\"The number of exact matches is {the_sum}\")"
      ]
    },
    {
      "cell_type": "markdown",
      "metadata": {
        "id": "h5XPOJobmb9J"
      },
      "source": [
        "Going to use the ROUGE to check the exact match."
      ]
    },
    {
      "cell_type": "code",
      "execution_count": 3,
      "metadata": {
        "id": "7WF0ltFVmbpp"
      },
      "outputs": [
        {
          "name": "stdout",
          "output_type": "stream",
          "text": [
            "Note: you may need to restart the kernel to use updated packages.\n"
          ]
        }
      ],
      "source": [
        "pip install rouge -q"
      ]
    },
    {
      "cell_type": "code",
      "execution_count": 13,
      "metadata": {
        "id": "mhiJ73pTm0YZ"
      },
      "outputs": [],
      "source": [
        "from rouge import  Rouge"
      ]
    },
    {
      "cell_type": "code",
      "execution_count": 32,
      "metadata": {
        "colab": {
          "base_uri": "https://localhost:8080/"
        },
        "id": "h1ZaeeTSm5cg",
        "outputId": "bfc947e2-bd0f-4aa5-ec09-fe4712dc25e9"
      },
      "outputs": [
        {
          "data": {
            "text/plain": [
              "[{'rouge-1': {'f': 0.6666666617283951, 'p': 0.6, 'r': 0.75},\n",
              "  'rouge-2': {'f': 0.5714285665306124, 'p': 0.5, 'r': 0.6666666666666666},\n",
              "  'rouge-l': {'f': 0.6666666617283951, 'p': 0.6, 'r': 0.75}}]"
            ]
          },
          "execution_count": 32,
          "metadata": {},
          "output_type": "execute_result"
        }
      ],
      "source": [
        "# checking of the difference between two different outputs\n",
        "model_output = \"hello how are you doing?\"\n",
        "real = \"hello how are you?\"\n",
        "\n",
        "rouge = Rouge()\n",
        "\n",
        "rouge.get_scores(model_output, real)"
      ]
    },
    {
      "cell_type": "markdown",
      "metadata": {
        "id": "AvMYO9sNpLKW"
      },
      "source": [
        "Now Using the ROUGE to get scores from the model used above"
      ]
    },
    {
      "cell_type": "code",
      "execution_count": null,
      "metadata": {
        "colab": {
          "base_uri": "https://localhost:8080/"
        },
        "id": "FOpgy-0hn3Vf",
        "outputId": "ff795a3f-2be3-4841-ac47-a9f11e23b8b0"
      },
      "outputs": [
        {
          "data": {
            "text/plain": [
              "{'rouge-1': {'f': 0.999999995, 'p': 1.0, 'r': 1.0},\n",
              " 'rouge-2': {'f': 0.999999995, 'p': 1.0, 'r': 1.0},\n",
              " 'rouge-l': {'f': 0.999999995, 'p': 1.0, 'r': 1.0}}"
            ]
          },
          "execution_count": 117,
          "metadata": {},
          "output_type": "execute_result"
        }
      ],
      "source": [
        "rouge.get_scores(hyps=pred,  refs=true, avg=True)\n"
      ]
    },
    {
      "cell_type": "code",
      "execution_count": null,
      "metadata": {
        "id": "y4qrsqMoqcJT"
      },
      "outputs": [],
      "source": [
        "from tqdm import  tqdm"
      ]
    },
    {
      "cell_type": "code",
      "execution_count": 18,
      "metadata": {
        "id": "XzgPn-8IvIcX"
      },
      "outputs": [],
      "source": [
        "# making a list of the context and the questions and the true_ans\n",
        "answers = [item[\"answer\"] for item in squad_list]\n",
        "questions = [item[\"question\"] for item in squad_list]\n",
        "contexts = [item[\"context\"] for item in squad_list]"
      ]
    },
    {
      "cell_type": "code",
      "execution_count": null,
      "metadata": {
        "id": "XvfH58n0vmBF"
      },
      "outputs": [],
      "source": [
        "# {\"context\": context, \"question\": qa_pair_dict[\"question\"], \"answer\": answer}"
      ]
    },
    {
      "cell_type": "code",
      "execution_count": 27,
      "metadata": {
        "id": "5JNScHJutX1A"
      },
      "outputs": [],
      "source": [
        "# using the answer_question to now do it for 10,000\n",
        "the_dict = {\"true\":[],\n",
        "            \"pred\":[]\n",
        "            }\n",
        "ans = answer_question(question=questions[:10000], context=contexts[:10000], printing=False, show_real_answer=answers[:10000])\n",
        "\n",
        "\n",
        "  \n",
        "  \n",
        "\n"
      ]
    },
    {
      "cell_type": "code",
      "execution_count": null,
      "metadata": {},
      "outputs": [],
      "source": [
        "# now saving the ans so we don't have to run the above \n",
        "# again\n",
        "with open(\"squad_ans\", mode=\"wb\") as f:\n",
        "    pickle.dump(ans, f)"
      ]
    },
    {
      "cell_type": "code",
      "execution_count": 9,
      "metadata": {},
      "outputs": [],
      "source": [
        "# bringing back from the file the ans that is found in \"squad_ans\"\n",
        "with open(\"squad_ans\", mode=\"rb\") as f:\n",
        "    ans = pickle.load(f)"
      ]
    },
    {
      "cell_type": "code",
      "execution_count": 10,
      "metadata": {},
      "outputs": [
        {
          "data": {
            "text/plain": [
              "dict_keys(['pred_ans', 'questions', 'true_ans'])"
            ]
          },
          "execution_count": 10,
          "metadata": {},
          "output_type": "execute_result"
        }
      ],
      "source": [
        "ans.keys()"
      ]
    },
    {
      "cell_type": "code",
      "execution_count": 11,
      "metadata": {
        "id": "BABoJFtHkfvI"
      },
      "outputs": [],
      "source": [
        "# compiling a regex that will be used to clean the lists\n",
        "# this one will find all things that are not letters and numbers and remove them\n",
        "clean_compile = re.compile(\"(?i)[^0-9a-z\\s]\")\n",
        "\n",
        "pred_ans = [clean_compile.sub(\" \", text) for text in ans[\"pred_ans\"]]\n",
        "true_ans = [clean_compile.sub(\" \", text) for text in ans[\"true_ans\"]]"
      ]
    },
    {
      "cell_type": "code",
      "execution_count": 12,
      "metadata": {},
      "outputs": [
        {
          "data": {
            "text/plain": [
              "['late 1990s', 'singing and dancing', '2003', 'Houston  Texas']"
            ]
          },
          "execution_count": 12,
          "metadata": {},
          "output_type": "execute_result"
        }
      ],
      "source": [
        "# looking at the result of the the regex did to clean the pred_ans and the true_ans\n",
        "pred_ans[:4]"
      ]
    },
    {
      "cell_type": "code",
      "execution_count": 16,
      "metadata": {},
      "outputs": [],
      "source": [
        "# will now be putting \"None\" in the hypothesis (pred_ans) when there is an empty string\n",
        "# doing another compiled regex\n",
        "re_compiled = re.compile(\"(?i)[0-9a-z]\")"
      ]
    },
    {
      "cell_type": "code",
      "execution_count": 17,
      "metadata": {},
      "outputs": [],
      "source": [
        "# looking for those that have empty string as the answer in the pred and replace with \"None\"\n",
        "for i in range(len(pred_ans)):\n",
        "  val = re_compiled.search(pred_ans[i])\n",
        "  if val == None:\n",
        "    pred_ans[i] = \"None\""
      ]
    },
    {
      "cell_type": "code",
      "execution_count": 18,
      "metadata": {},
      "outputs": [
        {
          "data": {
            "text/plain": [
              "{'rouge-1': {'f': 0.7677928999531958,\n",
              "  'p': 0.7727694855716959,\n",
              "  'r': 0.7747437797433163},\n",
              " 'rouge-2': {'f': 0.5134928407486966,\n",
              "  'p': 0.5179205629224809,\n",
              "  'r': 0.5172526962878883},\n",
              " 'rouge-l': {'f': 0.768314507202797,\n",
              "  'p': 0.7731343759144244,\n",
              "  'r': 0.7750138638485702}}"
            ]
          },
          "execution_count": 18,
          "metadata": {},
          "output_type": "execute_result"
        }
      ],
      "source": [
        "# looking to see what the similarity of the the true and the pred ans are\n",
        "rouge = Rouge()\n",
        "rouge.get_scores(pred_ans, true_ans, avg=True)"
      ]
    },
    {
      "cell_type": "code",
      "execution_count": 19,
      "metadata": {},
      "outputs": [],
      "source": [
        "# getting the files where the lists will be saved \n",
        "with open(\"pred_ans_list\", mode=\"wb\") as f:\n",
        "    pickle.dump(pred_ans, f)\n",
        "\n",
        "with open(\"true_ans_list\", mode=\"wb\")as f:\n",
        "    pickle.dump(true_ans, f)"
      ]
    },
    {
      "cell_type": "markdown",
      "metadata": {},
      "source": [
        "Saving the questions for each of the answers"
      ]
    },
    {
      "cell_type": "code",
      "execution_count": 20,
      "metadata": {},
      "outputs": [],
      "source": [
        "with open(\"questions_list\", mode=\"wb\")as f:\n",
        "    pickle.dump(ans[\"questions\"], f)"
      ]
    },
    {
      "cell_type": "markdown",
      "metadata": {},
      "source": [
        "Trying to pull in from the pickled lists to make sure that everything is okay"
      ]
    },
    {
      "cell_type": "code",
      "execution_count": 21,
      "metadata": {},
      "outputs": [],
      "source": [
        "# ch3cking to see what the true ans and the pred ans looks like\n",
        "with open(\"pred_ans_list\", mode=\"rb\") as f:\n",
        "    pred_ans = pickle.load(f)\n",
        "with open(\"true_ans_list\", mode=\"rb\") as f:\n",
        "    true_ans = pickle.load(f)"
      ]
    },
    {
      "cell_type": "code",
      "execution_count": 22,
      "metadata": {},
      "outputs": [
        {
          "name": "stdout",
          "output_type": "stream",
          "text": [
            "['late 1990s', 'singing and dancing', '2003', 'Houston  Texas', '1990s']\n",
            "\n",
            "['in the late 1990s', 'singing and dancing', '2003', 'Houston  Texas', 'late 1990s']\n"
          ]
        }
      ],
      "source": [
        "# comparing the true and the pred ans to each other\n",
        "print(pred_ans[:5])\n",
        "print()\n",
        "print(true_ans[:5])"
      ]
    }
  ],
  "metadata": {
    "colab": {
      "authorship_tag": "ABX9TyPaITjx97uaG05xwiiu5VwD",
      "include_colab_link": true,
      "name": "squad_data_set.ipynb",
      "provenance": []
    },
    "interpreter": {
      "hash": "a7f43c9ee7ff54575bf87f2ddc982999376572feb314ab81f480ada32819c774"
    },
    "kernelspec": {
      "display_name": "Python 3.8.10 64-bit ('ml': conda)",
      "name": "python3"
    },
    "language_info": {
      "codemirror_mode": {
        "name": "ipython",
        "version": 3
      },
      "file_extension": ".py",
      "mimetype": "text/x-python",
      "name": "python",
      "nbconvert_exporter": "python",
      "pygments_lexer": "ipython3",
      "version": "3.8.10"
    },
    "widgets": {
      "application/vnd.jupyter.widget-state+json": {
        "0957f12ab3834aef8da1776cc2a6c665": {
          "model_module": "@jupyter-widgets/controls",
          "model_module_version": "1.5.0",
          "model_name": "HTMLModel",
          "state": {
            "_dom_classes": [],
            "_model_module": "@jupyter-widgets/controls",
            "_model_module_version": "1.5.0",
            "_model_name": "HTMLModel",
            "_view_count": null,
            "_view_module": "@jupyter-widgets/controls",
            "_view_module_version": "1.5.0",
            "_view_name": "HTMLView",
            "description": "",
            "description_tooltip": null,
            "layout": "IPY_MODEL_860ffba8d99e4d49bf8424f70425af2c",
            "placeholder": "​",
            "style": "IPY_MODEL_8206ff5d1b224a489973604665cc9128",
            "value": " 112/112 [00:00&lt;00:00, 3.18kB/s]"
          }
        },
        "0efb589101df43ba92392c2a8b6150b3": {
          "model_module": "@jupyter-widgets/controls",
          "model_module_version": "1.5.0",
          "model_name": "FloatProgressModel",
          "state": {
            "_dom_classes": [],
            "_model_module": "@jupyter-widgets/controls",
            "_model_module_version": "1.5.0",
            "_model_name": "FloatProgressModel",
            "_view_count": null,
            "_view_module": "@jupyter-widgets/controls",
            "_view_module_version": "1.5.0",
            "_view_name": "ProgressView",
            "bar_style": "success",
            "description": "",
            "description_tooltip": null,
            "layout": "IPY_MODEL_83d3142b27c54408ae8f14cbecf93274",
            "max": 152,
            "min": 0,
            "orientation": "horizontal",
            "style": "IPY_MODEL_e92070d9d3e748e5bac6181221c58fb4",
            "value": 152
          }
        },
        "0f1216dbe2844b32a4e5f9dc86f3303b": {
          "model_module": "@jupyter-widgets/controls",
          "model_module_version": "1.5.0",
          "model_name": "ProgressStyleModel",
          "state": {
            "_model_module": "@jupyter-widgets/controls",
            "_model_module_version": "1.5.0",
            "_model_name": "ProgressStyleModel",
            "_view_count": null,
            "_view_module": "@jupyter-widgets/base",
            "_view_module_version": "1.2.0",
            "_view_name": "StyleView",
            "bar_color": null,
            "description_width": ""
          }
        },
        "0ffdc07a8d1840c6a357b0ba6f65ffca": {
          "model_module": "@jupyter-widgets/base",
          "model_module_version": "1.2.0",
          "model_name": "LayoutModel",
          "state": {
            "_model_module": "@jupyter-widgets/base",
            "_model_module_version": "1.2.0",
            "_model_name": "LayoutModel",
            "_view_count": null,
            "_view_module": "@jupyter-widgets/base",
            "_view_module_version": "1.2.0",
            "_view_name": "LayoutView",
            "align_content": null,
            "align_items": null,
            "align_self": null,
            "border": null,
            "bottom": null,
            "display": null,
            "flex": null,
            "flex_flow": null,
            "grid_area": null,
            "grid_auto_columns": null,
            "grid_auto_flow": null,
            "grid_auto_rows": null,
            "grid_column": null,
            "grid_gap": null,
            "grid_row": null,
            "grid_template_areas": null,
            "grid_template_columns": null,
            "grid_template_rows": null,
            "height": null,
            "justify_content": null,
            "justify_items": null,
            "left": null,
            "margin": null,
            "max_height": null,
            "max_width": null,
            "min_height": null,
            "min_width": null,
            "object_fit": null,
            "object_position": null,
            "order": null,
            "overflow": null,
            "overflow_x": null,
            "overflow_y": null,
            "padding": null,
            "right": null,
            "top": null,
            "visibility": null,
            "width": null
          }
        },
        "1248ae20b7284c9596a342cec0f63743": {
          "model_module": "@jupyter-widgets/base",
          "model_module_version": "1.2.0",
          "model_name": "LayoutModel",
          "state": {
            "_model_module": "@jupyter-widgets/base",
            "_model_module_version": "1.2.0",
            "_model_name": "LayoutModel",
            "_view_count": null,
            "_view_module": "@jupyter-widgets/base",
            "_view_module_version": "1.2.0",
            "_view_name": "LayoutView",
            "align_content": null,
            "align_items": null,
            "align_self": null,
            "border": null,
            "bottom": null,
            "display": null,
            "flex": null,
            "flex_flow": null,
            "grid_area": null,
            "grid_auto_columns": null,
            "grid_auto_flow": null,
            "grid_auto_rows": null,
            "grid_column": null,
            "grid_gap": null,
            "grid_row": null,
            "grid_template_areas": null,
            "grid_template_columns": null,
            "grid_template_rows": null,
            "height": null,
            "justify_content": null,
            "justify_items": null,
            "left": null,
            "margin": null,
            "max_height": null,
            "max_width": null,
            "min_height": null,
            "min_width": null,
            "object_fit": null,
            "object_position": null,
            "order": null,
            "overflow": null,
            "overflow_x": null,
            "overflow_y": null,
            "padding": null,
            "right": null,
            "top": null,
            "visibility": null,
            "width": null
          }
        },
        "1651b40eda79450ea1334c6bda451b06": {
          "model_module": "@jupyter-widgets/controls",
          "model_module_version": "1.5.0",
          "model_name": "DescriptionStyleModel",
          "state": {
            "_model_module": "@jupyter-widgets/controls",
            "_model_module_version": "1.5.0",
            "_model_name": "DescriptionStyleModel",
            "_view_count": null,
            "_view_module": "@jupyter-widgets/base",
            "_view_module_version": "1.2.0",
            "_view_name": "StyleView",
            "description_width": ""
          }
        },
        "1dc9f2a63dd34362ad3044a1c1fd8749": {
          "model_module": "@jupyter-widgets/controls",
          "model_module_version": "1.5.0",
          "model_name": "DescriptionStyleModel",
          "state": {
            "_model_module": "@jupyter-widgets/controls",
            "_model_module_version": "1.5.0",
            "_model_name": "DescriptionStyleModel",
            "_view_count": null,
            "_view_module": "@jupyter-widgets/base",
            "_view_module_version": "1.2.0",
            "_view_name": "StyleView",
            "description_width": ""
          }
        },
        "2ac553618f0540529c333c2e906ad3db": {
          "model_module": "@jupyter-widgets/controls",
          "model_module_version": "1.5.0",
          "model_name": "ProgressStyleModel",
          "state": {
            "_model_module": "@jupyter-widgets/controls",
            "_model_module_version": "1.5.0",
            "_model_name": "ProgressStyleModel",
            "_view_count": null,
            "_view_module": "@jupyter-widgets/base",
            "_view_module_version": "1.2.0",
            "_view_name": "StyleView",
            "bar_color": null,
            "description_width": ""
          }
        },
        "2deeb39af8cb43adadcad272d66b8f7b": {
          "model_module": "@jupyter-widgets/controls",
          "model_module_version": "1.5.0",
          "model_name": "DescriptionStyleModel",
          "state": {
            "_model_module": "@jupyter-widgets/controls",
            "_model_module_version": "1.5.0",
            "_model_name": "DescriptionStyleModel",
            "_view_count": null,
            "_view_module": "@jupyter-widgets/base",
            "_view_module_version": "1.2.0",
            "_view_name": "StyleView",
            "description_width": ""
          }
        },
        "317fe5086b5c44b894e7c99401410423": {
          "model_module": "@jupyter-widgets/controls",
          "model_module_version": "1.5.0",
          "model_name": "ProgressStyleModel",
          "state": {
            "_model_module": "@jupyter-widgets/controls",
            "_model_module_version": "1.5.0",
            "_model_name": "ProgressStyleModel",
            "_view_count": null,
            "_view_module": "@jupyter-widgets/base",
            "_view_module_version": "1.2.0",
            "_view_name": "StyleView",
            "bar_color": null,
            "description_width": ""
          }
        },
        "39ded2b5f8f0430a90706d700779801e": {
          "model_module": "@jupyter-widgets/controls",
          "model_module_version": "1.5.0",
          "model_name": "HTMLModel",
          "state": {
            "_dom_classes": [],
            "_model_module": "@jupyter-widgets/controls",
            "_model_module_version": "1.5.0",
            "_model_name": "HTMLModel",
            "_view_count": null,
            "_view_module": "@jupyter-widgets/controls",
            "_view_module_version": "1.5.0",
            "_view_name": "HTMLView",
            "description": "",
            "description_tooltip": null,
            "layout": "IPY_MODEL_5242e80d04fe4622be7afb86fa06fda2",
            "placeholder": "​",
            "style": "IPY_MODEL_1651b40eda79450ea1334c6bda451b06",
            "value": " 213k/213k [00:00&lt;00:00, 644kB/s]"
          }
        },
        "4151da2322d34f11baa27f2c46433abd": {
          "model_module": "@jupyter-widgets/base",
          "model_module_version": "1.2.0",
          "model_name": "LayoutModel",
          "state": {
            "_model_module": "@jupyter-widgets/base",
            "_model_module_version": "1.2.0",
            "_model_name": "LayoutModel",
            "_view_count": null,
            "_view_module": "@jupyter-widgets/base",
            "_view_module_version": "1.2.0",
            "_view_name": "LayoutView",
            "align_content": null,
            "align_items": null,
            "align_self": null,
            "border": null,
            "bottom": null,
            "display": null,
            "flex": null,
            "flex_flow": null,
            "grid_area": null,
            "grid_auto_columns": null,
            "grid_auto_flow": null,
            "grid_auto_rows": null,
            "grid_column": null,
            "grid_gap": null,
            "grid_row": null,
            "grid_template_areas": null,
            "grid_template_columns": null,
            "grid_template_rows": null,
            "height": null,
            "justify_content": null,
            "justify_items": null,
            "left": null,
            "margin": null,
            "max_height": null,
            "max_width": null,
            "min_height": null,
            "min_width": null,
            "object_fit": null,
            "object_position": null,
            "order": null,
            "overflow": null,
            "overflow_x": null,
            "overflow_y": null,
            "padding": null,
            "right": null,
            "top": null,
            "visibility": null,
            "width": null
          }
        },
        "4179fefe340146ddb1ce8e11f2d43a61": {
          "model_module": "@jupyter-widgets/base",
          "model_module_version": "1.2.0",
          "model_name": "LayoutModel",
          "state": {
            "_model_module": "@jupyter-widgets/base",
            "_model_module_version": "1.2.0",
            "_model_name": "LayoutModel",
            "_view_count": null,
            "_view_module": "@jupyter-widgets/base",
            "_view_module_version": "1.2.0",
            "_view_name": "LayoutView",
            "align_content": null,
            "align_items": null,
            "align_self": null,
            "border": null,
            "bottom": null,
            "display": null,
            "flex": null,
            "flex_flow": null,
            "grid_area": null,
            "grid_auto_columns": null,
            "grid_auto_flow": null,
            "grid_auto_rows": null,
            "grid_column": null,
            "grid_gap": null,
            "grid_row": null,
            "grid_template_areas": null,
            "grid_template_columns": null,
            "grid_template_rows": null,
            "height": null,
            "justify_content": null,
            "justify_items": null,
            "left": null,
            "margin": null,
            "max_height": null,
            "max_width": null,
            "min_height": null,
            "min_width": null,
            "object_fit": null,
            "object_position": null,
            "order": null,
            "overflow": null,
            "overflow_x": null,
            "overflow_y": null,
            "padding": null,
            "right": null,
            "top": null,
            "visibility": null,
            "width": null
          }
        },
        "43d2a1b5d295449bacab5ccdd5560b85": {
          "model_module": "@jupyter-widgets/controls",
          "model_module_version": "1.5.0",
          "model_name": "HBoxModel",
          "state": {
            "_dom_classes": [],
            "_model_module": "@jupyter-widgets/controls",
            "_model_module_version": "1.5.0",
            "_model_name": "HBoxModel",
            "_view_count": null,
            "_view_module": "@jupyter-widgets/controls",
            "_view_module_version": "1.5.0",
            "_view_name": "HBoxView",
            "box_style": "",
            "children": [
              "IPY_MODEL_f9620e1e82f140e494f39ab096242722",
              "IPY_MODEL_dbcf61a779cc42bbad1be38fa7ec1dbd",
              "IPY_MODEL_39ded2b5f8f0430a90706d700779801e"
            ],
            "layout": "IPY_MODEL_d9c84a3f53214b17b452df146f4ee2f1"
          }
        },
        "4a279d6e7d574fbbb079265d73ed37d6": {
          "model_module": "@jupyter-widgets/controls",
          "model_module_version": "1.5.0",
          "model_name": "HTMLModel",
          "state": {
            "_dom_classes": [],
            "_model_module": "@jupyter-widgets/controls",
            "_model_module_version": "1.5.0",
            "_model_name": "HTMLModel",
            "_view_count": null,
            "_view_module": "@jupyter-widgets/controls",
            "_view_module_version": "1.5.0",
            "_view_name": "HTMLView",
            "description": "",
            "description_tooltip": null,
            "layout": "IPY_MODEL_84673f846dd2435d8fc1c0a5e5b4a09a",
            "placeholder": "​",
            "style": "IPY_MODEL_acda8259b0474149960b92e8a6df2e50",
            "value": "Downloading: 100%"
          }
        },
        "4e3f7efc0dc442bf8f439b5f15b6ca58": {
          "model_module": "@jupyter-widgets/controls",
          "model_module_version": "1.5.0",
          "model_name": "DescriptionStyleModel",
          "state": {
            "_model_module": "@jupyter-widgets/controls",
            "_model_module_version": "1.5.0",
            "_model_name": "DescriptionStyleModel",
            "_view_count": null,
            "_view_module": "@jupyter-widgets/base",
            "_view_module_version": "1.2.0",
            "_view_name": "StyleView",
            "description_width": ""
          }
        },
        "5242e80d04fe4622be7afb86fa06fda2": {
          "model_module": "@jupyter-widgets/base",
          "model_module_version": "1.2.0",
          "model_name": "LayoutModel",
          "state": {
            "_model_module": "@jupyter-widgets/base",
            "_model_module_version": "1.2.0",
            "_model_name": "LayoutModel",
            "_view_count": null,
            "_view_module": "@jupyter-widgets/base",
            "_view_module_version": "1.2.0",
            "_view_name": "LayoutView",
            "align_content": null,
            "align_items": null,
            "align_self": null,
            "border": null,
            "bottom": null,
            "display": null,
            "flex": null,
            "flex_flow": null,
            "grid_area": null,
            "grid_auto_columns": null,
            "grid_auto_flow": null,
            "grid_auto_rows": null,
            "grid_column": null,
            "grid_gap": null,
            "grid_row": null,
            "grid_template_areas": null,
            "grid_template_columns": null,
            "grid_template_rows": null,
            "height": null,
            "justify_content": null,
            "justify_items": null,
            "left": null,
            "margin": null,
            "max_height": null,
            "max_width": null,
            "min_height": null,
            "min_width": null,
            "object_fit": null,
            "object_position": null,
            "order": null,
            "overflow": null,
            "overflow_x": null,
            "overflow_y": null,
            "padding": null,
            "right": null,
            "top": null,
            "visibility": null,
            "width": null
          }
        },
        "586e381cea5e4f329c48679933357fa9": {
          "model_module": "@jupyter-widgets/controls",
          "model_module_version": "1.5.0",
          "model_name": "DescriptionStyleModel",
          "state": {
            "_model_module": "@jupyter-widgets/controls",
            "_model_module_version": "1.5.0",
            "_model_name": "DescriptionStyleModel",
            "_view_count": null,
            "_view_module": "@jupyter-widgets/base",
            "_view_module_version": "1.2.0",
            "_view_name": "StyleView",
            "description_width": ""
          }
        },
        "59d0aa0b430b4fa8a18c0420e35fb6ce": {
          "model_module": "@jupyter-widgets/controls",
          "model_module_version": "1.5.0",
          "model_name": "HTMLModel",
          "state": {
            "_dom_classes": [],
            "_model_module": "@jupyter-widgets/controls",
            "_model_module_version": "1.5.0",
            "_model_name": "HTMLModel",
            "_view_count": null,
            "_view_module": "@jupyter-widgets/controls",
            "_view_module_version": "1.5.0",
            "_view_name": "HTMLView",
            "description": "",
            "description_tooltip": null,
            "layout": "IPY_MODEL_8f34b48e83a944a48ea7f32d16318694",
            "placeholder": "​",
            "style": "IPY_MODEL_4e3f7efc0dc442bf8f439b5f15b6ca58",
            "value": "Downloading: 100%"
          }
        },
        "5a514685ca264957ae003bb850d7157b": {
          "model_module": "@jupyter-widgets/base",
          "model_module_version": "1.2.0",
          "model_name": "LayoutModel",
          "state": {
            "_model_module": "@jupyter-widgets/base",
            "_model_module_version": "1.2.0",
            "_model_name": "LayoutModel",
            "_view_count": null,
            "_view_module": "@jupyter-widgets/base",
            "_view_module_version": "1.2.0",
            "_view_name": "LayoutView",
            "align_content": null,
            "align_items": null,
            "align_self": null,
            "border": null,
            "bottom": null,
            "display": null,
            "flex": null,
            "flex_flow": null,
            "grid_area": null,
            "grid_auto_columns": null,
            "grid_auto_flow": null,
            "grid_auto_rows": null,
            "grid_column": null,
            "grid_gap": null,
            "grid_row": null,
            "grid_template_areas": null,
            "grid_template_columns": null,
            "grid_template_rows": null,
            "height": null,
            "justify_content": null,
            "justify_items": null,
            "left": null,
            "margin": null,
            "max_height": null,
            "max_width": null,
            "min_height": null,
            "min_width": null,
            "object_fit": null,
            "object_position": null,
            "order": null,
            "overflow": null,
            "overflow_x": null,
            "overflow_y": null,
            "padding": null,
            "right": null,
            "top": null,
            "visibility": null,
            "width": null
          }
        },
        "5c453fd0e4ef4a29b9a58626a0b86e2d": {
          "model_module": "@jupyter-widgets/controls",
          "model_module_version": "1.5.0",
          "model_name": "DescriptionStyleModel",
          "state": {
            "_model_module": "@jupyter-widgets/controls",
            "_model_module_version": "1.5.0",
            "_model_name": "DescriptionStyleModel",
            "_view_count": null,
            "_view_module": "@jupyter-widgets/base",
            "_view_module_version": "1.2.0",
            "_view_name": "StyleView",
            "description_width": ""
          }
        },
        "5fc759e5c73143ae94f80649e28968f4": {
          "model_module": "@jupyter-widgets/controls",
          "model_module_version": "1.5.0",
          "model_name": "FloatProgressModel",
          "state": {
            "_dom_classes": [],
            "_model_module": "@jupyter-widgets/controls",
            "_model_module_version": "1.5.0",
            "_model_name": "FloatProgressModel",
            "_view_count": null,
            "_view_module": "@jupyter-widgets/controls",
            "_view_module_version": "1.5.0",
            "_view_name": "ProgressView",
            "bar_style": "success",
            "description": "",
            "description_tooltip": null,
            "layout": "IPY_MODEL_f91c483c23dd40909e39cc5bbfe241c7",
            "max": 508,
            "min": 0,
            "orientation": "horizontal",
            "style": "IPY_MODEL_317fe5086b5c44b894e7c99401410423",
            "value": 508
          }
        },
        "6011c86b87af44159892c2c4f0705d5b": {
          "model_module": "@jupyter-widgets/base",
          "model_module_version": "1.2.0",
          "model_name": "LayoutModel",
          "state": {
            "_model_module": "@jupyter-widgets/base",
            "_model_module_version": "1.2.0",
            "_model_name": "LayoutModel",
            "_view_count": null,
            "_view_module": "@jupyter-widgets/base",
            "_view_module_version": "1.2.0",
            "_view_name": "LayoutView",
            "align_content": null,
            "align_items": null,
            "align_self": null,
            "border": null,
            "bottom": null,
            "display": null,
            "flex": null,
            "flex_flow": null,
            "grid_area": null,
            "grid_auto_columns": null,
            "grid_auto_flow": null,
            "grid_auto_rows": null,
            "grid_column": null,
            "grid_gap": null,
            "grid_row": null,
            "grid_template_areas": null,
            "grid_template_columns": null,
            "grid_template_rows": null,
            "height": null,
            "justify_content": null,
            "justify_items": null,
            "left": null,
            "margin": null,
            "max_height": null,
            "max_width": null,
            "min_height": null,
            "min_width": null,
            "object_fit": null,
            "object_position": null,
            "order": null,
            "overflow": null,
            "overflow_x": null,
            "overflow_y": null,
            "padding": null,
            "right": null,
            "top": null,
            "visibility": null,
            "width": null
          }
        },
        "76e976efc9ae4d678d13918d651cd89d": {
          "model_module": "@jupyter-widgets/controls",
          "model_module_version": "1.5.0",
          "model_name": "HTMLModel",
          "state": {
            "_dom_classes": [],
            "_model_module": "@jupyter-widgets/controls",
            "_model_module_version": "1.5.0",
            "_model_name": "HTMLModel",
            "_view_count": null,
            "_view_module": "@jupyter-widgets/controls",
            "_view_module_version": "1.5.0",
            "_view_name": "HTMLView",
            "description": "",
            "description_tooltip": null,
            "layout": "IPY_MODEL_0ffdc07a8d1840c6a357b0ba6f65ffca",
            "placeholder": "​",
            "style": "IPY_MODEL_586e381cea5e4f329c48679933357fa9",
            "value": "Downloading: 100%"
          }
        },
        "787dce59256342ffa2673ed897c553eb": {
          "model_module": "@jupyter-widgets/controls",
          "model_module_version": "1.5.0",
          "model_name": "HBoxModel",
          "state": {
            "_dom_classes": [],
            "_model_module": "@jupyter-widgets/controls",
            "_model_module_version": "1.5.0",
            "_model_name": "HBoxModel",
            "_view_count": null,
            "_view_module": "@jupyter-widgets/controls",
            "_view_module_version": "1.5.0",
            "_view_name": "HBoxView",
            "box_style": "",
            "children": [
              "IPY_MODEL_59d0aa0b430b4fa8a18c0420e35fb6ce",
              "IPY_MODEL_b8b878c693fa42d393551c7f17058e47",
              "IPY_MODEL_0957f12ab3834aef8da1776cc2a6c665"
            ],
            "layout": "IPY_MODEL_6011c86b87af44159892c2c4f0705d5b"
          }
        },
        "78d9bbe010a54463a05e9f90332d71e9": {
          "model_module": "@jupyter-widgets/controls",
          "model_module_version": "1.5.0",
          "model_name": "DescriptionStyleModel",
          "state": {
            "_model_module": "@jupyter-widgets/controls",
            "_model_module_version": "1.5.0",
            "_model_name": "DescriptionStyleModel",
            "_view_count": null,
            "_view_module": "@jupyter-widgets/base",
            "_view_module_version": "1.2.0",
            "_view_name": "StyleView",
            "description_width": ""
          }
        },
        "80484f82f7ef4162b4522aa746950f92": {
          "model_module": "@jupyter-widgets/controls",
          "model_module_version": "1.5.0",
          "model_name": "HTMLModel",
          "state": {
            "_dom_classes": [],
            "_model_module": "@jupyter-widgets/controls",
            "_model_module_version": "1.5.0",
            "_model_name": "HTMLModel",
            "_view_count": null,
            "_view_module": "@jupyter-widgets/controls",
            "_view_module_version": "1.5.0",
            "_view_name": "HTMLView",
            "description": "",
            "description_tooltip": null,
            "layout": "IPY_MODEL_4179fefe340146ddb1ce8e11f2d43a61",
            "placeholder": "​",
            "style": "IPY_MODEL_5c453fd0e4ef4a29b9a58626a0b86e2d",
            "value": " 508/508 [00:00&lt;00:00, 6.50kB/s]"
          }
        },
        "81a2a5bf720f42058f6f1a61dde7405f": {
          "model_module": "@jupyter-widgets/base",
          "model_module_version": "1.2.0",
          "model_name": "LayoutModel",
          "state": {
            "_model_module": "@jupyter-widgets/base",
            "_model_module_version": "1.2.0",
            "_model_name": "LayoutModel",
            "_view_count": null,
            "_view_module": "@jupyter-widgets/base",
            "_view_module_version": "1.2.0",
            "_view_name": "LayoutView",
            "align_content": null,
            "align_items": null,
            "align_self": null,
            "border": null,
            "bottom": null,
            "display": null,
            "flex": null,
            "flex_flow": null,
            "grid_area": null,
            "grid_auto_columns": null,
            "grid_auto_flow": null,
            "grid_auto_rows": null,
            "grid_column": null,
            "grid_gap": null,
            "grid_row": null,
            "grid_template_areas": null,
            "grid_template_columns": null,
            "grid_template_rows": null,
            "height": null,
            "justify_content": null,
            "justify_items": null,
            "left": null,
            "margin": null,
            "max_height": null,
            "max_width": null,
            "min_height": null,
            "min_width": null,
            "object_fit": null,
            "object_position": null,
            "order": null,
            "overflow": null,
            "overflow_x": null,
            "overflow_y": null,
            "padding": null,
            "right": null,
            "top": null,
            "visibility": null,
            "width": null
          }
        },
        "8206ff5d1b224a489973604665cc9128": {
          "model_module": "@jupyter-widgets/controls",
          "model_module_version": "1.5.0",
          "model_name": "DescriptionStyleModel",
          "state": {
            "_model_module": "@jupyter-widgets/controls",
            "_model_module_version": "1.5.0",
            "_model_name": "DescriptionStyleModel",
            "_view_count": null,
            "_view_module": "@jupyter-widgets/base",
            "_view_module_version": "1.2.0",
            "_view_name": "StyleView",
            "description_width": ""
          }
        },
        "83d3142b27c54408ae8f14cbecf93274": {
          "model_module": "@jupyter-widgets/base",
          "model_module_version": "1.2.0",
          "model_name": "LayoutModel",
          "state": {
            "_model_module": "@jupyter-widgets/base",
            "_model_module_version": "1.2.0",
            "_model_name": "LayoutModel",
            "_view_count": null,
            "_view_module": "@jupyter-widgets/base",
            "_view_module_version": "1.2.0",
            "_view_name": "LayoutView",
            "align_content": null,
            "align_items": null,
            "align_self": null,
            "border": null,
            "bottom": null,
            "display": null,
            "flex": null,
            "flex_flow": null,
            "grid_area": null,
            "grid_auto_columns": null,
            "grid_auto_flow": null,
            "grid_auto_rows": null,
            "grid_column": null,
            "grid_gap": null,
            "grid_row": null,
            "grid_template_areas": null,
            "grid_template_columns": null,
            "grid_template_rows": null,
            "height": null,
            "justify_content": null,
            "justify_items": null,
            "left": null,
            "margin": null,
            "max_height": null,
            "max_width": null,
            "min_height": null,
            "min_width": null,
            "object_fit": null,
            "object_position": null,
            "order": null,
            "overflow": null,
            "overflow_x": null,
            "overflow_y": null,
            "padding": null,
            "right": null,
            "top": null,
            "visibility": null,
            "width": null
          }
        },
        "84673f846dd2435d8fc1c0a5e5b4a09a": {
          "model_module": "@jupyter-widgets/base",
          "model_module_version": "1.2.0",
          "model_name": "LayoutModel",
          "state": {
            "_model_module": "@jupyter-widgets/base",
            "_model_module_version": "1.2.0",
            "_model_name": "LayoutModel",
            "_view_count": null,
            "_view_module": "@jupyter-widgets/base",
            "_view_module_version": "1.2.0",
            "_view_name": "LayoutView",
            "align_content": null,
            "align_items": null,
            "align_self": null,
            "border": null,
            "bottom": null,
            "display": null,
            "flex": null,
            "flex_flow": null,
            "grid_area": null,
            "grid_auto_columns": null,
            "grid_auto_flow": null,
            "grid_auto_rows": null,
            "grid_column": null,
            "grid_gap": null,
            "grid_row": null,
            "grid_template_areas": null,
            "grid_template_columns": null,
            "grid_template_rows": null,
            "height": null,
            "justify_content": null,
            "justify_items": null,
            "left": null,
            "margin": null,
            "max_height": null,
            "max_width": null,
            "min_height": null,
            "min_width": null,
            "object_fit": null,
            "object_position": null,
            "order": null,
            "overflow": null,
            "overflow_x": null,
            "overflow_y": null,
            "padding": null,
            "right": null,
            "top": null,
            "visibility": null,
            "width": null
          }
        },
        "8504289d47004db8974a9c2d0097f971": {
          "model_module": "@jupyter-widgets/base",
          "model_module_version": "1.2.0",
          "model_name": "LayoutModel",
          "state": {
            "_model_module": "@jupyter-widgets/base",
            "_model_module_version": "1.2.0",
            "_model_name": "LayoutModel",
            "_view_count": null,
            "_view_module": "@jupyter-widgets/base",
            "_view_module_version": "1.2.0",
            "_view_name": "LayoutView",
            "align_content": null,
            "align_items": null,
            "align_self": null,
            "border": null,
            "bottom": null,
            "display": null,
            "flex": null,
            "flex_flow": null,
            "grid_area": null,
            "grid_auto_columns": null,
            "grid_auto_flow": null,
            "grid_auto_rows": null,
            "grid_column": null,
            "grid_gap": null,
            "grid_row": null,
            "grid_template_areas": null,
            "grid_template_columns": null,
            "grid_template_rows": null,
            "height": null,
            "justify_content": null,
            "justify_items": null,
            "left": null,
            "margin": null,
            "max_height": null,
            "max_width": null,
            "min_height": null,
            "min_width": null,
            "object_fit": null,
            "object_position": null,
            "order": null,
            "overflow": null,
            "overflow_x": null,
            "overflow_y": null,
            "padding": null,
            "right": null,
            "top": null,
            "visibility": null,
            "width": null
          }
        },
        "859258ad54a741a3a385f45645c5ade6": {
          "model_module": "@jupyter-widgets/controls",
          "model_module_version": "1.5.0",
          "model_name": "HTMLModel",
          "state": {
            "_dom_classes": [],
            "_model_module": "@jupyter-widgets/controls",
            "_model_module_version": "1.5.0",
            "_model_name": "HTMLModel",
            "_view_count": null,
            "_view_module": "@jupyter-widgets/controls",
            "_view_module_version": "1.5.0",
            "_view_name": "HTMLView",
            "description": "",
            "description_tooltip": null,
            "layout": "IPY_MODEL_9cc148f5bcc94e1b9bd3d1f1bbf01784",
            "placeholder": "​",
            "style": "IPY_MODEL_78d9bbe010a54463a05e9f90332d71e9",
            "value": " 152/152 [00:00&lt;00:00, 3.54kB/s]"
          }
        },
        "860ffba8d99e4d49bf8424f70425af2c": {
          "model_module": "@jupyter-widgets/base",
          "model_module_version": "1.2.0",
          "model_name": "LayoutModel",
          "state": {
            "_model_module": "@jupyter-widgets/base",
            "_model_module_version": "1.2.0",
            "_model_name": "LayoutModel",
            "_view_count": null,
            "_view_module": "@jupyter-widgets/base",
            "_view_module_version": "1.2.0",
            "_view_name": "LayoutView",
            "align_content": null,
            "align_items": null,
            "align_self": null,
            "border": null,
            "bottom": null,
            "display": null,
            "flex": null,
            "flex_flow": null,
            "grid_area": null,
            "grid_auto_columns": null,
            "grid_auto_flow": null,
            "grid_auto_rows": null,
            "grid_column": null,
            "grid_gap": null,
            "grid_row": null,
            "grid_template_areas": null,
            "grid_template_columns": null,
            "grid_template_rows": null,
            "height": null,
            "justify_content": null,
            "justify_items": null,
            "left": null,
            "margin": null,
            "max_height": null,
            "max_width": null,
            "min_height": null,
            "min_width": null,
            "object_fit": null,
            "object_position": null,
            "order": null,
            "overflow": null,
            "overflow_x": null,
            "overflow_y": null,
            "padding": null,
            "right": null,
            "top": null,
            "visibility": null,
            "width": null
          }
        },
        "89aefa75d3f14f4c828918f83432be64": {
          "model_module": "@jupyter-widgets/controls",
          "model_module_version": "1.5.0",
          "model_name": "FloatProgressModel",
          "state": {
            "_dom_classes": [],
            "_model_module": "@jupyter-widgets/controls",
            "_model_module_version": "1.5.0",
            "_model_name": "FloatProgressModel",
            "_view_count": null,
            "_view_module": "@jupyter-widgets/controls",
            "_view_module_version": "1.5.0",
            "_view_name": "ProgressView",
            "bar_style": "success",
            "description": "",
            "description_tooltip": null,
            "layout": "IPY_MODEL_ccbacb9bef704c058372b609785c386f",
            "max": 433294681,
            "min": 0,
            "orientation": "horizontal",
            "style": "IPY_MODEL_2ac553618f0540529c333c2e906ad3db",
            "value": 433294681
          }
        },
        "8d9b05a039f546a1970c4b298b86d559": {
          "model_module": "@jupyter-widgets/controls",
          "model_module_version": "1.5.0",
          "model_name": "DescriptionStyleModel",
          "state": {
            "_model_module": "@jupyter-widgets/controls",
            "_model_module_version": "1.5.0",
            "_model_name": "DescriptionStyleModel",
            "_view_count": null,
            "_view_module": "@jupyter-widgets/base",
            "_view_module_version": "1.2.0",
            "_view_name": "StyleView",
            "description_width": ""
          }
        },
        "8f34b48e83a944a48ea7f32d16318694": {
          "model_module": "@jupyter-widgets/base",
          "model_module_version": "1.2.0",
          "model_name": "LayoutModel",
          "state": {
            "_model_module": "@jupyter-widgets/base",
            "_model_module_version": "1.2.0",
            "_model_name": "LayoutModel",
            "_view_count": null,
            "_view_module": "@jupyter-widgets/base",
            "_view_module_version": "1.2.0",
            "_view_name": "LayoutView",
            "align_content": null,
            "align_items": null,
            "align_self": null,
            "border": null,
            "bottom": null,
            "display": null,
            "flex": null,
            "flex_flow": null,
            "grid_area": null,
            "grid_auto_columns": null,
            "grid_auto_flow": null,
            "grid_auto_rows": null,
            "grid_column": null,
            "grid_gap": null,
            "grid_row": null,
            "grid_template_areas": null,
            "grid_template_columns": null,
            "grid_template_rows": null,
            "height": null,
            "justify_content": null,
            "justify_items": null,
            "left": null,
            "margin": null,
            "max_height": null,
            "max_width": null,
            "min_height": null,
            "min_width": null,
            "object_fit": null,
            "object_position": null,
            "order": null,
            "overflow": null,
            "overflow_x": null,
            "overflow_y": null,
            "padding": null,
            "right": null,
            "top": null,
            "visibility": null,
            "width": null
          }
        },
        "8fa970e6430d4f5c9c7b5e9314b3e25c": {
          "model_module": "@jupyter-widgets/controls",
          "model_module_version": "1.5.0",
          "model_name": "HBoxModel",
          "state": {
            "_dom_classes": [],
            "_model_module": "@jupyter-widgets/controls",
            "_model_module_version": "1.5.0",
            "_model_name": "HBoxModel",
            "_view_count": null,
            "_view_module": "@jupyter-widgets/controls",
            "_view_module_version": "1.5.0",
            "_view_name": "HBoxView",
            "box_style": "",
            "children": [
              "IPY_MODEL_d72b8cc6cbd64918ae86552c8a943ddb",
              "IPY_MODEL_89aefa75d3f14f4c828918f83432be64",
              "IPY_MODEL_c59632967b724a47bb8e667edeb9437c"
            ],
            "layout": "IPY_MODEL_c2831eefd11e4e52a1d7aedc48afa392"
          }
        },
        "98b574a1ded440978c717cc7c35dc78d": {
          "model_module": "@jupyter-widgets/base",
          "model_module_version": "1.2.0",
          "model_name": "LayoutModel",
          "state": {
            "_model_module": "@jupyter-widgets/base",
            "_model_module_version": "1.2.0",
            "_model_name": "LayoutModel",
            "_view_count": null,
            "_view_module": "@jupyter-widgets/base",
            "_view_module_version": "1.2.0",
            "_view_name": "LayoutView",
            "align_content": null,
            "align_items": null,
            "align_self": null,
            "border": null,
            "bottom": null,
            "display": null,
            "flex": null,
            "flex_flow": null,
            "grid_area": null,
            "grid_auto_columns": null,
            "grid_auto_flow": null,
            "grid_auto_rows": null,
            "grid_column": null,
            "grid_gap": null,
            "grid_row": null,
            "grid_template_areas": null,
            "grid_template_columns": null,
            "grid_template_rows": null,
            "height": null,
            "justify_content": null,
            "justify_items": null,
            "left": null,
            "margin": null,
            "max_height": null,
            "max_width": null,
            "min_height": null,
            "min_width": null,
            "object_fit": null,
            "object_position": null,
            "order": null,
            "overflow": null,
            "overflow_x": null,
            "overflow_y": null,
            "padding": null,
            "right": null,
            "top": null,
            "visibility": null,
            "width": null
          }
        },
        "9c30bf8560bf4a5dbf49c30ffc1b4373": {
          "model_module": "@jupyter-widgets/base",
          "model_module_version": "1.2.0",
          "model_name": "LayoutModel",
          "state": {
            "_model_module": "@jupyter-widgets/base",
            "_model_module_version": "1.2.0",
            "_model_name": "LayoutModel",
            "_view_count": null,
            "_view_module": "@jupyter-widgets/base",
            "_view_module_version": "1.2.0",
            "_view_name": "LayoutView",
            "align_content": null,
            "align_items": null,
            "align_self": null,
            "border": null,
            "bottom": null,
            "display": null,
            "flex": null,
            "flex_flow": null,
            "grid_area": null,
            "grid_auto_columns": null,
            "grid_auto_flow": null,
            "grid_auto_rows": null,
            "grid_column": null,
            "grid_gap": null,
            "grid_row": null,
            "grid_template_areas": null,
            "grid_template_columns": null,
            "grid_template_rows": null,
            "height": null,
            "justify_content": null,
            "justify_items": null,
            "left": null,
            "margin": null,
            "max_height": null,
            "max_width": null,
            "min_height": null,
            "min_width": null,
            "object_fit": null,
            "object_position": null,
            "order": null,
            "overflow": null,
            "overflow_x": null,
            "overflow_y": null,
            "padding": null,
            "right": null,
            "top": null,
            "visibility": null,
            "width": null
          }
        },
        "9cc148f5bcc94e1b9bd3d1f1bbf01784": {
          "model_module": "@jupyter-widgets/base",
          "model_module_version": "1.2.0",
          "model_name": "LayoutModel",
          "state": {
            "_model_module": "@jupyter-widgets/base",
            "_model_module_version": "1.2.0",
            "_model_name": "LayoutModel",
            "_view_count": null,
            "_view_module": "@jupyter-widgets/base",
            "_view_module_version": "1.2.0",
            "_view_name": "LayoutView",
            "align_content": null,
            "align_items": null,
            "align_self": null,
            "border": null,
            "bottom": null,
            "display": null,
            "flex": null,
            "flex_flow": null,
            "grid_area": null,
            "grid_auto_columns": null,
            "grid_auto_flow": null,
            "grid_auto_rows": null,
            "grid_column": null,
            "grid_gap": null,
            "grid_row": null,
            "grid_template_areas": null,
            "grid_template_columns": null,
            "grid_template_rows": null,
            "height": null,
            "justify_content": null,
            "justify_items": null,
            "left": null,
            "margin": null,
            "max_height": null,
            "max_width": null,
            "min_height": null,
            "min_width": null,
            "object_fit": null,
            "object_position": null,
            "order": null,
            "overflow": null,
            "overflow_x": null,
            "overflow_y": null,
            "padding": null,
            "right": null,
            "top": null,
            "visibility": null,
            "width": null
          }
        },
        "acda8259b0474149960b92e8a6df2e50": {
          "model_module": "@jupyter-widgets/controls",
          "model_module_version": "1.5.0",
          "model_name": "DescriptionStyleModel",
          "state": {
            "_model_module": "@jupyter-widgets/controls",
            "_model_module_version": "1.5.0",
            "_model_name": "DescriptionStyleModel",
            "_view_count": null,
            "_view_module": "@jupyter-widgets/base",
            "_view_module_version": "1.2.0",
            "_view_name": "StyleView",
            "description_width": ""
          }
        },
        "b36c4ee0e38a4ced8dfdffb0f79c44af": {
          "model_module": "@jupyter-widgets/controls",
          "model_module_version": "1.5.0",
          "model_name": "ProgressStyleModel",
          "state": {
            "_model_module": "@jupyter-widgets/controls",
            "_model_module_version": "1.5.0",
            "_model_name": "ProgressStyleModel",
            "_view_count": null,
            "_view_module": "@jupyter-widgets/base",
            "_view_module_version": "1.2.0",
            "_view_name": "StyleView",
            "bar_color": null,
            "description_width": ""
          }
        },
        "b8b878c693fa42d393551c7f17058e47": {
          "model_module": "@jupyter-widgets/controls",
          "model_module_version": "1.5.0",
          "model_name": "FloatProgressModel",
          "state": {
            "_dom_classes": [],
            "_model_module": "@jupyter-widgets/controls",
            "_model_module_version": "1.5.0",
            "_model_name": "FloatProgressModel",
            "_view_count": null,
            "_view_module": "@jupyter-widgets/controls",
            "_view_module_version": "1.5.0",
            "_view_name": "ProgressView",
            "bar_style": "success",
            "description": "",
            "description_tooltip": null,
            "layout": "IPY_MODEL_4151da2322d34f11baa27f2c46433abd",
            "max": 112,
            "min": 0,
            "orientation": "horizontal",
            "style": "IPY_MODEL_0f1216dbe2844b32a4e5f9dc86f3303b",
            "value": 112
          }
        },
        "c2831eefd11e4e52a1d7aedc48afa392": {
          "model_module": "@jupyter-widgets/base",
          "model_module_version": "1.2.0",
          "model_name": "LayoutModel",
          "state": {
            "_model_module": "@jupyter-widgets/base",
            "_model_module_version": "1.2.0",
            "_model_name": "LayoutModel",
            "_view_count": null,
            "_view_module": "@jupyter-widgets/base",
            "_view_module_version": "1.2.0",
            "_view_name": "LayoutView",
            "align_content": null,
            "align_items": null,
            "align_self": null,
            "border": null,
            "bottom": null,
            "display": null,
            "flex": null,
            "flex_flow": null,
            "grid_area": null,
            "grid_auto_columns": null,
            "grid_auto_flow": null,
            "grid_auto_rows": null,
            "grid_column": null,
            "grid_gap": null,
            "grid_row": null,
            "grid_template_areas": null,
            "grid_template_columns": null,
            "grid_template_rows": null,
            "height": null,
            "justify_content": null,
            "justify_items": null,
            "left": null,
            "margin": null,
            "max_height": null,
            "max_width": null,
            "min_height": null,
            "min_width": null,
            "object_fit": null,
            "object_position": null,
            "order": null,
            "overflow": null,
            "overflow_x": null,
            "overflow_y": null,
            "padding": null,
            "right": null,
            "top": null,
            "visibility": null,
            "width": null
          }
        },
        "c4e5640c517c443da3ceb76eb49de7c8": {
          "model_module": "@jupyter-widgets/controls",
          "model_module_version": "1.5.0",
          "model_name": "HBoxModel",
          "state": {
            "_dom_classes": [],
            "_model_module": "@jupyter-widgets/controls",
            "_model_module_version": "1.5.0",
            "_model_name": "HBoxModel",
            "_view_count": null,
            "_view_module": "@jupyter-widgets/controls",
            "_view_module_version": "1.5.0",
            "_view_name": "HBoxView",
            "box_style": "",
            "children": [
              "IPY_MODEL_76e976efc9ae4d678d13918d651cd89d",
              "IPY_MODEL_5fc759e5c73143ae94f80649e28968f4",
              "IPY_MODEL_80484f82f7ef4162b4522aa746950f92"
            ],
            "layout": "IPY_MODEL_98b574a1ded440978c717cc7c35dc78d"
          }
        },
        "c59632967b724a47bb8e667edeb9437c": {
          "model_module": "@jupyter-widgets/controls",
          "model_module_version": "1.5.0",
          "model_name": "HTMLModel",
          "state": {
            "_dom_classes": [],
            "_model_module": "@jupyter-widgets/controls",
            "_model_module_version": "1.5.0",
            "_model_name": "HTMLModel",
            "_view_count": null,
            "_view_module": "@jupyter-widgets/controls",
            "_view_module_version": "1.5.0",
            "_view_name": "HTMLView",
            "description": "",
            "description_tooltip": null,
            "layout": "IPY_MODEL_1248ae20b7284c9596a342cec0f63743",
            "placeholder": "​",
            "style": "IPY_MODEL_8d9b05a039f546a1970c4b298b86d559",
            "value": " 433M/433M [00:11&lt;00:00, 40.4MB/s]"
          }
        },
        "ccbacb9bef704c058372b609785c386f": {
          "model_module": "@jupyter-widgets/base",
          "model_module_version": "1.2.0",
          "model_name": "LayoutModel",
          "state": {
            "_model_module": "@jupyter-widgets/base",
            "_model_module_version": "1.2.0",
            "_model_name": "LayoutModel",
            "_view_count": null,
            "_view_module": "@jupyter-widgets/base",
            "_view_module_version": "1.2.0",
            "_view_name": "LayoutView",
            "align_content": null,
            "align_items": null,
            "align_self": null,
            "border": null,
            "bottom": null,
            "display": null,
            "flex": null,
            "flex_flow": null,
            "grid_area": null,
            "grid_auto_columns": null,
            "grid_auto_flow": null,
            "grid_auto_rows": null,
            "grid_column": null,
            "grid_gap": null,
            "grid_row": null,
            "grid_template_areas": null,
            "grid_template_columns": null,
            "grid_template_rows": null,
            "height": null,
            "justify_content": null,
            "justify_items": null,
            "left": null,
            "margin": null,
            "max_height": null,
            "max_width": null,
            "min_height": null,
            "min_width": null,
            "object_fit": null,
            "object_position": null,
            "order": null,
            "overflow": null,
            "overflow_x": null,
            "overflow_y": null,
            "padding": null,
            "right": null,
            "top": null,
            "visibility": null,
            "width": null
          }
        },
        "d72b8cc6cbd64918ae86552c8a943ddb": {
          "model_module": "@jupyter-widgets/controls",
          "model_module_version": "1.5.0",
          "model_name": "HTMLModel",
          "state": {
            "_dom_classes": [],
            "_model_module": "@jupyter-widgets/controls",
            "_model_module_version": "1.5.0",
            "_model_name": "HTMLModel",
            "_view_count": null,
            "_view_module": "@jupyter-widgets/controls",
            "_view_module_version": "1.5.0",
            "_view_name": "HTMLView",
            "description": "",
            "description_tooltip": null,
            "layout": "IPY_MODEL_9c30bf8560bf4a5dbf49c30ffc1b4373",
            "placeholder": "​",
            "style": "IPY_MODEL_1dc9f2a63dd34362ad3044a1c1fd8749",
            "value": "Downloading: 100%"
          }
        },
        "d9c84a3f53214b17b452df146f4ee2f1": {
          "model_module": "@jupyter-widgets/base",
          "model_module_version": "1.2.0",
          "model_name": "LayoutModel",
          "state": {
            "_model_module": "@jupyter-widgets/base",
            "_model_module_version": "1.2.0",
            "_model_name": "LayoutModel",
            "_view_count": null,
            "_view_module": "@jupyter-widgets/base",
            "_view_module_version": "1.2.0",
            "_view_name": "LayoutView",
            "align_content": null,
            "align_items": null,
            "align_self": null,
            "border": null,
            "bottom": null,
            "display": null,
            "flex": null,
            "flex_flow": null,
            "grid_area": null,
            "grid_auto_columns": null,
            "grid_auto_flow": null,
            "grid_auto_rows": null,
            "grid_column": null,
            "grid_gap": null,
            "grid_row": null,
            "grid_template_areas": null,
            "grid_template_columns": null,
            "grid_template_rows": null,
            "height": null,
            "justify_content": null,
            "justify_items": null,
            "left": null,
            "margin": null,
            "max_height": null,
            "max_width": null,
            "min_height": null,
            "min_width": null,
            "object_fit": null,
            "object_position": null,
            "order": null,
            "overflow": null,
            "overflow_x": null,
            "overflow_y": null,
            "padding": null,
            "right": null,
            "top": null,
            "visibility": null,
            "width": null
          }
        },
        "dbcf61a779cc42bbad1be38fa7ec1dbd": {
          "model_module": "@jupyter-widgets/controls",
          "model_module_version": "1.5.0",
          "model_name": "FloatProgressModel",
          "state": {
            "_dom_classes": [],
            "_model_module": "@jupyter-widgets/controls",
            "_model_module_version": "1.5.0",
            "_model_name": "FloatProgressModel",
            "_view_count": null,
            "_view_module": "@jupyter-widgets/controls",
            "_view_module_version": "1.5.0",
            "_view_name": "ProgressView",
            "bar_style": "success",
            "description": "",
            "description_tooltip": null,
            "layout": "IPY_MODEL_81a2a5bf720f42058f6f1a61dde7405f",
            "max": 213450,
            "min": 0,
            "orientation": "horizontal",
            "style": "IPY_MODEL_b36c4ee0e38a4ced8dfdffb0f79c44af",
            "value": 213450
          }
        },
        "de35601de65d405d978855c50f19469f": {
          "model_module": "@jupyter-widgets/controls",
          "model_module_version": "1.5.0",
          "model_name": "HBoxModel",
          "state": {
            "_dom_classes": [],
            "_model_module": "@jupyter-widgets/controls",
            "_model_module_version": "1.5.0",
            "_model_name": "HBoxModel",
            "_view_count": null,
            "_view_module": "@jupyter-widgets/controls",
            "_view_module_version": "1.5.0",
            "_view_name": "HBoxView",
            "box_style": "",
            "children": [
              "IPY_MODEL_4a279d6e7d574fbbb079265d73ed37d6",
              "IPY_MODEL_0efb589101df43ba92392c2a8b6150b3",
              "IPY_MODEL_859258ad54a741a3a385f45645c5ade6"
            ],
            "layout": "IPY_MODEL_5a514685ca264957ae003bb850d7157b"
          }
        },
        "e92070d9d3e748e5bac6181221c58fb4": {
          "model_module": "@jupyter-widgets/controls",
          "model_module_version": "1.5.0",
          "model_name": "ProgressStyleModel",
          "state": {
            "_model_module": "@jupyter-widgets/controls",
            "_model_module_version": "1.5.0",
            "_model_name": "ProgressStyleModel",
            "_view_count": null,
            "_view_module": "@jupyter-widgets/base",
            "_view_module_version": "1.2.0",
            "_view_name": "StyleView",
            "bar_color": null,
            "description_width": ""
          }
        },
        "f91c483c23dd40909e39cc5bbfe241c7": {
          "model_module": "@jupyter-widgets/base",
          "model_module_version": "1.2.0",
          "model_name": "LayoutModel",
          "state": {
            "_model_module": "@jupyter-widgets/base",
            "_model_module_version": "1.2.0",
            "_model_name": "LayoutModel",
            "_view_count": null,
            "_view_module": "@jupyter-widgets/base",
            "_view_module_version": "1.2.0",
            "_view_name": "LayoutView",
            "align_content": null,
            "align_items": null,
            "align_self": null,
            "border": null,
            "bottom": null,
            "display": null,
            "flex": null,
            "flex_flow": null,
            "grid_area": null,
            "grid_auto_columns": null,
            "grid_auto_flow": null,
            "grid_auto_rows": null,
            "grid_column": null,
            "grid_gap": null,
            "grid_row": null,
            "grid_template_areas": null,
            "grid_template_columns": null,
            "grid_template_rows": null,
            "height": null,
            "justify_content": null,
            "justify_items": null,
            "left": null,
            "margin": null,
            "max_height": null,
            "max_width": null,
            "min_height": null,
            "min_width": null,
            "object_fit": null,
            "object_position": null,
            "order": null,
            "overflow": null,
            "overflow_x": null,
            "overflow_y": null,
            "padding": null,
            "right": null,
            "top": null,
            "visibility": null,
            "width": null
          }
        },
        "f9620e1e82f140e494f39ab096242722": {
          "model_module": "@jupyter-widgets/controls",
          "model_module_version": "1.5.0",
          "model_name": "HTMLModel",
          "state": {
            "_dom_classes": [],
            "_model_module": "@jupyter-widgets/controls",
            "_model_module_version": "1.5.0",
            "_model_name": "HTMLModel",
            "_view_count": null,
            "_view_module": "@jupyter-widgets/controls",
            "_view_module_version": "1.5.0",
            "_view_name": "HTMLView",
            "description": "",
            "description_tooltip": null,
            "layout": "IPY_MODEL_8504289d47004db8974a9c2d0097f971",
            "placeholder": "​",
            "style": "IPY_MODEL_2deeb39af8cb43adadcad272d66b8f7b",
            "value": "Downloading: 100%"
          }
        }
      }
    }
  },
  "nbformat": 4,
  "nbformat_minor": 2
}
