{
 "cells": [
  {
   "cell_type": "code",
   "execution_count": 2,
   "metadata": {},
   "outputs": [
    {
     "output_type": "stream",
     "name": "stdout",
     "text": [
      "Requirement already satisfied: flair in c:\\users\\rich\\anaconda3\\envs\\ml\\lib\\site-packages (0.8)\nRequirement already satisfied: regex in c:\\users\\rich\\anaconda3\\envs\\ml\\lib\\site-packages (from flair) (2021.4.4)\nRequirement already satisfied: gensim<=3.8.3,>=3.4.0 in c:\\users\\rich\\anaconda3\\envs\\ml\\lib\\site-packages (from flair) (3.8.3)\nRequirement already satisfied: deprecated>=1.2.4 in c:\\users\\rich\\anaconda3\\envs\\ml\\lib\\site-packages (from flair) (1.2.12)\nRequirement already satisfied: numpy<1.20.0 in c:\\users\\rich\\anaconda3\\envs\\ml\\lib\\site-packages (from flair) (1.19.5)\nRequirement already satisfied: tabulate in c:\\users\\rich\\anaconda3\\envs\\ml\\lib\\site-packages (from flair) (0.8.9)\nRequirement already satisfied: huggingface-hub in c:\\users\\rich\\anaconda3\\envs\\ml\\lib\\site-packages (from flair) (0.0.10)\nRequirement already satisfied: segtok>=1.5.7 in c:\\users\\rich\\anaconda3\\envs\\ml\\lib\\site-packages (from flair) (1.5.10)\nRequirement already satisfied: konoha<5.0.0,>=4.0.0 in c:\\users\\rich\\anaconda3\\envs\\ml\\lib\\site-packages (from flair) (4.6.5)\nRequirement already satisfied: bpemb>=0.3.2 in c:\\users\\rich\\anaconda3\\envs\\ml\\lib\\site-packages (from flair) (0.3.3)\nRequirement already satisfied: lxml in c:\\users\\rich\\anaconda3\\envs\\ml\\lib\\site-packages (from flair) (4.6.3)\nRequirement already satisfied: janome in c:\\users\\rich\\anaconda3\\envs\\ml\\lib\\site-packages (from flair) (0.4.1)\nRequirement already satisfied: mpld3==0.3 in c:\\users\\rich\\anaconda3\\envs\\ml\\lib\\site-packages (from flair) (0.3)\nRequirement already satisfied: ftfy in c:\\users\\rich\\anaconda3\\envs\\ml\\lib\\site-packages (from flair) (6.0.3)\nRequirement already satisfied: tqdm>=4.26.0 in c:\\users\\rich\\anaconda3\\envs\\ml\\lib\\site-packages (from flair) (4.59.0)\nRequirement already satisfied: python-dateutil>=2.6.1 in c:\\users\\rich\\anaconda3\\envs\\ml\\lib\\site-packages (from flair) (2.8.1)\nRequirement already satisfied: gdown==3.12.2 in c:\\users\\rich\\anaconda3\\envs\\ml\\lib\\site-packages (from flair) (3.12.2)\nRequirement already satisfied: torch>=1.5.0 in c:\\users\\rich\\anaconda3\\envs\\ml\\lib\\site-packages (from flair) (1.9.0)\nRequirement already satisfied: scikit-learn>=0.21.3 in c:\\users\\rich\\anaconda3\\envs\\ml\\lib\\site-packages (from flair) (0.24.2)\nRequirement already satisfied: langdetect in c:\\users\\rich\\anaconda3\\envs\\ml\\lib\\site-packages (from flair) (1.0.9)\nRequirement already satisfied: matplotlib>=2.2.3 in c:\\users\\rich\\anaconda3\\envs\\ml\\lib\\site-packages (from flair) (3.3.4)\nRequirement already satisfied: transformers>=4.0.0 in c:\\users\\rich\\anaconda3\\envs\\ml\\lib\\site-packages (from flair) (4.1.1)\nRequirement already satisfied: sentencepiece==0.1.95 in c:\\users\\rich\\anaconda3\\envs\\ml\\lib\\site-packages (from flair) (0.1.95)\nRequirement already satisfied: hyperopt>=0.1.1 in c:\\users\\rich\\anaconda3\\envs\\ml\\lib\\site-packages (from flair) (0.2.5)\nRequirement already satisfied: sqlitedict>=1.6.0 in c:\\users\\rich\\anaconda3\\envs\\ml\\lib\\site-packages (from flair) (1.7.0)\nRequirement already satisfied: filelock in c:\\users\\rich\\anaconda3\\envs\\ml\\lib\\site-packages (from gdown==3.12.2->flair) (3.0.12)\nRequirement already satisfied: requests[socks] in c:\\users\\rich\\anaconda3\\envs\\ml\\lib\\site-packages (from gdown==3.12.2->flair) (2.25.1)\nRequirement already satisfied: six in c:\\users\\rich\\anaconda3\\envs\\ml\\lib\\site-packages (from gdown==3.12.2->flair) (1.16.0)\nRequirement already satisfied: wrapt<2,>=1.10 in c:\\users\\rich\\anaconda3\\envs\\ml\\lib\\site-packages (from deprecated>=1.2.4->flair) (1.12.1)\nRequirement already satisfied: scipy>=0.18.1 in c:\\users\\rich\\anaconda3\\envs\\ml\\lib\\site-packages (from gensim<=3.8.3,>=3.4.0->flair) (1.6.2)\nRequirement already satisfied: Cython==0.29.14 in c:\\users\\rich\\anaconda3\\envs\\ml\\lib\\site-packages (from gensim<=3.8.3,>=3.4.0->flair) (0.29.14)\nRequirement already satisfied: smart-open>=1.8.1 in c:\\users\\rich\\anaconda3\\envs\\ml\\lib\\site-packages (from gensim<=3.8.3,>=3.4.0->flair) (3.0.0)\nRequirement already satisfied: networkx>=2.2 in c:\\users\\rich\\anaconda3\\envs\\ml\\lib\\site-packages (from hyperopt>=0.1.1->flair) (2.5)\nRequirement already satisfied: cloudpickle in c:\\users\\rich\\anaconda3\\envs\\ml\\lib\\site-packages (from hyperopt>=0.1.1->flair) (1.6.0)\nRequirement already satisfied: future in c:\\users\\rich\\anaconda3\\envs\\ml\\lib\\site-packages (from hyperopt>=0.1.1->flair) (0.18.2)\nRequirement already satisfied: overrides<4.0.0,>=3.0.0 in c:\\users\\rich\\anaconda3\\envs\\ml\\lib\\site-packages (from konoha<5.0.0,>=4.0.0->flair) (3.1.0)\nRequirement already satisfied: importlib-metadata<4.0.0,>=3.7.0 in c:\\users\\rich\\anaconda3\\envs\\ml\\lib\\site-packages (from konoha<5.0.0,>=4.0.0->flair) (3.10.1)\nRequirement already satisfied: zipp>=0.5 in c:\\users\\rich\\anaconda3\\envs\\ml\\lib\\site-packages (from importlib-metadata<4.0.0,>=3.7.0->konoha<5.0.0,>=4.0.0->flair) (3.4.1)\nRequirement already satisfied: cycler>=0.10 in c:\\users\\rich\\anaconda3\\envs\\ml\\lib\\site-packages (from matplotlib>=2.2.3->flair) (0.10.0)\nRequirement already satisfied: pillow>=6.2.0 in c:\\users\\rich\\anaconda3\\envs\\ml\\lib\\site-packages (from matplotlib>=2.2.3->flair) (8.2.0)\nRequirement already satisfied: pyparsing!=2.0.4,!=2.1.2,!=2.1.6,>=2.0.3 in c:\\users\\rich\\anaconda3\\envs\\ml\\lib\\site-packages (from matplotlib>=2.2.3->flair) (2.4.7)\nRequirement already satisfied: kiwisolver>=1.0.1 in c:\\users\\rich\\anaconda3\\envs\\ml\\lib\\site-packages (from matplotlib>=2.2.3->flair) (1.3.1)\nRequirement already satisfied: decorator>=4.3.0 in c:\\users\\rich\\anaconda3\\envs\\ml\\lib\\site-packages (from networkx>=2.2->hyperopt>=0.1.1->flair) (5.0.9)\nRequirement already satisfied: certifi>=2017.4.17 in c:\\users\\rich\\anaconda3\\envs\\ml\\lib\\site-packages (from requests[socks]->gdown==3.12.2->flair) (2021.5.30)\nRequirement already satisfied: chardet<5,>=3.0.2 in c:\\users\\rich\\anaconda3\\envs\\ml\\lib\\site-packages (from requests[socks]->gdown==3.12.2->flair) (4.0.0)\nRequirement already satisfied: urllib3<1.27,>=1.21.1 in c:\\users\\rich\\anaconda3\\envs\\ml\\lib\\site-packages (from requests[socks]->gdown==3.12.2->flair) (1.26.4)\nRequirement already satisfied: idna<3,>=2.5 in c:\\users\\rich\\anaconda3\\envs\\ml\\lib\\site-packages (from requests[socks]->gdown==3.12.2->flair) (2.10)\nRequirement already satisfied: threadpoolctl>=2.0.0 in c:\\users\\rich\\anaconda3\\envs\\ml\\lib\\site-packages (from scikit-learn>=0.21.3->flair) (2.1.0)\nRequirement already satisfied: joblib>=0.11 in c:\\users\\rich\\anaconda3\\envs\\ml\\lib\\site-packages (from scikit-learn>=0.21.3->flair) (1.0.1)\nRequirement already satisfied: typing_extensions in c:\\users\\rich\\anaconda3\\envs\\ml\\lib\\site-packages (from torch>=1.5.0->flair) (3.7.4.3)\nRequirement already satisfied: tokenizers==0.9.4 in c:\\users\\rich\\anaconda3\\envs\\ml\\lib\\site-packages (from transformers>=4.0.0->flair) (0.9.4)\nRequirement already satisfied: packaging in c:\\users\\rich\\anaconda3\\envs\\ml\\lib\\site-packages (from transformers>=4.0.0->flair) (20.9)\nRequirement already satisfied: sacremoses in c:\\users\\rich\\anaconda3\\envs\\ml\\lib\\site-packages (from transformers>=4.0.0->flair) (0.0.45)\nRequirement already satisfied: wcwidth in c:\\users\\rich\\anaconda3\\envs\\ml\\lib\\site-packages (from ftfy->flair) (0.2.5)\nRequirement already satisfied: PySocks!=1.5.7,>=1.5.6 in c:\\users\\rich\\anaconda3\\envs\\ml\\lib\\site-packages (from requests[socks]->gdown==3.12.2->flair) (1.7.1)\nRequirement already satisfied: click in c:\\users\\rich\\anaconda3\\envs\\ml\\lib\\site-packages (from sacremoses->transformers>=4.0.0->flair) (8.0.1)\nRequirement already satisfied: colorama in c:\\users\\rich\\anaconda3\\envs\\ml\\lib\\site-packages (from click->sacremoses->transformers>=4.0.0->flair) (0.4.4)\n"
     ]
    }
   ],
   "source": [
    "!pip install flair\n"
   ]
  },
  {
   "cell_type": "code",
   "execution_count": 3,
   "metadata": {},
   "outputs": [],
   "source": [
    "import flair"
   ]
  },
  {
   "cell_type": "code",
   "execution_count": 15,
   "metadata": {},
   "outputs": [
    {
     "output_type": "stream",
     "name": "stdout",
     "text": [
      "2021-07-02 15:55:22,963 loading file C:\\Users\\rich\\.flair\\models\\sentiment-en-mix-distillbert_4.pt\n"
     ]
    }
   ],
   "source": [
    "# now doing the flair sentiment analysis\n",
    "model = flair.models.TextClassifier.load(\"en-sentiment\")"
   ]
  },
  {
   "cell_type": "code",
   "execution_count": 16,
   "metadata": {},
   "outputs": [],
   "source": [
    "# now getting a sentance and will then use the model\n",
    "text1 = \"I am not sure if I know where I am supposed to go.\"\n",
    "text2 = \"Wow this is super boring.\"\n",
    "text3 = \"I hate when you leave.\"\n",
    "text4 = \"I love you so much.\"\n",
    "the_list = [text1, text2, text3, text4]"
   ]
  },
  {
   "cell_type": "code",
   "execution_count": 17,
   "metadata": {},
   "outputs": [],
   "source": [
    "# making a list of the sentences\n",
    "sentence_list = [flair.data.Sentence(text) for text in the_list]\n",
    "for s in sentence_list:\n",
    "    model.predict(s)"
   ]
  },
  {
   "cell_type": "code",
   "execution_count": 18,
   "metadata": {},
   "outputs": [
    {
     "output_type": "stream",
     "name": "stdout",
     "text": [
      "Sentence: \"I am not sure if I know where I am supposed to go .\"   [− Tokens: 14  − Sentence-Labels: {'label': [NEGATIVE (0.5626)]}]\nSentence: \"Wow this is super boring .\"   [− Tokens: 6  − Sentence-Labels: {'label': [NEGATIVE (1.0)]}]\nSentence: \"I hate when you leave .\"   [− Tokens: 6  − Sentence-Labels: {'label': [NEGATIVE (0.8914)]}]\nSentence: \"I love you so much .\"   [− Tokens: 6  − Sentence-Labels: {'label': [POSITIVE (0.9931)]}]\n"
     ]
    }
   ],
   "source": [
    "# now doing the sentiment of each of the sentences\n",
    "# printing out the sentences list\n",
    "for sent in sentence_list:\n",
    "    print(sent)"
   ]
  },
  {
   "cell_type": "code",
   "execution_count": 34,
   "metadata": {},
   "outputs": [
    {
     "output_type": "stream",
     "name": "stdout",
     "text": [
      "The sentiment of the fist sentence is: NEGATIVE with a    0.5626 probability\nThe sentiment of the second sentence is: NEGATIVE with a    1.0000 probability\nThe sentiment of the third sentence is: NEGATIVE with a    0.8914 probability\nThe sentiment of the fourth sentence is: POSITIVE with a    0.9931 probability\n"
     ]
    }
   ],
   "source": [
    "val = {0:\"fist\",\n",
    "       1:\"second\",\n",
    "       2:\"third\",\n",
    "       3:\"fourth\",\n",
    "       4:\"fith\"\n",
    "        \n",
    "        }\n",
    "\n",
    "# now getting out just the \n",
    "for i, s in enumerate(sentence_list):\n",
    "    # printing out each of the labels of the sentiment\n",
    "    print(f\"The sentiment of the {val[i]} sentence is: {s.labels[0].value} with a {s.labels[0].score:9.4f} probability\" )"
   ]
  },
  {
   "cell_type": "code",
   "execution_count": null,
   "metadata": {},
   "outputs": [],
   "source": []
  }
 ],
 "metadata": {
  "kernelspec": {
   "name": "ml",
   "display_name": "Python 3.8.10 64-bit ('ml': conda)"
  },
  "language_info": {
   "codemirror_mode": {
    "name": "ipython",
    "version": 3
   },
   "file_extension": ".py",
   "mimetype": "text/x-python",
   "name": "python",
   "nbconvert_exporter": "python",
   "pygments_lexer": "ipython3",
   "version": "3.8.10"
  }
 },
 "nbformat": 4,
 "nbformat_minor": 4
}