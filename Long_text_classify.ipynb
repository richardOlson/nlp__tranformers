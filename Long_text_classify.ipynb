{
  "nbformat": 4,
  "nbformat_minor": 0,
  "metadata": {
    "colab": {
      "name": "Long_text_classify.ipynb",
      "provenance": [],
      "authorship_tag": "ABX9TyP3342CMb8G+qRfRV6c3/08",
      "include_colab_link": true
    },
    "kernelspec": {
      "name": "python3",
      "display_name": "Python 3"
    },
    "language_info": {
      "name": "python"
    },
    "widgets": {
      "application/vnd.jupyter.widget-state+json": {
        "4fa538bb61ed44a38b5aaf9486e660d2": {
          "model_module": "@jupyter-widgets/controls",
          "model_name": "HBoxModel",
          "state": {
            "_view_name": "HBoxView",
            "_dom_classes": [],
            "_model_name": "HBoxModel",
            "_view_module": "@jupyter-widgets/controls",
            "_model_module_version": "1.5.0",
            "_view_count": null,
            "_view_module_version": "1.5.0",
            "box_style": "",
            "layout": "IPY_MODEL_7d83934bbead481aa789d202b3564832",
            "_model_module": "@jupyter-widgets/controls",
            "children": [
              "IPY_MODEL_fecb3c7003a640e4aaa28d0774324609",
              "IPY_MODEL_53b44b164af64f74b56694692fe7ed4d"
            ]
          }
        },
        "7d83934bbead481aa789d202b3564832": {
          "model_module": "@jupyter-widgets/base",
          "model_name": "LayoutModel",
          "state": {
            "_view_name": "LayoutView",
            "grid_template_rows": null,
            "right": null,
            "justify_content": null,
            "_view_module": "@jupyter-widgets/base",
            "overflow": null,
            "_model_module_version": "1.2.0",
            "_view_count": null,
            "flex_flow": null,
            "width": null,
            "min_width": null,
            "border": null,
            "align_items": null,
            "bottom": null,
            "_model_module": "@jupyter-widgets/base",
            "top": null,
            "grid_column": null,
            "overflow_y": null,
            "overflow_x": null,
            "grid_auto_flow": null,
            "grid_area": null,
            "grid_template_columns": null,
            "flex": null,
            "_model_name": "LayoutModel",
            "justify_items": null,
            "grid_row": null,
            "max_height": null,
            "align_content": null,
            "visibility": null,
            "align_self": null,
            "height": null,
            "min_height": null,
            "padding": null,
            "grid_auto_rows": null,
            "grid_gap": null,
            "max_width": null,
            "order": null,
            "_view_module_version": "1.2.0",
            "grid_template_areas": null,
            "object_position": null,
            "object_fit": null,
            "grid_auto_columns": null,
            "margin": null,
            "display": null,
            "left": null
          }
        },
        "fecb3c7003a640e4aaa28d0774324609": {
          "model_module": "@jupyter-widgets/controls",
          "model_name": "FloatProgressModel",
          "state": {
            "_view_name": "ProgressView",
            "style": "IPY_MODEL_b32a65378fc2415a962c48cd71621728",
            "_dom_classes": [],
            "description": "Downloading: 100%",
            "_model_name": "FloatProgressModel",
            "bar_style": "success",
            "max": 758,
            "_view_module": "@jupyter-widgets/controls",
            "_model_module_version": "1.5.0",
            "value": 758,
            "_view_count": null,
            "_view_module_version": "1.5.0",
            "orientation": "horizontal",
            "min": 0,
            "description_tooltip": null,
            "_model_module": "@jupyter-widgets/controls",
            "layout": "IPY_MODEL_0ba6ad2ecfb3456a9fa4d5039a70af4e"
          }
        },
        "53b44b164af64f74b56694692fe7ed4d": {
          "model_module": "@jupyter-widgets/controls",
          "model_name": "HTMLModel",
          "state": {
            "_view_name": "HTMLView",
            "style": "IPY_MODEL_2eb8a1b2a2d04b6a8907afccfce8ec02",
            "_dom_classes": [],
            "description": "",
            "_model_name": "HTMLModel",
            "placeholder": "​",
            "_view_module": "@jupyter-widgets/controls",
            "_model_module_version": "1.5.0",
            "value": " 758/758 [00:13&lt;00:00, 56.1B/s]",
            "_view_count": null,
            "_view_module_version": "1.5.0",
            "description_tooltip": null,
            "_model_module": "@jupyter-widgets/controls",
            "layout": "IPY_MODEL_dc7aae6224504efba82e7d408f5b9670"
          }
        },
        "b32a65378fc2415a962c48cd71621728": {
          "model_module": "@jupyter-widgets/controls",
          "model_name": "ProgressStyleModel",
          "state": {
            "_view_name": "StyleView",
            "_model_name": "ProgressStyleModel",
            "description_width": "initial",
            "_view_module": "@jupyter-widgets/base",
            "_model_module_version": "1.5.0",
            "_view_count": null,
            "_view_module_version": "1.2.0",
            "bar_color": null,
            "_model_module": "@jupyter-widgets/controls"
          }
        },
        "0ba6ad2ecfb3456a9fa4d5039a70af4e": {
          "model_module": "@jupyter-widgets/base",
          "model_name": "LayoutModel",
          "state": {
            "_view_name": "LayoutView",
            "grid_template_rows": null,
            "right": null,
            "justify_content": null,
            "_view_module": "@jupyter-widgets/base",
            "overflow": null,
            "_model_module_version": "1.2.0",
            "_view_count": null,
            "flex_flow": null,
            "width": null,
            "min_width": null,
            "border": null,
            "align_items": null,
            "bottom": null,
            "_model_module": "@jupyter-widgets/base",
            "top": null,
            "grid_column": null,
            "overflow_y": null,
            "overflow_x": null,
            "grid_auto_flow": null,
            "grid_area": null,
            "grid_template_columns": null,
            "flex": null,
            "_model_name": "LayoutModel",
            "justify_items": null,
            "grid_row": null,
            "max_height": null,
            "align_content": null,
            "visibility": null,
            "align_self": null,
            "height": null,
            "min_height": null,
            "padding": null,
            "grid_auto_rows": null,
            "grid_gap": null,
            "max_width": null,
            "order": null,
            "_view_module_version": "1.2.0",
            "grid_template_areas": null,
            "object_position": null,
            "object_fit": null,
            "grid_auto_columns": null,
            "margin": null,
            "display": null,
            "left": null
          }
        },
        "2eb8a1b2a2d04b6a8907afccfce8ec02": {
          "model_module": "@jupyter-widgets/controls",
          "model_name": "DescriptionStyleModel",
          "state": {
            "_view_name": "StyleView",
            "_model_name": "DescriptionStyleModel",
            "description_width": "",
            "_view_module": "@jupyter-widgets/base",
            "_model_module_version": "1.5.0",
            "_view_count": null,
            "_view_module_version": "1.2.0",
            "_model_module": "@jupyter-widgets/controls"
          }
        },
        "dc7aae6224504efba82e7d408f5b9670": {
          "model_module": "@jupyter-widgets/base",
          "model_name": "LayoutModel",
          "state": {
            "_view_name": "LayoutView",
            "grid_template_rows": null,
            "right": null,
            "justify_content": null,
            "_view_module": "@jupyter-widgets/base",
            "overflow": null,
            "_model_module_version": "1.2.0",
            "_view_count": null,
            "flex_flow": null,
            "width": null,
            "min_width": null,
            "border": null,
            "align_items": null,
            "bottom": null,
            "_model_module": "@jupyter-widgets/base",
            "top": null,
            "grid_column": null,
            "overflow_y": null,
            "overflow_x": null,
            "grid_auto_flow": null,
            "grid_area": null,
            "grid_template_columns": null,
            "flex": null,
            "_model_name": "LayoutModel",
            "justify_items": null,
            "grid_row": null,
            "max_height": null,
            "align_content": null,
            "visibility": null,
            "align_self": null,
            "height": null,
            "min_height": null,
            "padding": null,
            "grid_auto_rows": null,
            "grid_gap": null,
            "max_width": null,
            "order": null,
            "_view_module_version": "1.2.0",
            "grid_template_areas": null,
            "object_position": null,
            "object_fit": null,
            "grid_auto_columns": null,
            "margin": null,
            "display": null,
            "left": null
          }
        },
        "ad8c13fa8f7b469293df9581058963d9": {
          "model_module": "@jupyter-widgets/controls",
          "model_name": "HBoxModel",
          "state": {
            "_view_name": "HBoxView",
            "_dom_classes": [],
            "_model_name": "HBoxModel",
            "_view_module": "@jupyter-widgets/controls",
            "_model_module_version": "1.5.0",
            "_view_count": null,
            "_view_module_version": "1.5.0",
            "box_style": "",
            "layout": "IPY_MODEL_e7826a455c884fa28a13b23bf3b3cc84",
            "_model_module": "@jupyter-widgets/controls",
            "children": [
              "IPY_MODEL_0459fb2829c34dfd93427b7ca730ec04",
              "IPY_MODEL_3018d5b1eab54cfaacbf437dfe079d31"
            ]
          }
        },
        "e7826a455c884fa28a13b23bf3b3cc84": {
          "model_module": "@jupyter-widgets/base",
          "model_name": "LayoutModel",
          "state": {
            "_view_name": "LayoutView",
            "grid_template_rows": null,
            "right": null,
            "justify_content": null,
            "_view_module": "@jupyter-widgets/base",
            "overflow": null,
            "_model_module_version": "1.2.0",
            "_view_count": null,
            "flex_flow": null,
            "width": null,
            "min_width": null,
            "border": null,
            "align_items": null,
            "bottom": null,
            "_model_module": "@jupyter-widgets/base",
            "top": null,
            "grid_column": null,
            "overflow_y": null,
            "overflow_x": null,
            "grid_auto_flow": null,
            "grid_area": null,
            "grid_template_columns": null,
            "flex": null,
            "_model_name": "LayoutModel",
            "justify_items": null,
            "grid_row": null,
            "max_height": null,
            "align_content": null,
            "visibility": null,
            "align_self": null,
            "height": null,
            "min_height": null,
            "padding": null,
            "grid_auto_rows": null,
            "grid_gap": null,
            "max_width": null,
            "order": null,
            "_view_module_version": "1.2.0",
            "grid_template_areas": null,
            "object_position": null,
            "object_fit": null,
            "grid_auto_columns": null,
            "margin": null,
            "display": null,
            "left": null
          }
        },
        "0459fb2829c34dfd93427b7ca730ec04": {
          "model_module": "@jupyter-widgets/controls",
          "model_name": "FloatProgressModel",
          "state": {
            "_view_name": "ProgressView",
            "style": "IPY_MODEL_74ca6fb2464041f28be4e7bef79604b5",
            "_dom_classes": [],
            "description": "Downloading: 100%",
            "_model_name": "FloatProgressModel",
            "bar_style": "success",
            "max": 437992753,
            "_view_module": "@jupyter-widgets/controls",
            "_model_module_version": "1.5.0",
            "value": 437992753,
            "_view_count": null,
            "_view_module_version": "1.5.0",
            "orientation": "horizontal",
            "min": 0,
            "description_tooltip": null,
            "_model_module": "@jupyter-widgets/controls",
            "layout": "IPY_MODEL_717f2bc8880749dc8ec12b9623ecee99"
          }
        },
        "3018d5b1eab54cfaacbf437dfe079d31": {
          "model_module": "@jupyter-widgets/controls",
          "model_name": "HTMLModel",
          "state": {
            "_view_name": "HTMLView",
            "style": "IPY_MODEL_c53332d6c2cc4fbd9f9982d1e023e304",
            "_dom_classes": [],
            "description": "",
            "_model_name": "HTMLModel",
            "placeholder": "​",
            "_view_module": "@jupyter-widgets/controls",
            "_model_module_version": "1.5.0",
            "value": " 438M/438M [00:12&lt;00:00, 33.9MB/s]",
            "_view_count": null,
            "_view_module_version": "1.5.0",
            "description_tooltip": null,
            "_model_module": "@jupyter-widgets/controls",
            "layout": "IPY_MODEL_86b463a163b74cae989f48eca3a8520e"
          }
        },
        "74ca6fb2464041f28be4e7bef79604b5": {
          "model_module": "@jupyter-widgets/controls",
          "model_name": "ProgressStyleModel",
          "state": {
            "_view_name": "StyleView",
            "_model_name": "ProgressStyleModel",
            "description_width": "initial",
            "_view_module": "@jupyter-widgets/base",
            "_model_module_version": "1.5.0",
            "_view_count": null,
            "_view_module_version": "1.2.0",
            "bar_color": null,
            "_model_module": "@jupyter-widgets/controls"
          }
        },
        "717f2bc8880749dc8ec12b9623ecee99": {
          "model_module": "@jupyter-widgets/base",
          "model_name": "LayoutModel",
          "state": {
            "_view_name": "LayoutView",
            "grid_template_rows": null,
            "right": null,
            "justify_content": null,
            "_view_module": "@jupyter-widgets/base",
            "overflow": null,
            "_model_module_version": "1.2.0",
            "_view_count": null,
            "flex_flow": null,
            "width": null,
            "min_width": null,
            "border": null,
            "align_items": null,
            "bottom": null,
            "_model_module": "@jupyter-widgets/base",
            "top": null,
            "grid_column": null,
            "overflow_y": null,
            "overflow_x": null,
            "grid_auto_flow": null,
            "grid_area": null,
            "grid_template_columns": null,
            "flex": null,
            "_model_name": "LayoutModel",
            "justify_items": null,
            "grid_row": null,
            "max_height": null,
            "align_content": null,
            "visibility": null,
            "align_self": null,
            "height": null,
            "min_height": null,
            "padding": null,
            "grid_auto_rows": null,
            "grid_gap": null,
            "max_width": null,
            "order": null,
            "_view_module_version": "1.2.0",
            "grid_template_areas": null,
            "object_position": null,
            "object_fit": null,
            "grid_auto_columns": null,
            "margin": null,
            "display": null,
            "left": null
          }
        },
        "c53332d6c2cc4fbd9f9982d1e023e304": {
          "model_module": "@jupyter-widgets/controls",
          "model_name": "DescriptionStyleModel",
          "state": {
            "_view_name": "StyleView",
            "_model_name": "DescriptionStyleModel",
            "description_width": "",
            "_view_module": "@jupyter-widgets/base",
            "_model_module_version": "1.5.0",
            "_view_count": null,
            "_view_module_version": "1.2.0",
            "_model_module": "@jupyter-widgets/controls"
          }
        },
        "86b463a163b74cae989f48eca3a8520e": {
          "model_module": "@jupyter-widgets/base",
          "model_name": "LayoutModel",
          "state": {
            "_view_name": "LayoutView",
            "grid_template_rows": null,
            "right": null,
            "justify_content": null,
            "_view_module": "@jupyter-widgets/base",
            "overflow": null,
            "_model_module_version": "1.2.0",
            "_view_count": null,
            "flex_flow": null,
            "width": null,
            "min_width": null,
            "border": null,
            "align_items": null,
            "bottom": null,
            "_model_module": "@jupyter-widgets/base",
            "top": null,
            "grid_column": null,
            "overflow_y": null,
            "overflow_x": null,
            "grid_auto_flow": null,
            "grid_area": null,
            "grid_template_columns": null,
            "flex": null,
            "_model_name": "LayoutModel",
            "justify_items": null,
            "grid_row": null,
            "max_height": null,
            "align_content": null,
            "visibility": null,
            "align_self": null,
            "height": null,
            "min_height": null,
            "padding": null,
            "grid_auto_rows": null,
            "grid_gap": null,
            "max_width": null,
            "order": null,
            "_view_module_version": "1.2.0",
            "grid_template_areas": null,
            "object_position": null,
            "object_fit": null,
            "grid_auto_columns": null,
            "margin": null,
            "display": null,
            "left": null
          }
        },
        "20f24c9b0aa44e72ad511abbfe1879b7": {
          "model_module": "@jupyter-widgets/controls",
          "model_name": "HBoxModel",
          "state": {
            "_view_name": "HBoxView",
            "_dom_classes": [],
            "_model_name": "HBoxModel",
            "_view_module": "@jupyter-widgets/controls",
            "_model_module_version": "1.5.0",
            "_view_count": null,
            "_view_module_version": "1.5.0",
            "box_style": "",
            "layout": "IPY_MODEL_ed4e6c08aa5844c9a209602eb83309e9",
            "_model_module": "@jupyter-widgets/controls",
            "children": [
              "IPY_MODEL_09f559dbd4864e0c9c50f26d743d55be",
              "IPY_MODEL_a7075805eba7439d9de13be3cc7e25da"
            ]
          }
        },
        "ed4e6c08aa5844c9a209602eb83309e9": {
          "model_module": "@jupyter-widgets/base",
          "model_name": "LayoutModel",
          "state": {
            "_view_name": "LayoutView",
            "grid_template_rows": null,
            "right": null,
            "justify_content": null,
            "_view_module": "@jupyter-widgets/base",
            "overflow": null,
            "_model_module_version": "1.2.0",
            "_view_count": null,
            "flex_flow": null,
            "width": null,
            "min_width": null,
            "border": null,
            "align_items": null,
            "bottom": null,
            "_model_module": "@jupyter-widgets/base",
            "top": null,
            "grid_column": null,
            "overflow_y": null,
            "overflow_x": null,
            "grid_auto_flow": null,
            "grid_area": null,
            "grid_template_columns": null,
            "flex": null,
            "_model_name": "LayoutModel",
            "justify_items": null,
            "grid_row": null,
            "max_height": null,
            "align_content": null,
            "visibility": null,
            "align_self": null,
            "height": null,
            "min_height": null,
            "padding": null,
            "grid_auto_rows": null,
            "grid_gap": null,
            "max_width": null,
            "order": null,
            "_view_module_version": "1.2.0",
            "grid_template_areas": null,
            "object_position": null,
            "object_fit": null,
            "grid_auto_columns": null,
            "margin": null,
            "display": null,
            "left": null
          }
        },
        "09f559dbd4864e0c9c50f26d743d55be": {
          "model_module": "@jupyter-widgets/controls",
          "model_name": "FloatProgressModel",
          "state": {
            "_view_name": "ProgressView",
            "style": "IPY_MODEL_c234496724e5490285340140568b9d85",
            "_dom_classes": [],
            "description": "Downloading: 100%",
            "_model_name": "FloatProgressModel",
            "bar_style": "success",
            "max": 231508,
            "_view_module": "@jupyter-widgets/controls",
            "_model_module_version": "1.5.0",
            "value": 231508,
            "_view_count": null,
            "_view_module_version": "1.5.0",
            "orientation": "horizontal",
            "min": 0,
            "description_tooltip": null,
            "_model_module": "@jupyter-widgets/controls",
            "layout": "IPY_MODEL_ac6a3365df7c41bea51b809c1ad34a5d"
          }
        },
        "a7075805eba7439d9de13be3cc7e25da": {
          "model_module": "@jupyter-widgets/controls",
          "model_name": "HTMLModel",
          "state": {
            "_view_name": "HTMLView",
            "style": "IPY_MODEL_3a08cd2b3fc74c19a4fb72c5b7005f8a",
            "_dom_classes": [],
            "description": "",
            "_model_name": "HTMLModel",
            "placeholder": "​",
            "_view_module": "@jupyter-widgets/controls",
            "_model_module_version": "1.5.0",
            "value": " 232k/232k [00:00&lt;00:00, 273kB/s]",
            "_view_count": null,
            "_view_module_version": "1.5.0",
            "description_tooltip": null,
            "_model_module": "@jupyter-widgets/controls",
            "layout": "IPY_MODEL_ef90b98a024547558e78bcb1c8c1d017"
          }
        },
        "c234496724e5490285340140568b9d85": {
          "model_module": "@jupyter-widgets/controls",
          "model_name": "ProgressStyleModel",
          "state": {
            "_view_name": "StyleView",
            "_model_name": "ProgressStyleModel",
            "description_width": "initial",
            "_view_module": "@jupyter-widgets/base",
            "_model_module_version": "1.5.0",
            "_view_count": null,
            "_view_module_version": "1.2.0",
            "bar_color": null,
            "_model_module": "@jupyter-widgets/controls"
          }
        },
        "ac6a3365df7c41bea51b809c1ad34a5d": {
          "model_module": "@jupyter-widgets/base",
          "model_name": "LayoutModel",
          "state": {
            "_view_name": "LayoutView",
            "grid_template_rows": null,
            "right": null,
            "justify_content": null,
            "_view_module": "@jupyter-widgets/base",
            "overflow": null,
            "_model_module_version": "1.2.0",
            "_view_count": null,
            "flex_flow": null,
            "width": null,
            "min_width": null,
            "border": null,
            "align_items": null,
            "bottom": null,
            "_model_module": "@jupyter-widgets/base",
            "top": null,
            "grid_column": null,
            "overflow_y": null,
            "overflow_x": null,
            "grid_auto_flow": null,
            "grid_area": null,
            "grid_template_columns": null,
            "flex": null,
            "_model_name": "LayoutModel",
            "justify_items": null,
            "grid_row": null,
            "max_height": null,
            "align_content": null,
            "visibility": null,
            "align_self": null,
            "height": null,
            "min_height": null,
            "padding": null,
            "grid_auto_rows": null,
            "grid_gap": null,
            "max_width": null,
            "order": null,
            "_view_module_version": "1.2.0",
            "grid_template_areas": null,
            "object_position": null,
            "object_fit": null,
            "grid_auto_columns": null,
            "margin": null,
            "display": null,
            "left": null
          }
        },
        "3a08cd2b3fc74c19a4fb72c5b7005f8a": {
          "model_module": "@jupyter-widgets/controls",
          "model_name": "DescriptionStyleModel",
          "state": {
            "_view_name": "StyleView",
            "_model_name": "DescriptionStyleModel",
            "description_width": "",
            "_view_module": "@jupyter-widgets/base",
            "_model_module_version": "1.5.0",
            "_view_count": null,
            "_view_module_version": "1.2.0",
            "_model_module": "@jupyter-widgets/controls"
          }
        },
        "ef90b98a024547558e78bcb1c8c1d017": {
          "model_module": "@jupyter-widgets/base",
          "model_name": "LayoutModel",
          "state": {
            "_view_name": "LayoutView",
            "grid_template_rows": null,
            "right": null,
            "justify_content": null,
            "_view_module": "@jupyter-widgets/base",
            "overflow": null,
            "_model_module_version": "1.2.0",
            "_view_count": null,
            "flex_flow": null,
            "width": null,
            "min_width": null,
            "border": null,
            "align_items": null,
            "bottom": null,
            "_model_module": "@jupyter-widgets/base",
            "top": null,
            "grid_column": null,
            "overflow_y": null,
            "overflow_x": null,
            "grid_auto_flow": null,
            "grid_area": null,
            "grid_template_columns": null,
            "flex": null,
            "_model_name": "LayoutModel",
            "justify_items": null,
            "grid_row": null,
            "max_height": null,
            "align_content": null,
            "visibility": null,
            "align_self": null,
            "height": null,
            "min_height": null,
            "padding": null,
            "grid_auto_rows": null,
            "grid_gap": null,
            "max_width": null,
            "order": null,
            "_view_module_version": "1.2.0",
            "grid_template_areas": null,
            "object_position": null,
            "object_fit": null,
            "grid_auto_columns": null,
            "margin": null,
            "display": null,
            "left": null
          }
        },
        "ec3dd7b403fd4582ad9d155ef6404c56": {
          "model_module": "@jupyter-widgets/controls",
          "model_name": "HBoxModel",
          "state": {
            "_view_name": "HBoxView",
            "_dom_classes": [],
            "_model_name": "HBoxModel",
            "_view_module": "@jupyter-widgets/controls",
            "_model_module_version": "1.5.0",
            "_view_count": null,
            "_view_module_version": "1.5.0",
            "box_style": "",
            "layout": "IPY_MODEL_db784de036c54cbc9090a08a3605b657",
            "_model_module": "@jupyter-widgets/controls",
            "children": [
              "IPY_MODEL_0a3b238f194f4c6ebcd9e2449f68aaf9",
              "IPY_MODEL_74bff6732408431abb04cefc6a69c1c7"
            ]
          }
        },
        "db784de036c54cbc9090a08a3605b657": {
          "model_module": "@jupyter-widgets/base",
          "model_name": "LayoutModel",
          "state": {
            "_view_name": "LayoutView",
            "grid_template_rows": null,
            "right": null,
            "justify_content": null,
            "_view_module": "@jupyter-widgets/base",
            "overflow": null,
            "_model_module_version": "1.2.0",
            "_view_count": null,
            "flex_flow": null,
            "width": null,
            "min_width": null,
            "border": null,
            "align_items": null,
            "bottom": null,
            "_model_module": "@jupyter-widgets/base",
            "top": null,
            "grid_column": null,
            "overflow_y": null,
            "overflow_x": null,
            "grid_auto_flow": null,
            "grid_area": null,
            "grid_template_columns": null,
            "flex": null,
            "_model_name": "LayoutModel",
            "justify_items": null,
            "grid_row": null,
            "max_height": null,
            "align_content": null,
            "visibility": null,
            "align_self": null,
            "height": null,
            "min_height": null,
            "padding": null,
            "grid_auto_rows": null,
            "grid_gap": null,
            "max_width": null,
            "order": null,
            "_view_module_version": "1.2.0",
            "grid_template_areas": null,
            "object_position": null,
            "object_fit": null,
            "grid_auto_columns": null,
            "margin": null,
            "display": null,
            "left": null
          }
        },
        "0a3b238f194f4c6ebcd9e2449f68aaf9": {
          "model_module": "@jupyter-widgets/controls",
          "model_name": "FloatProgressModel",
          "state": {
            "_view_name": "ProgressView",
            "style": "IPY_MODEL_f1c6695269ee4bff9d6115cb603891aa",
            "_dom_classes": [],
            "description": "Downloading: 100%",
            "_model_name": "FloatProgressModel",
            "bar_style": "success",
            "max": 112,
            "_view_module": "@jupyter-widgets/controls",
            "_model_module_version": "1.5.0",
            "value": 112,
            "_view_count": null,
            "_view_module_version": "1.5.0",
            "orientation": "horizontal",
            "min": 0,
            "description_tooltip": null,
            "_model_module": "@jupyter-widgets/controls",
            "layout": "IPY_MODEL_8252ebfc1fc342b99de0920b7112bb90"
          }
        },
        "74bff6732408431abb04cefc6a69c1c7": {
          "model_module": "@jupyter-widgets/controls",
          "model_name": "HTMLModel",
          "state": {
            "_view_name": "HTMLView",
            "style": "IPY_MODEL_4a3d93d07b9c40ca8dff9e3973bf0790",
            "_dom_classes": [],
            "description": "",
            "_model_name": "HTMLModel",
            "placeholder": "​",
            "_view_module": "@jupyter-widgets/controls",
            "_model_module_version": "1.5.0",
            "value": " 112/112 [00:00&lt;00:00, 328B/s]",
            "_view_count": null,
            "_view_module_version": "1.5.0",
            "description_tooltip": null,
            "_model_module": "@jupyter-widgets/controls",
            "layout": "IPY_MODEL_abb8b61eceba47e9931e889d4e1a5dcc"
          }
        },
        "f1c6695269ee4bff9d6115cb603891aa": {
          "model_module": "@jupyter-widgets/controls",
          "model_name": "ProgressStyleModel",
          "state": {
            "_view_name": "StyleView",
            "_model_name": "ProgressStyleModel",
            "description_width": "initial",
            "_view_module": "@jupyter-widgets/base",
            "_model_module_version": "1.5.0",
            "_view_count": null,
            "_view_module_version": "1.2.0",
            "bar_color": null,
            "_model_module": "@jupyter-widgets/controls"
          }
        },
        "8252ebfc1fc342b99de0920b7112bb90": {
          "model_module": "@jupyter-widgets/base",
          "model_name": "LayoutModel",
          "state": {
            "_view_name": "LayoutView",
            "grid_template_rows": null,
            "right": null,
            "justify_content": null,
            "_view_module": "@jupyter-widgets/base",
            "overflow": null,
            "_model_module_version": "1.2.0",
            "_view_count": null,
            "flex_flow": null,
            "width": null,
            "min_width": null,
            "border": null,
            "align_items": null,
            "bottom": null,
            "_model_module": "@jupyter-widgets/base",
            "top": null,
            "grid_column": null,
            "overflow_y": null,
            "overflow_x": null,
            "grid_auto_flow": null,
            "grid_area": null,
            "grid_template_columns": null,
            "flex": null,
            "_model_name": "LayoutModel",
            "justify_items": null,
            "grid_row": null,
            "max_height": null,
            "align_content": null,
            "visibility": null,
            "align_self": null,
            "height": null,
            "min_height": null,
            "padding": null,
            "grid_auto_rows": null,
            "grid_gap": null,
            "max_width": null,
            "order": null,
            "_view_module_version": "1.2.0",
            "grid_template_areas": null,
            "object_position": null,
            "object_fit": null,
            "grid_auto_columns": null,
            "margin": null,
            "display": null,
            "left": null
          }
        },
        "4a3d93d07b9c40ca8dff9e3973bf0790": {
          "model_module": "@jupyter-widgets/controls",
          "model_name": "DescriptionStyleModel",
          "state": {
            "_view_name": "StyleView",
            "_model_name": "DescriptionStyleModel",
            "description_width": "",
            "_view_module": "@jupyter-widgets/base",
            "_model_module_version": "1.5.0",
            "_view_count": null,
            "_view_module_version": "1.2.0",
            "_model_module": "@jupyter-widgets/controls"
          }
        },
        "abb8b61eceba47e9931e889d4e1a5dcc": {
          "model_module": "@jupyter-widgets/base",
          "model_name": "LayoutModel",
          "state": {
            "_view_name": "LayoutView",
            "grid_template_rows": null,
            "right": null,
            "justify_content": null,
            "_view_module": "@jupyter-widgets/base",
            "overflow": null,
            "_model_module_version": "1.2.0",
            "_view_count": null,
            "flex_flow": null,
            "width": null,
            "min_width": null,
            "border": null,
            "align_items": null,
            "bottom": null,
            "_model_module": "@jupyter-widgets/base",
            "top": null,
            "grid_column": null,
            "overflow_y": null,
            "overflow_x": null,
            "grid_auto_flow": null,
            "grid_area": null,
            "grid_template_columns": null,
            "flex": null,
            "_model_name": "LayoutModel",
            "justify_items": null,
            "grid_row": null,
            "max_height": null,
            "align_content": null,
            "visibility": null,
            "align_self": null,
            "height": null,
            "min_height": null,
            "padding": null,
            "grid_auto_rows": null,
            "grid_gap": null,
            "max_width": null,
            "order": null,
            "_view_module_version": "1.2.0",
            "grid_template_areas": null,
            "object_position": null,
            "object_fit": null,
            "grid_auto_columns": null,
            "margin": null,
            "display": null,
            "left": null
          }
        },
        "c9170673ec784b9aa54a500c6098d758": {
          "model_module": "@jupyter-widgets/controls",
          "model_name": "HBoxModel",
          "state": {
            "_view_name": "HBoxView",
            "_dom_classes": [],
            "_model_name": "HBoxModel",
            "_view_module": "@jupyter-widgets/controls",
            "_model_module_version": "1.5.0",
            "_view_count": null,
            "_view_module_version": "1.5.0",
            "box_style": "",
            "layout": "IPY_MODEL_2300b1942a4e45e1bffe0ec2a2a1a07a",
            "_model_module": "@jupyter-widgets/controls",
            "children": [
              "IPY_MODEL_22089e9048f94ec790921f925f4468ae",
              "IPY_MODEL_bea36e379b6a4005a5280082d368534b"
            ]
          }
        },
        "2300b1942a4e45e1bffe0ec2a2a1a07a": {
          "model_module": "@jupyter-widgets/base",
          "model_name": "LayoutModel",
          "state": {
            "_view_name": "LayoutView",
            "grid_template_rows": null,
            "right": null,
            "justify_content": null,
            "_view_module": "@jupyter-widgets/base",
            "overflow": null,
            "_model_module_version": "1.2.0",
            "_view_count": null,
            "flex_flow": null,
            "width": null,
            "min_width": null,
            "border": null,
            "align_items": null,
            "bottom": null,
            "_model_module": "@jupyter-widgets/base",
            "top": null,
            "grid_column": null,
            "overflow_y": null,
            "overflow_x": null,
            "grid_auto_flow": null,
            "grid_area": null,
            "grid_template_columns": null,
            "flex": null,
            "_model_name": "LayoutModel",
            "justify_items": null,
            "grid_row": null,
            "max_height": null,
            "align_content": null,
            "visibility": null,
            "align_self": null,
            "height": null,
            "min_height": null,
            "padding": null,
            "grid_auto_rows": null,
            "grid_gap": null,
            "max_width": null,
            "order": null,
            "_view_module_version": "1.2.0",
            "grid_template_areas": null,
            "object_position": null,
            "object_fit": null,
            "grid_auto_columns": null,
            "margin": null,
            "display": null,
            "left": null
          }
        },
        "22089e9048f94ec790921f925f4468ae": {
          "model_module": "@jupyter-widgets/controls",
          "model_name": "FloatProgressModel",
          "state": {
            "_view_name": "ProgressView",
            "style": "IPY_MODEL_9f44ade195404455806cc6af2789cc01",
            "_dom_classes": [],
            "description": "Downloading: 100%",
            "_model_name": "FloatProgressModel",
            "bar_style": "success",
            "max": 252,
            "_view_module": "@jupyter-widgets/controls",
            "_model_module_version": "1.5.0",
            "value": 252,
            "_view_count": null,
            "_view_module_version": "1.5.0",
            "orientation": "horizontal",
            "min": 0,
            "description_tooltip": null,
            "_model_module": "@jupyter-widgets/controls",
            "layout": "IPY_MODEL_6e7d8bdf21d3400b88b002b77b19892b"
          }
        },
        "bea36e379b6a4005a5280082d368534b": {
          "model_module": "@jupyter-widgets/controls",
          "model_name": "HTMLModel",
          "state": {
            "_view_name": "HTMLView",
            "style": "IPY_MODEL_7938a61b415d454e84b5394f60b723b2",
            "_dom_classes": [],
            "description": "",
            "_model_name": "HTMLModel",
            "placeholder": "​",
            "_view_module": "@jupyter-widgets/controls",
            "_model_module_version": "1.5.0",
            "value": " 252/252 [00:00&lt;00:00, 1.03kB/s]",
            "_view_count": null,
            "_view_module_version": "1.5.0",
            "description_tooltip": null,
            "_model_module": "@jupyter-widgets/controls",
            "layout": "IPY_MODEL_49d79452e1c849d0a1b6b6c955ac423a"
          }
        },
        "9f44ade195404455806cc6af2789cc01": {
          "model_module": "@jupyter-widgets/controls",
          "model_name": "ProgressStyleModel",
          "state": {
            "_view_name": "StyleView",
            "_model_name": "ProgressStyleModel",
            "description_width": "initial",
            "_view_module": "@jupyter-widgets/base",
            "_model_module_version": "1.5.0",
            "_view_count": null,
            "_view_module_version": "1.2.0",
            "bar_color": null,
            "_model_module": "@jupyter-widgets/controls"
          }
        },
        "6e7d8bdf21d3400b88b002b77b19892b": {
          "model_module": "@jupyter-widgets/base",
          "model_name": "LayoutModel",
          "state": {
            "_view_name": "LayoutView",
            "grid_template_rows": null,
            "right": null,
            "justify_content": null,
            "_view_module": "@jupyter-widgets/base",
            "overflow": null,
            "_model_module_version": "1.2.0",
            "_view_count": null,
            "flex_flow": null,
            "width": null,
            "min_width": null,
            "border": null,
            "align_items": null,
            "bottom": null,
            "_model_module": "@jupyter-widgets/base",
            "top": null,
            "grid_column": null,
            "overflow_y": null,
            "overflow_x": null,
            "grid_auto_flow": null,
            "grid_area": null,
            "grid_template_columns": null,
            "flex": null,
            "_model_name": "LayoutModel",
            "justify_items": null,
            "grid_row": null,
            "max_height": null,
            "align_content": null,
            "visibility": null,
            "align_self": null,
            "height": null,
            "min_height": null,
            "padding": null,
            "grid_auto_rows": null,
            "grid_gap": null,
            "max_width": null,
            "order": null,
            "_view_module_version": "1.2.0",
            "grid_template_areas": null,
            "object_position": null,
            "object_fit": null,
            "grid_auto_columns": null,
            "margin": null,
            "display": null,
            "left": null
          }
        },
        "7938a61b415d454e84b5394f60b723b2": {
          "model_module": "@jupyter-widgets/controls",
          "model_name": "DescriptionStyleModel",
          "state": {
            "_view_name": "StyleView",
            "_model_name": "DescriptionStyleModel",
            "description_width": "",
            "_view_module": "@jupyter-widgets/base",
            "_model_module_version": "1.5.0",
            "_view_count": null,
            "_view_module_version": "1.2.0",
            "_model_module": "@jupyter-widgets/controls"
          }
        },
        "49d79452e1c849d0a1b6b6c955ac423a": {
          "model_module": "@jupyter-widgets/base",
          "model_name": "LayoutModel",
          "state": {
            "_view_name": "LayoutView",
            "grid_template_rows": null,
            "right": null,
            "justify_content": null,
            "_view_module": "@jupyter-widgets/base",
            "overflow": null,
            "_model_module_version": "1.2.0",
            "_view_count": null,
            "flex_flow": null,
            "width": null,
            "min_width": null,
            "border": null,
            "align_items": null,
            "bottom": null,
            "_model_module": "@jupyter-widgets/base",
            "top": null,
            "grid_column": null,
            "overflow_y": null,
            "overflow_x": null,
            "grid_auto_flow": null,
            "grid_area": null,
            "grid_template_columns": null,
            "flex": null,
            "_model_name": "LayoutModel",
            "justify_items": null,
            "grid_row": null,
            "max_height": null,
            "align_content": null,
            "visibility": null,
            "align_self": null,
            "height": null,
            "min_height": null,
            "padding": null,
            "grid_auto_rows": null,
            "grid_gap": null,
            "max_width": null,
            "order": null,
            "_view_module_version": "1.2.0",
            "grid_template_areas": null,
            "object_position": null,
            "object_fit": null,
            "grid_auto_columns": null,
            "margin": null,
            "display": null,
            "left": null
          }
        }
      }
    }
  },
  "cells": [
    {
      "cell_type": "markdown",
      "metadata": {
        "id": "view-in-github",
        "colab_type": "text"
      },
      "source": [
        "<a href=\"https://colab.research.google.com/github/richardOlson/nlp__tranformers/blob/main/Long_text_classify.ipynb\" target=\"_parent\"><img src=\"https://colab.research.google.com/assets/colab-badge.svg\" alt=\"Open In Colab\"/></a>"
      ]
    },
    {
      "cell_type": "code",
      "metadata": {
        "id": "dwKeR0S-7LuV"
      },
      "source": [
        "# doing some of the imports \n",
        "import tensorflow as tf\n",
        "import numpy as np"
      ],
      "execution_count": 1,
      "outputs": []
    },
    {
      "cell_type": "code",
      "metadata": {
        "id": "IbdiqDeA7a5d",
        "colab": {
          "base_uri": "https://localhost:8080/"
        },
        "outputId": "81573955-adb0-4041-fe41-617164bf7cea"
      },
      "source": [
        "! pip install transformers -q"
      ],
      "execution_count": 2,
      "outputs": [
        {
          "output_type": "stream",
          "text": [
            "\u001b[K     |████████████████████████████████| 2.5 MB 5.5 MB/s \n",
            "\u001b[K     |████████████████████████████████| 895 kB 43.4 MB/s \n",
            "\u001b[K     |████████████████████████████████| 3.3 MB 46.1 MB/s \n",
            "\u001b[?25h"
          ],
          "name": "stdout"
        }
      ]
    },
    {
      "cell_type": "code",
      "metadata": {
        "id": "yK-1Cnmq8KYt"
      },
      "source": [
        "from transformers import BertForSequenceClassification, BertTokenizer\n",
        "import torch\n",
        "from typing import Union"
      ],
      "execution_count": 3,
      "outputs": []
    },
    {
      "cell_type": "code",
      "metadata": {
        "id": "Md79cXJv9hA8",
        "colab": {
          "base_uri": "https://localhost:8080/",
          "height": 264,
          "referenced_widgets": [
            "4fa538bb61ed44a38b5aaf9486e660d2",
            "7d83934bbead481aa789d202b3564832",
            "fecb3c7003a640e4aaa28d0774324609",
            "53b44b164af64f74b56694692fe7ed4d",
            "b32a65378fc2415a962c48cd71621728",
            "0ba6ad2ecfb3456a9fa4d5039a70af4e",
            "2eb8a1b2a2d04b6a8907afccfce8ec02",
            "dc7aae6224504efba82e7d408f5b9670",
            "ad8c13fa8f7b469293df9581058963d9",
            "e7826a455c884fa28a13b23bf3b3cc84",
            "0459fb2829c34dfd93427b7ca730ec04",
            "3018d5b1eab54cfaacbf437dfe079d31",
            "74ca6fb2464041f28be4e7bef79604b5",
            "717f2bc8880749dc8ec12b9623ecee99",
            "c53332d6c2cc4fbd9f9982d1e023e304",
            "86b463a163b74cae989f48eca3a8520e",
            "20f24c9b0aa44e72ad511abbfe1879b7",
            "ed4e6c08aa5844c9a209602eb83309e9",
            "09f559dbd4864e0c9c50f26d743d55be",
            "a7075805eba7439d9de13be3cc7e25da",
            "c234496724e5490285340140568b9d85",
            "ac6a3365df7c41bea51b809c1ad34a5d",
            "3a08cd2b3fc74c19a4fb72c5b7005f8a",
            "ef90b98a024547558e78bcb1c8c1d017",
            "ec3dd7b403fd4582ad9d155ef6404c56",
            "db784de036c54cbc9090a08a3605b657",
            "0a3b238f194f4c6ebcd9e2449f68aaf9",
            "74bff6732408431abb04cefc6a69c1c7",
            "f1c6695269ee4bff9d6115cb603891aa",
            "8252ebfc1fc342b99de0920b7112bb90",
            "4a3d93d07b9c40ca8dff9e3973bf0790",
            "abb8b61eceba47e9931e889d4e1a5dcc",
            "c9170673ec784b9aa54a500c6098d758",
            "2300b1942a4e45e1bffe0ec2a2a1a07a",
            "22089e9048f94ec790921f925f4468ae",
            "bea36e379b6a4005a5280082d368534b",
            "9f44ade195404455806cc6af2789cc01",
            "6e7d8bdf21d3400b88b002b77b19892b",
            "7938a61b415d454e84b5394f60b723b2",
            "49d79452e1c849d0a1b6b6c955ac423a"
          ]
        },
        "outputId": "7d9e475b-2a5d-4b58-ec55-5df6c5ab42c3"
      },
      "source": [
        "# making the model\n",
        "model = BertForSequenceClassification.from_pretrained(\"ProsusAI/finbert\")\n",
        "tokenizer = BertTokenizer.from_pretrained(\"ProsusAI/finbert\")"
      ],
      "execution_count": 4,
      "outputs": [
        {
          "output_type": "display_data",
          "data": {
            "application/vnd.jupyter.widget-view+json": {
              "model_id": "4fa538bb61ed44a38b5aaf9486e660d2",
              "version_minor": 0,
              "version_major": 2
            },
            "text/plain": [
              "HBox(children=(FloatProgress(value=0.0, description='Downloading', max=758.0, style=ProgressStyle(description_…"
            ]
          },
          "metadata": {
            "tags": []
          }
        },
        {
          "output_type": "stream",
          "text": [
            "\n"
          ],
          "name": "stdout"
        },
        {
          "output_type": "display_data",
          "data": {
            "application/vnd.jupyter.widget-view+json": {
              "model_id": "ad8c13fa8f7b469293df9581058963d9",
              "version_minor": 0,
              "version_major": 2
            },
            "text/plain": [
              "HBox(children=(FloatProgress(value=0.0, description='Downloading', max=437992753.0, style=ProgressStyle(descri…"
            ]
          },
          "metadata": {
            "tags": []
          }
        },
        {
          "output_type": "stream",
          "text": [
            "\n"
          ],
          "name": "stdout"
        },
        {
          "output_type": "display_data",
          "data": {
            "application/vnd.jupyter.widget-view+json": {
              "model_id": "20f24c9b0aa44e72ad511abbfe1879b7",
              "version_minor": 0,
              "version_major": 2
            },
            "text/plain": [
              "HBox(children=(FloatProgress(value=0.0, description='Downloading', max=231508.0, style=ProgressStyle(descripti…"
            ]
          },
          "metadata": {
            "tags": []
          }
        },
        {
          "output_type": "stream",
          "text": [
            "\n"
          ],
          "name": "stdout"
        },
        {
          "output_type": "display_data",
          "data": {
            "application/vnd.jupyter.widget-view+json": {
              "model_id": "ec3dd7b403fd4582ad9d155ef6404c56",
              "version_minor": 0,
              "version_major": 2
            },
            "text/plain": [
              "HBox(children=(FloatProgress(value=0.0, description='Downloading', max=112.0, style=ProgressStyle(description_…"
            ]
          },
          "metadata": {
            "tags": []
          }
        },
        {
          "output_type": "stream",
          "text": [
            "\n"
          ],
          "name": "stdout"
        },
        {
          "output_type": "display_data",
          "data": {
            "application/vnd.jupyter.widget-view+json": {
              "model_id": "c9170673ec784b9aa54a500c6098d758",
              "version_minor": 0,
              "version_major": 2
            },
            "text/plain": [
              "HBox(children=(FloatProgress(value=0.0, description='Downloading', max=252.0, style=ProgressStyle(description_…"
            ]
          },
          "metadata": {
            "tags": []
          }
        },
        {
          "output_type": "stream",
          "text": [
            "\n"
          ],
          "name": "stdout"
        }
      ]
    },
    {
      "cell_type": "code",
      "metadata": {
        "id": "IGiJX9akC27L"
      },
      "source": [
        "text = \"\"\"\n",
        "I would like to get your all  thoughts on the bond yield increase this week.  I am not worried about the market downturn but the sudden increase in yields. On 2/16 the 10 year bonds yields increased by almost  9 percent and on 2/19 the yield increased by almost 5 percent.\n",
        "\n",
        "Key Points from the CNBC Article:\n",
        "\n",
        "* **The “taper tantrum” in 2013 was a sudden spike in Treasury yields due to market panic after the Federal Reserve announced that it would begin tapering its quantitative easing program.**\n",
        "* **Major central banks around the world have cut interest rates to historic lows and launched unprecedented quantities of asset purchases in a bid to shore up the economy throughout the pandemic.**\n",
        "* **However, the recent rise in yields suggests that some investors are starting to anticipate a tightening of policy sooner than anticipated to accommodate a potential rise in inflation.**\n",
        "\n",
        "The recent rise in bond yields and U.S. inflation expectations has some investors wary that a repeat of the 2013 “taper tantrum” could be on the horizon.\n",
        "\n",
        "The benchmark U.S. 10-year Treasury note climbed above 1.3% for the first time since February 2020 earlier this week, while the 30-year bond also hit its highest level for a year. Yields move inversely to bond prices.\n",
        "\n",
        "Yields tend to rise in lockstep with inflation expectations, which have reached their highest levels in a decade in the U.S., powered by increased prospects of a large fiscal stimulus package, progress on vaccine rollouts and pent-up consumer demand.\n",
        "\n",
        "The “taper tantrum” in 2013 was a sudden spike in Treasury yields due to market panic after the Federal Reserve announced that it would begin tapering its quantitative easing program.\n",
        "\n",
        "Major central banks around the world have cut interest rates to historic lows and launched unprecedented quantities of asset purchases in a bid to shore up the economy throughout the pandemic. The Fed and others have maintained supportive tones in recent policy meetings, vowing to keep financial conditions loose as the global economy looks to emerge from the Covid-19 pandemic.\n",
        "\n",
        "However, the recent rise in yields suggests that some investors are starting to anticipate a tightening of policy sooner than anticipated to accommodate a potential rise in inflation.\n",
        "\n",
        "With central bank support removed, bonds usually fall in price which sends yields higher. This can also spill over into stock markets as higher interest rates means more debt servicing for firms, causing traders to reassess the investing environment.\n",
        "\n",
        "“The supportive stance from policymakers will likely remain in place until the vaccines have paved a way to some return to normality,” said Shane Balkham, chief investment officer at Beaufort Investment, in a research note this week.\n",
        "\n",
        "“However, there will be a risk of another ‘taper tantrum’ similar to the one we witnessed in 2013, and this is our main focus for 2021,” Balkham projected, should policymakers begin to unwind this stimulus.\n",
        "\n",
        "Long-term bond yields in Japan and Europe followed U.S. Treasurys higher toward the end of the week as bondholders shifted their portfolios.\n",
        "\n",
        "“The fear is that these assets are priced to perfection when the ECB and Fed might eventually taper,” said Sebastien Galy, senior macro strategist at Nordea Asset Management, in a research note entitled “Little taper tantrum.”\n",
        "\n",
        "“The odds of tapering are helped in the United States by better retail sales after four months of disappointment and the expectation of large issuance from the $1.9 trillion fiscal package.”\n",
        "\n",
        "Galy suggested the Fed would likely extend the duration on its asset purchases, moderating the upward momentum in inflation.\n",
        "\n",
        "“Equity markets have reacted negatively to higher yield as it offers an alternative to the dividend yield and a higher discount to long-term cash flows, making them focus more on medium-term growth such as cyclicals” he said. Cyclicals are stocks whose performance tends to align with economic cycles.\n",
        "\n",
        "Galy expects this process to be more marked in the second half of the year when economic growth picks up, increasing the potential for tapering.\n",
        "\n",
        "## Tapering in the U.S., but not Europe\n",
        "\n",
        "Allianz CEO Oliver Bäte told CNBC on Friday that there was a geographical divergence in how the German insurer is thinking about the prospect of interest rate hikes.\n",
        "\n",
        "“One is Europe, where we continue to have financial repression, where the ECB continues to buy up to the max in order to minimize spreads between the north and the south — the strong balance sheets and the weak ones — and at some point somebody will have to pay the price for that, but in the short term I don’t see any spike in interest rates,” Bäte said, adding that the situation is different stateside.\n",
        "\n",
        "“Because of the massive programs that have happened, the stimulus that is happening, the dollar being the world’s reserve currency, there is clearly a trend to stoke inflation and it is going to come. Again, I don’t know when and how, but the interest rates have been steepening and they should be steepening further.”\n",
        "\n",
        "## Rising yields a ‘normal feature’\n",
        "\n",
        "However, not all analysts are convinced that the rise in bond yields is material for markets. In a note Friday, Barclays Head of European Equity Strategy Emmanuel Cau suggested that rising bond yields were overdue, as they had been lagging the improving macroeconomic outlook for the second half of 2021, and said they were a “normal feature” of economic recovery.\n",
        "\n",
        "“With the key drivers of inflation pointing up, the prospect of even more fiscal stimulus in the U.S. and pent up demand propelled by high excess savings, it seems right for bond yields to catch-up with other more advanced reflation trades,” Cau said, adding that central banks remain “firmly on hold” given the balance of risks.\n",
        "\n",
        "He argued that the steepening yield curve is “typical at the early stages of the cycle,” and that so long as vaccine rollouts are successful, growth continues to tick upward and central banks remain cautious, reflationary moves across asset classes look “justified” and equities should be able to withstand higher rates.\n",
        "\n",
        "“Of course, after the strong move of the last few weeks, equities could mark a pause as many sectors that have rallied with yields look overbought, like commodities and banks,” Cau said.\n",
        "\n",
        "“But at this stage, we think rising yields are more a confirmation of the equity bull market than a threat, so dips should continue to be bought.”\n",
        "\"\"\""
      ],
      "execution_count": 5,
      "outputs": []
    },
    {
      "cell_type": "code",
      "metadata": {
        "id": "kNeRAxC6XJ6Y"
      },
      "source": [
        "myTensor = torch.tensor([1,2,3])\n",
        "tfTensor = tf.constant([1,2,3])"
      ],
      "execution_count": 6,
      "outputs": []
    },
    {
      "cell_type": "code",
      "metadata": {
        "id": "7icnPP05XRLh",
        "colab": {
          "base_uri": "https://localhost:8080/"
        },
        "outputId": "e9cb78c1-6ca2-43ba-e890-6058e6e5caed"
      },
      "source": [
        "myTensor = torch.tensor([1,2,3])\n",
        "tfTensor = tf.constant([1,2,3])\n",
        "# changing the shape of the tensor\n",
        "print(myTensor)\n",
        "print(myTensor.shape)\n",
        "print(tfTensor.shape)\n",
        "# changing the shape of the tensor\n",
        "f = myTensor.unsqueeze(dim=1)\n",
        "print(f)\n",
        "print(f.shape)\n",
        "# changing the dimension further\n",
        "print(\"The new dimension for the f tensor\")\n",
        "g = f.unsqueeze(dim=0)\n",
        "print(g)\n",
        "print(g.shape)"
      ],
      "execution_count": 7,
      "outputs": [
        {
          "output_type": "stream",
          "text": [
            "tensor([1, 2, 3])\n",
            "torch.Size([3])\n",
            "(3,)\n",
            "tensor([[1],\n",
            "        [2],\n",
            "        [3]])\n",
            "torch.Size([3, 1])\n",
            "The new dimension for the f tensor\n",
            "tensor([[[1],\n",
            "         [2],\n",
            "         [3]]])\n",
            "torch.Size([1, 3, 1])\n"
          ],
          "name": "stdout"
        }
      ]
    },
    {
      "cell_type": "code",
      "metadata": {
        "colab": {
          "base_uri": "https://localhost:8080/"
        },
        "id": "rJh3BJzFConT",
        "outputId": "f0c996a7-99af-4b1f-edbd-1c61f4a21f06"
      },
      "source": [
        "tokens = tokenizer.encode_plus(text=text, add_special_tokens=False)\n",
        "type(tokens)"
      ],
      "execution_count": 8,
      "outputs": [
        {
          "output_type": "stream",
          "text": [
            "Token indices sequence length is longer than the specified maximum sequence length for this model (1345 > 512). Running this sequence through the model will result in indexing errors\n"
          ],
          "name": "stderr"
        },
        {
          "output_type": "execute_result",
          "data": {
            "text/plain": [
              "transformers.tokenization_utils_base.BatchEncoding"
            ]
          },
          "metadata": {
            "tags": []
          },
          "execution_count": 8
        }
      ]
    },
    {
      "cell_type": "code",
      "metadata": {
        "colab": {
          "base_uri": "https://localhost:8080/"
        },
        "id": "KTi_G88jN1W-",
        "outputId": "4daf7311-ad55-4af6-9b38-1000e27cc34a"
      },
      "source": [
        "len(tokens[\"input_ids\"])"
      ],
      "execution_count": 9,
      "outputs": [
        {
          "output_type": "execute_result",
          "data": {
            "text/plain": [
              "1345"
            ]
          },
          "metadata": {
            "tags": []
          },
          "execution_count": 9
        }
      ]
    },
    {
      "cell_type": "code",
      "metadata": {
        "id": "oZJ3sgipInps"
      },
      "source": [
        "# showing how we can take a slice of the \n",
        "# tokens and then we will send it into the model\n",
        "# we will loop through the data and will slice of \n",
        "# 512 to get the logits from the model\n",
        "# if the size is smaller than 512 then we will add padding\n",
        "def makeSlices(x, add_special_tokens=True, as_torch_tensors=True):\n",
        "  \"\"\"\n",
        "  Function that is used to make the slices\n",
        "  \n",
        "  ARGS:\n",
        "\n",
        "  x:  can be either a string of text or also be the tokens that has been returned from the tokenizer\n",
        "\n",
        "  add_special_tokens:  Bool that when true will add the tokens to each of the slices.  When false the slices will \n",
        "    not include the begin \"CLS\" token and the end \"SEP\" tokens\n",
        "\n",
        "  as_torch_tensors:   Boolean when true means that the slices are made as torch tensors.  When\n",
        "    false will make them as a standard dictionary\n",
        "\n",
        "  \"\"\"\n",
        "  \n",
        "  tokens = None\n",
        "  \n",
        "  # check to see if it is a string or not\n",
        "  if isinstance(x, str):\n",
        "\n",
        "    \n",
        "    #tokenizer = BertTokenizer.from_pretrained(\"ProsusAI/finbert\")\n",
        "    tokens = tokenizer.encode_plus(text=x, add_special_tokens=False)\n",
        "  else:\n",
        "    tokens = x\n",
        "  # making it so that has the correct sequence len with and without the special tokens  \n",
        "  if add_special_tokens:\n",
        "    seq_len_using = 510\n",
        "  else:\n",
        "    seq_len_using = 512\n",
        "\n",
        "  seq_len = len(tokens[\"input_ids\"])\n",
        "  \n",
        "  begin = 0\n",
        "  end = begin + seq_len_using\n",
        "  windows = []\n",
        "\n",
        "  while True:\n",
        "    input_id = tokens[\"input_ids\"][begin:end]\n",
        "    atten_mask = tokens[\"attention_mask\"][begin:end]\n",
        "\n",
        "    \n",
        "    \n",
        "    if add_special_tokens:\n",
        "      # adding the sep and the cls token to the from and the back\n",
        "      input_id = [tokenizer.cls_token_id] + input_id + [tokenizer.sep_token_id]\n",
        "      # we don't add the special tokens to the front and the back of the attention mask\n",
        "      # but we will just add a 1 on each end to signify to the model to pay attention to the\n",
        "      # special tokens that are added\n",
        "      atten_mask = [1] + atten_mask + [1] \n",
        "    \n",
        "    # doing the padding if it is needed\n",
        "    if len(input_id) < seq_len_using:\n",
        "      \n",
        "      input_id = input_id + [tokenizer.pad_token_id] * ((seq_len_using - len(input_id)) + (512 - seq_len_using))\n",
        "      atten_mask = atten_mask + [tokenizer.pad_token_id] * ((seq_len_using - len(atten_mask)) + (512 - seq_len_using))\n",
        "      \n",
        "     \n",
        "    if as_torch_tensors:\n",
        "      tensor_input_id  = torch.Tensor([input_id]).long()\n",
        "      tensor_mask = torch.Tensor([atten_mask]).int()\n",
        "      windows.append({\"input_ids\": tensor_input_id, \"attention_mask\":tensor_mask})\n",
        "\n",
        "    else:\n",
        "      windows.append({\"input_ids\": input_id, \"attention_mask\": atten_mask})\n",
        "    # moving the window\n",
        "\n",
        "    if end >= seq_len:\n",
        "      break\n",
        "    begin = end\n",
        "    end = end + seq_len_using if end + seq_len_using < len(tokens[\"input_ids\"]) else len(tokens[\"input_ids\"])\n",
        "\n",
        "  return windows\n",
        "\n",
        "  \n",
        "\n"
      ],
      "execution_count": 44,
      "outputs": []
    },
    {
      "cell_type": "code",
      "metadata": {
        "id": "CNlo4dhrRpEB"
      },
      "source": [
        "new_text = \"\"\"\n",
        "  PHOENIX (AP) — An Arizona man who stormed the U.S. Capitol on Jan. 6 while wearing a costume of Captain Moroni from the Book of Mormon and narrating the melee in videos for his mother has been arrested, authorities said.\n",
        "\n",
        "Nathan Wayne Entrekin, 48, told the FBI that former President Donald Trump inspired him to drive more than 2,000 miles to Washington for the rally on Jan. 6, according to court documents filed this week.\n",
        "\n",
        "Entrekin documented his movements in and outside the building in cellphone videos in which he addressed his mother, who wasn't at the Capitol, authorities said.\n",
        "\n",
        "Entrekin said in the videos that he was dressed in the Roman gladiator costume to portray Captain Moroni, a figure from the Book of Mormon who sought to defend his people from another group that wanted to overthrow democracy and install a king, court records say.\n",
        "\n",
        "\"I made it Mom. I made it to the top. Mom, look, I made it to the top, to the top here. Look at all the patriots here,\" he said in one video. \"I'm here for Trump. Four more years, Donald Trump! Our rightful president!\"\n",
        "\n",
        "\"I don't think you want to be here, Mom,\" Entrekin said in another video from inside the ransacked Senate Parliamentarian's office. \"I mean you do want to be here, but in spirit.\"\n",
        "\n",
        "While Entrekin claimed that he was herded into the building by the crowd, the FBI said security video shows Entrekin didn't appear to be pushed into the Capitol. And when he left the building and reentered it, investigators said Entrekin didn't appear to be pushed forced in against his will, according to court records.\n",
        "\n",
        "Court records didn't list a lawyer for Entrekin, and he doesn't have a listed phone number.\n",
        "\n",
        "Entrekin, who was arrested Thursday in Cottonwood on two misdemeanor charges, is among more than 500 people charged with federal crimes in the Jan. 6 attack.\n",
        "\n",
        "At least eighteen people have pleaded guilty, including two members of the far-right Oath Keepers militia group who admitted to conspiring with other extremists to block the certification of President Joe Biden's victory.\n",
        "\"\"\""
      ],
      "execution_count": 11,
      "outputs": []
    },
    {
      "cell_type": "code",
      "metadata": {
        "id": "zsB3UN1YRrXw",
        "colab": {
          "base_uri": "https://localhost:8080/"
        },
        "outputId": "8b8c32ab-68a2-46f2-f28e-75cb5f29e398"
      },
      "source": [
        "# running the two texts, one as a tokenized alread and the other as text\n",
        "windows = makeSlices(tokens)\n",
        "second_set_of_windows = makeSlices(new_text)"
      ],
      "execution_count": 43,
      "outputs": [
        {
          "output_type": "stream",
          "text": [
            "the shape of the input_id is 512\n",
            "the shape of the atten mask is 512\n",
            "the shape of the input_id is 512\n",
            "the shape of the atten mask is 512\n"
          ],
          "name": "stdout"
        }
      ]
    },
    {
      "cell_type": "code",
      "metadata": {
        "id": "a6xBp5CnRrrP",
        "colab": {
          "base_uri": "https://localhost:8080/"
        },
        "outputId": "baf6ecdb-ee17-4ceb-d3dd-6e63412f322d"
      },
      "source": [
        "# Looking at the length number of each of the windows\n",
        "print(len(windows))\n",
        "print(len(second_set_of_windows))"
      ],
      "execution_count": 13,
      "outputs": [
        {
          "output_type": "stream",
          "text": [
            "3\n",
            "1\n"
          ],
          "name": "stdout"
        }
      ]
    },
    {
      "cell_type": "code",
      "metadata": {
        "id": "SEe79fQ2PkbF",
        "colab": {
          "base_uri": "https://localhost:8080/"
        },
        "outputId": "73e5ebe3-cf70-4657-c5b2-38adcce894a8"
      },
      "source": [
        "# checking to see the size of the item in the windows\n",
        "for i in range(len(windows)):\n",
        "  input_shape = windows[i][\"input_ids\"].shape\n",
        "  mask_shape = windows[i][\"attention_mask\"].shape\n",
        "  print(f\"The shape of the input_id in window number {i} is {input_shape}\")\n",
        "  print(f\"The shape of the attention_mask in window number {i} is {mask_shape}\\n\")\n",
        "\n",
        "  \n",
        "  \n"
      ],
      "execution_count": 15,
      "outputs": [
        {
          "output_type": "stream",
          "text": [
            "The shape of the input_id in window number 0 is torch.Size([1, 512])\n",
            "The shape of the attention_mask in window number 0 is torch.Size([1, 512])\n",
            "\n",
            "The shape of the input_id in window number 1 is torch.Size([1, 512])\n",
            "The shape of the attention_mask in window number 1 is torch.Size([1, 512])\n",
            "\n",
            "The shape of the input_id in window number 2 is torch.Size([1, 512])\n",
            "The shape of the attention_mask in window number 2 is torch.Size([1, 512])\n",
            "\n"
          ],
          "name": "stdout"
        }
      ]
    },
    {
      "cell_type": "code",
      "metadata": {
        "id": "0n9ozjlm_k8A"
      },
      "source": [
        "# creating the function that will put out the \n",
        "# list of each of the probabilities from the long\n",
        "# text.  Can average them if you would like also \n",
        "def long_text_sent(x, return_type=\"both\"):\n",
        "  \"\"\"\n",
        "  This is the function that will create a list of \n",
        "  probabilities from the long text that is passed in.\n",
        "  Could also be tokens that are passed into the function.\n",
        "\n",
        "  ARGS:\n",
        "\n",
        "  x:  String or Tokens\n",
        "\n",
        "  return_type:  string can be \"both\", \"avg\", \"list\".\n",
        "\n",
        "  this has to do with what is returned.  \"Both\" is the average of each of the windows and \n",
        "  also the logits from each of the windows.  \"AVG\" is to have just the Average of each of \n",
        "  the windows.  \"List\" is just the list of the logits for each of the windows.  \n",
        "\n",
        "  \"\"\"\n",
        "  windows = makeSlices(x) \n",
        "  # pdb.set_trace();\n",
        "\n",
        "  # list of the logits from the windows\n",
        "  logits = []\n",
        "  avg = 0\n",
        "  for i in range(len(windows)):\n",
        "    theDict = windows[i]\n",
        "    # finding the logits\n",
        "    outPut = model(**theDict)\n",
        "    # applying the softmax function to this\n",
        "    probs = torch.nn.functional.softmax(outPut[0], dim=-1)\n",
        "    \n",
        "    # adding to the list\n",
        "    logits.append(probs)\n",
        "    \n",
        "  # now doing the returning\n",
        "  if return_type == \"both\" or return_type == \"avg\":\n",
        "    # now creating the average\n",
        "    with torch.no_grad():\n",
        "      # using this to tell pyTorch that we don't need to \n",
        "      # these tensors to keep a gradient to upgrade. So \n",
        "      # that we can do reshaping of the tensors\n",
        "      stacked = torch.stack(logits)\n",
        "      reshaped = torch.reshape(stacked, (stacked.shape[0], stacked.shape[2]))\n",
        "      avg = reshaped.mean(dim=0)\n",
        "    if return_type == \"both\":\n",
        "      return (logits, avg)\n",
        "    else:\n",
        "      return avg\n",
        "  else:\n",
        "    return logits\n"
      ],
      "execution_count": 28,
      "outputs": []
    },
    {
      "cell_type": "code",
      "metadata": {
        "id": "ytxOFxnnNUWn",
        "colab": {
          "base_uri": "https://localhost:8080/"
        },
        "outputId": "44365b3d-6d30-49ca-9b11-c69e5c466c28"
      },
      "source": [
        "probs_list = long_text_sent(text, return_type=\"both\")\n",
        "print(probs_list)\n",
        "# now returning the average \n",
        "prob_with_avg = long_text_sent(text, return_type=\"avg\")\n",
        "print(prob_with_avg)\n"
      ],
      "execution_count": 35,
      "outputs": [
        {
          "output_type": "stream",
          "text": [
            "([tensor([[0.1384, 0.8145, 0.0471]], grad_fn=<SoftmaxBackward>), tensor([[0.3757, 0.4670, 0.1574]], grad_fn=<SoftmaxBackward>), tensor([[0.7290, 0.2006, 0.0704]], grad_fn=<SoftmaxBackward>)], tensor([0.4144, 0.4940, 0.0916]))\n",
            "tensor([0.4144, 0.4940, 0.0916])\n"
          ],
          "name": "stdout"
        }
      ]
    },
    {
      "cell_type": "code",
      "metadata": {
        "colab": {
          "base_uri": "https://localhost:8080/"
        },
        "id": "y-7nfM2UGZRk",
        "outputId": "aea619c0-d4bc-4cc8-e560-922ceb9ffa55"
      },
      "source": [
        "# running this through the argmax\n",
        "# item gets the value out of the tensor if it is a scalar\n",
        "torch.argmax(prob_with_avg).item()"
      ],
      "execution_count": 37,
      "outputs": [
        {
          "output_type": "execute_result",
          "data": {
            "text/plain": [
              "1"
            ]
          },
          "metadata": {
            "tags": []
          },
          "execution_count": 37
        }
      ]
    }
  ]
}