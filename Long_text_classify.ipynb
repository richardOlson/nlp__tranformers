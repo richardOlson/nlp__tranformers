{
  "nbformat": 4,
  "nbformat_minor": 0,
  "metadata": {
    "colab": {
      "name": "Long_text_classify.ipynb",
      "provenance": [],
      "authorship_tag": "ABX9TyO1ra2xwHiZ4Cz9UYtQ/OvF",
      "include_colab_link": true
    },
    "kernelspec": {
      "name": "python3",
      "display_name": "Python 3"
    },
    "language_info": {
      "name": "python"
    }
  },
  "cells": [
    {
      "cell_type": "markdown",
      "metadata": {
        "id": "view-in-github",
        "colab_type": "text"
      },
      "source": [
        "<a href=\"https://colab.research.google.com/github/richardOlson/nlp__tranformers/blob/main/Long_text_classify.ipynb\" target=\"_parent\"><img src=\"https://colab.research.google.com/assets/colab-badge.svg\" alt=\"Open In Colab\"/></a>"
      ]
    },
    {
      "cell_type": "code",
      "metadata": {
        "id": "dwKeR0S-7LuV"
      },
      "source": [
        "# doing some of the imports \n",
        "import tensorflow as tf\n",
        "import numpy as np"
      ],
      "execution_count": 26,
      "outputs": []
    },
    {
      "cell_type": "code",
      "metadata": {
        "id": "IbdiqDeA7a5d"
      },
      "source": [
        "! pip install transformers -q"
      ],
      "execution_count": 27,
      "outputs": []
    },
    {
      "cell_type": "code",
      "metadata": {
        "id": "yK-1Cnmq8KYt"
      },
      "source": [
        "from transformers import BertForSequenceClassification, BertTokenizer\n",
        "import torch\n",
        "from typing import Union"
      ],
      "execution_count": 28,
      "outputs": []
    },
    {
      "cell_type": "code",
      "metadata": {
        "id": "Md79cXJv9hA8"
      },
      "source": [
        "# making the model\n",
        "model = BertForSequenceClassification.from_pretrained(\"ProsusAI/finbert\")\n",
        "tokenizer = BertTokenizer.from_pretrained(\"ProsusAI/finbert\")"
      ],
      "execution_count": 29,
      "outputs": []
    },
    {
      "cell_type": "code",
      "metadata": {
        "id": "IGiJX9akC27L"
      },
      "source": [
        "text = \"\"\"\n",
        "I would like to get your all  thoughts on the bond yield increase this week.  I am not worried about the market downturn but the sudden increase in yields. On 2/16 the 10 year bonds yields increased by almost  9 percent and on 2/19 the yield increased by almost 5 percent.\n",
        "\n",
        "Key Points from the CNBC Article:\n",
        "\n",
        "* **The “taper tantrum” in 2013 was a sudden spike in Treasury yields due to market panic after the Federal Reserve announced that it would begin tapering its quantitative easing program.**\n",
        "* **Major central banks around the world have cut interest rates to historic lows and launched unprecedented quantities of asset purchases in a bid to shore up the economy throughout the pandemic.**\n",
        "* **However, the recent rise in yields suggests that some investors are starting to anticipate a tightening of policy sooner than anticipated to accommodate a potential rise in inflation.**\n",
        "\n",
        "The recent rise in bond yields and U.S. inflation expectations has some investors wary that a repeat of the 2013 “taper tantrum” could be on the horizon.\n",
        "\n",
        "The benchmark U.S. 10-year Treasury note climbed above 1.3% for the first time since February 2020 earlier this week, while the 30-year bond also hit its highest level for a year. Yields move inversely to bond prices.\n",
        "\n",
        "Yields tend to rise in lockstep with inflation expectations, which have reached their highest levels in a decade in the U.S., powered by increased prospects of a large fiscal stimulus package, progress on vaccine rollouts and pent-up consumer demand.\n",
        "\n",
        "The “taper tantrum” in 2013 was a sudden spike in Treasury yields due to market panic after the Federal Reserve announced that it would begin tapering its quantitative easing program.\n",
        "\n",
        "Major central banks around the world have cut interest rates to historic lows and launched unprecedented quantities of asset purchases in a bid to shore up the economy throughout the pandemic. The Fed and others have maintained supportive tones in recent policy meetings, vowing to keep financial conditions loose as the global economy looks to emerge from the Covid-19 pandemic.\n",
        "\n",
        "However, the recent rise in yields suggests that some investors are starting to anticipate a tightening of policy sooner than anticipated to accommodate a potential rise in inflation.\n",
        "\n",
        "With central bank support removed, bonds usually fall in price which sends yields higher. This can also spill over into stock markets as higher interest rates means more debt servicing for firms, causing traders to reassess the investing environment.\n",
        "\n",
        "“The supportive stance from policymakers will likely remain in place until the vaccines have paved a way to some return to normality,” said Shane Balkham, chief investment officer at Beaufort Investment, in a research note this week.\n",
        "\n",
        "“However, there will be a risk of another ‘taper tantrum’ similar to the one we witnessed in 2013, and this is our main focus for 2021,” Balkham projected, should policymakers begin to unwind this stimulus.\n",
        "\n",
        "Long-term bond yields in Japan and Europe followed U.S. Treasurys higher toward the end of the week as bondholders shifted their portfolios.\n",
        "\n",
        "“The fear is that these assets are priced to perfection when the ECB and Fed might eventually taper,” said Sebastien Galy, senior macro strategist at Nordea Asset Management, in a research note entitled “Little taper tantrum.”\n",
        "\n",
        "“The odds of tapering are helped in the United States by better retail sales after four months of disappointment and the expectation of large issuance from the $1.9 trillion fiscal package.”\n",
        "\n",
        "Galy suggested the Fed would likely extend the duration on its asset purchases, moderating the upward momentum in inflation.\n",
        "\n",
        "“Equity markets have reacted negatively to higher yield as it offers an alternative to the dividend yield and a higher discount to long-term cash flows, making them focus more on medium-term growth such as cyclicals” he said. Cyclicals are stocks whose performance tends to align with economic cycles.\n",
        "\n",
        "Galy expects this process to be more marked in the second half of the year when economic growth picks up, increasing the potential for tapering.\n",
        "\n",
        "## Tapering in the U.S., but not Europe\n",
        "\n",
        "Allianz CEO Oliver Bäte told CNBC on Friday that there was a geographical divergence in how the German insurer is thinking about the prospect of interest rate hikes.\n",
        "\n",
        "“One is Europe, where we continue to have financial repression, where the ECB continues to buy up to the max in order to minimize spreads between the north and the south — the strong balance sheets and the weak ones — and at some point somebody will have to pay the price for that, but in the short term I don’t see any spike in interest rates,” Bäte said, adding that the situation is different stateside.\n",
        "\n",
        "“Because of the massive programs that have happened, the stimulus that is happening, the dollar being the world’s reserve currency, there is clearly a trend to stoke inflation and it is going to come. Again, I don’t know when and how, but the interest rates have been steepening and they should be steepening further.”\n",
        "\n",
        "## Rising yields a ‘normal feature’\n",
        "\n",
        "However, not all analysts are convinced that the rise in bond yields is material for markets. In a note Friday, Barclays Head of European Equity Strategy Emmanuel Cau suggested that rising bond yields were overdue, as they had been lagging the improving macroeconomic outlook for the second half of 2021, and said they were a “normal feature” of economic recovery.\n",
        "\n",
        "“With the key drivers of inflation pointing up, the prospect of even more fiscal stimulus in the U.S. and pent up demand propelled by high excess savings, it seems right for bond yields to catch-up with other more advanced reflation trades,” Cau said, adding that central banks remain “firmly on hold” given the balance of risks.\n",
        "\n",
        "He argued that the steepening yield curve is “typical at the early stages of the cycle,” and that so long as vaccine rollouts are successful, growth continues to tick upward and central banks remain cautious, reflationary moves across asset classes look “justified” and equities should be able to withstand higher rates.\n",
        "\n",
        "“Of course, after the strong move of the last few weeks, equities could mark a pause as many sectors that have rallied with yields look overbought, like commodities and banks,” Cau said.\n",
        "\n",
        "“But at this stage, we think rising yields are more a confirmation of the equity bull market than a threat, so dips should continue to be bought.”\n",
        "\"\"\""
      ],
      "execution_count": 30,
      "outputs": []
    },
    {
      "cell_type": "code",
      "metadata": {
        "colab": {
          "base_uri": "https://localhost:8080/"
        },
        "id": "rJh3BJzFConT",
        "outputId": "c8e4f0d1-4a1e-4104-fe48-f9a0c3489a03"
      },
      "source": [
        "tokens = tokenizer.encode_plus(text=text, add_special_tokens=False)\n",
        "type(tokens)"
      ],
      "execution_count": 31,
      "outputs": [
        {
          "output_type": "stream",
          "text": [
            "Token indices sequence length is longer than the specified maximum sequence length for this model (1345 > 512). Running this sequence through the model will result in indexing errors\n"
          ],
          "name": "stderr"
        },
        {
          "output_type": "execute_result",
          "data": {
            "text/plain": [
              "transformers.tokenization_utils_base.BatchEncoding"
            ]
          },
          "metadata": {
            "tags": []
          },
          "execution_count": 31
        }
      ]
    },
    {
      "cell_type": "code",
      "metadata": {
        "colab": {
          "base_uri": "https://localhost:8080/"
        },
        "id": "KTi_G88jN1W-",
        "outputId": "c533d8a9-90d1-45fb-8512-6c5ed9898b64"
      },
      "source": [
        "len(tokens[\"input_ids\"])"
      ],
      "execution_count": 16,
      "outputs": [
        {
          "output_type": "execute_result",
          "data": {
            "text/plain": [
              "1345"
            ]
          },
          "metadata": {
            "tags": []
          },
          "execution_count": 16
        }
      ]
    },
    {
      "cell_type": "code",
      "metadata": {
        "id": "oZJ3sgipInps"
      },
      "source": [
        "# showing how we can take a slice of the \n",
        "# tokens and then we will send it into the model\n",
        "# we will loop through the data and will slice of \n",
        "# 512 to get the logits from the model\n",
        "# if the size is smaller than 512 then we will add padding\n",
        "def makeSlices(x, add_special_tokens=True):\n",
        "  \"\"\"\n",
        "  Function that is used to make the slices\n",
        "  \n",
        "  ARGS:\n",
        "\n",
        "  x:  can be either a string of text or also be the tokens that has been returned from the tokenizer\n",
        "\n",
        "  add_special_tokens:  Bool that when true will add the tokens to each of the slices.  When false the slices will \n",
        "    not include the begin \"CLS\" token and the end \"SEP\" tokens\n",
        "\n",
        "  \"\"\"\n",
        "  \n",
        "  tokens = None\n",
        "  # check to see if it is a string or not\n",
        "  if isinstance(x, str):\n",
        "    \n",
        "    from transformers import BertTokenizer\n",
        "    tokenizer = BertTokenizer.from_pretrained(\"ProsusAI/finbert\")\n",
        "    tokens = tokenizer.encode_plus(text=x, add_special_tokens=False)\n",
        "  else:\n",
        "    tokens = x\n",
        "  # making it so that has the correct sequence len with and without the special tokens  \n",
        "  if add_special_tokens:\n",
        "    seq_len_using = 510\n",
        "  else:\n",
        "    seq_len_using = 512\n",
        "\n",
        "  seq_len = len(tokens[\"input_ids\"])\n",
        "  \n",
        "  begin = 0\n",
        "  end = begin + seq_len_using\n",
        "  windows = []\n",
        "\n",
        "  while True:\n",
        "    input_id = tokens[\"input_ids\"][begin:end]\n",
        "    atten_mask = tokens[\"attention_mask\"][begin:end]\n",
        "\n",
        "    \n",
        "    # doing the padding if it is needed\n",
        "    if len(input_id) < seq_len_using:\n",
        "      \n",
        "      input_id = input_id + [tokenizer.pad_token_id] * (seq_len_using - len(input_id))\n",
        "      atten_mask = atten_mask + [tokenizer.pad_token_id] * (seq_len_using - len(input_id))\n",
        "      \n",
        "    if add_special_tokens:\n",
        "      # adding the sep and the cls token to the from and the back\n",
        "      input_id = [tokenizer.cls_token_id] + input_id + [tokenizer.sep_token_id]\n",
        "      atten_mask = [tokenizer.cls_token_id] + atten_mask + [tokenizer.sep_token_id]\n",
        "    \n",
        "    windows.append({\"input_ids\": input_id, \"attention_mask\": atten_mask})\n",
        "    # moving the window\n",
        "    \n",
        "    if end >= seq_len:\n",
        "      break\n",
        "    begin = end\n",
        "    end = end + seq_len_using if end + seq_len_using < len(tokens[\"input_ids\"]) else len(tokens[\"input_ids\"])\n",
        "\n",
        "  return windows\n",
        "\n",
        "  \n",
        "\n"
      ],
      "execution_count": 23,
      "outputs": []
    },
    {
      "cell_type": "code",
      "metadata": {
        "id": "CNlo4dhrRpEB"
      },
      "source": [
        "new_text = \"\"\"\n",
        "  PHOENIX (AP) — An Arizona man who stormed the U.S. Capitol on Jan. 6 while wearing a costume of Captain Moroni from the Book of Mormon and narrating the melee in videos for his mother has been arrested, authorities said.\n",
        "\n",
        "Nathan Wayne Entrekin, 48, told the FBI that former President Donald Trump inspired him to drive more than 2,000 miles to Washington for the rally on Jan. 6, according to court documents filed this week.\n",
        "\n",
        "Entrekin documented his movements in and outside the building in cellphone videos in which he addressed his mother, who wasn't at the Capitol, authorities said.\n",
        "\n",
        "Entrekin said in the videos that he was dressed in the Roman gladiator costume to portray Captain Moroni, a figure from the Book of Mormon who sought to defend his people from another group that wanted to overthrow democracy and install a king, court records say.\n",
        "\n",
        "\"I made it Mom. I made it to the top. Mom, look, I made it to the top, to the top here. Look at all the patriots here,\" he said in one video. \"I'm here for Trump. Four more years, Donald Trump! Our rightful president!\"\n",
        "\n",
        "\"I don't think you want to be here, Mom,\" Entrekin said in another video from inside the ransacked Senate Parliamentarian's office. \"I mean you do want to be here, but in spirit.\"\n",
        "\n",
        "While Entrekin claimed that he was herded into the building by the crowd, the FBI said security video shows Entrekin didn't appear to be pushed into the Capitol. And when he left the building and reentered it, investigators said Entrekin didn't appear to be pushed forced in against his will, according to court records.\n",
        "\n",
        "Court records didn't list a lawyer for Entrekin, and he doesn't have a listed phone number.\n",
        "\n",
        "Entrekin, who was arrested Thursday in Cottonwood on two misdemeanor charges, is among more than 500 people charged with federal crimes in the Jan. 6 attack.\n",
        "\n",
        "At least eighteen people have pleaded guilty, including two members of the far-right Oath Keepers militia group who admitted to conspiring with other extremists to block the certification of President Joe Biden's victory.\n",
        "\"\"\""
      ],
      "execution_count": 24,
      "outputs": []
    },
    {
      "cell_type": "code",
      "metadata": {
        "id": "zsB3UN1YRrXw",
        "outputId": "d1ff0b80-e78a-4975-e5a8-9bc0f0ac529d",
        "colab": {
          "base_uri": "https://localhost:8080/",
          "height": 322
        }
      },
      "source": [
        "# running the two texts, one as a tokenized alread and the other as text\n",
        "windows = makeSlices(tokens)\n",
        "second_set_of_windows = makeSlices(new_text)"
      ],
      "execution_count": 25,
      "outputs": [
        {
          "output_type": "error",
          "ename": "UnboundLocalError",
          "evalue": "ignored",
          "traceback": [
            "\u001b[0;31m---------------------------------------------------------------------------\u001b[0m",
            "\u001b[0;31mUnboundLocalError\u001b[0m                         Traceback (most recent call last)",
            "\u001b[0;32m<ipython-input-25-56e730702d58>\u001b[0m in \u001b[0;36m<module>\u001b[0;34m()\u001b[0m\n\u001b[1;32m      1\u001b[0m \u001b[0;31m# running the two texts, one as a tokenized alread and the other as text\u001b[0m\u001b[0;34m\u001b[0m\u001b[0;34m\u001b[0m\u001b[0;34m\u001b[0m\u001b[0m\n\u001b[0;32m----> 2\u001b[0;31m \u001b[0mwindows\u001b[0m \u001b[0;34m=\u001b[0m \u001b[0mmakeSlices\u001b[0m\u001b[0;34m(\u001b[0m\u001b[0mtokens\u001b[0m\u001b[0;34m)\u001b[0m\u001b[0;34m\u001b[0m\u001b[0;34m\u001b[0m\u001b[0m\n\u001b[0m\u001b[1;32m      3\u001b[0m \u001b[0msecond_set_of_windows\u001b[0m \u001b[0;34m=\u001b[0m \u001b[0mmakeSlices\u001b[0m\u001b[0;34m(\u001b[0m\u001b[0mnew_text\u001b[0m\u001b[0;34m)\u001b[0m\u001b[0;34m\u001b[0m\u001b[0;34m\u001b[0m\u001b[0m\n",
            "\u001b[0;32m<ipython-input-23-73019ce1b595>\u001b[0m in \u001b[0;36mmakeSlices\u001b[0;34m(x, add_special_tokens)\u001b[0m\n\u001b[1;32m     51\u001b[0m     \u001b[0;32mif\u001b[0m \u001b[0madd_special_tokens\u001b[0m\u001b[0;34m:\u001b[0m\u001b[0;34m\u001b[0m\u001b[0;34m\u001b[0m\u001b[0m\n\u001b[1;32m     52\u001b[0m       \u001b[0;31m# adding the sep and the cls token to the from and the back\u001b[0m\u001b[0;34m\u001b[0m\u001b[0;34m\u001b[0m\u001b[0;34m\u001b[0m\u001b[0m\n\u001b[0;32m---> 53\u001b[0;31m       \u001b[0minput_id\u001b[0m \u001b[0;34m=\u001b[0m \u001b[0;34m[\u001b[0m\u001b[0mtokenizer\u001b[0m\u001b[0;34m.\u001b[0m\u001b[0mcls_token_id\u001b[0m\u001b[0;34m]\u001b[0m \u001b[0;34m+\u001b[0m \u001b[0minput_id\u001b[0m \u001b[0;34m+\u001b[0m \u001b[0;34m[\u001b[0m\u001b[0mtokenizer\u001b[0m\u001b[0;34m.\u001b[0m\u001b[0msep_token_id\u001b[0m\u001b[0;34m]\u001b[0m\u001b[0;34m\u001b[0m\u001b[0;34m\u001b[0m\u001b[0m\n\u001b[0m\u001b[1;32m     54\u001b[0m       \u001b[0matten_mask\u001b[0m \u001b[0;34m=\u001b[0m \u001b[0;34m[\u001b[0m\u001b[0mtokenizer\u001b[0m\u001b[0;34m.\u001b[0m\u001b[0mcls_token_id\u001b[0m\u001b[0;34m]\u001b[0m \u001b[0;34m+\u001b[0m \u001b[0matten_mask\u001b[0m \u001b[0;34m+\u001b[0m \u001b[0;34m[\u001b[0m\u001b[0mtokenizer\u001b[0m\u001b[0;34m.\u001b[0m\u001b[0msep_token_id\u001b[0m\u001b[0;34m]\u001b[0m\u001b[0;34m\u001b[0m\u001b[0;34m\u001b[0m\u001b[0m\n\u001b[1;32m     55\u001b[0m \u001b[0;34m\u001b[0m\u001b[0m\n",
            "\u001b[0;31mUnboundLocalError\u001b[0m: local variable 'tokenizer' referenced before assignment"
          ]
        }
      ]
    },
    {
      "cell_type": "code",
      "metadata": {
        "id": "a6xBp5CnRrrP"
      },
      "source": [
        ""
      ],
      "execution_count": null,
      "outputs": []
    },
    {
      "cell_type": "code",
      "metadata": {
        "id": "VnbzfqYgRrtM"
      },
      "source": [
        ""
      ],
      "execution_count": null,
      "outputs": []
    },
    {
      "cell_type": "code",
      "metadata": {
        "colab": {
          "base_uri": "https://localhost:8080/"
        },
        "id": "ajBZd_epY_8m",
        "outputId": "8c25db93-b41d-42c8-8f91-0b1a5b1e2aa6"
      },
      "source": [
        "windows = makeSlices(tokens)"
      ],
      "execution_count": null,
      "outputs": [
        {
          "output_type": "stream",
          "text": [
            "In the padding section\n",
            "The length of the input_id is  325\n",
            "After padding the len of the input_id is now  510\n"
          ],
          "name": "stdout"
        }
      ]
    },
    {
      "cell_type": "code",
      "metadata": {
        "colab": {
          "base_uri": "https://localhost:8080/"
        },
        "id": "zqAnzGubbPW1",
        "outputId": "97a7ba0c-5fd3-4396-80e2-a194869d149f"
      },
      "source": [
        "len(windows)"
      ],
      "execution_count": null,
      "outputs": [
        {
          "output_type": "execute_result",
          "data": {
            "text/plain": [
              "3"
            ]
          },
          "metadata": {
            "tags": []
          },
          "execution_count": 63
        }
      ]
    },
    {
      "cell_type": "code",
      "metadata": {
        "colab": {
          "base_uri": "https://localhost:8080/"
        },
        "id": "z7QOrCD7PQEW",
        "outputId": "cc346020-ed93-4f34-9e3e-92cc4860fb1b"
      },
      "source": [
        "type(windows[0][\"input_ids\"])"
      ],
      "execution_count": null,
      "outputs": [
        {
          "output_type": "execute_result",
          "data": {
            "text/plain": [
              "list"
            ]
          },
          "metadata": {
            "tags": []
          },
          "execution_count": 28
        }
      ]
    },
    {
      "cell_type": "code",
      "metadata": {
        "colab": {
          "base_uri": "https://localhost:8080/"
        },
        "id": "JYmNjOhQOD0c",
        "outputId": "916b5991-d04b-47d4-9d62-d4fc00529845"
      },
      "source": [
        "# showing the lenghts of the windows\n",
        "counter = 1\n",
        "print(f\"Each of the windows is of type {type(windows[0])}\")\n",
        "for w in windows:\n",
        "  \n",
        "  theLen = len(w[\"input_ids\"])\n",
        "  print(f\"The length of the window number {counter} values is {theLen}\")\n",
        "  counter += 1"
      ],
      "execution_count": null,
      "outputs": [
        {
          "output_type": "stream",
          "text": [
            "Each of the windows is of type <class 'dict'>\n",
            "The length of the window number 1 values is 512\n",
            "The length of the window number 2 values is 512\n",
            "The length of the window number 3 values is 512\n"
          ],
          "name": "stdout"
        }
      ]
    },
    {
      "cell_type": "code",
      "metadata": {
        "colab": {
          "base_uri": "https://localhost:8080/"
        },
        "id": "i_TuJN8WEUB6",
        "outputId": "a09a3601-24ed-40ab-9336-52ea5a21dc53"
      },
      "source": [
        "type(tokens)"
      ],
      "execution_count": null,
      "outputs": [
        {
          "output_type": "execute_result",
          "data": {
            "text/plain": [
              "transformers.tokenization_utils_base.BatchEncoding"
            ]
          },
          "metadata": {
            "tags": []
          },
          "execution_count": 14
        }
      ]
    },
    {
      "cell_type": "code",
      "metadata": {
        "id": "k5-DSQWmAwgx"
      },
      "source": [
        "# making the function that will get the sentiment\n",
        "def sentiment(x: Union[str, transformers.tokenization_utils_base.BatchEncoding ]):\n",
        "  if !isinstance(x, transformers.tokenization_utils_base.BatchEncoding):\n",
        "    # in here we will need to tokenize the text\n",
        "    x = tokenizer.encode_plus(x, add_special_tokens=False)\n",
        "\n",
        "  # getting the input_ids and the attenstion_mask\n",
        "  attenstion_mask = x[\"attention_mask\"]\n",
        "  input_ids = x[\"input_ids\"]\n",
        "\n",
        "  # doing the prediction with the input_ids\n",
        "  model.bert.pr"
      ],
      "execution_count": null,
      "outputs": []
    }
  ]
}