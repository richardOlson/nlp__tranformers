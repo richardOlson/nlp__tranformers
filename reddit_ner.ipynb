{
  "nbformat": 4,
  "nbformat_minor": 0,
  "metadata": {
    "colab": {
      "name": "reddit_ner.ipynb",
      "provenance": [],
      "authorship_tag": "ABX9TyNyYMD1X6md5S0YIuBp+xoi",
      "include_colab_link": true
    },
    "kernelspec": {
      "name": "python3",
      "display_name": "Python 3"
    },
    "language_info": {
      "name": "python"
    }
  },
  "cells": [
    {
      "cell_type": "markdown",
      "metadata": {
        "id": "view-in-github",
        "colab_type": "text"
      },
      "source": [
        "<a href=\"https://colab.research.google.com/github/richardOlson/nlp__tranformers/blob/main/reddit_ner.ipynb\" target=\"_parent\"><img src=\"https://colab.research.google.com/assets/colab-badge.svg\" alt=\"Open In Colab\"/></a>"
      ]
    },
    {
      "cell_type": "code",
      "metadata": {
        "id": "kh2Qv-fOaSvD"
      },
      "source": [
        "# bringing in the client_id and the secret for the reddit\n",
        "from google.colab import files\n"
      ],
      "execution_count": null,
      "outputs": []
    },
    {
      "cell_type": "code",
      "metadata": {
        "id": "itdWVklgap-s"
      },
      "source": [
        "files.upload()\n",
        "# erased the output so that the client_id and the secret are not visible"
      ],
      "execution_count": null,
      "outputs": []
    },
    {
      "cell_type": "code",
      "metadata": {
        "id": "IKm8TJsLbSkJ"
      },
      "source": [
        "with open(\"udemy_reddit_api.txt\", mode=\"r\") as f:\n",
        "  while True:\n",
        "    line = f.readline()\n",
        "    if line == \"\":\n",
        "      break\n",
        "    # splitting the line\n",
        "    splitLine  = line.split()\n",
        "   \n",
        "    if \"personal_use_script:\" in splitLine:\n",
        "      client_id = splitLine[1]\n",
        "    elif \"secret:\" in splitLine:\n",
        "      secret = splitLine[1]\n",
        "    elif \"password:\" in splitLine:\n",
        "      reddit_pass = splitLine[1]\n",
        "    elif \"username:\" in splitLine:\n",
        "      reddit_user = splitLine[1] \n",
        "\n"
      ],
      "execution_count": null,
      "outputs": []
    },
    {
      "cell_type": "code",
      "metadata": {
        "id": "1KJ16Mq6bu4X"
      },
      "source": [
        "# requesting an oauth using request\n",
        "import requests"
      ],
      "execution_count": null,
      "outputs": []
    },
    {
      "cell_type": "code",
      "metadata": {
        "id": "FqXHsUHadsUY"
      },
      "source": [
        ""
      ],
      "execution_count": null,
      "outputs": []
    }
  ]
}