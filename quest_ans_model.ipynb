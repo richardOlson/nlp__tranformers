{
  "nbformat": 4,
  "nbformat_minor": 0,
  "metadata": {
    "colab": {
      "name": "quest_ans_model.ipynb",
      "provenance": [],
      "authorship_tag": "ABX9TyNlOxGsrHPbnVT4nrhdf8uU",
      "include_colab_link": true
    },
    "kernelspec": {
      "name": "python3",
      "display_name": "Python 3"
    },
    "language_info": {
      "name": "python"
    }
  },
  "cells": [
    {
      "cell_type": "markdown",
      "metadata": {
        "id": "view-in-github",
        "colab_type": "text"
      },
      "source": [
        "<a href=\"https://colab.research.google.com/github/richardOlson/nlp__tranformers/blob/main/quest_ans_model.ipynb\" target=\"_parent\"><img src=\"https://colab.research.google.com/assets/colab-badge.svg\" alt=\"Open In Colab\"/></a>"
      ]
    },
    {
      "cell_type": "markdown",
      "metadata": {
        "id": "rfMKd2KwY7MR"
      },
      "source": [
        "This is the notebook that will work with the squad dataset with tranformers\n"
      ]
    },
    {
      "cell_type": "code",
      "metadata": {
        "id": "5CjIsfz5Y4q0"
      },
      "source": [
        "# imports\n",
        "import json\n",
        "!pip install huggingface -q\n",
        "import huggingface"
      ],
      "execution_count": 3,
      "outputs": []
    },
    {
      "cell_type": "code",
      "metadata": {
        "id": "JFawVjdkZOr5"
      },
      "source": [
        ""
      ],
      "execution_count": null,
      "outputs": []
    }
  ]
}